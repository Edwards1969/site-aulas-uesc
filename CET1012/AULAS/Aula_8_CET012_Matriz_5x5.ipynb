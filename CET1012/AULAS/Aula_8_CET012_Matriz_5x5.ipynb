{
 "cells": [
  {
   "cell_type": "markdown",
   "metadata": {},
   "source": [
    "<div style=\"text-align: center;\">\n",
    "\n",
    "  <!-- Logotipo -->\n",
    "  <img src=\"img/LogoUesc.png\" alt=\"UESC\" style=\"width: 60px; display: block; margin: 0 auto 5px auto;\">\n",
    "\n",
    "  <!-- Cabeçalho -->\n",
    "  <div style=\"font-size: 20px;\"><strong>UNIVERSIDADE ESTADUAL DE SANTA CRUZ - UESC</strong></div>\n",
    "  <div style=\"font-size: 18px;\">DEPARTAMENTO DE ENGENHARIAS E COMPUTAÇÃO</div>\n",
    "  <div style=\"font-size: 18px;\">ENGENHARIA QUÍMICA</div>\n",
    "\n",
    "  <hr style=\"margin: 20px 0; border: 1px solid #0074B7;\">\n",
    "\n",
    "  <!-- Título do Trabalho -->\n",
    "  <div style=\"font-size: 22px; font-weight: bold; margin-bottom: 10px;\">Modelagem, Simulação e Otimização de Processos Químicos</div>\n",
    "  <div style=\"font-size: 20px; font-weight: bold; margin-bottom: 10px;\"> Cálculo de Matrizes 5x5</div>\n",
    "\n",
    "  <!-- Autor e orientador -->\n",
    "  <div style=\"font-size: 18px;\">Prof. Dr. E.R.Edwards</div>\n",
    "\n",
    "<hr style=\"margin: 20px 0; border: 1px solid #0074B7;\">\n",
    "  <!-- Data -->\n",
    "<!-- <div style=\"font-size: 16px; margin-top: 15px;\">Ilhéus - BA, Abril de 2025</div> -->\n",
    "</div>"
   ]
  },
  {
   "cell_type": "markdown",
   "metadata": {},
   "source": [
    "Até o momento, aprendemos  a resolver matrizes $2x2$, $3x3$ e $4x4$ usando tanto o método algébrico quanto bibliotecas que facilitam a resolução. Agora, muitos problemas de Engenharia são resolvidos usando matrizes com grande quantidade de linhas e colunas. O que temos que fazer é reduzir essas matrizes a um valor de linhas e colunas de forma que possamos aplicar métodos algébricos."
   ]
  },
  {
   "cell_type": "markdown",
   "metadata": {},
   "source": [
    "Suponha a matriz $5x5$ dada por:\n",
    "\n",
    "\n",
    "\\begin{equation}\n",
    "A =\n",
    "\\begin{bmatrix}\n",
    "a_{11} & a_{21} & a_{31} & a_{41} & a_{51} \\\\\n",
    "a_{12} & a_{22} & a_{32} & a_{42} & a_{52} \\\\\n",
    "a_{13} & a_{23} & a_{33} & a_{43} & a_{53} \\\\\n",
    "a_{14} & a_{24} & a_{34} & a_{44} & a_{54} \\\\\n",
    "a_{15} & a_{25} & a_{35} & a_{45} & a_{55} \\\\\n",
    "\\end{bmatrix}\n",
    "\\end{equation}"
   ]
  },
  {
   "cell_type": "markdown",
   "metadata": {},
   "source": [
    "Para resolução de uma matriz de $5x5$, temos que reduzir para uma matrix $4x4$, em seguida reduzir para uma matriz $3x3$ e calcularmos.\n",
    "\n",
    "Para isso, escolha a linha que possui elementos com menor valor (1) ele deverá ser a primeira linha da matriz. Agora, precisamos eliminar as linhas e as colunas desse elemento. Vai sobrar uma matriz $4x4$. Cada elemento da matriz será subtraido da multiplicação dos elementos que esta armazenado nas células da linha e coluna que foram eliminados. Veja o exemplo abaixo:\n",
    "\n",
    "\\begin{equation}\n",
    "A =\n",
    "\\begin{bmatrix}\n",
    "{\\color{red}a_{11}} &{\\color{red}a_{12}} & {\\color{red}a_{13}} & {\\color{red}a_{14}} & {\\color{red}a_{15}} \\\\\n",
    "{\\color{red}a_{21}} & a_{22} & a_{23} & a_{242} & a_{25} \\\\\n",
    "{\\color{red}a_{31}} & a_{32} & a_{33} & a_{34} & a_{35} \\\\\n",
    "{\\color{red}a_{41}} & a_{42} & a_{43} & a_{44} & a_{45} \\\\\n",
    "{\\color{red}a_{51}} & a_{52} & a_{53} & a_{54} & a_{55} \\\\\n",
    "\\end{bmatrix}\n",
    "\\end{equation}\n",
    "\n"
   ]
  },
  {
   "cell_type": "markdown",
   "metadata": {},
   "source": [
    "__Passo 1__\n",
    "\n",
    "Vamos eliminar a linha e coluna da célula: ${\\color{red}a_{11}}$. Agora vamos subtrair cada elemento que sobrou pela multiplicação dos elementos que foram retirados (em vermelho) da linha e coluna correspondente. Por exemplo: o elemento $a_{22}$ será subtraido da multiplicação de $a_{12}.a_{21}$.\n",
    "\n",
    "\\begin{equation}\n",
    "A =\n",
    "\\begin{bmatrix}\n",
    "{\\color{red}a_{11}} & {\\color{red}a_{12}} & {\\color{red}a_{13}} & {\\color{red}a_{14}} & {\\color{red}a_{15}} \\\\\n",
    "{\\color{red}a_{21}} &        a_{22}       &         a_{23}      &       a_{24}        &       a_{25}         \\\\\n",
    "{\\color{red}a_{31}} &        a_{32}       &         a_{33}      &       a_{34}        &       a_{35}          \\\\\n",
    "{\\color{red}a_{41}} &        a_{42}       &         a_{43}      &       a_{44}        &       a_{45}          \\\\\n",
    "{\\color{red}a_{51}} &        a_{52}       &         a_{53}      &       a_{54}        &       a_{55}          \\\\\n",
    "\\end{bmatrix}_{5x5}\n",
    "=\n",
    "\\begin{bmatrix}\n",
    "a_{22} & a_{23} & a_{24} & a_{25} \\\\\n",
    "a_{32} & a_{33} & a_{34} & a_{35} \\\\\n",
    "a_{42} & a_{43} & a_{44} & a_{45} \\\\\n",
    "a_{52} & a_{53} & a_{54} & a_{55} \\\\\n",
    "\\end{bmatrix}_{4x4}\n",
    "\\end{equation}"
   ]
  },
  {
   "cell_type": "markdown",
   "metadata": {},
   "source": [
    "__Passo 2__\n",
    "\n",
    "Nessa nova matriz $4x4$ vamos eliminar a linha e coluna da primeira céluna, como fizemos com a matriz $5x5$. Para facilitar a visualização vamos chamar os elementos da linha e coluna por um $d_{nm}$ de tal forma que:\n",
    "\n",
    "Primeira linha <br>\n",
    "$d_{22} = a_{22}-({\\color{red}a_{12}}.{\\color{red}a_{21}}) $ <br>\n",
    "$d_{23} = a_{23}-({\\color{red}a_{13}}.{\\color{red}a_{21}}) $ <br>\n",
    "$d_{24} = a_{24}-({\\color{red}a_{14}}.{\\color{red}a_{21}}) $ <br>\n",
    "$d_{25} = a_{25}-({\\color{red}a_{15}}.{\\color{red}a_{21}}) $ <br>\n",
    "\n",
    "segunda linha <br>\n",
    "$d_{32} = a_{32}-({\\color{red}a_{12}}.{\\color{red}a_{31}}) $ <br>\n",
    "$d_{33} = a_{33}-({\\color{red}a_{13}}.{\\color{red}a_{31}}) $ <br>\n",
    "$d_{34} = a_{34}-({\\color{red}a_{14}}.{\\color{red}a_{31}}) $ <br>\n",
    "$d_{35} = a_{35}-({\\color{red}a_{15}}.{\\color{red}a_{31}}) $ <br>\n",
    "\n",
    "terceira linha <br>\n",
    "$d_{42} = a_{42}-({\\color{red}a_{12}}.{\\color{red}a_{41}}) $ <br>\n",
    "$d_{43} = a_{43}-({\\color{red}a_{13}}.{\\color{red}a_{41}}) $ <br>\n",
    "$d_{44} = a_{44}-({\\color{red}a_{14}}.{\\color{red}a_{41}}) $ <br>\n",
    "$d_{45} = a_{45}-({\\color{red}a_{15}}.{\\color{red}a_{41}}) $ <br>\n",
    "\n",
    "quarta linha <br>\n",
    "$d_{52} = a_{52}-({\\color{red}a_{12}}.{\\color{red}a_{51}}) $ <br>\n",
    "$d_{53} = a_{53}-({\\color{red}a_{13}}.{\\color{red}a_{51}}) $ <br>\n",
    "$d_{54} = a_{54}-({\\color{red}a_{14}}.{\\color{red}a_{51}}) $ <br>\n",
    "$d_{55} = a_{55}-({\\color{red}a_{15}}.{\\color{red}a_{51}}) $ <br>"
   ]
  },
  {
   "cell_type": "markdown",
   "metadata": {},
   "source": [
    "__Passo 3__ \n",
    "\n",
    "Vamos substituir os termos pelas variáveis $d_{ij}$\n",
    "\n",
    "\n",
    "\\begin{equation}\n",
    "A =\n",
    "\\begin{bmatrix}\n",
    "d_{22} & d_{23} & d_{24} & d_{25}  \\\\\n",
    "d_{32} & d_{33} & d_{34} & d_{35}  \\\\\n",
    "d_{42} & d_{43} & d_{44} & d_{45}  \\\\\n",
    "d_{52} & d_{53} & d_{54} & d_{55}  \\\\\n",
    "\\end{bmatrix}_{4x4}\n",
    "\\end{equation}"
   ]
  },
  {
   "cell_type": "markdown",
   "metadata": {},
   "source": [
    "Agora vamos vamos pegar o termo $d_{22}$ como pivot e vamos eliminar as linhas e colunas correspondente a essa célula. Veja em azul as linhas e colunas que serão eliminadas.\n",
    "\\begin{equation}\n",
    "A =\n",
    "\\begin{bmatrix}\n",
    "{\\color{blue}d_{22}} & {\\color{blue}d_{23}} & {\\color{blue}d_{24}} & {\\color{blue}d_{25}} \\\\\n",
    "{\\color{blue}d_{32}} &          d_{33}      &        d_{34}        &      d_{35}          \\\\\n",
    "{\\color{blue}d_{42}} &          d_{43}      &        d_{44}        &      d_{45}          \\\\\n",
    "{\\color{blue}d_{52}} &          d_{53}      &        d_{54}        &      d_{55}          \\\\\n",
    "\\end{bmatrix}_{4x4}\n",
    "\\end{equation}"
   ]
  },
  {
   "cell_type": "markdown",
   "metadata": {},
   "source": [
    "Agora vamos vamos pegar o termo $d_{22}$ como pivot e vamos eliminar as linhas e colunas correspondente a essa célula. Veja em azul as linhas e colunas que serão eliminadas.\n",
    "\n",
    "$c_{33} = d_{33} -({\\color{blue}d_{23}}.{\\color{blue}d_{32}})$ <br>\n",
    "$c_{34} = d_{34} -({\\color{blue}d_{24}}.{\\color{blue}d_{32}})$ <br>\n",
    "$c_{35} = d_{35} -({\\color{blue}d_{25}}.{\\color{blue}d_{32}})$ <br>\n",
    "\n",
    "$c_{43} = d_{43} -({\\color{blue}d_{23}}.{\\color{blue}d_{42}})$ <br>\n",
    "$c_{44} = d_{44} -({\\color{blue}d_{24}}.{\\color{blue}d_{42}})$ <br>\n",
    "$c_{45} = d_{45} -({\\color{blue}d_{25}}.{\\color{blue}d_{42}})$ <br>\n",
    "\n",
    "$c_{53} = d_{53} -({\\color{blue}d_{23}}.{\\color{blue}d_{52}})$ <br>\n",
    "$c_{54} = d_{54} -({\\color{blue}d_{24}}.{\\color{blue}d_{52}})$ <br>\n",
    "$c_{55} = d_{55} -({\\color{blue}d_{25}}.{\\color{blue}d_{52}})$ <br>"
   ]
  },
  {
   "cell_type": "markdown",
   "metadata": {},
   "source": [
    "__Passo 4__\n",
    "\n",
    "Agora, podemos resolver a Matriz $c_{ij}$ na forma de uma Matriz $A_{3x3}$ e encontrarmos o seu determinante.\n",
    "\n",
    "\\begin{equation}\n",
    "A_{3x3}\n",
    "\\begin{bmatrix}\n",
    "c_{11} & c_{21} & c_{31} \\\\\n",
    "c_{12} & c_{22} & c_{32} \\\\\n",
    "c_{13} & c_{23} & c_{33} \\\\\n",
    "\\end{bmatrix}_{3x3}\n",
    "\\end{equation}\n",
    "\n",
    "$ Det_{3x3} = c_{11}.(c_{22}.c_{33}-c_{32}.c_{23})-c_{21}.(c_{12}.c_{33}-c_{32}.c_{13}) + c_{31}.(c_{12}.c_{23}-c_{22}.c_{13})$\n"
   ]
  },
  {
   "cell_type": "markdown",
   "metadata": {},
   "source": [
    "__Aplicação__\n",
    "\n",
    "Cálcule o determinante da Matriz $5x5$ mostrado abaixo:\n",
    "\n",
    "\\begin{equation}\n",
    "A = \n",
    "\\begin{bmatrix}\n",
    "1 & 2 & 3 & 0 & 1 \\\\\n",
    "3 & 7 & 1 & 4 & 2 \\\\\n",
    "0 & 2 & 1 & 1 &3 \\\\\n",
    "4 & 1 & 2 & 0 & 2 \\\\\n",
    "1 & 3 & 1 & 2 & 5\n",
    "\\end{bmatrix}\n",
    "\\end{equation}"
   ]
  },
  {
   "cell_type": "markdown",
   "metadata": {},
   "source": [
    "__Cálculo Computational Utilizando Programação em Python e Bibliotecas de Engenharia__"
   ]
  },
  {
   "cell_type": "code",
   "execution_count": 8,
   "metadata": {},
   "outputs": [],
   "source": [
    "# Declarando as variáveis:\n",
    "a11, a12, a13, a14, a15 = 1, 2, 3, 0, 1\n",
    "a21, a22, a23, a24, a25 = 3, 7, 1, 4, 2\n",
    "a31, a32, a33, a34, a35 = 0, 2, 1, 1, 3\n",
    "a41, a42, a43, a44, a45 = 4, 1, 2, 0, 2\n",
    "a51, a52, a53, a54, a55 = 1, 3, 1, 2, 5"
   ]
  },
  {
   "cell_type": "code",
   "execution_count": 9,
   "metadata": {},
   "outputs": [
    {
     "data": {
      "text/plain": [
       "[[1, 2, 3, 0, 1],\n",
       " [3, 7, 1, 4, 2],\n",
       " [0, 2, 1, 1, 3],\n",
       " [4, 1, 2, 0, 2],\n",
       " [1, 3, 1, 2, 5]]"
      ]
     },
     "execution_count": 9,
     "metadata": {},
     "output_type": "execute_result"
    }
   ],
   "source": [
    "# Imprimindo a matriz A_5x5\n",
    "\n",
    "A_5x5 = [\n",
    "    [a11, a12, a13, a14, a15],\n",
    "    [a21, a22, a23, a24, a25],\n",
    "    [a31, a32, a33, a34, a35],\n",
    "    [a41, a42, a43, a44, a45],\n",
    "    [a51, a52, a53, a54, a55]\n",
    "]\n",
    "\n",
    "A_5x5"
   ]
  },
  {
   "cell_type": "markdown",
   "metadata": {},
   "source": [
    "Vamos chamar os elementos da matriz $A_{4x4}$ de $d_{ij}$ de forma que:\n",
    "\n",
    "\\begin{equation}\n",
    "\\begin{bmatrix}\n",
    "d_{22} & d_{23} & d_{24} & d_{25} \\\\\n",
    "d_{32} & d_{33} & d_{34} & d_{35} \\\\\n",
    "d_{42} & d_{43} & d_{44} & d_{45} \\\\\n",
    "d_{52} & d_{53} & d_{54} & d_{55} \n",
    "\\end{bmatrix}\n",
    "\\end{equation}"
   ]
  },
  {
   "cell_type": "markdown",
   "metadata": {},
   "source": [
    "Vamos eliminar a primeira linha e primeira colula reduzir a matriz $5x5$ para uma matriz $4x4$. As variáveis $d{nm}$ são as linhas e colunas que foram eliminadas\n",
    "\n",
    "Coluna <br>\n",
    "$d_{22} = a_{22}-(a_{12}.a_{21}) $<br>\n",
    "$d_{32} = a_{32}-(a_{31}.a_{12}) $<br>\n",
    "$d_{42} = a_{42}-(a_{41}.a_{12}) $<br>\n",
    "$d_{52} = a_{52}-(a_{51}.a_{12}) $<br>\n",
    "\n",
    "Linha <br>\n",
    "$d_{23} = a_{23}-(a_{21}.a_{13}) $<br>\n",
    "$d_{24} = a_{24}-(a_{21}.a_{14}) $<br>\n",
    "$d_{25} = a_{25}-(a_{21}.a_{15}) $<br>"
   ]
  },
  {
   "cell_type": "code",
   "execution_count": 10,
   "metadata": {},
   "outputs": [],
   "source": [
    "# Declarando as variáveis da matriz \n",
    "\n",
    "# declarando a primeira linha\n",
    "d22 = a22-(a12*a21)\n",
    "d23 = a23-(a13*a21)\n",
    "d24 = a24-(a14*a21)\n",
    "d25 = a25-(a15*a21)\n",
    "\n",
    "# declarando a segunda linha\n",
    "d32 = a32-(a12*a31)\n",
    "d33 = a33-(a13*a31)\n",
    "d34 = a34-(a14*a31)\n",
    "d35 = a35-(a15*a31)\n",
    "\n",
    "# declarando a terceira linha.\n",
    "d42 = a42-(a12*a41)\n",
    "d43 = a43-(a13*a41)\n",
    "d44 = a44-(a14*a41)\n",
    "d45 = a45-(a15*a41)\n",
    "\n",
    "# declarando a quarta linha.\n",
    "d52 = a52-(a12*a51)\n",
    "d53 = a53-(a13*a51)\n",
    "d54 = a54-(a14*a51)\n",
    "d55 = a55-(a15*a51)\n"
   ]
  },
  {
   "cell_type": "code",
   "execution_count": 11,
   "metadata": {},
   "outputs": [
    {
     "data": {
      "text/plain": [
       "[[1, -8, 4, -1], [2, 1, 1, 3], [-7, -10, 0, -2], [1, -2, 2, 4]]"
      ]
     },
     "execution_count": 11,
     "metadata": {},
     "output_type": "execute_result"
    }
   ],
   "source": [
    "# Imprimindo a matriz 4x4:\n",
    "\n",
    "A_4x4 = [\n",
    "    [d22, d23, d24, d25],\n",
    "    [d32, d33, d34, d35],\n",
    "    [d42, d43, d44, d45],\n",
    "    [d52, d53, d54, d55]\n",
    "]\n",
    "\n",
    "A_4x4"
   ]
  },
  {
   "cell_type": "markdown",
   "metadata": {},
   "source": [
    "Agora vamos pegar a matriz $4x4$ e reduzir a uma matriz $3x3$ seguido o mesmo procedimento anterior. Vamos isolar a primeira linha e primeira coluna e fazer so cálculos como feito anterior.\n",
    "\n",
    "declarando a primeira linha. \n",
    "\n",
    "$c_{33} = d_{33}-(d_{23}.d_{32})$ <br>\n",
    "$c_{34} = d_{34}-(d_{24}.d_{32})$ <br>\n",
    "$c_{35} = d_{35}-(d_{25}.d_{32})$ <br>\n",
    "\n",
    "declarando a segunda linha. \n",
    "\n",
    "$c_{43} = d_{43}-(d_{23}.d_{42})$ <br>\n",
    "$c_{44} = d_{44}-(d_{24}.d_{42})$ <br>\n",
    "$c_{45} = d_{45}-(d_{25}.d_{42})$ <br>\n",
    "\n",
    "declarando a terceira linha. \n",
    "\n",
    "$c_{53} = d_{53}-(d_{23}.d_{52})$ <br>\n",
    "$c_{54} = d_{54}-(d_{24}.d_{52})$ <br>\n",
    "$c_{55} = d_{55}-(d_{25}.d_{52})$ <br>"
   ]
  },
  {
   "cell_type": "code",
   "execution_count": 12,
   "metadata": {},
   "outputs": [],
   "source": [
    "# Vamos declarar as variáveis para a matriz 3x3.\n",
    "c33 = d33-(d23*d32)\n",
    "c34 = d34-(d24*d32)\n",
    "c35 = d35-(d25*d32)\n",
    "\n",
    "c43 = d43-(d23*d42)\n",
    "c44 = d44-(d24*d42)\n",
    "c45 = d45-(d25*d42)\n",
    "\n",
    "c53 = d53-(d23*d52)\n",
    "c54 = d54-(d24*d52)\n",
    "c55 = d55-(d25*d52)"
   ]
  },
  {
   "cell_type": "markdown",
   "metadata": {},
   "source": [
    "Agora temos os valores para a matriz $3x3$ como mostrado abaixo:\n",
    "\\begin{equation}\n",
    "A_{3x3}\n",
    "\\begin{bmatrix}\n",
    "c_{33} & c_{34} & c_{35} \\\\\n",
    "c_{43} & c_{44} & c_{45} \\\\\n",
    "c_{53} & c_{54} & c_{55} \\\\\n",
    "\\end{bmatrix}_{3x3}\n",
    "\\end{equation}"
   ]
  },
  {
   "cell_type": "markdown",
   "metadata": {},
   "source": [
    "Cálculo do determinte de uma matriz $3x3$."
   ]
  },
  {
   "cell_type": "code",
   "execution_count": 13,
   "metadata": {},
   "outputs": [
    {
     "data": {
      "text/plain": [
       "[[17, -7, 5], [-66, 28, -9], [6, -2, 5]]"
      ]
     },
     "execution_count": 13,
     "metadata": {},
     "output_type": "execute_result"
    }
   ],
   "source": [
    "# imprimindo a matriz 3x3\n",
    "\n",
    "A_3x3 = [\n",
    "    [c33, c34, c35 ],\n",
    "    [c43, c44, c45],\n",
    "    [c53, c54, c55]\n",
    "]\n",
    "\n",
    "A_3x3"
   ]
  },
  {
   "cell_type": "markdown",
   "metadata": {},
   "source": [
    "Agora, vamos calcular o determinante da matriz 3x3."
   ]
  },
  {
   "cell_type": "code",
   "execution_count": 14,
   "metadata": {},
   "outputs": [
    {
     "data": {
      "text/plain": [
       "-38"
      ]
     },
     "execution_count": 14,
     "metadata": {},
     "output_type": "execute_result"
    }
   ],
   "source": [
    "Det_3x3 = c33*(c44*c55-c45*c54)-c34*(c43*c55-c45*c53)+c35*(c43*c54-c44*c53)\n",
    "Det_3x3"
   ]
  },
  {
   "cell_type": "markdown",
   "metadata": {},
   "source": [
    "<div style=\"text-align: center; font-size: 12px; color: gray; margin-top: 40px;\">\n",
    "  Este notebook foi desenvolvido no âmbito do Grupo de Pesquisas em Modelagem Computacional da UESC.<br>\n",
    "  Todos os direitos reservados © 2025\n",
    "</div>"
   ]
  }
 ],
 "metadata": {
  "kernelspec": {
   "display_name": "base",
   "language": "python",
   "name": "python3"
  },
  "language_info": {
   "codemirror_mode": {
    "name": "ipython",
    "version": 3
   },
   "file_extension": ".py",
   "mimetype": "text/x-python",
   "name": "python",
   "nbconvert_exporter": "python",
   "pygments_lexer": "ipython3",
   "version": "3.11.7"
  }
 },
 "nbformat": 4,
 "nbformat_minor": 4
}
