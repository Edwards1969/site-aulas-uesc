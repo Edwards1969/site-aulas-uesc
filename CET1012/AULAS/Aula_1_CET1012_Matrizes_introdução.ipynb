{
 "cells": [
  {
   "cell_type": "markdown",
   "id": "b787552a",
   "metadata": {},
   "source": [
    "<div style=\"text-align: center;\">\n",
    "\n",
    "  <!-- Logotipo -->\n",
    "  <img src=\"img/LogoUesc.png\" alt=\"UESC\" style=\"width: 60px; display: block; margin: 0 auto 5px auto;\">\n",
    "\n",
    "  <!-- Cabeçalho -->\n",
    "  <div style=\"font-size: 20px;\"><strong>UNIVERSIDADE ESTADUAL DE SANTA CRUZ - UESC</strong></div>\n",
    "  <div style=\"font-size: 18px;\">DEPARTAMENTO DE ENGENHARIAS E COMPUTAÇÃO</div>\n",
    "  <div style=\"font-size: 18px;\">ENGENHARIA QUÍMICA</div>\n",
    "\n",
    "  <hr style=\"margin: 20px 0; border: 1px solid #0074B7;\">\n",
    "\n",
    "  <!-- Título do Trabalho -->\n",
    "  <div style=\"font-size: 22px; font-weight: bold; margin-bottom: 10px;\">Modelagem, Simulação e Otimização de Processos Químicos</div>\n",
    "  <div style=\"font-size: 20px; font-weight: bold; margin-bottom: 10px;\">Introdução a Métodos Computacionais na Engenharia Química</div>\n",
    "\n",
    "  <!-- Autor e orientador -->\n",
    "  <div style=\"font-size: 18px;\">Prof. Dr. E.R.Edwards</div>\n",
    "\n",
    "  <!-- Data -->\n",
    "<!-- <div style=\"font-size: 16px; margin-top: 15px;\">Ilhéus - BA, Abril de 2025</div> -->\n",
    "</div>"
   ]
  },
  {
   "cell_type": "markdown",
   "id": "2f6b996a",
   "metadata": {},
   "source": [
    "Muitos cálculos de controle de processos  em que possuem várias entradas e várias saídas resolvemos utilizando métodos matriciais. Na aula de hoje vamos aprender como calcular matrizes aplicando métodos computacionais."
   ]
  },
  {
   "cell_type": "markdown",
   "id": "eb556487-ee26-46c1-a89e-83f0fa64f446",
   "metadata": {},
   "source": [
    "### Definição de Matrizes\n",
    "\n",
    "**Definição**: Chama-se matriz de ordem $m$ por $n$ a um quadrado de $mxn$ elementos dispostos em $m$ linhas e $n$ colunas.\n",
    "\n",
    "Seja a matriz:\n",
    "\n",
    "\n",
    "\\begin{equation}\t\n",
    "\tA= \n",
    "\t\\begin{bmatrix}\n",
    "\t\ta_{11} &  a_{12}  \\\\\n",
    "\t\ta_{21} &  a_{22} \\nonumber \\\\ \n",
    "\t\\end{bmatrix}_{mxn} \n",
    "\\end{equation}\n",
    "\n",
    "em que m refere-se a linhas e n a colunas.\n",
    "\n",
    "Se o número de linhas for igual ao número de colunas dizemos que a matriz é quadrada.\n",
    "\n",
    "**NOTAÇÃO**: Cada elemento da matriz esta afetada por dois índices: $a_{ij}$ tal que:\n",
    "\n",
    "$$ A=[a_{ij}]_{mxn} $$\n",
    "\n",
    "* $A$ ... é a Matriz\n",
    "* $a$ ...é o número;\n",
    "* $i$ ... é a posição da linha;\n",
    "* $j$ ... é a posição da coluna"
   ]
  },
  {
   "cell_type": "markdown",
   "id": "ed7fcc19",
   "metadata": {},
   "source": [
    "### Dedução\n",
    "A figura abaixo mostra dois vetores, sendo o primeiro com distância $c$ no eixo $x$ e $d$ no eixo $y$ e o segundo com distância $a$ no eixo $x$ e $b$ no eixo $y$. Se prolongarmos a origem do primeiro vetor para ponta final do segundo vetor e se fizermos o mesmo com o segundo vetor, teremos uma área formada pelos vetores e seus prolongamentos. Como podemos determinar essa área? A melhor forma de calcularmos essa área é determinarmos, inicialmente, a área total do retângulo formada pela multiplicação da distância em $x$ por $y$."
   ]
  },
  {
   "cell_type": "markdown",
   "id": "3a2f7138",
   "metadata": {},
   "source": [
    "<img src=\"img/fig_vetor_2x2.png\" alt=\"UESC\" style=\"width: 800px; display: block; margin: 0 auto 5px auto;\">\n",
    "<p style=\"text-align: center;\"><strong>Figura: Cálculo de área após prolongamento de vetores .</strong></p>"
   ]
  },
  {
   "cell_type": "markdown",
   "id": "50e956ba",
   "metadata": {},
   "source": [
    "#### Cálculo da área do retângulo\n",
    "$A_t =(a+c).(b+d)$\n",
    "\n",
    "#### Cálculo das áreas externas.\n",
    "\n",
    "$A_e = 2A_1 + 2\\frac{B_1}{2} + 2\\frac{C_1}{2} $\n",
    "\n",
    "e substituindo os valores para cada área, temos:\n",
    "\n",
    "$ A_e = 2.b.c + 2.\\frac{a.b}{2} +  2.\\frac{c.d}{2} $\n",
    "\n",
    "Então a área dentro da geometria formada pelo prolongamento dos vetores será dada por ($A_v$):\n",
    "\n",
    "$ A_v = A_t - A_e $ \n",
    "\n",
    "$ A_v = a.b + a.d + b.c + c.d - 2.c.b - 2.\\frac{a.b}{2} -  2.\\frac{c.d}{2} $ \n",
    "\n",
    "Fazendo o algebrismo, temos:\n",
    "\n",
    "$A_v = a.b + a.d + b.c + c.d - 2.b.c - a.b -  c.d $\n",
    "\n",
    "$A_v =  a.d  - b.c  $\n",
    "\n",
    "Dessa forma, a área de um retângulo irregular pode ser calculada pelo determinante abaixo:  \n",
    "\n",
    "$$\n",
    "\\begin{equation}\t\n",
    "\tA_v= \n",
    "\t\\begin{bmatrix}\n",
    "\t\ta &  b \\\\\n",
    "\t\tc &  d \\nonumber \\\\ \n",
    "\t\\end{bmatrix} \n",
    "\t=a.d-b.d\t\n",
    "\\end{equation}\n",
    "$$"
   ]
  },
  {
   "cell_type": "markdown",
   "id": "41ca2d5c",
   "metadata": {},
   "source": [
    "#### Inversa de uma matriz 2x2.\n",
    "\n",
    "Agora vamos analisar como obter a inversa dessa matriz $2x2$. Essa matriz só será inversível se:  $a.d-b.d \\neq 0$\n",
    "\t\t\n",
    "$$\n",
    "\\begin{equation}\n",
    "A^{-1}= \\frac{1}{ad-bc}.\n",
    "\\begin{bmatrix}\n",
    "d &  -b \\\\\n",
    "-c &  a \\nonumber \\\\ \n",
    "\\end{bmatrix} \n",
    "\\end{equation}\n",
    "$$\n",
    "\n",
    "Multiplicando por cada elemento da matriz, temos:\n",
    "\n",
    "$$\n",
    "\\begin{equation}\t\n",
    "A^{-1}= \n",
    "\\begin{bmatrix}\n",
    "\\frac{d}{ad-bc} &  \\frac{-b}{ad-bc} \\\\\n",
    "\\frac{-c}{ad-bc} &  \\frac{a}{ad-bc} \\nonumber \\\\ \n",
    "\\end{bmatrix} \n",
    "\\end{equation}\n",
    "$$"
   ]
  },
  {
   "cell_type": "markdown",
   "id": "00a833d0",
   "metadata": {},
   "source": [
    "### Exemplo:\n",
    "Seja a matriz $2x2$ abaixo, deduza sua inversa,  $A^{-1}$;  e em seguida faça um programa em Python para resolver essa matriz.  Confira o resultado com a obtenção  da matriz identidade $I$. Imprima todos os resultados.\n",
    "\n",
    "$$\n",
    " \\begin{equation}\t\n",
    "\t \tA =\n",
    "        \\begin{bmatrix}\n",
    "\t\t \t\ta_{11} &  a_{12} \\\\\n",
    "\t\t \t\ta_{21} &  a_{22} \\nonumber \\\\ \n",
    "\t\t \t\\end{bmatrix} \n",
    "        =\n",
    "\t \t\\begin{bmatrix}\n",
    "\t\t \t\t1 &  2 \\\\\n",
    "\t\t \t\t1 &  3 \\nonumber \\\\ \n",
    "\t\t \t\\end{bmatrix} \n",
    "\t \\end{equation}\n",
    "$$     \n",
    "\n",
    "Vamos aplicar a equação acima para calcular a inversa da matriz $A$:\n",
    "\n",
    "$$\n",
    " \\begin{equation}\t\n",
    "\t \tA^{-1}= \\frac{1}{(1)(3)-(2)(1)}.\n",
    "\t \t\\begin{bmatrix}\n",
    "\t\t \t\t3 &  -2 \\\\\n",
    "\t\t \t\t-1 &  1 \\nonumber \\\\ \n",
    "\t\t \t\\end{bmatrix} \n",
    "\t \\end{equation}\n",
    "$$\n",
    "\n",
    "$$\n",
    " \\begin{equation}\t\n",
    "\t \tA^{-1} = \n",
    "\t \t\\begin{bmatrix}\n",
    "\t\t \t\t3 &  -2 \\\\\n",
    "\t\t \t\t-1 &  1 \\nonumber \\\\ \n",
    "\t\t \t\\end{bmatrix} \n",
    "\t \\end{equation}\n",
    "$$"
   ]
  },
  {
   "cell_type": "code",
   "execution_count": 1,
   "id": "ff7448e5",
   "metadata": {},
   "outputs": [
    {
     "data": {
      "text/plain": [
       "1.0"
      ]
     },
     "execution_count": 1,
     "metadata": {},
     "output_type": "execute_result"
    }
   ],
   "source": [
    "# Resolução computacional da inversa de uma matriz A^-1.\n",
    "a11, a12 = 1, 2\n",
    "a21, a22 = 1, 3\n",
    "\n",
    "# Cálculo do determinante.\n",
    "\n",
    "D = 1/(a11*a22 - a12*a21)\n",
    "D"
   ]
  },
  {
   "cell_type": "markdown",
   "id": "b69550b3",
   "metadata": {},
   "source": [
    "#### Conferindo os resultados\n",
    "\n",
    "Na matemática, se multiplicarmos \"$a$\" pela sua inversa \"$a^{-1}$\", teremos $a.\\frac{1}{a} =  1$. Agora, se multiplicarmos a matriz $A$ pela sua inversa $A^{-1}$, teremos uma matriz identidade $I$:\n",
    "\n",
    "$$A.A^{-1} = A.\\frac{1}{A}=I$$\n",
    "=\n",
    "\\begin{bmatrix}\n",
    "1 &  0 \\\\\n",
    "0 &  1 \\nonumber \\\\ \n",
    "\\end{bmatrix} \n",
    "\n",
    "\n",
    "Dessa forma, o resultado da inversa da matriz $A$ estará correto.\n",
    "$\n",
    " \\begin{equation}\t\n",
    "\t \t\\begin{bmatrix}\n",
    "\t\t \t\t1 &  2 \\\\\n",
    "\t\t \t\t1 &  3 \\nonumber \\\\ \n",
    "\t\t \t\\end{bmatrix} \n",
    "\t \t.\n",
    "\t \t\\begin{bmatrix}\n",
    "\t\t \t\t3 &  -2 \\\\\n",
    "\t\t \t-1 &  1 \\nonumber \\\\ \n",
    "\t\t \t\\end{bmatrix} \n",
    "\t \t=\n",
    "\t \t\\begin{bmatrix}\n",
    "\t\t \t(3-2)  &  (-2+2)  \\\\\n",
    "\t\t \t(3-3) &  (-2+3) \\nonumber \\\\ \n",
    "\t\t \t\\end{bmatrix} \n",
    "\t \t=\n",
    "\t \t\\begin{bmatrix}\n",
    "\t\t \t\t1  &  0  \\\\\n",
    "\t\t \t    0  &  1  \\nonumber \\\\ \n",
    "\t\t \t\\end{bmatrix} \n",
    "\t \t=\n",
    "\t \tI\n",
    "\t \\end{equation}\n",
    " $"
   ]
  },
  {
   "cell_type": "markdown",
   "id": "aa3bd6e4",
   "metadata": {},
   "source": [
    "Vamos determinar a Matriz identidade everificar se o resultado da matriz inversa \"$A^{-1}$\" esta correta. "
   ]
  },
  {
   "cell_type": "code",
   "execution_count": 2,
   "id": "dabdc157",
   "metadata": {},
   "outputs": [
    {
     "data": {
      "text/plain": [
       "array([[1, 2],\n",
       "       [1, 3]])"
      ]
     },
     "execution_count": 2,
     "metadata": {},
     "output_type": "execute_result"
    }
   ],
   "source": [
    "import numpy as np\n",
    "\n",
    "# Cálculo da Matriz A.\n",
    "A = np.array([\n",
    "    [a11, a12],\n",
    "    [a21, a22]])\n",
    "A"
   ]
  },
  {
   "cell_type": "code",
   "execution_count": 3,
   "id": "28975a45",
   "metadata": {},
   "outputs": [
    {
     "data": {
      "text/plain": [
       "array([[ 3., -2.],\n",
       "       [-1.,  1.]])"
      ]
     },
     "execution_count": 3,
     "metadata": {},
     "output_type": "execute_result"
    }
   ],
   "source": [
    "# Cálculo da inversa da Matriz A.\n",
    "\n",
    "A_inv = (1/(a11*a22 - a12*a21))*np.array([[a22, -a12],\n",
    "                                         [-a21, a11]])\n",
    "                                         \n",
    "A_inv"
   ]
  },
  {
   "cell_type": "code",
   "execution_count": 4,
   "id": "9a161936",
   "metadata": {},
   "outputs": [
    {
     "data": {
      "text/plain": [
       "array([[1., 0.],\n",
       "       [0., 1.]])"
      ]
     },
     "execution_count": 4,
     "metadata": {},
     "output_type": "execute_result"
    }
   ],
   "source": [
    "# Multiplicação da Matriz A e sua Inversa.\n",
    "\n",
    "I = np.dot(A, A_inv)\n",
    "I"
   ]
  },
  {
   "cell_type": "markdown",
   "id": "3fe70971",
   "metadata": {},
   "source": [
    "Logo o resultado da Matriz inversa esta correto."
   ]
  },
  {
   "cell_type": "markdown",
   "id": "1dbf2968-454c-472c-a829-5b59b660ea20",
   "metadata": {},
   "source": [
    "#### Adição de matrizes\n",
    "\n",
    "A soma de duas matrizes $A=[a_{ij}]$ e $B=[b_{ij}]$ de ordem $(m,n)$ é uma matriz $C=[c_{ij}]$ tal que:\n",
    "\n",
    "$$c_{ij} =  a_{ij} + b_{ij}$$\n",
    "\n",
    "\\begin{equation}\t\n",
    "\tA= \n",
    "\t\\begin{bmatrix}\n",
    "\t\ta_{11} &  a_{12}  &  a_{13} \\\\\n",
    "        a_{21} &  a_{22}  &  a_{23} \\\\\n",
    "\t\ta_{31} &  a_{32}  &  a_{33} \\\\ \\nonumber \n",
    "\t\\end{bmatrix} \n",
    "    B= \n",
    "\t\\begin{bmatrix}\n",
    "\t\tb_{11} &  b_{12}  &  b_{13} \\\\\n",
    "        b_{21} &  b_{22}  &  b_{23} \\\\\n",
    "\t\tb_{31} &  b_{32}  &  b_{33} \\\\ \\nonumber \n",
    "\t\\end{bmatrix}\n",
    "\\end{equation}\n",
    "\n",
    "\\begin{equation}\t\n",
    "\tC= \n",
    "\t\\begin{bmatrix}\n",
    "\t\ta_{11}+b_{11} &  a_{12}+b_{12}  &  a_{13}+b_{13} \\\\\n",
    "        a_{21}+b_{21} &  a_{22}+b_{22}  &  a_{23}+b_{23} \\\\\n",
    "\t\ta_{31}+b_{31} &  a_{32}+b_{32}  &  a_{33}+b_{33} \\\\ \\nonumber \n",
    "\t\\end{bmatrix}\n",
    "    =\n",
    "    \\begin{bmatrix}\n",
    "\t\tc_{11} &  c_{12}  &  c_{13} \\\\\n",
    "        c_{21} &  c_{22}  &  c_{23} \\\\\n",
    "\t\tc_{31} &  c_{32}  &  c_{33} \\\\ \\nonumber \n",
    "\t\\end{bmatrix} \n",
    "\\end{equation}"
   ]
  },
  {
   "cell_type": "markdown",
   "id": "23a9ad13-b4aa-4bb4-9840-7f4396c1c5db",
   "metadata": {
    "tags": []
   },
   "source": [
    "#### Exemplo: \n",
    "Cálcule a soma das matrizes abaixo tal que: $C=A+B$\n",
    "\n",
    "\\begin{equation}\t\n",
    "\tA= \n",
    "\t\\begin{bmatrix}\n",
    "\t\t5 &  -2  &  3 \\\\\n",
    "        2 &  1  &  -4 \\\\\n",
    "\t\t1 &  0  &  2 \\\\ \n",
    "        3 &  -1  &  4 \\\\ \\nonumber  \n",
    "\t\\end{bmatrix}\n",
    "    B= \n",
    "\t\\begin{bmatrix}\n",
    "\t\t-2 &  1  &  3 \\\\\n",
    "        4 &  2  &  5 \\\\\n",
    "        0 &  2  &  -2 \\\\\n",
    "\t\t-3 &  0  &  5 \\\\ \\nonumber  \n",
    "\t\\end{bmatrix}\n",
    "\\end{equation}\n",
    "\n",
    "**Resposta**:\n",
    "\n",
    "\\begin{equation}\t\n",
    "\tC= \n",
    "\t\\begin{bmatrix}\n",
    "\t\t3 &  -1  &  6 \\\\\n",
    "        6 &  3  &  1 \\\\\n",
    "\t\t1 &  2 &  0 \\\\ \n",
    "        0 &  -1  &  9 \\\\ \\nonumber  \n",
    "\t\\end{bmatrix}\n",
    "\\end{equation}\n",
    "\n"
   ]
  },
  {
   "cell_type": "code",
   "execution_count": 5,
   "id": "a694c103-0ca1-492a-85e4-0c0338f3a04e",
   "metadata": {},
   "outputs": [],
   "source": [
    "# ---Dados da matriz A\n",
    "a11, a12, a13 = 5, -2, 3\n",
    "a21, a22, a23 = 2, 1, -4\n",
    "a31, a32, a33 = 1, 0, 2\n",
    "a41, a42, a43 = 3, -1, 4\n",
    "\n",
    "# --- Dados da matriz B\n",
    "b11, b12, b13 = -2, 1, 3\n",
    "b21, b22, b23 = 4, 2, 5\n",
    "b31, b32, b33 = 0, 2, -2\n",
    "b41, b42, b43 = -3, 0, 5"
   ]
  },
  {
   "cell_type": "code",
   "execution_count": 6,
   "id": "3f4b1727-e70e-4b8c-a1ac-42f477bea8bb",
   "metadata": {},
   "outputs": [
    {
     "data": {
      "text/plain": [
       "[[3, -1, 6], [6, 3, 1], [1, 2, 0], [0, -1, 9]]"
      ]
     },
     "execution_count": 6,
     "metadata": {},
     "output_type": "execute_result"
    }
   ],
   "source": [
    "# Cálculo da matriz C\n",
    "C = [\n",
    "    [a11+b11, a12+b12, a13+b13],\n",
    "    [a21+b21, a22+b22, a23+b23],\n",
    "    [a31+b31, a32+b32, a33+b33],\n",
    "    [a41+b41, a42+b42, a43+b43]\n",
    "]\n",
    "C"
   ]
  },
  {
   "cell_type": "markdown",
   "id": "f6f91cba-fbbc-415e-a2de-24bb9ab36115",
   "metadata": {},
   "source": [
    "#### Subtração de Matrizes\n",
    "\n",
    "A diferência de duas matrizes $A-B$ de ordem $(mxn)$ é uma matriz $C$ tal que:\n",
    "\n",
    "$$ c_{ij} = a_{ij} - b_{ij}$$\n",
    "\n",
    "\\begin{equation}\t\n",
    "\tA= \n",
    "\t\\begin{bmatrix}\n",
    "\t\ta_{11} &  a_{12}  &  a_{13} \\\\\n",
    "        a_{21} &  a_{22}  &  a_{23} \\\\\n",
    "\t\ta_{31} &  a_{32}  &  a_{33} \\\\ \\nonumber  \n",
    "\t\\end{bmatrix} \n",
    "    \\ \n",
    "    B= \n",
    "\t\\begin{bmatrix}\n",
    "\t\tb_{11} &  b_{12}  &  b_{13} \\\\\n",
    "        b_{21} &  b_{22}  &  b_{23} \\\\\n",
    "\t\tb_{31} &  b_{32}  &  b_{33} \\\\ \\nonumber  \n",
    "\t\\end{bmatrix}\n",
    "\\end{equation}\n",
    "\n",
    "\\begin{equation}\t\n",
    "\tC= \n",
    "\t\\begin{bmatrix}\n",
    "\t\ta_{11}-b_{11} &  a_{12}-b_{12}  &  a_{13}-b_{13} \\\\\n",
    "        a_{21}-b_{21} &  a_{22}-b_{22}  &  a_{23}-b_{23} \\\\\n",
    "\t\ta_{31}-b_{31} &  a_{32}-b_{32}  &  a_{33}-b_{33} \\\\ \\nonumber \n",
    "\t\\end{bmatrix}\n",
    "    =\n",
    "    \\begin{bmatrix}\n",
    "\t\tc_{11} &  c_{12}  &  c_{13} \\\\\n",
    "        c_{21} &  c_{22}  &  c_{23} \\\\\n",
    "\t\tc_{31} &  c_{32}  &  c_{33} \\\\ \\nonumber  \n",
    "\t\\end{bmatrix} \n",
    "\\end{equation}\n",
    "\n",
    "**Resposta**: Use os mesmos dados das matrizes anteriores.\n",
    "\n",
    "\\begin{equation}\t\n",
    "\tC= \n",
    "\t\\begin{bmatrix}\n",
    "\t\t7 &  -3  &  0 \\\\\n",
    "        -2 &  -1  &  -9 \\\\\n",
    "\t\t1 &  -2 &  4 \\\\ \n",
    "        6 &  -1  &  -1 \\\\ \\nonumber  \n",
    "\t\\end{bmatrix}\n",
    "\\end{equation}\n"
   ]
  },
  {
   "cell_type": "code",
   "execution_count": 7,
   "id": "1d673195-9982-4982-af33-51cebf3ff15e",
   "metadata": {},
   "outputs": [
    {
     "data": {
      "text/plain": [
       "[[7, -3, 0], [-2, -1, -9], [1, -2, 4], [6, -1, -1]]"
      ]
     },
     "execution_count": 7,
     "metadata": {},
     "output_type": "execute_result"
    }
   ],
   "source": [
    "# dados de entrada repetidos do problema anterior.\n",
    "D = [\n",
    "    [a11-b11, a12-b12, a13-b13],\n",
    "    [a21-b21, a22-b22, a23-b23],\n",
    "    [a31-b31, a32-b32, a33-b33],\n",
    "    [a41-b41, a42-b42, a43-b43]\n",
    "]\n",
    "D"
   ]
  },
  {
   "cell_type": "markdown",
   "id": "390d8319-da0e-4a88-b7ad-9ed37978dee3",
   "metadata": {
    "tags": []
   },
   "source": [
    "### Produto de matriz por um escalar\n",
    "Se $\\lambda$ é um escalar, o produto de uma matriz $A$ por este escalar é uma matriz $B$ tal que:\n",
    "\n",
    "$$ b_{ij} =  \\lambda a_{ij} $$\n",
    "\n",
    "\\begin{equation}\t\n",
    "\tB= \\lambda. \n",
    "\t\\begin{bmatrix}\n",
    "\t\ta_{11} &  a_{12}  &  a_{13} \\\\\n",
    "        a_{21} &  a_{22}  &  a_{23} \\\\\n",
    "\t\ta_{31} &  a_{32}  &  a_{33} \\\\ \\nonumber \n",
    "\t\\end{bmatrix} \n",
    "    =\n",
    "    \\begin{bmatrix}\n",
    "\t\t\\lambda.a_{11} &  \\lambda.a_{12}  &  \\lambda.a_{13} \\\\\n",
    "        \\lambda.a_{21} &  \\lambda.a_{22}  &  \\lambda.a_{23} \\\\\n",
    "\t\t\\lambda.a_{31} &  \\lambda.a_{32}  &  \\lambda.a_{33} \\\\ \\nonumber \n",
    "\t\\end{bmatrix}   \n",
    "\\end{equation}\n",
    "\n",
    "**Exemplo**\n",
    "\\begin{equation}\t\n",
    "\tB= 5. \n",
    "\t\\begin{bmatrix}\n",
    "\t\t4 &  -2  &  1 \\\\\n",
    "        3 &  -5  &  0  \\\\ \\nonumber \n",
    "\t\\end{bmatrix} \n",
    "  \\end{equation}\n",
    "  \n",
    " **Resposta**\n",
    "\\begin{equation}\t\n",
    "\tB=  \n",
    "\t\\begin{bmatrix}\n",
    "\t\t20 &  -10  &  5 \\\\\n",
    "        15 &  -25  &  0  \\\\ \\nonumber \n",
    "\t\\end{bmatrix} \n",
    "  \\end{equation}"
   ]
  },
  {
   "cell_type": "code",
   "execution_count": 8,
   "id": "08dc2c5e-650d-48f7-b027-f93aa50864d1",
   "metadata": {},
   "outputs": [
    {
     "data": {
      "text/plain": [
       "[[20, -10, 5], [15, -25, 0]]"
      ]
     },
     "execution_count": 8,
     "metadata": {},
     "output_type": "execute_result"
    }
   ],
   "source": [
    "k = 5\n",
    "\n",
    "a11, a12, a13 = 4, -2, 1\n",
    "a21, a22, a23 = 3, -5, 0\n",
    "\n",
    "B = [\n",
    "    [k*a11, k*a12, k*a13],\n",
    "    [k*a21, k*a22, k*a23],\n",
    "   ]\n",
    "\n",
    "B"
   ]
  },
  {
   "cell_type": "code",
   "execution_count": 9,
   "id": "75fb6b02",
   "metadata": {},
   "outputs": [
    {
     "data": {
      "text/plain": [
       "array([[ 20, -10,   5],\n",
       "       [ 15, -25,   0]])"
      ]
     },
     "execution_count": 9,
     "metadata": {},
     "output_type": "execute_result"
    }
   ],
   "source": [
    "import numpy as np\n",
    "\n",
    "C = k*np.array([\n",
    "    [a11, a12, a13],\n",
    "    [a21, a22, a23]\n",
    "])\n",
    "\n",
    "C"
   ]
  },
  {
   "cell_type": "markdown",
   "id": "17772669-7a8e-47b2-aec8-53fce4bfeeae",
   "metadata": {},
   "source": [
    "#### Multiplicação de matrizes.\n",
    "\n",
    "A multiplicação de matrizes é feita multiplicando a linha da primeira matriz pela coluna da segunda matriz. \n",
    "\n",
    "**Observação**\n",
    "\n",
    "* A multiplicação de matrizes só é possível quando o  número de colunas da primeira matriz for igual ao número de linhas da segunda matriz, ou seja $A_{(1,{\\color{red}5})}$ então $B_{({\\color{red}5},1)}$. Se a multiplicação existir, a matriz produto terá a quantidade de linhas da primeira matriz e a quantidade de colunas da segunda matriz. \n",
    "\n",
    "Seja a matriz $A_{(1,5)}$ e $B_{(5,1)}$ calcule $C=A.B$\n",
    "\n",
    "\n",
    "\\begin{equation}\t\n",
    "\tA= \n",
    "\t\\begin{bmatrix}\n",
    "\ta_{11} &  a_{12} &  a_{13} &  a_{14} &  a_{15} \\nonumber \\\\ \n",
    "\t\\end{bmatrix} \n",
    "    \\\n",
    "    \\\n",
    "    B\n",
    "    =\n",
    "    \\begin{bmatrix}\n",
    "\t\tb_{11}  \\\\\n",
    "        b_{12}  \\\\\n",
    "        b_{13}  \\\\\n",
    "        b_{14}  \\\\\n",
    "\t\tb_{15}  \\\\ \\nonumber \\\\ \n",
    "\t\\end{bmatrix} \n",
    "\\end{equation}\n",
    "\n",
    "$$c_{11} = a_{11}.b_{11} +  a_{12}.b_{12} + a_{13}.b_{13} +a_{14}.b_{14} +a_{15}.b_{15} $$\n",
    "\n",
    "**Exemplo 1**\n",
    "\n",
    "Cálcule $C$ sabendo-se que: \n",
    "\n",
    "\\begin{equation}\t\n",
    "\tA= \n",
    "\t\\begin{bmatrix}\n",
    "\t4 &  3 &  2 &  5  \\nonumber \n",
    "\t\\end{bmatrix} \n",
    "    B\n",
    "    =\n",
    "    \\begin{bmatrix}\n",
    "\t\t6  \\\\\n",
    "        4  \\\\\n",
    "        5  \\\\\n",
    "        3  \\\\ \\nonumber  \n",
    "\t\\end{bmatrix} \n",
    "\\end{equation}\n",
    "\n",
    "**Resposta**\n",
    "$C = 4.6 + 3.4 + 2.5 + 5.3 = 61$"
   ]
  },
  {
   "cell_type": "code",
   "execution_count": 10,
   "id": "959b848e-74d9-4771-8c5c-615e0c5ff8ef",
   "metadata": {},
   "outputs": [
    {
     "data": {
      "text/plain": [
       "61"
      ]
     },
     "execution_count": 10,
     "metadata": {},
     "output_type": "execute_result"
    }
   ],
   "source": [
    "a11, a12, a13, a14 = 4, 3, 2, 5\n",
    "b11, b12, b13, b14 = 6, 4, 5, 3\n",
    "\n",
    "C = a11*b11 + a12*b12 + a13*b13 + a14*b14\n",
    "C"
   ]
  },
  {
   "cell_type": "markdown",
   "id": "4a95dcc6-7fc9-41d0-93da-c50d0c83cc91",
   "metadata": {},
   "source": [
    "**Exemplo 2**\n",
    "\n",
    "Sabendo-se que matriz $A$ e $B$ são dados abaixo, calcule a matriz $C=A.B$ \n",
    "\n",
    "\\begin{equation}\n",
    "      A = \n",
    "     \\begin{bmatrix}\n",
    "     2 & 3 \\\\\n",
    "     4 & 6 \\\\\n",
    "     \\end{bmatrix} \n",
    "     \\\n",
    "     \\\n",
    "    B = \n",
    "     \\begin{bmatrix}\n",
    "     1 & 3 & 0 \\\\\n",
    "     2 & 1 & 1 \\\\\n",
    "     \\end{bmatrix}\n",
    "\\end{equation}\n",
    "\n",
    "**Solução**:\n",
    "Para calcular $C$ de fórma computacional, vamos colocar as matrizes $A$ e $B$ com notações tais que: $A=[a_{i,j}]$ e $B=[b_{i,j}]$.\n",
    "\n",
    "\\begin{equation}\n",
    " \\begin{bmatrix}\n",
    "     a_{11} & a_{12} \\\\\n",
    "     a_{21} & a_{22} \\\\\n",
    "     \\end{bmatrix}  \n",
    "    .\n",
    "     \\begin{bmatrix}\n",
    "     b_{11} & b_{12} & b_{13} \\\\\n",
    "     b_{21} & b_{22} & b_{23} \\\\\n",
    "     \\end{bmatrix}\n",
    "     =\n",
    "     \\begin{bmatrix}\n",
    "     a_{11}.b_{11} + a_{12}.b_{21} & a_{11}.b_{12} + a_{12}.b_{22}  & a_{11}.b_{13} + a_{12}.b_{23} \\\\\n",
    "     a_{21}.b_{11} + a_{22}.b_{21} & a_{21}.b_{12} + a_{22}. b_{22} & a_{21}.b_{13} + a_{22}.b_{23} \\\\\n",
    "     \\end{bmatrix}  \n",
    "\\end{equation}\n",
    "\n",
    "**Resposta**:\n",
    "Logo a matriz $C$ será:\n",
    "\n",
    "\\begin{equation}\n",
    "C = \n",
    "\\begin{bmatrix}\n",
    "8  & 9  & 3 \\\\\n",
    "16 & 18 & 6 \\\\\n",
    "\\end{bmatrix}\n",
    "=\n",
    "\\begin{bmatrix}\n",
    "c_{11} & c_{12} & c_{13} \\\\\n",
    "c_{21} & c_{22} & c_{23} \\\\\n",
    "\\end{bmatrix}\n",
    "\\end{equation}"
   ]
  },
  {
   "cell_type": "code",
   "execution_count": 11,
   "id": "df812aa3",
   "metadata": {},
   "outputs": [
    {
     "data": {
      "text/plain": [
       "[[8, 9, 3], [16, 18, 6]]"
      ]
     },
     "execution_count": 11,
     "metadata": {},
     "output_type": "execute_result"
    }
   ],
   "source": [
    "# Dados da matriz A:\n",
    "a11, a12 = 2, 3\n",
    "a21, a22 = 4, 6\n",
    "\n",
    "# Dados da matriz B:\n",
    "b11, b12, b13 = 1, 3, 0\n",
    "b21, b22, b23 = 2, 1, 1\n",
    "\n",
    "# Primeira linha\n",
    "c11 = a11*b11 + a12*b21\n",
    "c12 = a11*b12 + a12*b22 \n",
    "c13 = a11*b13 + a12*b23\n",
    "\n",
    "# Segunda linha\n",
    "c21 = a21*b11 + a22*b21 \n",
    "c22 = a21*b12 + a22*b22\n",
    "c23 = a21*b13 + a22*b23\n",
    "\n",
    "C = [\n",
    "    [c11, c12, c13],\n",
    "    [c21, c22, c23]\n",
    "    ]\n",
    "\n",
    "C"
   ]
  },
  {
   "cell_type": "markdown",
   "id": "a9c38db4-70a0-4103-8d42-e7027637cfce",
   "metadata": {},
   "source": [
    "#### Dedução\n",
    "\n",
    "Seja a matriz $A$ e $B$, calcule a matriz $C$.\n",
    "\n",
    "$$C_{i,j} = \\sum_k A_{i,k}.B_{k,j} $$\n",
    "\n",
    "\\begin{equation}\n",
    "A =\n",
    "    \\begin{bmatrix}\n",
    "      a_{11} &  a_{12}  &  a_{13}  \\\\\n",
    "      a_{21} &  a_{22}  &  a_{23}  \\\\\n",
    "\t  a_{31} &  a_{32}  &  a_{33} \\nonumber \n",
    "    \\end{bmatrix}\n",
    "    \\\n",
    "    \\\n",
    "    B =\n",
    "    \\begin{bmatrix}\n",
    "      b_{11} &  b_{12}  &  b_{13}  \\\\\n",
    "      b_{21} &  b_{22}  &  b_{23}  \\\\\n",
    "\t  b_{31} &  b_{32}  &  b_{33} \\nonumber \n",
    "    \\end{bmatrix}\n",
    "   \\end{equation}\n",
    "\n",
    "\\begin{equation}\n",
    "C = A.B = \n",
    "    \\begin{bmatrix}\n",
    "       a_{11}.b_{11}+a_{12}.b_{21}+a_{13}.b_{31}  &  a_{11}.b_{12}+a_{12}.b_{22}+a_{13}.b_{32}  & a_{11}.b_{13}+a_{12}.b_{23}+a_{13}.b_{33}\\\\\n",
    "       a_{21}.b_{11}+a_{22}.b_{21}+a_{23}.b_{31}  &  a_{21}.b_{12}+a_{22}.b_{22}+a_{23}.b_{32}  & a_{21}.b_{13}+a_{22}.b_{23}+a_{23}.b_{33}\\\\\n",
    "\t   a_{31}.b_{11}+a_{32}.b_{21}+a_{33}.b_{31}  &  a_{31}.b_{12}+a_{32}.b_{22}+a_{33}.b_{32}  & a_{31}.b_{13}+a_{32}.b_{23}+a_{33}.b_{33} \\nonumber \n",
    "    \\end{bmatrix}\n",
    "    = \n",
    "    \\begin{bmatrix}\n",
    "     c_{11} &  c_{12} &  c_{13}  \\\\\n",
    "\t c_{21} &  c_{22} &  c_{23} \\\\\n",
    "     c_{31} &  c_{32} &  c_{33}  \\nonumber \n",
    "    \\end{bmatrix}\n",
    "\\end{equation}\n",
    "\n",
    "\n",
    "#### Exemplo:\n",
    "\n",
    "Cálcule a matriz $C = A.B$ dados por:\n",
    "\n",
    "\\begin{equation}\n",
    "A =\n",
    "    \\begin{bmatrix}\n",
    "      2 & 1 &  2  \\\\\n",
    "      3 &  2 &  2  \\\\\n",
    "\t  1 &  1 &  2 \\nonumber \n",
    "    \\end{bmatrix}\n",
    "    \\\n",
    "    \\\n",
    "    B =\n",
    "     \\begin{bmatrix}\n",
    "      1 &  5 &  3  \\\\\n",
    "      4 &  2 &  1  \\\\\n",
    "\t  1 &  2 &  2 \\nonumber \n",
    "    \\end{bmatrix}\n",
    "\\end{equation}\n",
    "\n",
    "#### Resposta\n",
    "\n",
    "\\begin{equation}\n",
    "C =\n",
    "    \\begin{bmatrix}\n",
    "      8   &  16  &  11  \\\\\n",
    "      13  &  23  &  15 \\\\\n",
    "\t  7   &  11  &  8  \\nonumber \n",
    "    \\end{bmatrix}\n",
    "\\end{equation}\n"
   ]
  },
  {
   "cell_type": "code",
   "execution_count": 12,
   "id": "3a188bad-5e36-4c3b-bd5c-fd7f1dc37e88",
   "metadata": {},
   "outputs": [
    {
     "data": {
      "text/plain": [
       "[[8, 16, 11], [13, 23, 15], [7, 11, 8]]"
      ]
     },
     "execution_count": 12,
     "metadata": {},
     "output_type": "execute_result"
    }
   ],
   "source": [
    "# Dados da matriz A:\n",
    "a11, a12, a13 = 2, 1, 2\n",
    "a21, a22, a23 = 3, 2, 2\n",
    "a31, a32, a33 = 1, 1, 2\n",
    "\n",
    "# Dados da matriz B:\n",
    "b11, b12, b13 = 1, 5, 3\n",
    "b21, b22, b23 = 4, 2, 1\n",
    "b31, b32, b33 = 1, 2, 2\n",
    "\n",
    "# Primeira linha.\n",
    "c11 = a11*b11 + a12*b21 + a13*b31\n",
    "c12 = a11*b12 + a12*b22 + a13*b32\n",
    "c13 = a11*b13 + a12*b23 + a13*b33\n",
    "\n",
    "# Segunda linha.\n",
    "c21 = a21*b11 + a22*b21 + a23*b31\n",
    "c22 = a21*b12 + a22*b22 + a23*b32 \n",
    "c23 = a21*b13 + a22*b23 + a23*b33\n",
    "\n",
    "# Terceira linha.\n",
    "c31 = a31*b11 + a32*b21 + a33*b31\n",
    "c32 = a31*b12 + a32*b22 + a33*b32\n",
    "c33 = a31*b13 + a32*b23 + a33*b33\n",
    "\n",
    "# Cálculo dda matriz  C:\n",
    "c = [[c11, c12, c13],\n",
    "     [c21, c22, c23],\n",
    "     [c31, c32, c33]\n",
    "]\n",
    "\n",
    "c"
   ]
  },
  {
   "cell_type": "markdown",
   "id": "c15aa394-1a95-4a4a-9724-07a514282a9d",
   "metadata": {},
   "source": [
    "#### Exemplo\n",
    "\n",
    "Cálcule a matriz $C = A.B$ dados por:\n",
    "\n",
    "\\begin{equation}\n",
    "A =\n",
    "    \\begin{bmatrix}\n",
    "      2 &  3  \\\\\n",
    "      1 &  4 \\\\\n",
    "\t  2 &  1 \\nonumber \n",
    "    \\end{bmatrix}\n",
    "    \\\n",
    "    \\\n",
    "    B =\n",
    "    \\begin{bmatrix}\n",
    "     3  &  2  \\\\\n",
    "\t 1  &  0  \\nonumber \n",
    "    \\end{bmatrix}\n",
    "   \\end{equation}"
   ]
  }
 ],
 "metadata": {
  "kernelspec": {
   "display_name": "base",
   "language": "python",
   "name": "python3"
  },
  "language_info": {
   "codemirror_mode": {
    "name": "ipython",
    "version": 3
   },
   "file_extension": ".py",
   "mimetype": "text/x-python",
   "name": "python",
   "nbconvert_exporter": "python",
   "pygments_lexer": "ipython3",
   "version": "3.11.7"
  }
 },
 "nbformat": 4,
 "nbformat_minor": 5
}
