{
 "cells": [
  {
   "cell_type": "markdown",
   "metadata": {},
   "source": [
    "<div style=\"text-align: center;\">\n",
    "\n",
    "  <!-- Logotipo -->\n",
    "  <img src=\"img/LogoUesc.png\" alt=\"UESC\" style=\"width: 60px; display: block; margin: 0 auto 5px auto;\">\n",
    "\n",
    "  <!-- Cabeçalho -->\n",
    "  <div style=\"font-size: 20px;\"><strong>UNIVERSIDADE ESTADUAL DE SANTA CRUZ - UESC</strong></div>\n",
    "  <div style=\"font-size: 18px;\">DEPARTAMENTO DE ENGENHARIAS E COMPUTAÇÃO</div>\n",
    "  <div style=\"font-size: 18px;\">ENGENHARIA QUÍMICA</div>\n",
    "\n",
    "  <hr style=\"margin: 20px 0; border: 1px solid #0074B7;\">\n",
    "\n",
    "  <!-- Título do Trabalho -->\n",
    "  <div style=\"font-size: 22px; font-weight: bold; margin-bottom: 10px;\">Modelagem, Simulação e Otimização de Processos Químicos</div>\n",
    "  <div style=\"font-size: 20px; font-weight: bold; margin-bottom: 10px;\">Aplicação da Regra de Cramer em Cálculos de Engenharia</div>\n",
    "\n",
    "  <!-- Autor e orientador -->\n",
    "  <div style=\"font-size: 18px;\">Prof. Dr. E.R.Edwards</div>\n",
    "\n",
    "<hr style=\"margin: 20px 0; border: 1px solid #0074B7;\">\n",
    "  <!-- Data -->\n",
    "<!-- <div style=\"font-size: 16px; margin-top: 15px;\">Ilhéus - BA, Abril de 2025</div> -->\n",
    "</div>"
   ]
  },
  {
   "cell_type": "markdown",
   "metadata": {},
   "source": [
    "__Enunciado__:\n",
    "\n",
    "Uma indústria Química está produzindo Metanol ($CH_3OH$) a partir de Monóxido de Carbono ($CO$) e Hidrogênio ($H_2$) em um reator com condições controladas. O Engenheiro Químico responsável quer monitorar as concentrações dos reagentes e produtos em um ponto específico da reação para garantir a eficiência. <br>\n",
    "A reação química é dada por:\n",
    "\n",
    "$$\n",
    "CO + 2H_2 \\rightarrow  CH_3OH\n",
    "$$"
   ]
  },
  {
   "cell_type": "markdown",
   "metadata": {},
   "source": [
    "**Informações do Processo**:\n",
    "\n",
    "1. **Entrada**:<br>\n",
    "- O Monóxido de Carbono ($CO$) e o Hidrogênio ($H_2$) entrarão por tubulações separadas e independentes que conectam-se diretamente ao reator, facilitando o controle individual de cada componente. <br>\n",
    "2. **Reação no Reator**: <br>\n",
    "- No interior do reator, ocorre a reação entre $CO$ e $H_2$, sob condições controladas de temperatura e pressão, para fomar o metanol ($CH_3OH$). <br>\n",
    "3. **Saída**:<br>\n",
    "- Como o produto é líquido a baixas temperaturas, o metanol é normalmente coletado pela corrente de fundo do reator, enquanto quaisquer subprodutos gasosos residuais podem ser removidos por uma corrente de topo, se necessário. "
   ]
  },
  {
   "cell_type": "markdown",
   "metadata": {},
   "source": [
    "__Figura__\n",
    "\n",
    "A figura abaixo mostra o diagrama do reator para a produção do metanol. O esquema mostra as tubulações independentes para o monóxido de carbono ($CO$) e o hidrogênio ($H_2$) entrando nas laterais do reator, com a saída do metanol ($CH_3OH$) pela corrente de fundo. Esse arranjo ajuda a visualizar como a reação é conduzida e o produto é coletado ao final do processo. "
   ]
  },
  {
   "cell_type": "markdown",
   "metadata": {},
   "source": [
    "<img src=\"img/Producao_metanol_AI.png\" alt=\"UESC\" style=\"width: 600px; display: block; margin: 0 auto 5px auto;\">\n",
    "<p style=\"text-align: center;\">Fonte<strong>: Desenho esquemático de um processo de produção de metanol</strong></p>"
   ]
  },
  {
   "cell_type": "markdown",
   "metadata": {},
   "source": [
    "<img src=\"img/Producao_metanol_AI_2.png\" alt=\"UESC\" style=\"width: 650px; display: block; margin: 0 auto 5px auto;\">\n",
    "<p style=\"text-align: center;\">Fonte<strong>: Desenho esquemático de um processo de produção de metanol</strong></p>"
   ]
  },
  {
   "cell_type": "markdown",
   "metadata": {},
   "source": [
    "Planta em estilo P&ID (Diagrama de Instrumentação e Tubulação) do processo de produção de metanol, mostrando as tubulações de entrada para o $CO$ e $H_2$ além da saída do metanol pelo fundo do reator. Esse layout é técnico e semelhante ao que engenheiros químicos utilizam para visualizar fluxos e equipamentos em plantas químicas."
   ]
  },
  {
   "cell_type": "markdown",
   "metadata": {},
   "source": [
    "As concentrações das espécies envolvidas são determinadas pelas seguintes equações baseadas nas taxas de consumo e produção de cada componente:\n",
    "\n",
    "1. $C_{CO} - 0.5C_{H_2} = 1$ <br>\n",
    "2. $C_{CH_3OH} + 0.3C_{CO} - 0.2C_{H_2} = 0.5$ <br>\n",
    "3. $C_{H_2} - C_{CH_3OH} = 0.8$ <br>\n",
    "\n",
    "Onde: <br>\n",
    "- $C_{CO}$, $C_{H_2}$ e $C_{CH_3OH}$ são as concentrações de monóxido de carbono, hidrogênio e metanol, respectivamente.\n",
    "\n",
    "**Objetivo**: Cálcular as concentrações $C_{CO}$, $C_{H_2}$ e $C_{CH_3OH}$ usando a Regra de Cramer.\n"
   ]
  },
  {
   "cell_type": "markdown",
   "metadata": {},
   "source": [
    "**Solução Passo a Passo**:\n",
    "\n",
    "1. Formule o sistema de equações na forma Matricial $A.\\vec{x} = \\vec{b}$, onde:\n",
    "\n",
    "\\begin{equation}\n",
    "A = \n",
    "\\begin{bmatrix}\n",
    "1 & -0.5 & 0 \\\\\n",
    "0.3 & -0.2 & 1 \\\\\n",
    "0 & 1 & -1\n",
    "\\end{bmatrix}\n",
    ", \n",
    "x =\n",
    "\\begin{bmatrix}\n",
    "C_{CO} \\\\\n",
    "C_{H_2} \\\\\n",
    "C_{CH_3OH}\n",
    "\\end{bmatrix}\n",
    ",\n",
    "b =\n",
    "\\begin{bmatrix}\n",
    "1 \\\\\n",
    "0.5 \\\\\n",
    "0.8\n",
    "\\end{bmatrix}\n",
    "\\end{equation}"
   ]
  },
  {
   "cell_type": "markdown",
   "metadata": {},
   "source": [
    "2. Calcule o determinante de $A$, ($det(A)$) <br>\n",
    "3. Substitua cada coluna de $A$ por $b$ uma vez para obter os determinantes auxiliares $det(A_{CO})$, $det(A_{H_2})$ e $det(A_{CH_3OH})$, necessários para a aplicação da Regra de Cramer.<br>\n",
    "4. Use a Regra de Cramer para encontrar:  $C_{CO}$, $C_{H_2}$ e $C_{CH_3OH}$:\n",
    "\n",
    "$C_{CO} = \\frac{det(A_{CO})}{det(A)}, C_{H_2} = \\frac{det(A_{H_2})}{det(A)}, C_{{CH_3OH}} = \\frac{det(A_{{CH_3OH}})}{det(A)}$\n"
   ]
  },
  {
   "cell_type": "markdown",
   "metadata": {},
   "source": []
  },
  {
   "cell_type": "markdown",
   "metadata": {},
   "source": [
    "Esse exercício mostra na prática a Regra de Cramer em um contexto real de Engenharia Química, onde o controle das concentrações é essencial para otimização dos Processos Químicos. <br>\n",
    "\n",
    "**Atribuindo valores numéricos**:\n",
    "\n",
    "As conentrações das espécies são:\n",
    "\n",
    "- $C_{CO}$       $\\thickapprox$ 1.53 <br>\n",
    "- $C_{H_2}$      $\\thickapprox$ 1.05 <br>\n",
    "- $C_{COH_3OH}$  $\\thickapprox$  0.25 <br>\n",
    "\n",
    "Esses valores foram calculados usando a Regra de Cramer com Python."
   ]
  },
  {
   "cell_type": "markdown",
   "metadata": {},
   "source": [
    " 1 - Cálculo usando Método Algébrico"
   ]
  },
  {
   "cell_type": "code",
   "execution_count": 61,
   "metadata": {},
   "outputs": [],
   "source": [
    "import numpy as np\n",
    "\n",
    "# Declarando as variáveis de A.\n",
    "a11, a12, a13 = 1, -0.5, 0\n",
    "a21, a22, a23 = 0.3, -0.2, 1\n",
    "a31, a32, a33 = 0, 1, -1\n",
    "\n",
    "# Declarando as variáveis de B\n",
    "b1, b2, b3 = 1, 0.5, 0.8"
   ]
  },
  {
   "cell_type": "code",
   "execution_count": 62,
   "metadata": {},
   "outputs": [],
   "source": [
    "# Matrix A dos coeficientes das concentrações.\n",
    "A = np.array([\n",
    "    [a11, a12, a13],\n",
    "    [a21, a22, a23],\n",
    "    [a31, a32, a33]])"
   ]
  },
  {
   "cell_type": "code",
   "execution_count": 63,
   "metadata": {},
   "outputs": [],
   "source": [
    "# Vetor b das constantes independentes.\n",
    "b = np.array([[b1, b2, b3]])"
   ]
  },
  {
   "cell_type": "code",
   "execution_count": 64,
   "metadata": {},
   "outputs": [
    {
     "data": {
      "text/plain": [
       "-0.9500000000000001"
      ]
     },
     "execution_count": 64,
     "metadata": {},
     "output_type": "execute_result"
    }
   ],
   "source": [
    "# Cálculo do Determinante de A usando Método Algébrico.\n",
    "det_A_algebraic = a11*(a22*a33 - a23*a32) - a12*(a21*a33 - a23*a31) + a13*(a21*a32 - a22*a31)\n",
    "det_A_algebraic"
   ]
  },
  {
   "cell_type": "markdown",
   "metadata": {},
   "source": [
    "\\begin{equation}\n",
    "A_x = \n",
    "\\begin{bmatrix}\n",
    "b1 & a12 & a13 \\\\\n",
    "b2 & a22 & a23 \\\\\n",
    "b3 & a32 & a33\n",
    "\\end{bmatrix}\n",
    "\\end{equation}"
   ]
  },
  {
   "cell_type": "code",
   "execution_count": 65,
   "metadata": {},
   "outputs": [
    {
     "data": {
      "text/plain": [
       "-1.4500000000000002"
      ]
     },
     "execution_count": 65,
     "metadata": {},
     "output_type": "execute_result"
    }
   ],
   "source": [
    "# Cálculo de Ax.\n",
    "A_x = b1*(a22*a33 - a23*a32) - a12*(b2*a33 - a23*b3) + a13*(b2*a32 - a22*b3)\n",
    "A_x"
   ]
  },
  {
   "cell_type": "markdown",
   "metadata": {},
   "source": [
    "\\begin{equation}\n",
    "A_y = \n",
    "\\begin{bmatrix}\n",
    "a11 & b1 & a13 \\\\\n",
    "a21 & b2 & a23 \\\\\n",
    "a31& b3 & a33\n",
    "\\end{bmatrix}\n",
    "\\end{equation}"
   ]
  },
  {
   "cell_type": "code",
   "execution_count": 66,
   "metadata": {},
   "outputs": [
    {
     "data": {
      "text/plain": [
       "-1.0"
      ]
     },
     "execution_count": 66,
     "metadata": {},
     "output_type": "execute_result"
    }
   ],
   "source": [
    "# Cálculo de Ay.\n",
    "A_y = a11*(b2*a33 - a23*b3) - b1*(a21*a33 - a23*a31) + a13*(a21*b3 - b2*a31)\n",
    "A_y"
   ]
  },
  {
   "cell_type": "markdown",
   "metadata": {},
   "source": [
    "\\begin{equation}\n",
    "A_z = \n",
    "\\begin{bmatrix}\n",
    "a11 & a12 & b1 \\\\\n",
    "a21 & a22 & b2 \\\\\n",
    "a31 & a32 & b3\n",
    "\\end{bmatrix}\n",
    "\\end{equation}"
   ]
  },
  {
   "cell_type": "code",
   "execution_count": 67,
   "metadata": {},
   "outputs": [
    {
     "data": {
      "text/plain": [
       "-0.24000000000000005"
      ]
     },
     "execution_count": 67,
     "metadata": {},
     "output_type": "execute_result"
    }
   ],
   "source": [
    "# Cálculo de Az.\n",
    "A_z = a11*(a22*b3 - b2*a32) - a12*(a21*b3 - b2*a31) + b1*(a21*a32 - a22*a31)\n",
    "A_z"
   ]
  },
  {
   "cell_type": "code",
   "execution_count": 68,
   "metadata": {},
   "outputs": [],
   "source": [
    "# Cálculo de x, y e z.\n",
    "x = A_x/det_A_algebraic\n",
    "y = A_y/det_A_algebraic\n",
    "z = A_z/det_A_algebraic"
   ]
  },
  {
   "cell_type": "code",
   "execution_count": 69,
   "metadata": {},
   "outputs": [
    {
     "name": "stdout",
     "output_type": "stream",
     "text": [
      "Resultado de x  = 1.53\n",
      "Resultado de y  = 1.05\n",
      "Resultado de z  = 0.25\n"
     ]
    }
   ],
   "source": [
    "# Imprimindo os resultados\n",
    "print('Resultado de x  = {:.2f}'.format(x))\n",
    "print('Resultado de y  = {:.2f}'.format(y))\n",
    "print('Resultado de z  = {:.2f}'.format(z))"
   ]
  },
  {
   "cell_type": "markdown",
   "metadata": {},
   "source": [
    " 2 - Cálculo usando Biblioteca Numpy"
   ]
  },
  {
   "cell_type": "code",
   "execution_count": 70,
   "metadata": {},
   "outputs": [
    {
     "data": {
      "text/plain": [
       "-0.95"
      ]
     },
     "execution_count": 70,
     "metadata": {},
     "output_type": "execute_result"
    }
   ],
   "source": [
    "# Cálculo do determinante de A usando biblioteca do Numpy.\n",
    "det_A = np.linalg.det(A)\n",
    "det_A"
   ]
  },
  {
   "cell_type": "code",
   "execution_count": 71,
   "metadata": {},
   "outputs": [],
   "source": [
    "# Função auxiliar para calcular determinantes substituindo colunas com b\n",
    "def determinant_with_replacement(A, b, column):\n",
    "    A_replaced = A.copy()\n",
    "    A_replaced[:,column] = b\n",
    "    return np.linalg.det(A_replaced)"
   ]
  },
  {
   "cell_type": "code",
   "execution_count": 72,
   "metadata": {},
   "outputs": [
    {
     "data": {
      "text/plain": [
       "-0.24000000000000005"
      ]
     },
     "execution_count": 72,
     "metadata": {},
     "output_type": "execute_result"
    }
   ],
   "source": [
    "# Calcule os determinantes substituindo colunas.\n",
    "det_A_CO    = determinant_with_replacement(A, b, 0)\n",
    "det_A_H2    = determinant_with_replacement(A, b, 1)\n",
    "det_A_CH3OH = determinant_with_replacement(A, b, 2)\n",
    "\n",
    "det_A_CH3OH"
   ]
  },
  {
   "cell_type": "code",
   "execution_count": 73,
   "metadata": {},
   "outputs": [],
   "source": [
    "# Aplica a Regra de Cramer para encontrar as concentrações.\n",
    "C_CO = det_A_CO/det_A\n",
    "C_H2 = det_A_H2/det_A\n",
    "C_CH3CH = det_A_CH3OH/det_A"
   ]
  },
  {
   "cell_type": "code",
   "execution_count": 74,
   "metadata": {},
   "outputs": [
    {
     "name": "stdout",
     "output_type": "stream",
     "text": [
      "The result of C_CO = 1.53\n",
      "The result of C_H2 = 1.05\n",
      "The result of C_CH3CH = 0.25\n"
     ]
    }
   ],
   "source": [
    "# Imprimindo os resultados\n",
    "print('The result of C_CO = {:.2f}'.format(C_CO))\n",
    "print('The result of C_H2 = {:.2f}'.format(C_H2))\n",
    "print('The result of C_CH3CH = {:.2f}'.format(C_CH3CH))"
   ]
  },
  {
   "cell_type": "markdown",
   "metadata": {},
   "source": [
    "<div style=\"text-align: center; font-size: 12px; color: gray; margin-top: 40px;\">\n",
    "  Este notebook foi desenvolvido no âmbito do Grupo de Pesquisas em Modelagem Computacional da UESC.<br>\n",
    "  Todos os direitos reservados © 2025\n",
    "</div>"
   ]
  }
 ],
 "metadata": {
  "kernelspec": {
   "display_name": "base",
   "language": "python",
   "name": "python3"
  },
  "language_info": {
   "codemirror_mode": {
    "name": "ipython",
    "version": 3
   },
   "file_extension": ".py",
   "mimetype": "text/x-python",
   "name": "python",
   "nbconvert_exporter": "python",
   "pygments_lexer": "ipython3",
   "version": "3.11.7"
  }
 },
 "nbformat": 4,
 "nbformat_minor": 2
}
