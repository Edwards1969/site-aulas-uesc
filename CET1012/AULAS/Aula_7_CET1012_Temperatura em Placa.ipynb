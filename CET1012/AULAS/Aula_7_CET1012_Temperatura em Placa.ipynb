{
 "cells": [
  {
   "cell_type": "markdown",
   "metadata": {},
   "source": [
    "<div style=\"text-align: center;\">\n",
    "\n",
    "  <!-- Logotipo -->\n",
    "  <img src=\"img/LogoUesc.png\" alt=\"UESC\" style=\"width: 60px; display: block; margin: 0 auto 5px auto;\">\n",
    "\n",
    "  <!-- Cabeçalho -->\n",
    "  <div style=\"font-size: 20px;\"><strong>UNIVERSIDADE ESTADUAL DE SANTA CRUZ - UESC</strong></div>\n",
    "  <div style=\"font-size: 18px;\">DEPARTAMENTO DE ENGENHARIAS E COMPUTAÇÃO</div>\n",
    "  <div style=\"font-size: 18px;\">ENGENHARIA QUÍMICA</div>\n",
    "\n",
    "  <hr style=\"margin: 20px 0; border: 1px solid #0074B7;\">\n",
    "\n",
    "  <!-- Título do Trabalho -->\n",
    "  <div style=\"font-size: 22px; font-weight: bold; margin-bottom: 10px;\">Modelagem, Simulação e Otimização de Processos Químicos</div>\n",
    "  <div style=\"font-size: 20px; font-weight: bold; margin-bottom: 10px;\"> Resolução de Transferência de Calor em Placas - Matrizes 4x4</div>\n",
    "\n",
    "  <!-- Autor e orientador -->\n",
    "  <div style=\"font-size: 18px;\">Prof. Dr. E.R.Edwards</div>\n",
    "\n",
    "<hr style=\"margin: 20px 0; border: 1px solid #0074B7;\">\n",
    "  <!-- Data -->\n",
    "<!-- <div style=\"font-size: 16px; margin-top: 15px;\">Ilhéus - BA, Abril de 2025</div> -->\n",
    "</div>"
   ]
  },
  {
   "cell_type": "markdown",
   "metadata": {},
   "source": [
    "**Exercício**\n",
    "Considere uma placa retangular com alguma fonte de calor em cada borda. Para determinar o equilíbrio na placa, podemos assumir que se ela estiver em equilíbrio a temperatura será dada pela média das temperaturas dos quatro pontos da grade mais próxima de $T_{ij}$. Isso cria um sistema linear para $T_{ij}$, que pode ser resolvida aplicando métodos de resolução matricial. Para uma grade quadrada a resolução é feita pela **Equação de Diferenças de Laplace** aplicando a expressão abaixo:\n",
    "\n",
    "$$ T_{ij}=\\frac{T_{i+1,j} + T_{i-1,j} + T_{i,j+1}  + T_{i,j-1}}{4}  ...Eq(1)$$"
   ]
  },
  {
   "cell_type": "code",
   "execution_count": 1,
   "metadata": {},
   "outputs": [
    {
     "ename": "FileNotFoundError",
     "evalue": "[Errno 2] No such file or directory: 'Placa.png'",
     "output_type": "error",
     "traceback": [
      "\u001b[1;31m---------------------------------------------------------------------------\u001b[0m",
      "\u001b[1;31mFileNotFoundError\u001b[0m                         Traceback (most recent call last)",
      "Cell \u001b[1;32mIn[1], line 4\u001b[0m\n\u001b[0;32m      1\u001b[0m \u001b[38;5;66;03m#pip install ipython -> Já deve estar instalado.\u001b[39;00m\n\u001b[0;32m      2\u001b[0m \u001b[38;5;28;01mfrom\u001b[39;00m \u001b[38;5;21;01mIPython\u001b[39;00m\u001b[38;5;21;01m.\u001b[39;00m\u001b[38;5;21;01mdisplay\u001b[39;00m \u001b[38;5;28;01mimport\u001b[39;00m Image, display\n\u001b[1;32m----> 4\u001b[0m display(Image(filename\u001b[38;5;241m=\u001b[39m\u001b[38;5;124m'\u001b[39m\u001b[38;5;124mPlaca.png\u001b[39m\u001b[38;5;124m'\u001b[39m, width\u001b[38;5;241m=\u001b[39m\u001b[38;5;241m400\u001b[39m))\n",
      "File \u001b[1;32mc:\\ProgramData\\anaconda3\\Lib\\site-packages\\IPython\\core\\display.py:970\u001b[0m, in \u001b[0;36mImage.__init__\u001b[1;34m(self, data, url, filename, format, embed, width, height, retina, unconfined, metadata, alt)\u001b[0m\n\u001b[0;32m    968\u001b[0m \u001b[38;5;28mself\u001b[39m\u001b[38;5;241m.\u001b[39munconfined \u001b[38;5;241m=\u001b[39m unconfined\n\u001b[0;32m    969\u001b[0m \u001b[38;5;28mself\u001b[39m\u001b[38;5;241m.\u001b[39malt \u001b[38;5;241m=\u001b[39m alt\n\u001b[1;32m--> 970\u001b[0m \u001b[38;5;28msuper\u001b[39m(Image, \u001b[38;5;28mself\u001b[39m)\u001b[38;5;241m.\u001b[39m\u001b[38;5;21m__init__\u001b[39m(data\u001b[38;5;241m=\u001b[39mdata, url\u001b[38;5;241m=\u001b[39murl, filename\u001b[38;5;241m=\u001b[39mfilename,\n\u001b[0;32m    971\u001b[0m         metadata\u001b[38;5;241m=\u001b[39mmetadata)\n\u001b[0;32m    973\u001b[0m \u001b[38;5;28;01mif\u001b[39;00m \u001b[38;5;28mself\u001b[39m\u001b[38;5;241m.\u001b[39mwidth \u001b[38;5;129;01mis\u001b[39;00m \u001b[38;5;28;01mNone\u001b[39;00m \u001b[38;5;129;01mand\u001b[39;00m \u001b[38;5;28mself\u001b[39m\u001b[38;5;241m.\u001b[39mmetadata\u001b[38;5;241m.\u001b[39mget(\u001b[38;5;124m'\u001b[39m\u001b[38;5;124mwidth\u001b[39m\u001b[38;5;124m'\u001b[39m, {}):\n\u001b[0;32m    974\u001b[0m     \u001b[38;5;28mself\u001b[39m\u001b[38;5;241m.\u001b[39mwidth \u001b[38;5;241m=\u001b[39m metadata[\u001b[38;5;124m'\u001b[39m\u001b[38;5;124mwidth\u001b[39m\u001b[38;5;124m'\u001b[39m]\n",
      "File \u001b[1;32mc:\\ProgramData\\anaconda3\\Lib\\site-packages\\IPython\\core\\display.py:327\u001b[0m, in \u001b[0;36mDisplayObject.__init__\u001b[1;34m(self, data, url, filename, metadata)\u001b[0m\n\u001b[0;32m    324\u001b[0m \u001b[38;5;28;01melif\u001b[39;00m \u001b[38;5;28mself\u001b[39m\u001b[38;5;241m.\u001b[39mmetadata \u001b[38;5;129;01mis\u001b[39;00m \u001b[38;5;28;01mNone\u001b[39;00m:\n\u001b[0;32m    325\u001b[0m     \u001b[38;5;28mself\u001b[39m\u001b[38;5;241m.\u001b[39mmetadata \u001b[38;5;241m=\u001b[39m {}\n\u001b[1;32m--> 327\u001b[0m \u001b[38;5;28mself\u001b[39m\u001b[38;5;241m.\u001b[39mreload()\n\u001b[0;32m    328\u001b[0m \u001b[38;5;28mself\u001b[39m\u001b[38;5;241m.\u001b[39m_check_data()\n",
      "File \u001b[1;32mc:\\ProgramData\\anaconda3\\Lib\\site-packages\\IPython\\core\\display.py:1005\u001b[0m, in \u001b[0;36mImage.reload\u001b[1;34m(self)\u001b[0m\n\u001b[0;32m   1003\u001b[0m \u001b[38;5;250m\u001b[39m\u001b[38;5;124;03m\"\"\"Reload the raw data from file or URL.\"\"\"\u001b[39;00m\n\u001b[0;32m   1004\u001b[0m \u001b[38;5;28;01mif\u001b[39;00m \u001b[38;5;28mself\u001b[39m\u001b[38;5;241m.\u001b[39membed:\n\u001b[1;32m-> 1005\u001b[0m     \u001b[38;5;28msuper\u001b[39m(Image,\u001b[38;5;28mself\u001b[39m)\u001b[38;5;241m.\u001b[39mreload()\n\u001b[0;32m   1006\u001b[0m     \u001b[38;5;28;01mif\u001b[39;00m \u001b[38;5;28mself\u001b[39m\u001b[38;5;241m.\u001b[39mretina:\n\u001b[0;32m   1007\u001b[0m         \u001b[38;5;28mself\u001b[39m\u001b[38;5;241m.\u001b[39m_retina_shape()\n",
      "File \u001b[1;32mc:\\ProgramData\\anaconda3\\Lib\\site-packages\\IPython\\core\\display.py:353\u001b[0m, in \u001b[0;36mDisplayObject.reload\u001b[1;34m(self)\u001b[0m\n\u001b[0;32m    351\u001b[0m \u001b[38;5;28;01mif\u001b[39;00m \u001b[38;5;28mself\u001b[39m\u001b[38;5;241m.\u001b[39mfilename \u001b[38;5;129;01mis\u001b[39;00m \u001b[38;5;129;01mnot\u001b[39;00m \u001b[38;5;28;01mNone\u001b[39;00m:\n\u001b[0;32m    352\u001b[0m     encoding \u001b[38;5;241m=\u001b[39m \u001b[38;5;28;01mNone\u001b[39;00m \u001b[38;5;28;01mif\u001b[39;00m \u001b[38;5;124m\"\u001b[39m\u001b[38;5;124mb\u001b[39m\u001b[38;5;124m\"\u001b[39m \u001b[38;5;129;01min\u001b[39;00m \u001b[38;5;28mself\u001b[39m\u001b[38;5;241m.\u001b[39m_read_flags \u001b[38;5;28;01melse\u001b[39;00m \u001b[38;5;124m\"\u001b[39m\u001b[38;5;124mutf-8\u001b[39m\u001b[38;5;124m\"\u001b[39m\n\u001b[1;32m--> 353\u001b[0m     \u001b[38;5;28;01mwith\u001b[39;00m \u001b[38;5;28mopen\u001b[39m(\u001b[38;5;28mself\u001b[39m\u001b[38;5;241m.\u001b[39mfilename, \u001b[38;5;28mself\u001b[39m\u001b[38;5;241m.\u001b[39m_read_flags, encoding\u001b[38;5;241m=\u001b[39mencoding) \u001b[38;5;28;01mas\u001b[39;00m f:\n\u001b[0;32m    354\u001b[0m         \u001b[38;5;28mself\u001b[39m\u001b[38;5;241m.\u001b[39mdata \u001b[38;5;241m=\u001b[39m f\u001b[38;5;241m.\u001b[39mread()\n\u001b[0;32m    355\u001b[0m \u001b[38;5;28;01melif\u001b[39;00m \u001b[38;5;28mself\u001b[39m\u001b[38;5;241m.\u001b[39murl \u001b[38;5;129;01mis\u001b[39;00m \u001b[38;5;129;01mnot\u001b[39;00m \u001b[38;5;28;01mNone\u001b[39;00m:\n\u001b[0;32m    356\u001b[0m     \u001b[38;5;66;03m# Deferred import\u001b[39;00m\n",
      "\u001b[1;31mFileNotFoundError\u001b[0m: [Errno 2] No such file or directory: 'Placa.png'"
     ]
    }
   ],
   "source": [
    "#pip install ipython -> Já deve estar instalado.\n",
    "from IPython.display import Image, display\n",
    "\n",
    "display(Image(filename='Placa.png', width=400))"
   ]
  },
  {
   "cell_type": "markdown",
   "metadata": {},
   "source": [
    "#### Resolução:\n",
    "\n",
    "Vamos chamar $T_{11}=x_1$, $T_{12}=x_2$, $T_{21}=x_3$ e $T_{22}=x_4$. Então aplicando a Eq(1), teremos:\n",
    "\n",
    "No ponto $T_{11}$:\n",
    "$$  x_1 = \\frac{20 + 50 + x_2 + x_3}{4} $$\n",
    "\n",
    "No ponto $T_{12}$:\n",
    "$$  x_2 = \\frac{20 + 50 + x_1 + x_4}{4} $$\n",
    "\n",
    "No ponto $T_{21}$:\n",
    "$$  x_3 = \\frac{20 + 20 + x_1 + x_4}{4} $$\n",
    "\n",
    "No ponto $T_{22}$:\n",
    "$$  x_4 = \\frac{20 + 20 + x_2 + x_3  }{4} $$"
   ]
  },
  {
   "cell_type": "markdown",
   "metadata": {},
   "source": [
    "#### Vamos rearranjar as equações\n",
    "\n",
    "$$ 4x_1 - x_2 - x_3  - 0 x_4 = 70 $$\n",
    "$$- x_1 + 4x_2 - 0 x_3 - x_4 = 70 $$\n",
    "$$- x_1 - 0 x_2 + 4x_3  - x_4 = 40 $$\n",
    "$$0 x_1 - x_2 - x_3 + 4x_4  = 40 $$\n",
    "\n",
    "Observe que temos 4 equações e 4 incógnitas formando uma matriz $4x4$ que pode ser resolvida por $A.x=b$ sendo:\n",
    "\n",
    "\\begin{equation}\n",
    "\t\\begin{bmatrix}\n",
    "\t\t4 & -1  & -1 & 0 \\\\\n",
    "\t\t-1 & 4  & 0 & -1 \\\\\n",
    "\t\t-1 & 4  & 0 & -1 \\\\\n",
    "\t\t0 & -1  & -1 & 4 \\nonumber \\\\ \n",
    "\t\\end{bmatrix} \n",
    "    .\n",
    "    \\begin{bmatrix}\n",
    "\t\tx_1 \\\\\n",
    "\t\tx_2 \\\\\n",
    "\t\tx_3 \\\\\n",
    "\t\tx_4 \\nonumber \\\\ \n",
    "\t\\end{bmatrix}\n",
    "    =\n",
    "    \\begin{bmatrix}\n",
    "\t\t70 \\\\\n",
    "\t\t70 \\\\\n",
    "\t\t40 \\\\\n",
    "\t\t40 \\nonumber \\\\ \n",
    "\t\\end{bmatrix}\n",
    "\\end{equation}\n",
    "\n",
    "Temos que determinar as temperaturas nos pontos $x_1$, $x_2$, $x_3$, $x_4$."
   ]
  },
  {
   "cell_type": "markdown",
   "metadata": {},
   "source": [
    "#### Preparando os dados para os cálculos.\n",
    "\n",
    "\\begin{equation}\n",
    "\tA = \n",
    "\t\\begin{bmatrix}\n",
    "\t\ta_{11} & a_{12}  & a_{13} & a_{14} \\\\\n",
    "\t\ta_{21} & a_{22}  & a_{23} & a_{24} \\\\\n",
    "\t\ta_{31} & a_{32}  & a_{33} & a_{34} \\\\\n",
    "\t\ta_{41} & a_{42}  & a_{43} & a_{44} \\nonumber \\\\ \n",
    "\t\\end{bmatrix} \n",
    "    =\n",
    "    \\begin{bmatrix}\n",
    "\t\t4 & -1  & -1 & 0 \\\\\n",
    "\t\t-1 & 4  & 0 & -1 \\\\\n",
    "\t\t-1 & 0  & 4 & -1 \\\\\n",
    "\t\t0 & -1  & -1 & 4 \\nonumber \\\\ \n",
    "\t\\end{bmatrix}\n",
    "\\end{equation}\n",
    "\n",
    "**Passos para os cálculos**\n",
    "\n",
    "1 - Calcular a matriz cofator: $A_c = (-1)^{(i+j)} [a_{ij}]$  \n",
    "\n",
    "2 - Calcular a matriz Transposta $A^T$.\n",
    "\n",
    "3 - Cálcular o Determinante da matriz - D\n",
    "\n",
    "4 - Calcular a matriz inversa $A^{-1}$:$A^{-1} = \\frac{1}{det(A)}.A^T $\n",
    "\n",
    "5 - Calcular as incógnitas $x$ na expressão: $x = \\frac{b}{A} = A^{-1}b$ \n"
   ]
  },
  {
   "cell_type": "markdown",
   "metadata": {},
   "source": [
    "#### Cálculos"
   ]
  },
  {
   "cell_type": "code",
   "execution_count": null,
   "metadata": {},
   "outputs": [],
   "source": [
    "# Matriz A\n",
    "a11, a12, a13, a14 = 4, -1, -1, 0\n",
    "a21, a22, a23, a24 = -1, 4, 0, -1\n",
    "a31, a32, a33, a34 = -1, 0, 4, -1\n",
    "a41, a42, a43, a44 = 0, -1, -1, 4"
   ]
  },
  {
   "cell_type": "markdown",
   "metadata": {},
   "source": [
    "1 - Calculo da matriz cofator: $A_c = (-1)^{(i+j)} [a_{ij}]$ "
   ]
  },
  {
   "cell_type": "code",
   "execution_count": null,
   "metadata": {},
   "outputs": [
    {
     "data": {
      "text/plain": [
       "56"
      ]
     },
     "execution_count": 43,
     "metadata": {},
     "output_type": "execute_result"
    }
   ],
   "source": [
    "# Cálculo para a11\n",
    "# Indices de linhas e colunas a11\n",
    "i = 1\n",
    "j = 1\n",
    "matriz11 = a22*((a33*a44)-(a34*a43))-a23*((a32*a44)-(a34*a42))+a24*((a32*a43)-(a33*a42))\n",
    "\n",
    "c11 = (-1)**(i+j)*matriz11\n",
    "matriz11"
   ]
  },
  {
   "cell_type": "code",
   "execution_count": null,
   "metadata": {},
   "outputs": [
    {
     "data": {
      "text/plain": [
       "16"
      ]
     },
     "execution_count": 44,
     "metadata": {},
     "output_type": "execute_result"
    }
   ],
   "source": [
    "# Cálculo para a12\n",
    "# Indices de linhas e colunas a12\n",
    "i = 1\n",
    "j = 2\n",
    "matriz12 = a21*((a33*a44)-(a34*a43))-a23*((a31*a44)-(a34*a41))+a24*((a31*a43)-(a33*a41))\n",
    "c12 = (-1)**(i+j)*matriz12\n",
    "c12"
   ]
  },
  {
   "cell_type": "code",
   "execution_count": null,
   "metadata": {},
   "outputs": [
    {
     "data": {
      "text/plain": [
       "16"
      ]
     },
     "execution_count": 45,
     "metadata": {},
     "output_type": "execute_result"
    }
   ],
   "source": [
    "# Cálculo para a13\n",
    "# Indices de linhas e colunas a13\n",
    "i = 1\n",
    "j = 3\n",
    "matriz13 = a21*((a32*a44)-(a42*a34))-a31*((a22*a44)-(a42*a24))+a41*((a22*a34)-(a32*a24))\n",
    "c13 = (-1)**(i+j)*matriz13\n",
    "c13"
   ]
  },
  {
   "cell_type": "code",
   "execution_count": null,
   "metadata": {},
   "outputs": [
    {
     "data": {
      "text/plain": [
       "8"
      ]
     },
     "execution_count": 46,
     "metadata": {},
     "output_type": "execute_result"
    }
   ],
   "source": [
    "# Cálculo para a14\n",
    "# Indices de linhas e colunas a14.\n",
    "i = 1\n",
    "j = 4\n",
    "\n",
    "matriz14 = a21*((a32*a43)-(a33*a42))-a22*((a31*a43)-(a33*a41))+a23*((a31*a42)-(a32*a41))\n",
    "c14 = (-1)**(i+j)*matriz14\n",
    "c14"
   ]
  },
  {
   "cell_type": "code",
   "execution_count": null,
   "metadata": {},
   "outputs": [
    {
     "data": {
      "text/plain": [
       "16"
      ]
     },
     "execution_count": 47,
     "metadata": {},
     "output_type": "execute_result"
    }
   ],
   "source": [
    "# Cálculo para a21.\n",
    "# Indices de linhas e colunas a21\n",
    "i = 2\n",
    "j = 1\n",
    "\n",
    "matriz21 = a12*((a33*a44)-(a34*a43))-a13*((a32*a44)-(a34*a42))+a14*((a32*a43)-(a33*a42))\n",
    "c21 = (-1)**(i+j)*matriz21\n",
    "c21"
   ]
  },
  {
   "cell_type": "code",
   "execution_count": null,
   "metadata": {},
   "outputs": [
    {
     "data": {
      "text/plain": [
       "56"
      ]
     },
     "execution_count": 48,
     "metadata": {},
     "output_type": "execute_result"
    }
   ],
   "source": [
    "# Cálculo para a22\n",
    "# Indices de linhas e colunas a22\n",
    "i = 2\n",
    "j = 2\n",
    "\n",
    "matriz22 = a11*((a33*a44)-(a34*a43))-a13*((a31*a44)-(a34*a41))+a14*((a31*a43)-(a33*a41))\n",
    "c22 = (-1)**(i+j)*matriz22\n",
    "c22"
   ]
  },
  {
   "cell_type": "code",
   "execution_count": null,
   "metadata": {},
   "outputs": [
    {
     "data": {
      "text/plain": [
       "8"
      ]
     },
     "execution_count": 49,
     "metadata": {},
     "output_type": "execute_result"
    }
   ],
   "source": [
    "# Cálculo para a23.\n",
    "# Indices de linhas e colunas a23.\n",
    "i = 2\n",
    "j = 3\n",
    "\n",
    "matriz23 = a11*((a32*a44)-(a34*a42))-a12*((a31*a44)-(a34*a41))+ a14*((a31*a42)-(a32*a41))\n",
    "c23 = (-1)**(i+j)*matriz23\n",
    "c23"
   ]
  },
  {
   "cell_type": "code",
   "execution_count": null,
   "metadata": {},
   "outputs": [
    {
     "data": {
      "text/plain": [
       "16"
      ]
     },
     "execution_count": 50,
     "metadata": {},
     "output_type": "execute_result"
    }
   ],
   "source": [
    "# Cálculo para a24\n",
    "# Indices de linhas e colunas a24\n",
    "i = 2\n",
    "j = 4\n",
    "\n",
    "matriz24 = a11*((a32*a43)-(a33*a42))-a12*((a31*a43)-(a33*a41))+a13*((a31*a42)-(a32*a41))\n",
    "c24 = (-1)**(i+j)*matriz24\n",
    "c24"
   ]
  },
  {
   "cell_type": "code",
   "execution_count": null,
   "metadata": {},
   "outputs": [
    {
     "data": {
      "text/plain": [
       "16"
      ]
     },
     "execution_count": 51,
     "metadata": {},
     "output_type": "execute_result"
    }
   ],
   "source": [
    "# Cálculo para a31\n",
    "# Indices de linhas e colunas a31\n",
    "i = 3\n",
    "j = 1\n",
    "\n",
    "matriz31 = a12*((a23*a44)-(a24*a43))-a13*((a22*a44)-(a24*a42))+a14*((a22*a43)-(a23*a42))\n",
    "c31 = (-1)**(i+j)*matriz31\n",
    "c31"
   ]
  },
  {
   "cell_type": "code",
   "execution_count": null,
   "metadata": {},
   "outputs": [
    {
     "data": {
      "text/plain": [
       "8"
      ]
     },
     "execution_count": 52,
     "metadata": {},
     "output_type": "execute_result"
    }
   ],
   "source": [
    "# Cálculo para a32\n",
    "# Indices de linhas e colunas a32\n",
    "i = 3\n",
    "j = 2\n",
    "\n",
    "matriz32 = a11*((a23*a44)-(a24*a43))-a13*((a21*a44)-(a24*a41))+a14*((a21*a43)-(a23*a41))\n",
    "c32 = (-1)**(i+j)*matriz32\n",
    "c32"
   ]
  },
  {
   "cell_type": "code",
   "execution_count": null,
   "metadata": {},
   "outputs": [
    {
     "data": {
      "text/plain": [
       "56"
      ]
     },
     "execution_count": 53,
     "metadata": {},
     "output_type": "execute_result"
    }
   ],
   "source": [
    "# Cálculo para a33\n",
    "# indice de linhas e colunas a33.\n",
    "i = 3\n",
    "j = 3\n",
    "\n",
    "matriz33 = a11*((a22*a44)-(a24*a42))-a12*((a21*a44)-(a24*a41))+a14*((a21*a42)-(a22*a41))\n",
    "c33 = (-1)**(i+j)*matriz33\n",
    "c33"
   ]
  },
  {
   "cell_type": "code",
   "execution_count": null,
   "metadata": {},
   "outputs": [
    {
     "data": {
      "text/plain": [
       "16"
      ]
     },
     "execution_count": 54,
     "metadata": {},
     "output_type": "execute_result"
    }
   ],
   "source": [
    "# Cálculo para a34\n",
    "# Indice de linhas e colunas a34.\n",
    "i = 3\n",
    "j = 4\n",
    "\n",
    "matriz34 = a11*((a22*a43)-(a23*a42))-a12*((a21*a43)-(a23*a41))+a13*((a21*a42)-(a22*a41))\n",
    "c34 = (-1)**(i+j)*matriz34\n",
    "c34"
   ]
  },
  {
   "cell_type": "code",
   "execution_count": null,
   "metadata": {},
   "outputs": [
    {
     "data": {
      "text/plain": [
       "8"
      ]
     },
     "execution_count": 55,
     "metadata": {},
     "output_type": "execute_result"
    }
   ],
   "source": [
    "# Cálculo para a41\n",
    "# Indice de linhas e colunas a41\n",
    "i = 4\n",
    "j = 1\n",
    "\n",
    "matriz41 = a12*((a23*a34)-(a24*a33))-a13*((a22*a34)-(a24*a32))+a14*((a22*a33)-(a23*a32))\n",
    "c41 = (-1)**(i+j)*matriz41\n",
    "c41"
   ]
  },
  {
   "cell_type": "code",
   "execution_count": null,
   "metadata": {},
   "outputs": [
    {
     "data": {
      "text/plain": [
       "16"
      ]
     },
     "execution_count": 56,
     "metadata": {},
     "output_type": "execute_result"
    }
   ],
   "source": [
    "# Cálculo para a41\n",
    "# Indice de linhas e colunas a42\n",
    "i = 4\n",
    "j = 2\n",
    "\n",
    "matriz42 = a11*((a23*a34)-(a24*a33))-a13*((a21*a34)-(a24*a31))+a14*((a21*a33)-(a23*a31))\n",
    "c42 = (-1)**(i+j)*matriz42\n",
    "c42"
   ]
  },
  {
   "cell_type": "code",
   "execution_count": null,
   "metadata": {},
   "outputs": [
    {
     "data": {
      "text/plain": [
       "16"
      ]
     },
     "execution_count": 57,
     "metadata": {},
     "output_type": "execute_result"
    }
   ],
   "source": [
    "# Cálculo para a43\n",
    "# Indice de linhas e colunas a43\n",
    "i = 4\n",
    "j = 3\n",
    "\n",
    "matriz43 = a11*((a22*a34)-(a24*a32))-a12*((a21*a34)-(a24*a31))+a14*((a21*a32)-(a22*a31))\n",
    "c43 = (-1)**(i+j)*matriz43\n",
    "c43"
   ]
  },
  {
   "cell_type": "code",
   "execution_count": null,
   "metadata": {},
   "outputs": [
    {
     "data": {
      "text/plain": [
       "56"
      ]
     },
     "execution_count": 58,
     "metadata": {},
     "output_type": "execute_result"
    }
   ],
   "source": [
    "# Cálculo para a44\n",
    "# Indice de linhas e colunas a44.\n",
    "i = 4\n",
    "j = 4\n",
    "\n",
    "matriz44 = a11*((a22*a33)-(a23*a32))-a12*((a21*a33)-(a23*a31))+a13*((a21*a32)-(a22*a31))\n",
    "c44 = (-1)**(i+j)*matriz44\n",
    "c44"
   ]
  },
  {
   "cell_type": "markdown",
   "metadata": {},
   "source": [
    "Agora vamos substituir os valores encontrados para cada cofator $c_{ij}$ na matriz $A$ para forma a matriz cofator $A_c$."
   ]
  },
  {
   "cell_type": "code",
   "execution_count": null,
   "metadata": {},
   "outputs": [
    {
     "data": {
      "text/plain": [
       "array([[56, 16, 16,  8],\n",
       "       [16, 56,  8, 16],\n",
       "       [16,  8, 56, 16],\n",
       "       [ 8, 16, 16, 56]])"
      ]
     },
     "execution_count": 59,
     "metadata": {},
     "output_type": "execute_result"
    }
   ],
   "source": [
    "import numpy as np\n",
    "\n",
    "Ac = np.array([[c11, c12, c13, c14],\n",
    "               [c21, c22, c23, c24],\n",
    "               [c31, c23, c33, c34],\n",
    "               [c41, c42, c43, c44]\n",
    "\n",
    "])\n",
    "Ac"
   ]
  },
  {
   "cell_type": "markdown",
   "metadata": {},
   "source": [
    "#### Cálculo da  Matriz transposta ($A^T$).\n",
    "\n",
    "Nós podemos cálcular a matriz transposta fazendo a linha da matriz se transforma em coluna conforme abaixo."
   ]
  },
  {
   "cell_type": "code",
   "execution_count": null,
   "metadata": {},
   "outputs": [
    {
     "data": {
      "text/plain": [
       "[[56, 16, 16, 8], [16, 56, 8, 16], [16, 8, 56, 16], [8, 16, 16, 56]]"
      ]
     },
     "execution_count": 60,
     "metadata": {},
     "output_type": "execute_result"
    }
   ],
   "source": [
    "Matriz_T = [[c11, c21, c31, c41],\n",
    "            [c12, c22, c32, c42],\n",
    "            [c13, c23, c33, c43],\n",
    "            [c14, c24, c34, c44]]\n",
    "Matriz_T"
   ]
  },
  {
   "cell_type": "markdown",
   "metadata": {},
   "source": [
    "Nós também podemos usar a biblioteca Numpy e resolver a transposta de uma matriz conforme mostrado abaixo."
   ]
  },
  {
   "cell_type": "code",
   "execution_count": null,
   "metadata": {},
   "outputs": [
    {
     "data": {
      "text/plain": [
       "array([[56, 16, 16,  8],\n",
       "       [16, 56,  8, 16],\n",
       "       [16,  8, 56, 16],\n",
       "       [ 8, 16, 16, 56]])"
      ]
     },
     "execution_count": 61,
     "metadata": {},
     "output_type": "execute_result"
    }
   ],
   "source": [
    "AT = np.transpose(Ac)\n",
    "AT"
   ]
  },
  {
   "cell_type": "markdown",
   "metadata": {},
   "source": [
    "Nós já temos a matriz Transposta $A^T$, agora precisamos calcular o Determinante de uma matriz $4x4$ e subistituir os resultados na Eq(2).\n",
    "\n",
    "Vamos repetir a matriz $A$ com os valores numéricos abaixo:\n",
    "\n",
    "\\begin{equation}\n",
    "\tA = \n",
    "\t\\begin{bmatrix}\n",
    "\t\ta_{11} & a_{12}  & a_{13} & a_{14} \\\\\n",
    "\t\ta_{21} & a_{22}  & a_{23} & a_{24} \\\\\n",
    "\t\ta_{31} & a_{32}  & a_{33} & a_{34} \\\\\n",
    "\t\ta_{41} & a_{42}  & a_{43} & a_{44} \\nonumber \\\\ \n",
    "\t\\end{bmatrix} \n",
    "    =\n",
    "    \\begin{bmatrix}\n",
    "\t\t4 & -1  & -1 & 0 \\\\\n",
    "\t\t-1 & 4  & 0 & -1 \\\\\n",
    "\t\t-1 & 0  & 4 & -1 \\\\\n",
    "\t\t0 & -1  & -1 & 4 \\nonumber \\\\ \n",
    "\t\\end{bmatrix}\n",
    "\\end{equation}\n",
    "\n",
    "O Determinante será encontrado fazendo:\n",
    "\n",
    "$$ D = \\sum a_{ij}A_{ij} $$\n",
    "\n",
    "Ele poderá ser encontrado a partir de uma linha ou coluna. Vamos escolher a que apresenta muitos zeros porque qualquer número multiplicado por zero é igual a zero. Dessa forma o cálculo ficará mais fácil. Então vamos escolher a primeira linha para fazer o cálculo do Determinante.\n",
    "\n",
    "$$ D = a_{11}A_{11} + a_{12}A_{12} + a_{13}A_{13} + a_{14}A_{14} $$\n",
    "\n",
    "$$ D = 4A_{11} -1A_{12} -1A_{13} + 0A_{14} $$\n",
    "\n",
    "Vamos usar a Eq(5) para calcular as matrizes $A_{ij}$ (repetido abaixo)\n",
    "\n",
    "$$ A_c = (-1)^{(i+j)} [a_{ij}] ... Eq(5)$$ \n",
    "\n",
    "Já foi calculado acima: $A_{11}=c_{11}$, $A_{12}=c_{12}$ e $A_{13}=c_{13}$.\n"
   ]
  },
  {
   "cell_type": "code",
   "execution_count": null,
   "metadata": {},
   "outputs": [
    {
     "data": {
      "text/plain": [
       "192"
      ]
     },
     "execution_count": 62,
     "metadata": {},
     "output_type": "execute_result"
    }
   ],
   "source": [
    "D = 4*c11 -1*c12 -1*c13 + 0*c14\n",
    "D"
   ]
  },
  {
   "cell_type": "markdown",
   "metadata": {},
   "source": [
    "Substituindo os valores na Equação (1) para determinar a matriz inversa, ($A^{-1}$), temos:"
   ]
  },
  {
   "cell_type": "code",
   "execution_count": null,
   "metadata": {},
   "outputs": [
    {
     "data": {
      "text/plain": [
       "array([[0.29166667, 0.08333333, 0.08333333, 0.04166667],\n",
       "       [0.08333333, 0.29166667, 0.04166667, 0.08333333],\n",
       "       [0.08333333, 0.04166667, 0.29166667, 0.08333333],\n",
       "       [0.04166667, 0.08333333, 0.08333333, 0.29166667]])"
      ]
     },
     "execution_count": 63,
     "metadata": {},
     "output_type": "execute_result"
    }
   ],
   "source": [
    "A_inv = (1/D)*AT\n",
    "A_inv"
   ]
  },
  {
   "cell_type": "markdown",
   "metadata": {},
   "source": [
    "#### Cálculo das incógnitas $x$."
   ]
  },
  {
   "cell_type": "code",
   "execution_count": null,
   "metadata": {},
   "outputs": [],
   "source": [
    "import numpy as np"
   ]
  },
  {
   "cell_type": "code",
   "execution_count": null,
   "metadata": {},
   "outputs": [
    {
     "data": {
      "text/plain": [
       "array([70, 70, 40, 40])"
      ]
     },
     "execution_count": 65,
     "metadata": {},
     "output_type": "execute_result"
    }
   ],
   "source": [
    "b = np.array([70, 70, 40, 40])\n",
    "b"
   ]
  },
  {
   "cell_type": "code",
   "execution_count": null,
   "metadata": {},
   "outputs": [],
   "source": [
    "# Cálculo de x=A^-1.b usando método algébrico.\n",
    "# Extraindo os valores de b\n",
    "b1=b[0]\n",
    "b2=b[1]\n",
    "b3=b[2]\n",
    "b4=b[3]"
   ]
  },
  {
   "cell_type": "code",
   "execution_count": null,
   "metadata": {},
   "outputs": [
    {
     "name": "stdout",
     "output_type": "stream",
     "text": [
      "O valor de T11 = 31.25 C\n",
      "O valor de T12 = 31.25 C\n",
      "O valor de T13 = 23.75 C\n",
      "O valor de T14 = 23.75 C\n"
     ]
    }
   ],
   "source": [
    "# Cálculo de x.\n",
    "\n",
    "x1 = A_inv[0][0]*b1 + A_inv[0][1]*b2 + A_inv[0][2]*b3 + A_inv[0][3]*b4\n",
    "T11 = print('O valor de T11 = {:.2f}'.format(x1), 'C') \n",
    "\n",
    "x2 = A_inv[1][0]*b1 + A_inv[1][1]*b2 + A_inv[1][2]*b3 + A_inv[1][3]*b4\n",
    "T12 = print('O valor de T12 = {:.2f}'.format(x2), 'C') \n",
    "\n",
    "x3 = A_inv[2][0]*b1 + A_inv[2][1]*b2 + A_inv[2][2]*b3 + A_inv[2][3]*b4\n",
    "T13 = print('O valor de T13 = {:.2f}'.format(x3), 'C')\n",
    "\n",
    "x4 = A_inv[3][0]*b1 + A_inv[3][1]*b2 + A_inv[3][2]*b3 + A_inv[3][3]*b4\n",
    "T14 = print('O valor de T14 = {:.2f}'.format(x4), 'C')"
   ]
  },
  {
   "cell_type": "markdown",
   "metadata": {},
   "source": [
    "#### Agora vamos fazer o mesmo cálculo usando a biblioteca Numpy.\n",
    "\n",
    "Dentro da biblioteca Numpy possui a **Algebra Linear** (*linalg*) que possui todos esses códigos, o que possibilita a resolução com poucas linhas de código."
   ]
  },
  {
   "cell_type": "code",
   "execution_count": null,
   "metadata": {},
   "outputs": [
    {
     "data": {
      "text/plain": [
       "array([[0.29166667, 0.08333333, 0.08333333, 0.04166667],\n",
       "       [0.08333333, 0.29166667, 0.04166667, 0.08333333],\n",
       "       [0.08333333, 0.04166667, 0.29166667, 0.08333333],\n",
       "       [0.04166667, 0.08333333, 0.08333333, 0.29166667]])"
      ]
     },
     "execution_count": 68,
     "metadata": {},
     "output_type": "execute_result"
    }
   ],
   "source": [
    "import numpy as np\n",
    "import numpy.linalg as nl\n",
    "\n",
    "# Vamos criar a matriz A\n",
    "A = np.array([[4, -1, -1, 0],\n",
    "              [-1, 4, 0, -1],\n",
    "              [-1, 0, 4, -1],\n",
    "              [0, -1, -1, 4]\n",
    "              ])\n",
    "\n",
    "inversa_A = np.linalg.inv(A)\n",
    "\n",
    "# Vamos criar a matriz do lado direito - b\n",
    "b = np.array([70, 70, 40, 40])\n",
    "\n",
    "# Agora vamos resolver o sistema linear usando np.solve()\n",
    "x = nl.solve(A, b)\n",
    "# Também poderiamos ter usado o código abaixo.\n",
    "# x = np.dot(A_inv, b) \n",
    "\n",
    "# Extraindo os valores de x da lista:\n",
    "T_11 = x[0]\n",
    "T_12 = x[1]\n",
    "T_13 = x[2]\n",
    "T_14 = x[3]\n",
    "\n",
    "inversa_A"
   ]
  },
  {
   "cell_type": "code",
   "execution_count": null,
   "metadata": {},
   "outputs": [
    {
     "name": "stdout",
     "output_type": "stream",
     "text": [
      "O valor de T11 =  31.25 C\n",
      "O valor de T12 =  31.25 C\n",
      "O valor de T13 =  23.75 C\n",
      "O valor de T14 =  23.75 C\n"
     ]
    }
   ],
   "source": [
    "print('O valor de T11 = ', T_11, 'C')\n",
    "print('O valor de T12 = ', T_12, 'C')\n",
    "print('O valor de T13 = ', T_13, 'C')\n",
    "print('O valor de T14 = ', T_14, 'C')"
   ]
  },
  {
   "cell_type": "markdown",
   "metadata": {},
   "source": [
    "<div style=\"text-align: center; font-size: 12px; color: gray; margin-top: 40px;\">\n",
    "  Este notebook foi desenvolvido no âmbito do Grupo de Pesquisas em Modelagem Computacional da UESC.<br>\n",
    "  Todos os direitos reservados © 2025\n",
    "</div>"
   ]
  }
 ],
 "metadata": {
  "kernelspec": {
   "display_name": "base",
   "language": "python",
   "name": "python3"
  },
  "language_info": {
   "codemirror_mode": {
    "name": "ipython",
    "version": 3
   },
   "file_extension": ".py",
   "mimetype": "text/x-python",
   "name": "python",
   "nbconvert_exporter": "python",
   "pygments_lexer": "ipython3",
   "version": "3.11.7"
  }
 },
 "nbformat": 4,
 "nbformat_minor": 4
}
