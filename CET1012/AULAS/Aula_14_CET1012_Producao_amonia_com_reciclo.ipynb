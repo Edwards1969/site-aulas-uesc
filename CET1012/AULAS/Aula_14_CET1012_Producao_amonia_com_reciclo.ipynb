{
 "cells": [
  {
   "cell_type": "markdown",
   "id": "0f7c326b",
   "metadata": {},
   "source": [
    "<div style=\"text-align: center;\">\n",
    "\n",
    "  <!-- Logotipo -->\n",
    "  <img src=\"img/LogoUesc.png\" alt=\"UESC\" style=\"width: 60px; display: block; margin: 0 auto 5px auto;\">\n",
    "\n",
    "  <!-- Cabeçalho -->\n",
    "  <div style=\"font-size: 20px;\"><strong>UNIVERSIDADE ESTADUAL DE SANTA CRUZ - UESC</strong></div>\n",
    "  <div style=\"font-size: 18px;\">DEPARTAMENTO DE ENGENHARIAS E COMPUTAÇÃO</div>\n",
    "  <div style=\"font-size: 18px;\">ENGENHARIA QUÍMICA</div>\n",
    "\n",
    "  <hr style=\"margin: 20px 0; border: 1px solid #0074B7;\">\n",
    "\n",
    "  <!-- Título do Trabalho -->\n",
    "  <div style=\"font-size: 22px; font-weight: bold; margin-bottom: 10px;\">Modelagem, Simulação e Otimização de Processos Químicos</div>\n",
    "  <div style=\"font-size: 20px; font-weight: bold; margin-bottom: 10px;\">Processo de Produção de Amônia com Reciclo e Purga</div>\n",
    "\n",
    "  <!-- Autor e orientador -->\n",
    "  <div style=\"font-size: 18px;\">Prof. Dr. E.R.Edwards</div>\n",
    "\n",
    "<hr style=\"margin: 20px 0; border: 1px solid #0074B7;\">\n",
    "  <!-- Data -->\n",
    "<!-- <div style=\"font-size: 16px; margin-top: 15px;\">Ilhéus - BA, Abril de 2025</div> -->\n",
    "</div>"
   ]
  },
  {
   "cell_type": "markdown",
   "id": "f7f51506",
   "metadata": {},
   "source": [
    "<div style=\"background-color: #e6f2ff; border-left: 6px solid #0074B7; padding: 10px; font-size: 16px;\">\n",
    "  <strong>Processo de Produção de Amônia com Reciclo e Purga.</strong> \n",
    "</div>"
   ]
  },
  {
   "cell_type": "markdown",
   "id": "9e3caec8",
   "metadata": {},
   "source": [
    "Uma planta química de produção de amônia opera segundo o processo de Haber-Bosch, cuja reação é:\n",
    "\n",
    "$$N_2 + 3H_2 \\rightarrow 2NH_3$$\n",
    "\n",
    "A planta possui:\n",
    "\n",
    "- um reator de síntese;\n",
    "- um separador de amônia;\n",
    "- uma corrente de reciclo e uma corrente de purga.\n",
    "\n",
    "A figura abaixo mostra um desenho esquemático desse processo."
   ]
  },
  {
   "cell_type": "markdown",
   "id": "40093a2e",
   "metadata": {},
   "source": [
    "<img src=\"img/diagrama_processo_Haber_Bosch.png\" alt=\"UESC\" style=\"width: 450px; display: block; margin: 0 auto 5px auto;\">\n",
    "<p style=\"text-align: center;\"><strong>Figura: Esquema de produção de amônia com reciclo.</strong></p>"
   ]
  },
  {
   "cell_type": "markdown",
   "id": "0c0e1324",
   "metadata": {},
   "source": [
    "Dados operacionais:\n",
    "\n",
    "- A corrente de alimentação fresca (F) tem a seguinte composição molar:\n",
    "    - $ 75 \\% $  de $N_2$ e $25 \\% $ de $H_2$ (razão estequiométrica próxima mas não perfeita).\n",
    "    \n",
    "- A reação tem uma conversão de $60 \\%$ do hidrogênio por passe.\n",
    "\n",
    "- Após o reator, a corrente segue para um separador:\n",
    "    - $100 \\%$ da amônia é removida.\n",
    "\n",
    "- O restante (gás não reagido, contendo apenas $N_2$ e $H_2$) é dividido em:\n",
    "    - $80 \\%$ para o reciclo;\n",
    "    - $20 \\%$ para a purga (controle de inertes e acúmulo)."
   ]
  },
  {
   "cell_type": "markdown",
   "id": "43dccba4",
   "metadata": {},
   "source": [
    "__Objetivo__:\n",
    "\n",
    "Determinar as vazões molares das seguintes correntes:"
   ]
  },
  {
   "cell_type": "markdown",
   "id": "92f8f04c",
   "metadata": {},
   "source": [
    "<img src=\"img/Tabela_purga.png\" alt=\"UESC\" style=\"width: 600px; display: block; margin: 0 auto 5px auto;\">\n",
    "<p style=\"text-align: center;\"><strong>Tabela: Dados de purga no reciclo da Amônia.</strong></p>"
   ]
  },
  {
   "cell_type": "markdown",
   "id": "9d55dc41",
   "metadata": {},
   "source": [
    "Hipóteses adicionais:\n",
    "\n",
    "- Operação em estado estaciónário.\n",
    "- A alimentação fresca é de $100  \\,\\ Kmol/h$ (para simplificar o cálculo).\n",
    "- Não há amônia na alimentação fresca, nem no reciclo, nem na purga.\n",
    "\n",
    "Montagem dos Balanços de Massa.\n",
    "\n",
    "- Fresca:\n",
    "    - $75 \\,\\ Kmol/h$ de $N_2$\n",
    "    - $25 \\,\\ Kmol/h$ de $N_2$\n",
    "\n",
    "- Reciclo:\n",
    "    -  $z_1$ de $N_2$\n",
    "    -  $z_2$ de $H_2$\n",
    "\n",
    "Balanço no Reator: \n",
    "\n",
    "- Reação:\n",
    "$$ N_2 + 3H_2 \\rightarrow 2NH_3 $$\n",
    "\n",
    "- Reagentes totais no reator:\n",
    "    - $N_2$: 75 + $z_1$\n",
    "    - $H_2$: 25 + $z_2$\n",
    "\n",
    "- A conversão é limitada pelo hidrogênio:\n",
    "    -> Conversão de $60   %$ do $H_2$.\n",
    "\n",
    "- Quantidade de $H_2$   reagido:\n",
    "\n",
    "$$ \\frac{1}{3} \\times H_2  \\,\\ reagido =c0.2 \\times (25+z_2) $$"
   ]
  },
  {
   "cell_type": "markdown",
   "id": "5d927da5",
   "metadata": {},
   "source": [
    "Explicação de porque da expressão acima:\n",
    "\n",
    "- De onde vem o termo: $\\frac{1}{3} \\times H_2  \\,\\ reagido$?\n",
    "\n",
    "Isso vem da estequiometria da reação de produção de amônia:\n",
    "\n",
    "$$ N_2 + 3H_2 \\rightarrow 2NH_3 $$\n",
    "\n",
    "- Para cada 1 mol de $N_2$, são consumidos 3 mols de $H_2$.\n",
    "- Portanto, a reação é:\n",
    "\n",
    "$$\\frac{N_2 reagido}{H_2 reagido}=\\frac{1}{3}$$\n",
    "\n",
    "Assim, se você sabe quanto de $H_2$ reagiu, automaticamente o $N_2$ reagido é:\n",
    "\n",
    "$$N_2 reagido = \\frac{1}{3} \\times H_2  \\,\\ reagido$$\n",
    "\n",
    "Por que igualamos isso: $0.2  \\times (25+z_2)$ ?\n",
    "\n",
    "Aqui estamos fazendo um balanço de Nitrogênio na entrada do reator, considerando:\n",
    "\n",
    "- Corrente de alimentação fresca: 25 mols, com $8 \\%   \\rightarrow 0.8 \\times 25 = 20 \\ mols.$\n",
    "- Corrente de reciclo: $z_2$ mols, com $20 \\%$ de $N_2 \\rightarrow 0.2 \\times z_2 \\ mols.$\n",
    "\n",
    "A soma de nitrogênio na alimentação total do reator é:\n",
    "\n",
    "$$ 20 + 0.2 \\times z_2 = 0.2 \\times (25 + z_2) $$\n",
    "\n",
    "Esse termo representa a quantidade de Nitrogeênio que efetivametne reage, pois, no modelo que estamos construindo, estamos assumindo que o Nitrogênio da alimentação fresca mais o da reciclagem é consumida na proporção da reação.\n",
    "\n",
    "Agora vamos voltar aos cálculos:\n",
    "\n",
    "- Saída do reator após reação:\n",
    "    - $N_2$ restante:\n",
    "\n",
    "    $$ \n",
    "    (75-z_1) -0.2 \\times (25 + z_2) \n",
    "    $$\n",
    "\n",
    "- $H_2$ restante:\n",
    "\n",
    "$$\n",
    "(25+z_2) = 0.6 \\times (25+z_2) = 0.4 \\times (25 + z_2)\n",
    "$$\n",
    "\n",
    "- $NH_3$ formado:\n",
    "\n",
    "$$ \n",
    "2 \\times N_2 \\ reagido = 0.4 \\times (25+ z_2) \n",
    "$$ \n"
   ]
  },
  {
   "cell_type": "markdown",
   "id": "82d5cd73",
   "metadata": {},
   "source": [
    "Montagem das equações:\n",
    "\n",
    "1. Balanço de $N_2$ no reciclo:\n",
    "\n",
    "$$ z_1 = 0.8 \\times [(75+z_1) = 0.2 \\times (25+z_2)]  $$\n",
    "\n",
    "2. Balanço de $H_2$ no reciclo:\n",
    "\n",
    "$$ z_2 = 0.8 \\times 04 \\times (25+z2) $$\n",
    "\n",
    "3. Balanço de $NH_3$ no produto.\n",
    "\n",
    "$$ z_3 = 0.4 \\times (25+z_2)$$\n",
    "\n",
    "4. Balanço de $N_2$ na purga:\n",
    "\n",
    "$$ z_4 = 0.2 \\times [(75+z_1)-0.2 \\times(25+z_2)] $$\n",
    "\n",
    "\n",
    "5. Balanço de $H_2$ na purga:\n",
    "\n",
    "$$ z_5 = 0.2 \\times 0.4 \\times(25+z_2)  $$"
   ]
  },
  {
   "cell_type": "markdown",
   "id": "48f941e5",
   "metadata": {},
   "source": [
    "Montagem na forma matricial.\n",
    "\n",
    "$$ A \\times \\vec{x} = \\vec{b} $$\n",
    "\n",
    "Organizando as equações:\n",
    "\n",
    "- Colocamos as equações 1 e 2 na forma matricial (pois $z_3$, $z_4$ e $z_5$ são funções diretas de $z_2$ e $z_1$).\n",
    "\n",
    "-> As duas primeiras equações formam o sistem alinear dependente.\n",
    "\n",
    "Depois, as variáveis $z_3$, $z_4$ e $z_5$ são funções diretamente dependentes de $z_2$ e $z_1$, portanto o sistema final fica montado como uma matriz $2 \\times 2$  principal com mais 3 expressões auxiliares.\n",
    "\n",
    "Abaixo o Código Python Completo e Conferido."
   ]
  },
  {
   "cell_type": "code",
   "execution_count": 6,
   "id": "1e95dbe4",
   "metadata": {},
   "outputs": [
    {
     "name": "stdout",
     "output_type": "stream",
     "text": [
      "-----RESULTADOS-----\n",
      "N2 no reciclo (z1) = 289.4118 Kmol/h\n",
      "H2 no reciclo (z2) = 11.7647 Kmol/h\n",
      "H2 no reciclo (z3) = 14.7059 Kmol/h\n",
      "H2 no reciclo (z4) = 71.4118 Kmol/h\n"
     ]
    }
   ],
   "source": [
    "import numpy as np\n",
    "\n",
    "# Definindo a matriz A e o vetor b.\n",
    "A = np.array([\n",
    "    [1-0.8, -0.8*0.2], # Eq.1 - N2 no reciclo\n",
    "    [0, 1-0.8*0.4]    # Eq 2 - H2 no reciclo\n",
    "])\n",
    "\n",
    "b = np.array([0.8*(75-0.2*25), 0.8*0.4*25])\n",
    "\n",
    "# REsolvendo o sistema.\n",
    "sol = np.linalg.solve(A, b)\n",
    "\n",
    "z1 = sol[0] # N2 no reciclo\n",
    "z2 = sol[1] # H2 no reciclo\n",
    "\n",
    "# Calculando as outras correntes\n",
    "z3 = 0.4 * (25 + z2)   # NH3 produzido\n",
    "z4 = 0.2 * ((75 + z1) - 0.2 * (25 + z2))  # N2 na purga\n",
    "z5 = 0.2 * 0.4 * (25 + z2) \n",
    "\n",
    "# Imprimindo os resultados.\n",
    "print('-----RESULTADOS-----')\n",
    "print(f'N2 no reciclo (z1) = {z1:.4f} Kmol/h')\n",
    "print(f'H2 no reciclo (z2) = {z2:.4f} Kmol/h')\n",
    "print(f'H2 no reciclo (z3) = {z3:.4f} Kmol/h')\n",
    "print(f'H2 no reciclo (z4) = {z4:.4f} Kmol/h')"
   ]
  },
  {
   "cell_type": "code",
   "execution_count": 7,
   "id": "53e203d2",
   "metadata": {},
   "outputs": [
    {
     "name": "stdout",
     "output_type": "stream",
     "text": [
      "\n",
      "-----CHECAGEM DOS BALANÇOS-----\n",
      "Saída de N2 (esperado zero): -3.764706\n",
      "Saída de H2 (esperado zero): -0.000000\n"
     ]
    }
   ],
   "source": [
    "# Conferindo os balançcos.\n",
    "\n",
    "# Entrada\n",
    "entrada_N2 = 75 + z1\n",
    "entrada_H2 = 25 + z2\n",
    "\n",
    "# Reagidos\n",
    "N2_reagido = 0.2 * (25 + z2)\n",
    "H2_reagido = 0.6 * (25 + z2)\n",
    "\n",
    "# Saída\n",
    "saida_N2 = (entrada_N2 - N2_reagido) - (z1 + z4)\n",
    "saida_H2 = (entrada_H2 - H2_reagido) - (z2 + z5)\n",
    "\n",
    "# Imprimindo os resultados\n",
    "print('\\n-----CHECAGEM DOS BALANÇOS-----')\n",
    "print(f'Saída de N2 (esperado zero): {saida_N2:.6f}')\n",
    "print(f'Saída de H2 (esperado zero): {saida_H2:.6f}')"
   ]
  },
  {
   "cell_type": "markdown",
   "id": "8aee3241",
   "metadata": {},
   "source": [
    "<div style=\"text-align: center; font-size: 12px; color: gray; margin-top: 40px;\">\n",
    "  Este notebook foi desenvolvido no âmbito do Grupo de Pesquisas em Modelagem Computacional da UESC.<br>\n",
    "  Todos os direitos reservados © 2025\n",
    "</div>"
   ]
  }
 ],
 "metadata": {
  "kernelspec": {
   "display_name": "Python 3 (ipykernel)",
   "language": "python",
   "name": "python3"
  },
  "language_info": {
   "codemirror_mode": {
    "name": "ipython",
    "version": 3
   },
   "file_extension": ".py",
   "mimetype": "text/x-python",
   "name": "python",
   "nbconvert_exporter": "python",
   "pygments_lexer": "ipython3",
   "version": "3.11.7"
  }
 },
 "nbformat": 4,
 "nbformat_minor": 5
}
