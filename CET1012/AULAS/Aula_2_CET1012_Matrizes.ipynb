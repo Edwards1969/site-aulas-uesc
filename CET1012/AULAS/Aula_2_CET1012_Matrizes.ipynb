{
 "cells": [
  {
   "cell_type": "markdown",
   "id": "73e87725",
   "metadata": {},
   "source": [
    "<div style=\"text-align: center;\">\n",
    "\n",
    "  <!-- Logotipo -->\n",
    "  <img src=\"img/LogoUesc.png\" alt=\"UESC\" style=\"width: 60px; display: block; margin: 0 auto 5px auto;\">\n",
    "\n",
    "  <!-- Cabeçalho -->\n",
    "  <div style=\"font-size: 20px;\"><strong>UNIVERSIDADE ESTADUAL DE SANTA CRUZ - UESC</strong></div>\n",
    "  <div style=\"font-size: 18px;\">DEPARTAMENTO DE ENGENHARIAS E COMPUTAÇÃO</div>\n",
    "  <div style=\"font-size: 18px;\">ENGENHARIA QUÍMICA</div>\n",
    "\n",
    "  <hr style=\"margin: 20px 0; border: 1px solid #0074B7;\">\n",
    "\n",
    "  <!-- Título do Trabalho -->\n",
    "  <div style=\"font-size: 22px; font-weight: bold; margin-bottom: 10px;\">Modelagem, Simulação e Otimização de Processos Químicos</div>\n",
    "  <div style=\"font-size: 20px; font-weight: bold; margin-bottom: 10px;\">Processo de separação de componentes químicos</div>\n",
    "\n",
    "  <!-- Autor e orientador -->\n",
    "  <div style=\"font-size: 18px;\">Prof. Dr. E.R.Edwards</div>\n",
    "\n",
    "<hr style=\"margin: 20px 0; border: 1px solid #0074B7;\">\n",
    "  <!-- Data -->\n",
    "<!-- <div style=\"font-size: 16px; margin-top: 15px;\">Ilhéus - BA, Abril de 2025</div> -->\n",
    "</div>"
   ]
  },
  {
   "cell_type": "markdown",
   "id": "9cc1c293-0966-45f9-aeca-a86ed8c50309",
   "metadata": {},
   "source": [
    "__Exemplo Prático de Cálculo__ (Simplificado)<br>\n",
    "\n",
    "Vamos trabalhar com uma matriz $3x3$ para ilustrar o processo, já que uma 5x5 teria muitas operações para fazer manualmente:"
   ]
  },
  {
   "cell_type": "markdown",
   "id": "fac578d8-1446-4c54-8ace-8b3dbb92a2a3",
   "metadata": {},
   "source": [
    "\\begin{equation}\n",
    "B =\n",
    "\\begin{bmatrix}\n",
    "1 & 2 & 3 \\\\\n",
    "4 & 5 & 6 \\\\\n",
    "7 & 8 & 9 \\\\\\nonumber \n",
    "\\end{bmatrix}\n",
    "\\end{equation}\n",
    "\n",
    "Para calcular o determinante $det(B)$, fazemos a expansão pela primeira linha:\n",
    "\n",
    "\\begin{equation}\n",
    "B1 =\n",
    "\\begin{bmatrix}\n",
    "5 & 6  \\\\\n",
    "8 & 9 \\\\\\nonumber \n",
    "\\end{bmatrix}\n",
    "= (5×9)−(6×8)=45−48=−3\n",
    "\\end{equation}\n",
    "\n",
    "\\begin{equation}\n",
    "B2 = - 1\n",
    "\\begin{bmatrix}\n",
    "5 & 6  \\\\\n",
    "8 & 9 \\\\\\nonumber \n",
    "\\end{bmatrix}\n",
    "=(4×9)−(6×7)=36−42=−6\n",
    "\\end{equation}\n",
    "\n",
    "\\begin{equation}\n",
    "B3 = 3\n",
    "\\begin{bmatrix}\n",
    "4 & 5  \\\\\n",
    "7 & 8 \\\\\\nonumber \n",
    "\\end{bmatrix}\n",
    "=(4×8)−(5×7)=32−35=−3\n",
    "\\end{equation}\n",
    "\n",
    "Finalmente, substituímos esses valores na fórmula do determinante de $B$:\n",
    "$$ det(B) - 1.(-3) - 2.(-6)+3.(-3) $$\n",
    "\n",
    "$$ de(B) = -3 + 12 -9 = 0 $$\n",
    "\n",
    "Portanto, o determinante da matriz $B$ é $0$."
   ]
  },
  {
   "cell_type": "markdown",
   "id": "38a7d096-496f-47e7-9fff-2cf86543b85c",
   "metadata": {},
   "source": [
    "A figura abaixo mostra uma coluna de separação de componentes de petróleo. Sabendo-se que os fluxos de entrada do metileno é de $30.0 Kg/s$, do etileno de $25.0 Kg/s$ e do propeno de $10.0 Kg/s$. Resolva o problema de forma computacional aplicando **Método Algébrico** para determinar os componentes $m_1$, $m_2$ e $m_3$ nas saídas da coluna de separação sabendo-se que as frações de cada componente estão representada no conjunto de matrizes $A.x=b$ abaixo.\n",
    "\n",
    "\\begin{equation}\n",
    "\t\\begin{bmatrix}\n",
    "\t\t0.9 & 0.3  & 0.1 \\\\\n",
    "\t\t0.1 & 0.5  & 0.2 \\\\\n",
    "\t\t0.0 & 0.2  &0.7 \\nonumber \\\\ \n",
    "\t\\end{bmatrix} \n",
    "\t.\n",
    "\t\\begin{bmatrix}\n",
    "\t\tm_1 \\\\\n",
    "\t\tm_2 \\\\\n",
    "    \tm_3 \\\\ \n",
    "\t\\end{bmatrix} \n",
    "\t=\n",
    "\t\\begin{bmatrix}\n",
    "\t30.0 \\\\\n",
    "\t25.0 \\\\\n",
    "\t10.0 \\\\ \n",
    "\t\\end{bmatrix}\n",
    "\\end{equation}"
   ]
  },
  {
   "cell_type": "markdown",
   "id": "33569cd3",
   "metadata": {},
   "source": [
    "<img src=\"img/Figura_Sep_3x3.png\" alt=\"UESC\" style=\"width: 450px; display: block; margin: 0 auto 5px auto;\">\n",
    "<p style=\"text-align: center;\"><strong>Figura: Função Sigmoide.</strong></p>"
   ]
  },
  {
   "cell_type": "markdown",
   "id": "e669ec40-d705-499a-a9dc-fbf458648dde",
   "metadata": {},
   "source": [
    "__Passo 1__:\n",
    "\n",
    "Vamos inicialmente cálcular o determinante da matriz $A$ - $det(A)$.\n",
    "\n",
    "__Solução__: \n",
    "\n",
    "Vamos resolver a matriz: \n",
    "\n",
    "$$ A.x=b $$\n",
    "\n",
    "para determinar as incógnitas $x$ de forma que:\n",
    "\n",
    "$$ x = A^{-1}.b $$\n",
    "\n",
    "Sendo $ A^{-1} $ a matriz inversa.\n",
    "\n",
    "O cálculo da matriz inversa pode ser obtido por:\n",
    "\n",
    "$$ A^{-1} = \\frac{1}{det(A)},Adj(Ac) $$\n",
    "\n",
    "Sendo:  \n",
    "* $ det(A) $ o determinante da matriz $ A $, e \n",
    "\n",
    "* $ Adj(Ac) $ a matriz adjunta de $ A $ ou matriz transposta $ A^{T} $.\n",
    "\n",
    "A matriz cofator $ A_c $ é dada por $ A_c = [c_{ij}] $, sendo $ c_{ij}= (-1)^{i+j}a_{ij} $"
   ]
  },
  {
   "cell_type": "code",
   "execution_count": 23,
   "id": "4aead934-5c0c-45ae-b3e6-2e2282aaea31",
   "metadata": {},
   "outputs": [
    {
     "data": {
      "text/plain": [
       "0.25999999999999995"
      ]
     },
     "execution_count": 23,
     "metadata": {},
     "output_type": "execute_result"
    }
   ],
   "source": [
    "# Cálculo da matriz determinante de A - det(A).\n",
    "# Matriz A:\n",
    "a11, a12, a13 = 0.9, 0.3, 0.1\n",
    "a21, a22, a23 = 0.1, 0.5, 0.2\n",
    "a31, a32, a33 = 0.0, 0.2, 0.7\n",
    "\n",
    "d = a11*((a22*a33)-(a23*a32))-a12*((a21*a33)-(a23*a31))+a13*((a21*a32)-(a22*a31))\n",
    "d"
   ]
  },
  {
   "cell_type": "markdown",
   "id": "6bf14fdb-13fd-482a-b44b-ad6fb2b8a6f1",
   "metadata": {},
   "source": [
    "__Passo 2__: \n",
    "\n",
    "Vamos determinar a matriz cofator $A_c=[c_{ij}]$, aplicando para cada $c_{ij}=(-1)^{i+j}.a_{ij}$. "
   ]
  },
  {
   "cell_type": "markdown",
   "id": "5184efee-00bf-46db-ad8a-3d2df0b28239",
   "metadata": {},
   "source": [
    " Para o elemento $a11$:\n",
    "\\begin{equation}\n",
    "\t\\begin{bmatrix}\n",
    "\t\t{\\color{red} a_{11}} & {\\color{red} a_{12}}  & {\\color{red} a_{13}}  \\\\\n",
    "\t\t{\\color{red} a_{21}} & a_{22}  & a_{23}   \\\\\n",
    "\t\t{\\color{red} a_{31}} & a_{32}  & a_{33}   \\nonumber \\\\ \n",
    "\t\\end{bmatrix} \n",
    "\t=>\n",
    "\tc_{11}=({-1})^{1+1}.\n",
    "\t\\begin{bmatrix}\n",
    "\t\t a_{22}  & a_{23}   \\\\\n",
    "\t\t a_{32}  & a_{33}    \\nonumber \\\\ \n",
    "\t\\end{bmatrix} \n",
    "\\end{equation}"
   ]
  },
  {
   "cell_type": "code",
   "execution_count": 24,
   "id": "26f4cdc0-b6b8-4894-b1c9-6565b03a4942",
   "metadata": {},
   "outputs": [
    {
     "data": {
      "text/plain": [
       "0.30999999999999994"
      ]
     },
     "execution_count": 24,
     "metadata": {},
     "output_type": "execute_result"
    }
   ],
   "source": [
    "# matriz 2x2 do elemento a11:\n",
    "a22, a23 = 0.5, 0.2\n",
    "a32, a33 = 0.2, 0.7\n",
    "\n",
    "# indices do elemento a11:\n",
    "i = 1\n",
    "j = 1\n",
    "\n",
    "c11 = float((-1)**(i+j)*(a22*a33 - a23*a32))\n",
    "c11"
   ]
  },
  {
   "cell_type": "markdown",
   "id": "40be0569-5623-4af4-b6b2-5c418bae0ce1",
   "metadata": {},
   "source": [
    "Para o elemento $a_{12}$, temos:\n",
    "\\begin{equation}\n",
    "\t\\begin{bmatrix}\n",
    "\t\t{\\color{red} a_{11}}& {\\color{red} a_{12}}  & {\\color{red} a_{13}}  \\\\\n",
    "\t\ta_{21} & {\\color{red} a_{22}}  & a_{23}   \\\\\n",
    "\t\ta_{31} & {\\color{red} a_{32}}  & a_{33}    \\nonumber \\\\ \n",
    "\t\\end{bmatrix} \n",
    "\t=>\n",
    "\tc_{12}=({-1})^{1+2}.\n",
    "\t\\begin{bmatrix}\n",
    "\t\ta_{21}  & a_{23}  \\\\\n",
    "\t\ta_{31}  & a_{33}   \\nonumber \\\\ \n",
    "\t\\end{bmatrix} \n",
    "\\end{equation}"
   ]
  },
  {
   "cell_type": "code",
   "execution_count": 25,
   "id": "293ba341-01ba-48e9-98a6-160fa5ad277e",
   "metadata": {},
   "outputs": [
    {
     "data": {
      "text/plain": [
       "-0.06999999999999999"
      ]
     },
     "execution_count": 25,
     "metadata": {},
     "output_type": "execute_result"
    }
   ],
   "source": [
    "# matriz 2x2 do elemento a12:\n",
    "a21, a23 = 0.1, 0.2\n",
    "a31, a33 = 0.0, 0.7\n",
    "\n",
    "# indices do elemento a12:\n",
    "i = 1\n",
    "j = 2\n",
    "\n",
    "c12 = float((-1)**(i+j)*(a21*a33 - a23*a31))\n",
    "c12"
   ]
  },
  {
   "cell_type": "markdown",
   "id": "f11be9c2-2fa2-4b5b-bd5d-d18a607a5493",
   "metadata": {},
   "source": [
    "Para o elemento $a_{13}$, temos:\n",
    "\\begin{equation}\n",
    "\t\\begin{bmatrix}\n",
    "\t\t{\\color{red} a_{11}}& {\\color{red} a_{12}}  & {\\color{red} a_{13}}  \\\\\n",
    "\t\ta_{21} & a_{22} & {\\color{red} a_{23}}   \\\\\n",
    "\t\ta_{31} & a_{32}  &  {\\color{red} a_{33}}    \\nonumber \\\\ \n",
    "\t\\end{bmatrix} \n",
    "\t=>\n",
    "\tc_{13}=({-1})^{1+3}.\n",
    "\t\\begin{bmatrix}\n",
    "\t\ta_{21}  & a_{22}   \\\\\n",
    "\t\ta_{31}  & a_{32}    \\nonumber \\\\ \n",
    "\t\\end{bmatrix} \n",
    "\\end{equation}"
   ]
  },
  {
   "cell_type": "code",
   "execution_count": 26,
   "id": "437955b9-ac98-4044-882b-92fd59e9e145",
   "metadata": {},
   "outputs": [
    {
     "data": {
      "text/plain": [
       "0.020000000000000004"
      ]
     },
     "execution_count": 26,
     "metadata": {},
     "output_type": "execute_result"
    }
   ],
   "source": [
    "# matriz 2x2 do elemento a13:\n",
    "a21, a22 = 0.1, 0.5\n",
    "a31, a32 = 0.0, 0.2\n",
    "\n",
    "# indices do elemento a13:\n",
    "i = 1\n",
    "j = 3\n",
    "\n",
    "c13 = float((-1)**(i+j)*(a21*a32 - a22*a31))\n",
    "c13 "
   ]
  },
  {
   "cell_type": "markdown",
   "id": "4fd02282-8b92-47f4-b559-2b2e69c6a11c",
   "metadata": {},
   "source": [
    "Para o elemento $a_{21}$, temos:\n",
    "\\begin{equation}\n",
    "\t\\begin{bmatrix}\n",
    "\t\t{\\color{red}a_{11}}& a_{12}  & a_{13}  \\\\\n",
    "\t\t{\\color{red} a_{21}} & {\\color{red} a_{22}} & {\\color{red} a_{23}}  \\\\\n",
    "\t{\\color{red} a_{31}} & a_{32}  &  a_{33}    \\nonumber \\\\ \n",
    "\t\\end{bmatrix} \n",
    "\t=>\n",
    "\tc_{21}=({-1})^{2+1}.\n",
    "\t\\begin{bmatrix}\n",
    "\t\ta_{12}  & a_{13}   \\\\\n",
    "\t\ta_{32}  & a_{33}    \\nonumber \\\\ \n",
    "\t\\end{bmatrix} \n",
    "\\end{equation}\n"
   ]
  },
  {
   "cell_type": "code",
   "execution_count": 27,
   "id": "8664b7ec-fb64-4a9b-9543-0e7dfac4ac35",
   "metadata": {},
   "outputs": [
    {
     "data": {
      "text/plain": [
       "-0.19"
      ]
     },
     "execution_count": 27,
     "metadata": {},
     "output_type": "execute_result"
    }
   ],
   "source": [
    "# matriz 2x2 do elemento a21:\n",
    "a12, a13 = 0.3, 0.1\n",
    "a32, a33 = 0.2, 0.7\n",
    "\n",
    "# indices do elemento a21:\n",
    "i = 2\n",
    "j = 1\n",
    "\n",
    "c21 = float((-1)**(i+j)*(a12*a33 - a13*a32))\n",
    "c21 "
   ]
  },
  {
   "cell_type": "markdown",
   "id": "d9dc7d5b-9fdd-485d-a9ed-016979b27d5c",
   "metadata": {},
   "source": [
    "Para o elemento $a_{22}$, temos:\n",
    "\\begin{equation}\n",
    "\t\\begin{bmatrix}\n",
    "\t\ta_{11}& {\\color{red} a_{12}}  & a_{13}  \\\\\n",
    "\t\t{\\color{red} a_{21}} & {\\color{red} a_{22}} & {\\color{red} a_{23}}  \\\\\n",
    "\t\ta_{31} & {\\color{red} a_{32}}  &  a_{33}    \\nonumber \\\\ \n",
    "\t\\end{bmatrix} \n",
    "\t=>\n",
    "\tc_{22}=({-1})^{2+2}.\n",
    "\t\\begin{bmatrix}\n",
    "\t\ta_{11}  & a_{13}   \\\\\n",
    "\t\ta_{31}  & a_{33}    \\nonumber \\\\ \n",
    "\t\\end{bmatrix} \n",
    "\\end{equation}"
   ]
  },
  {
   "cell_type": "code",
   "execution_count": 28,
   "id": "680a620f-8323-41e9-9421-d4162c8cfcad",
   "metadata": {},
   "outputs": [
    {
     "data": {
      "text/plain": [
       "0.63"
      ]
     },
     "execution_count": 28,
     "metadata": {},
     "output_type": "execute_result"
    }
   ],
   "source": [
    "# matriz 2x2 do elemento a22:\n",
    "a11, a13 = 0.9, 0.1\n",
    "a31, a33 = 0.0, 0.7\n",
    "\n",
    "# indices do elemento a22:\n",
    "i = 2\n",
    "j = 2\n",
    "\n",
    "c22 = float((-1)**(i+j)*(a11*a33 - a13*a31))\n",
    "c22 "
   ]
  },
  {
   "cell_type": "markdown",
   "id": "8e3f5ae5-e783-4f68-aae0-27f674cbb476",
   "metadata": {},
   "source": [
    "Para o elemento $a_{23}$, temos:\n",
    "\\begin{equation}\n",
    "\t\\begin{bmatrix}\n",
    "\t\ta_{11}& a_{12}  & {\\color{red} a_{13}}  \\\\\n",
    "\t\t{\\color{red} a_{21}} & {\\color{red} a_{22}} & {\\color{red} a_{23}}  \\\\\n",
    "\t\ta_{31} & a_{32}  &  {\\color{red} a_{33}}    \\nonumber \\\\ \n",
    "\t\\end{bmatrix} \n",
    "\t=>\n",
    "\tc_{23}=({-1})^{2+3}.\n",
    "\t\\begin{bmatrix}\n",
    "\t\ta_{11}  & a_{12}   \\\\\n",
    "\t\ta_{31}  & a_{32}    \\nonumber \\\\ \n",
    "\t\\end{bmatrix} \n",
    "\\end{equation}"
   ]
  },
  {
   "cell_type": "code",
   "execution_count": 29,
   "id": "f6621430-b2b8-487b-8578-a57cee5d15d4",
   "metadata": {},
   "outputs": [
    {
     "data": {
      "text/plain": [
       "-0.18000000000000002"
      ]
     },
     "execution_count": 29,
     "metadata": {},
     "output_type": "execute_result"
    }
   ],
   "source": [
    "# matriz 2x2 do elemento a23:\n",
    "a11, a12 = 0.9, 0.3\n",
    "a31, a32 = 0.0, 0.2\n",
    "\n",
    "# indices do elemento a23:\n",
    "i = 2\n",
    "j = 3\n",
    "\n",
    "c23 = float((-1)**(i+j)*(a11*a32 - a12*a31))\n",
    "c23 "
   ]
  },
  {
   "cell_type": "markdown",
   "id": "0838897e-3700-4f93-aac7-d933f727a4a1",
   "metadata": {},
   "source": [
    "Para o elemento $a_{31}$, temos:\n",
    "\\begin{equation}\n",
    "\t\\begin{bmatrix}\n",
    "\t\t{\\color{red} a_{11}}& a_{12}  & a_{13}  \\\\\n",
    "\t\t{\\color{red} a_{21}} & a_{22} & a_{23}  \\\\\n",
    "\t\t{\\color{red} a_{31}} & {\\color{red} a_{32}}  &  {\\color{red} a_{33}}    \\nonumber \\\\ \n",
    "\t\\end{bmatrix} \n",
    "\t=>\n",
    "\tc_{31}=({-1})^{3+1}.\n",
    "\t\\begin{bmatrix}\n",
    "\t\ta_{12}  & a_{13}   \\\\\n",
    "\t\ta_{22}  & a_{23}    \\nonumber \\\\ \n",
    "\t\\end{bmatrix} \n",
    "\\end{equation}"
   ]
  },
  {
   "cell_type": "code",
   "execution_count": 30,
   "id": "1666591b-b527-4211-bdf1-9d4152d29fa3",
   "metadata": {},
   "outputs": [
    {
     "data": {
      "text/plain": [
       "0.009999999999999995"
      ]
     },
     "execution_count": 30,
     "metadata": {},
     "output_type": "execute_result"
    }
   ],
   "source": [
    "# matriz 2x2 do elemento a31:\n",
    "a12, a13 = 0.3, 0.1\n",
    "a22, a23 = 0.5, 0.2\n",
    "\n",
    "# indices do elemento a31:\n",
    "i = 3\n",
    "j = 1\n",
    "\n",
    "c31 = float((-1)**(i+j)*(a12*a23 - a13*a22))\n",
    "c31 "
   ]
  },
  {
   "cell_type": "markdown",
   "id": "dc50a86f-2c70-4c83-840e-7fc2db3cf836",
   "metadata": {},
   "source": [
    "Para o elemento $a_{32}$, temos:\n",
    "\\begin{equation}\n",
    "\t\\begin{bmatrix}\n",
    "\t\ta_{11}& {\\color{red} a_{12}} & a_{13}  \\\\\n",
    "\t\ta_{21} & {\\color{red} a_{23}} & a_{23}  \\\\\n",
    "\t\t{\\color{red} a_{31}} & {\\color{red} a_{32}}  &  {\\color{red} a_{33}}    \\nonumber \\\\ \n",
    "\t\\end{bmatrix} \n",
    "\t=>\n",
    "\tc_{32}=({-1})^{3+2}.\n",
    "\t\\begin{bmatrix}\n",
    "\t\ta_{11}  & a_{13}   \\\\\n",
    "\t\ta_{21}  & a_{23}    \\nonumber \\\\ \n",
    "\t\\end{bmatrix} \n",
    "\\end{equation}"
   ]
  },
  {
   "cell_type": "code",
   "execution_count": 31,
   "id": "1d53fedb-f458-4105-ae7e-6132ae11bcb4",
   "metadata": {},
   "outputs": [
    {
     "data": {
      "text/plain": [
       "-0.17"
      ]
     },
     "execution_count": 31,
     "metadata": {},
     "output_type": "execute_result"
    }
   ],
   "source": [
    "# matriz 2x2 do elemento a32:\n",
    "a11, a13 = 0.9, 0.1\n",
    "a21, a23 = 0.1, 0.2\n",
    "\n",
    "# indices do elemento a32:\n",
    "i = 3\n",
    "j = 2\n",
    "\n",
    "c32 = float((-1)**(i+j)*(a11*a23 - a13*a21))\n",
    "c32 "
   ]
  },
  {
   "cell_type": "markdown",
   "id": "8d4e50b6-8494-4fae-a230-975922e789cd",
   "metadata": {},
   "source": [
    "Para o elemento $a_{33}$, temos:\n",
    "\\begin{equation}\n",
    "\t\\begin{bmatrix}\n",
    "\t\ta_{11}& a_{12} & {\\color{red} a_{13}}  \\\\\n",
    "\t\ta_{21} & a_{22} & {\\color{red} a_{23}}  \\\\\n",
    "\t\t{\\color{red} a_{31}} & {\\color{red} a_{32}}  &  {\\color{red} a_{33}}    \\nonumber \\\\ \n",
    "\t\\end{bmatrix} \n",
    "\t=>\n",
    "\tc_{33}=({-1})^{3+3}.\n",
    "\t\\begin{bmatrix}\n",
    "\t\ta_{11}  & a_{12}   \\\\\n",
    "\t\ta_{21}  & a_{22}    \\nonumber \\\\ \n",
    "\t\\end{bmatrix} \n",
    "\\end{equation}"
   ]
  },
  {
   "cell_type": "code",
   "execution_count": 32,
   "id": "0c2b85e3-d455-4beb-bbf4-1f0a192f0e0b",
   "metadata": {},
   "outputs": [
    {
     "data": {
      "text/plain": [
       "0.42000000000000004"
      ]
     },
     "execution_count": 32,
     "metadata": {},
     "output_type": "execute_result"
    }
   ],
   "source": [
    "# matriz 2x2 do elemento a33:\n",
    "a11, a12 = 0.9, 0.3\n",
    "a21, a22 = 0.1, 0.5\n",
    "\n",
    "# indices do elemento a33:\n",
    "i = 3\n",
    "j = 3\n",
    "\n",
    "c33 = float((-1)**(i+j)*(a11*a22 - a12*a21))\n",
    "c33 "
   ]
  },
  {
   "cell_type": "markdown",
   "id": "57b941d6-22ff-479d-a684-790ed73f80f3",
   "metadata": {},
   "source": [
    "##### Montagem da matriz dos cofatores, $A_c$.\n",
    "\n",
    "\\begin{equation}\n",
    "\tA_c = \n",
    "\t\\begin{bmatrix}\n",
    "\t\tc_{11} & c_{12}  & c_{13} \\\\\n",
    "\t\tc_{21} & c_{22}  & c_{23} \\\\\n",
    "\t\tc_{31} & c_{33}  & c_{33} \\nonumber \\\\ \n",
    "\t\\end{bmatrix} \n",
    "\\end{equation}"
   ]
  },
  {
   "cell_type": "code",
   "execution_count": 33,
   "id": "54780988-83fa-45f3-8f27-61921edf79cd",
   "metadata": {},
   "outputs": [
    {
     "data": {
      "text/plain": [
       "array([[ 0.31, -0.07,  0.02],\n",
       "       [-0.19,  0.63, -0.18],\n",
       "       [ 0.01, -0.17,  0.42]])"
      ]
     },
     "execution_count": 33,
     "metadata": {},
     "output_type": "execute_result"
    }
   ],
   "source": [
    "import numpy as np\n",
    "\n",
    "# Matriz cofatores - Ac\n",
    "Ac = np.array([[c11, c12, c13],\n",
    "     [c21, c22, c23],\n",
    "     [c31, c32, c33]])\n",
    "Ac"
   ]
  },
  {
   "cell_type": "markdown",
   "id": "7593b912-658f-4d08-ad61-72257572be1e",
   "metadata": {},
   "source": [
    "__Cálculo da inversa da matriz $A_{ij}$__.\n",
    "\n",
    "A inversa da matriz cofator $A^T$ (matriz transposta) é feita transformando linhas em colunas na matriz. \n",
    "Vamos fazer essa transformação calculando algebricamente, mas depois vamos aprender como fazer essa transformação usando o Numpy."
   ]
  },
  {
   "cell_type": "code",
   "execution_count": 34,
   "id": "47a6beb4-172c-43a8-9e8d-53f085e2a2c2",
   "metadata": {},
   "outputs": [
    {
     "data": {
      "text/plain": [
       "array([[ 0.31, -0.19,  0.01],\n",
       "       [-0.07,  0.63, -0.17],\n",
       "       [ 0.02, -0.18,  0.42]])"
      ]
     },
     "execution_count": 34,
     "metadata": {},
     "output_type": "execute_result"
    }
   ],
   "source": [
    "AT = np.array([[c11, c21, c31],\n",
    "     [c12, c22, c32],\n",
    "     [c13, c23, c33]])\n",
    "AT"
   ]
  },
  {
   "cell_type": "markdown",
   "id": "3f50a03b",
   "metadata": {},
   "source": [
    "__Cálculo da matriz inversa $A^{-1}$__\n",
    "\n",
    "Vamos aplicar a expressão abaixo para calcular a matriz inversa.\n",
    "\n",
    "$$A^{-1} = \\frac{1}{det(A)}.A^T$$"
   ]
  },
  {
   "cell_type": "code",
   "execution_count": 35,
   "id": "a6ec9039-3f91-4cff-a3a1-0e7d3b36e2ca",
   "metadata": {},
   "outputs": [
    {
     "data": {
      "text/plain": [
       "array([[ 1.19230769, -0.73076923,  0.03846154],\n",
       "       [-0.26923077,  2.42307692, -0.65384615],\n",
       "       [ 0.07692308, -0.69230769,  1.61538462]])"
      ]
     },
     "execution_count": 35,
     "metadata": {},
     "output_type": "execute_result"
    }
   ],
   "source": [
    "A_inv = np.array([[c11/d , c21/d , c31/d], \n",
    "                  [c12/d , c22/d , c32/d],\n",
    "                  [c13/d, c23/d, c33/d]])             \n",
    "A_inv                 "
   ]
  },
  {
   "cell_type": "code",
   "execution_count": 36,
   "id": "6fb55995-e3ec-4233-98bd-ec0bcab76fe3",
   "metadata": {},
   "outputs": [],
   "source": [
    "# Cálculo da matriz inversa.\n",
    "#import numpy as np\n",
    "#A_inv = D * np.array(AT)\n",
    "#A_inv"
   ]
  },
  {
   "cell_type": "markdown",
   "id": "258fe7c4-4061-458f-90a3-d06607303744",
   "metadata": {},
   "source": [
    "__Cálculo do valor de b__"
   ]
  },
  {
   "cell_type": "code",
   "execution_count": 37,
   "id": "a963f070-42e4-467c-a2c0-211c71426d2c",
   "metadata": {},
   "outputs": [
    {
     "data": {
      "text/plain": [
       "array([30., 25., 10.])"
      ]
     },
     "execution_count": 37,
     "metadata": {},
     "output_type": "execute_result"
    }
   ],
   "source": [
    "b = np.array([30.0, 25.0, 10.0])\n",
    "b"
   ]
  },
  {
   "cell_type": "code",
   "execution_count": 38,
   "id": "5431385b-55fb-4b4c-896f-3e87ca9f2820",
   "metadata": {},
   "outputs": [
    {
     "name": "stdout",
     "output_type": "stream",
     "text": [
      "O valor de m1 = 17.88 Kg/s\n",
      "O valor de m2 = 45.96 Kg/s\n",
      "O valor de m3 = 1.15 Kg/s\n"
     ]
    }
   ],
   "source": [
    "# Cálculo de x=A^-1.b usando método algébrico.\n",
    "# Extraindo os valores de b\n",
    "b1=b[0]\n",
    "b2=b[1]\n",
    "b3=b[2]\n",
    "\n",
    "# Cálculo de x.\n",
    "\n",
    "m1 = A_inv[0][0]*b1 + A_inv[0][1]*b2 + A_inv[0][2]*b3\n",
    "x1 = print('O valor de m1 = {:.2f}'.format(m1), 'Kg/s') \n",
    "\n",
    "m2 = A_inv[1][0]*b1 + A_inv[1][1]*b2 + A_inv[1][2]*b3\n",
    "x2 = print('O valor de m2 = {:.2f}'.format(m2), 'Kg/s') \n",
    "\n",
    "m3 = A_inv[2][0]*b1 + A_inv[2][1]*b2 + A_inv[2][2]*b3\n",
    "x3 = print('O valor de m3 = {:.2f}'.format(m3), 'Kg/s') "
   ]
  },
  {
   "cell_type": "markdown",
   "id": "f1654aa1-808b-4ab3-819b-e1bb1511b049",
   "metadata": {},
   "source": [
    "__Conferindo os resultados, temos__:"
   ]
  },
  {
   "cell_type": "code",
   "execution_count": 39,
   "id": "d9498c35-029c-4104-abea-56c5a0a53178",
   "metadata": {},
   "outputs": [
    {
     "name": "stdout",
     "output_type": "stream",
     "text": [
      "O valor de b1 = 30.0 e o z1 = 30.00 Kg/s\n",
      "O valor de b2 = 25.0 e o z2 = 25.00 Kg/s\n",
      "O valor de b3 = 10.0 e o z2 = 10.35 Kg/s\n"
     ]
    }
   ],
   "source": [
    "# 0.9*m1 + 0.3*m2 + 0.1*m3 = 30.0\n",
    "z1 = 0.9*m1 + 0.3*m2 + 0.1*m3\n",
    "# 0.1*m1 + 0.5*m2 + 0.2*m3 = 25.0\n",
    "z2 = 0.1*m1 + 0.5*m2 + 0.2*m3\n",
    "#   0 +   0.2*m2 + 1.0*m3 = 10.0\n",
    "z3 = 0.2*m2 + 1.0*m3\n",
    "\n",
    "# Conferindo os resultados.\n",
    "z1 = print('O valor de b1 = 30.0 e o z1 = {:.2f}'.format(z1), 'Kg/s') \n",
    "z2 = print('O valor de b2 = 25.0 e o z2 = {:.2f}'.format(z2), 'Kg/s')\n",
    "z3 = print('O valor de b3 = 10.0 e o z2 = {:.2f}'.format(z3), 'Kg/s')"
   ]
  },
  {
   "cell_type": "markdown",
   "id": "4c38c6b2-b400-43f1-ac8d-36492dab18f1",
   "metadata": {},
   "source": [
    "__Agora vamos fazer o mesmo cálculo usando a biblioteca Numpy__.\n",
    "\n",
    "Dentro da biblioteca Numpy possui a **Algebra Linear** (*linalg*) que possui todos esses códigos, o que possibilita a resolução com poucas linhas de código."
   ]
  },
  {
   "cell_type": "code",
   "execution_count": 40,
   "id": "d010f326-bddd-4af6-b753-29bfa33e07ad",
   "metadata": {},
   "outputs": [],
   "source": [
    "import numpy as np\n",
    "import numpy.linalg as nl\n",
    "\n",
    "# Vamos criar a matriz A\n",
    "A = np.array([[0.9, 0.3, 0.1],\n",
    "              [0.1, 0.5, 0.2],\n",
    "              [0.0, 0.2, 0.7]\n",
    "              ])\n",
    "\n",
    "inversa_A = np.linalg.inv(A)\n",
    "\n",
    "# Vamos criar a matriz do lado direito - b\n",
    "b = np.array([30.0, 25.0, 10.0])\n",
    "\n",
    "# Agora vamos resolver o sistema linear usando np.solve()\n",
    "x = nl.solve(A, b)\n",
    "# Também poderiamos ter usado o código abaixo.\n",
    "# x = np.dot(A_inv, b) \n",
    "\n",
    "# Extraindo os valores de x da lista:\n",
    "ma1 = x[0]\n",
    "ma2 = x[1]\n",
    "ma3 = x[2]"
   ]
  },
  {
   "cell_type": "code",
   "execution_count": 41,
   "id": "276ee680-999f-4daa-996d-2370de8781ef",
   "metadata": {},
   "outputs": [
    {
     "data": {
      "text/plain": [
       "array([[ 1.19230769, -0.73076923,  0.03846154],\n",
       "       [-0.26923077,  2.42307692, -0.65384615],\n",
       "       [ 0.07692308, -0.69230769,  1.61538462]])"
      ]
     },
     "execution_count": 41,
     "metadata": {},
     "output_type": "execute_result"
    }
   ],
   "source": [
    "inversa_A"
   ]
  },
  {
   "cell_type": "code",
   "execution_count": 42,
   "id": "674e6a3b-edd5-40c3-b460-55f8a2ccb466",
   "metadata": {},
   "outputs": [
    {
     "name": "stdout",
     "output_type": "stream",
     "text": [
      "O valor de m1 = 17.88 Kg/s\n",
      "O valor de m2 = 45.96 Kg/s\n",
      "O valor de m3 = 1.15 Kg/s\n"
     ]
    }
   ],
   "source": [
    "# Cálculo de x.\n",
    "resposta_m1 = print('O valor de m1 = {:.2f}'.format(ma1), 'Kg/s') \n",
    "resposta_m2 = print('O valor de m2 = {:.2f}'.format(ma2), 'Kg/s') \n",
    "resposta_m3 = print('O valor de m3 = {:.2f}'.format(ma3), 'Kg/s')"
   ]
  },
  {
   "cell_type": "markdown",
   "id": "8147215e-2627-48b5-81cd-c1ff95f2269e",
   "metadata": {},
   "source": [
    "__Vamos conferir os resultados usando a biblioteca Numpy__."
   ]
  },
  {
   "cell_type": "code",
   "execution_count": 43,
   "id": "3deffc37-3778-4463-8598-954754255f6e",
   "metadata": {},
   "outputs": [
    {
     "name": "stdout",
     "output_type": "stream",
     "text": [
      "O valor de b1 = 30.0 e o k1 = 30.00 Kg/s\n",
      "O valor de b2 = 25.0 e o k2 = 25.00 Kg/s\n",
      "O valor de b3 = 10.0 e o k2 = 10.35 Kg/s\n"
     ]
    }
   ],
   "source": [
    "# 0.9*m1 + 0.3*m2 + 0.1*m3 = 30.0\n",
    "k1 = 0.9*ma1 + 0.3*ma2 + 0.1*ma3\n",
    "# 0.1*m1 + 0.5*m2 + 0.2*m3 = 25.0\n",
    "k2 = 0.1*ma1 + 0.5*ma2 + 0.2*ma3\n",
    "#   0 +   0.2*m2 + 1.0*m3 = 10.0\n",
    "k3 = 0.2*ma2 + 1.0*ma3\n",
    "\n",
    "# Conferindo os resultados.\n",
    "k1 = print('O valor de b1 = 30.0 e o k1 = {:.2f}'.format(k1), 'Kg/s') \n",
    "k2 = print('O valor de b2 = 25.0 e o k2 = {:.2f}'.format(k2), 'Kg/s')\n",
    "k3 = print('O valor de b3 = 10.0 e o k2 = {:.2f}'.format(k3), 'Kg/s')"
   ]
  },
  {
   "cell_type": "markdown",
   "id": "168e576d-c8a2-4ed4-b8e2-21a2e7000357",
   "metadata": {},
   "source": [
    "__Poderiamos ter usado o código abaixo para calcular x__."
   ]
  },
  {
   "cell_type": "code",
   "execution_count": 44,
   "id": "b673b33f-7810-49ff-9937-b0ebc3037f53",
   "metadata": {},
   "outputs": [
    {
     "data": {
      "text/plain": [
       "array([17.88461538, 45.96153846,  1.15384615])"
      ]
     },
     "execution_count": 44,
     "metadata": {},
     "output_type": "execute_result"
    }
   ],
   "source": [
    "x = np.dot(A_inv, b) \n",
    "x"
   ]
  },
  {
   "cell_type": "markdown",
   "id": "d6836155-9f3b-439a-aeae-b71e76c0cbfd",
   "metadata": {},
   "source": [
    "<div style=\"text-align: center; font-size: 12px; color: gray; margin-top: 40px;\">\n",
    "  Este notebook foi desenvolvido no âmbito do Grupo de Pesquisas em Modelagem Computacional da UESC.<br>\n",
    "  Todos os direitos reservados © 2025\n",
    "</div>"
   ]
  }
 ],
 "metadata": {
  "kernelspec": {
   "display_name": "base",
   "language": "python",
   "name": "python3"
  },
  "language_info": {
   "codemirror_mode": {
    "name": "ipython",
    "version": 3
   },
   "file_extension": ".py",
   "mimetype": "text/x-python",
   "name": "python",
   "nbconvert_exporter": "python",
   "pygments_lexer": "ipython3",
   "version": "3.11.7"
  }
 },
 "nbformat": 4,
 "nbformat_minor": 5
}
