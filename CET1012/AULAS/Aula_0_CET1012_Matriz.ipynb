{
 "cells": [
  {
   "cell_type": "markdown",
   "id": "b12f0c0c",
   "metadata": {},
   "source": [
    "\n",
    "<div style=\"text-align: center;\">\n",
    "\n",
    "  <!-- Logotipo -->\n",
    "  <img src=\"img/LogoUesc.png\" alt=\"UESC\" style=\"width: 60px; display: block; margin: 0 auto 5px auto;\">\n",
    "\n",
    "  <!-- Cabeçalho -->\n",
    "  <div style=\"font-size: 20px;\"><strong>UNIVERSIDADE ESTADUAL DE SANTA CRUZ - UESC</strong></div>\n",
    "  <div style=\"font-size: 18px;\">DEPARTAMENTO DE ENGENHARIAS E COMPUTAÇÃO</div>\n",
    "  <div style=\"font-size: 18px;\">ENGENHARIA QUÍMICA</div>\n",
    "\n",
    "  <hr style=\"margin: 20px 0; border: 1px solid #0074B7;\">\n",
    "\n",
    "  <!-- Título do Trabalho -->\n",
    "  <div style=\"font-size: 22px; font-weight: bold; margin-bottom: 10px;\">Modelagem, Simulação e Otimização de Processos Químicos</div>\n",
    "  <div style=\"font-size: 20px; font-weight: bold; margin-bottom: 10px;\">Métodos Matriciais em Cálculos de Engenharia</div>\n",
    "\n",
    "  <!-- Autor e orientador -->\n",
    "  <div style=\"font-size: 18px;\">Prof. Dr. E.R.Edwards</div>\n",
    "\n",
    "<hr style=\"margin: 20px 0; border: 1px solid #0074B7;\">\n",
    "  <!-- Data -->\n",
    "<!-- <div style=\"font-size: 16px; margin-top: 15px;\">Ilhéus - BA, Abril de 2025</div> -->\n",
    "</div>"
   ]
  },
  {
   "cell_type": "markdown",
   "id": "831778f4",
   "metadata": {},
   "source": [
    "<div style=\"background-color: #e6f2ff; border-left: 6px solid #0074B7; padding: 10px; font-size: 16px;\">\n",
    "  <strong>Introdução aos Métodos Matriciais para Resolução de Problemas de Engenharia.</strong> \n",
    "</div>"
   ]
  },
  {
   "cell_type": "markdown",
   "id": "f580be6a-353c-4c6d-85dc-2ee615667488",
   "metadata": {},
   "source": [
    "__Definição de Matriz__\n",
    "\n",
    "Matriz é um conjunto de dados divididos por linhas e colunas e possui uma estrutura matemática disposta em tabelas com operações de adição, subtração e multiplicação bem definidas. Existem casos especiais que são classificados de acordo com a característica da matriz. A matriz abaixo mostra a disposição\n",
    "\n",
    "$$ A_{i,j} = [a_{i,j}] $$\n",
    "\n",
    "De tal forma que:\n",
    "\n",
    "\\begin{equation}\t\n",
    "\tA = \n",
    "\t\\begin{bmatrix}\n",
    "\t\ta_{11} &a_{12}   & \\ldots &  a_{1n} \\\\\n",
    "\t\ta_{21} &a_{22}   & \\ldots &  a_{2n} \\\\\n",
    "        \\vdots &\\vdots   & \\ddots &  \\vdots \\\\\n",
    "        a_{m1} &a_{m2}   & \\ldots &  a_{mn}   \\\\ \\nonumber \n",
    "        \\end{bmatrix}\n",
    "    \\end{equation}\n",
    "\n",
    "Sendo $i$ o indice das linhas e $j$ o indice das colunas. A diagonal da matriz $A$ são inteiros $a_{ij}$ em que $i=j$"
   ]
  },
  {
   "cell_type": "markdown",
   "id": "f9872620",
   "metadata": {},
   "source": [
    "Agora vamos identificar os valores numéricos armazenados nas célunas de uma Matriz mostrada abaixo.\n",
    "\n",
    "\\begin{equation}\n",
    "    \\begin{bmatrix}\n",
    "    -3 & 2 & 4 \\\\\n",
    "    5 & 6 & 3 \\\\\n",
    "    \\end{bmatrix}\n",
    "\\end{equation}\n",
    "\n",
    "É representado pela lista: [[2, -3, 4], [0, 7, 5]]"
   ]
  },
  {
   "cell_type": "markdown",
   "id": "e97365c8",
   "metadata": {},
   "source": [
    "__Vamos analisar a Matriz abaixo__:"
   ]
  },
  {
   "cell_type": "code",
   "execution_count": 1,
   "id": "5c424b83",
   "metadata": {},
   "outputs": [],
   "source": [
    "# A matriz é escrita como:\n",
    "Matriz= [[-3, 2, 4],\n",
    "         [5, 6, 3]]"
   ]
  },
  {
   "cell_type": "code",
   "execution_count": 2,
   "id": "e2756a12",
   "metadata": {},
   "outputs": [
    {
     "name": "stdout",
     "output_type": "stream",
     "text": [
      "Mat00 = -3, Mat01 = 2, Mat02 = 4\n"
     ]
    }
   ],
   "source": [
    "# Vamos identificar a primeira linha.\n",
    "Mat00 = Matriz[0][0]\n",
    "Mat01 = Matriz[0][1]\n",
    "Mat02 = Matriz[0][2]\n",
    "\n",
    "#print(f\"Mat00 = {Mat00}, Mat01 = {Mat01}, Mat02 = {Mat02}\")\n",
    "print('Mat00 = {}, Mat01 = {}, Mat02 = {}'.format(Mat00, Mat01, Mat02))"
   ]
  },
  {
   "cell_type": "code",
   "execution_count": 3,
   "id": "baca4761",
   "metadata": {},
   "outputs": [
    {
     "name": "stdout",
     "output_type": "stream",
     "text": [
      "Mat10 = 5, Mat11 = 6, Mat12 = 3\n"
     ]
    }
   ],
   "source": [
    "# Vamos identificar a segunda linha.\n",
    "Mat10 = Matriz[1][0]\n",
    "Mat11 = Matriz[1][1]\n",
    "Mat12 = Matriz[1][2]\n",
    "\n",
    "print('Mat10 = {}, Mat11 = {}, Mat12 = {}'.format(Mat10, Mat11, Mat12))"
   ]
  },
  {
   "cell_type": "markdown",
   "id": "5cef71cc-33db-4e8c-aec2-b99f3f6e25e2",
   "metadata": {},
   "source": [
    "__1 - Soma de matrizes e resolução computacional__.\n",
    "\n",
    "Seja a matriz $A$ e $B$ dada por:\n",
    "\n",
    "\n",
    "\\begin{equation}\t\n",
    "A = \n",
    "\t\\begin{bmatrix}\n",
    "\t\ta_{11} & a_{12}   & \\ldots &  a_{1n} \\\\\n",
    "\t\ta_{21} & a_{22}   & \\ldots &  a_{2n} \\\\\n",
    "        \\vdots & \\vdots   & \\ddots &  \\vdots \\\\\n",
    "        a_{m1} & a_{m2}   & \\ldots &  a_{mn}   \\\\ \\nonumber \n",
    "        \\end{bmatrix}\n",
    "    \\\n",
    "    \\\n",
    "  \tB = \n",
    "\t\\begin{bmatrix}\n",
    "\t\tb_{11} &  b_{12}  & \\ldots &  b_{1n} \\\\\n",
    "\t\tb_{21} &  b_{22}  & \\ldots &  b_{2n} \\\\\n",
    "        \\vdots &  \\vdots  & \\ddots &  \\vdots \\\\\n",
    "        b_{m1} &  b_{m2}  & \\ldots &  b_{mn}   \\\\ \\nonumber \n",
    "        \\end{bmatrix}\n",
    "\\end{equation}\n",
    "A soma de duas matrizes é dada por:\n",
    "\n",
    "\\begin{equation}\t\n",
    "C = \n",
    "\t\\begin{bmatrix}\n",
    "\t\ta_{11} + b_{11}  &  a_{12} + b_{12}   & \\ldots &  a_{1n} + b_{1n}  \\\\\n",
    "\t\ta_{21} + b_{21}  &  a_{22} + b_{22}   & \\ldots &  a_{2n} + b_{2n}  \\\\\n",
    "                 \\vdots  &           \\vdots   & \\ddots &         \\vdots    \\\\\n",
    "        a_{m1} + b_{m1}  &  a_{m2} + b_{m2}   & \\ldots &  a_{mn} + b_{mn}  \\\\ \\nonumber \n",
    "        \\end{bmatrix}\n",
    "\\end{equation}"
   ]
  },
  {
   "cell_type": "markdown",
   "id": "447b72c7-5ab1-4af4-94a7-c5f81b4751f1",
   "metadata": {},
   "source": [
    "__Exercícios__\n",
    "\n",
    "calcule a matriz $C$  sabendo-se que é a soma da Matriz  $A$ e $B$.\n",
    "\n",
    "\\begin{equation}\t\n",
    "\tA = \n",
    "\t\\begin{bmatrix}\n",
    "\t\t1 & 2 & 3 \\\\\n",
    "       \t4 & 5 & 6  \\nonumber \\\\ \n",
    "        \\end{bmatrix}\n",
    "        \\\n",
    "        B = \n",
    "\t\\begin{bmatrix}\n",
    "\t\t2 & 1 & 4 \\\\\n",
    "       \t1 & 1 & 2  \\nonumber \\\\ \n",
    "        \\end{bmatrix}\n",
    "    \\end{equation}\n",
    "    \n",
    "__Resposta__:\n",
    "\\begin{equation}\t\n",
    "\tC = A+B =\n",
    "\t\\begin{bmatrix}\n",
    "\t\t3 & 3 & 7 \\\\\n",
    "       \t5 & 6 & 8  \\nonumber \\\\ \n",
    "        \\end{bmatrix}\n",
    "\\end{equation}"
   ]
  },
  {
   "cell_type": "code",
   "execution_count": 4,
   "id": "f0f606e9-a323-4259-8809-af8793973321",
   "metadata": {},
   "outputs": [
    {
     "data": {
      "text/plain": [
       "[[3, 3, 7], [5, 6, 8]]"
      ]
     },
     "execution_count": 4,
     "metadata": {},
     "output_type": "execute_result"
    }
   ],
   "source": [
    "# Soma de matrizes pelo método algébrico\n",
    "# Matriz A:\n",
    "a11, a12, a13 = 1, 2, 3\n",
    "a21, a22, a23 = 4, 5, 6\n",
    "\n",
    "# Matriz B:\n",
    "b11, b12, b13 = 2, 1, 4\n",
    "b21, b22, b23 = 1, 1, 2\n",
    "\n",
    "# Soma das matrizes A+B\n",
    "C = [[a11+b11, a12+b12, a13+b13],\n",
    "     [a21+b21, a22+b22, a23+b23]\n",
    "    ]\n",
    "C"
   ]
  },
  {
   "cell_type": "markdown",
   "id": "39d3fb83-8af2-49b0-9696-f5fd4a9b645f",
   "metadata": {},
   "source": [
    "__1.1 - Vamos fazer a soma das matrizes usando a biblioteca Numpy__."
   ]
  },
  {
   "cell_type": "code",
   "execution_count": 5,
   "id": "ccf4e77a-c092-47ca-a13a-d56119ad2adb",
   "metadata": {},
   "outputs": [
    {
     "data": {
      "text/plain": [
       "array([[3, 3, 7],\n",
       "       [5, 6, 8]])"
      ]
     },
     "execution_count": 5,
     "metadata": {},
     "output_type": "execute_result"
    }
   ],
   "source": [
    "# Soma de matrizes usando a biblioteca Numpy.\n",
    "import numpy as np\n",
    "\n",
    "# Matriz A.\n",
    "A1 = np.array([[1, 2, 3],\n",
    "               [4, 5, 6]])\n",
    "\n",
    "# Matriz B.\n",
    "B1 = np.array([[2, 1, 4],\n",
    "               [1, 1, 2]\n",
    "              ])\n",
    "\n",
    "C1 = A1+B1\n",
    "C1"
   ]
  },
  {
   "cell_type": "code",
   "execution_count": 6,
   "id": "79a72839-f738-4d84-bff2-0a69317d38b6",
   "metadata": {},
   "outputs": [
    {
     "data": {
      "text/plain": [
       "array([[3, 3, 7],\n",
       "       [5, 6, 8]])"
      ]
     },
     "execution_count": 6,
     "metadata": {},
     "output_type": "execute_result"
    }
   ],
   "source": [
    "# ou podemos resolver usando add de adição.\n",
    "\n",
    "C2 = np.add(A1, B1)\n",
    "C2"
   ]
  },
  {
   "cell_type": "markdown",
   "id": "7410a27e-b01c-41ea-a679-66fbd3d1dd75",
   "metadata": {},
   "source": [
    "__2 - Subtração de matrizes e resolução computacional__\n",
    "\n",
    "A diferença de duas matrizes $A-B$ de ordem $(mxn)$ é uma matriz $C$ tal que:\n",
    "\n",
    "$$ c_{ij} = a_{ij} - b_{ij}$$"
   ]
  },
  {
   "cell_type": "markdown",
   "id": "d24ded84",
   "metadata": {},
   "source": [
    "Seja a matriz $A$ e $B$ dada por:\n",
    "\n",
    "\\begin{equation}\t\n",
    "A = \n",
    "\t\\begin{bmatrix}\n",
    "\t\ta_{11} & a_{12}   & \\ldots &  a_{1n} \\\\\n",
    "\t\ta_{21} & a_{22}   & \\ldots &  a_{2n} \\\\\n",
    "        \\vdots & \\vdots   & \\ddots &  \\vdots \\\\\n",
    "        a_{m1} & a_{m2}   & \\ldots &  a_{mn}   \\\\ \\nonumber \n",
    "        \\end{bmatrix}\n",
    "    \\\n",
    "    \\\n",
    "  \tB = \n",
    "\t\\begin{bmatrix}\n",
    "\t\tb_{11} &  b_{12}  & \\ldots &   b_{1n} \\\\\n",
    "\t\tb_{21} &  b_{22}   & \\ldots &  b_{2n} \\\\\n",
    "        \\vdots &  \\vdots   & \\ddots &  \\vdots \\\\\n",
    "        b_{m1} &  b_{m2}   & \\ldots &  b_{mn}   \\\\ \\nonumber \n",
    "        \\end{bmatrix}\n",
    "\\end{equation}"
   ]
  },
  {
   "cell_type": "markdown",
   "id": "2a3ad78e",
   "metadata": {},
   "source": [
    "A subtração de duas matrizes é dada por:\n",
    "\n",
    "\\begin{equation}\t\n",
    "C = \n",
    "\t\\begin{bmatrix}\n",
    "\t\ta_{11} - b_{11}  &  a_{12} - b_{12}   & \\ldots &  a_{1n} - b_{1n}  \\\\\n",
    "\t\ta_{21} - b_{21}  &  a_{22} - b_{22}   & \\ldots &  a_{2n} - b_{2n}  \\\\\n",
    "                 \\vdots  &           \\vdots   & \\ddots &         \\vdots    \\\\\n",
    "        a_{m1} - b_{m1}  &  a_{m2} - b_{m2}   & \\ldots &  a_{mn} - b_{mn}  \\\\ \\nonumber \n",
    "        \\end{bmatrix}\n",
    "\\end{equation}"
   ]
  },
  {
   "cell_type": "markdown",
   "id": "8eb05811-32fa-4dc0-8794-5bd621612d49",
   "metadata": {
    "jp-MarkdownHeadingCollapsed": true
   },
   "source": [
    "__Exercício__\n",
    "\n",
    "Calcule a matriz $C$  sabendo-se que é a subtração da Matriz  $A$ e $B$.\n",
    "\n",
    "\\begin{equation}\t\n",
    "\tA = \n",
    "\t\\begin{bmatrix}\n",
    "\t\t2 & 3 & 1 \\\\\n",
    "       \t3 & 4 & 5  \\nonumber \\\\ \n",
    "        \\end{bmatrix}\n",
    "        \\\n",
    "        B = \n",
    "\t\\begin{bmatrix}\n",
    "\t\t3 & 2 & 1 \\\\\n",
    "       \t2 & 1 & 3  \\nonumber \\\\ \n",
    "        \\end{bmatrix}\n",
    "    \\end{equation}\n",
    "    \n",
    "__Resposta__:\n",
    "\\begin{equation}\t\n",
    "\tC = A-B =\n",
    "\t\\begin{bmatrix}\n",
    "\t\t-1 & 1 & 0 \\\\\n",
    "       \t1 & 3 & 2  \\nonumber \\\\ \n",
    "        \\end{bmatrix}\n",
    "\\end{equation}"
   ]
  },
  {
   "cell_type": "code",
   "execution_count": 7,
   "id": "841a3ee2-2496-4026-b976-435ccb7ce46f",
   "metadata": {},
   "outputs": [
    {
     "data": {
      "text/plain": [
       "[[-1, 1, 0], [1, 3, 2]]"
      ]
     },
     "execution_count": 7,
     "metadata": {},
     "output_type": "execute_result"
    }
   ],
   "source": [
    "# Subtração de matrizes pelo método algébrico\n",
    "# Matriz A:\n",
    "a_11, a_12, a_13 = 2, 3, 1\n",
    "a_21, a_22, a_23 = 3, 4, 5\n",
    "\n",
    "# Matriz B:\n",
    "b_11, b_12, b_13 = 3, 2, 1\n",
    "b_21, b_22, b_23 = 2, 1, 3\n",
    "\n",
    "# Subtração das matrizes A+B\n",
    "C = [[a_11-b_11, a_12-b_12, a_13-b_13],\n",
    "     [a_21-b_21, a_22-b_22, a_23-b_23]\n",
    "    ]\n",
    "C"
   ]
  },
  {
   "cell_type": "markdown",
   "id": "b3ef102e-fec2-4326-a33f-f3f66220c378",
   "metadata": {},
   "source": [
    "__2.2 - Vamos fazer a subtração das matrizes usando a biblioteca Numpy__."
   ]
  },
  {
   "cell_type": "code",
   "execution_count": 8,
   "id": "7078838b-86d2-44e9-b209-e9d866082dbb",
   "metadata": {},
   "outputs": [
    {
     "data": {
      "text/plain": [
       "array([[-1,  0, -6],\n",
       "       [-3, -5, -5]])"
      ]
     },
     "execution_count": 8,
     "metadata": {},
     "output_type": "execute_result"
    }
   ],
   "source": [
    "# Soma de matrizes usando a biblioteca Numpy.\n",
    "# Matriz A.\n",
    "A_1 = np.array([[2, 3, 1],\n",
    "               [2, 1, 3]])\n",
    "\n",
    "# Matriz B.\n",
    "B_1 = np.array([[3, 3, 7],\n",
    "               [5, 6, 8]\n",
    "              ])\n",
    "\n",
    "C_1 = A_1-B_1\n",
    "C_1\n"
   ]
  },
  {
   "cell_type": "code",
   "execution_count": 9,
   "id": "cb02d36f-7713-4b9d-93b5-b9fd80518c0c",
   "metadata": {},
   "outputs": [
    {
     "data": {
      "text/plain": [
       "array([[-1,  0, -6],\n",
       "       [-3, -5, -5]])"
      ]
     },
     "execution_count": 9,
     "metadata": {},
     "output_type": "execute_result"
    }
   ],
   "source": [
    "# podemos fazer a subtração usando \"subtract\".\n",
    "\n",
    "C_sub = np.subtract(A_1, B_1)\n",
    "C_sub"
   ]
  },
  {
   "cell_type": "markdown",
   "id": "efbe0bb5-18ab-411e-84ec-af41bd55eb2e",
   "metadata": {},
   "source": [
    "__3 - Multiplicação de matrizes e resolução computacional__\n",
    "\n",
    "\n",
    "A multiplicação de duas matrizes são dadas por:\n",
    "\n",
    "$$ C_{i,j} = \\sum_k A_{i,k}B_{k,j} $$\n",
    "\n",
    "Seja a matriz $A$ e  $B$:\n",
    "\n",
    "\\begin{equation}\t\n",
    "\tA = \n",
    "\t\\begin{bmatrix}\n",
    "\t\ta_{11} &  a_{12}  \\\\\n",
    "\t\ta_{21} &  a_{22} \\\\\n",
    "        a_{31} &  a_{32}\\nonumber \\\\ \n",
    "        \\end{bmatrix}_{(3x2)}\n",
    "    \\\n",
    "    \\\n",
    "    B = \n",
    "\t\\begin{bmatrix}\n",
    "\t\tb_{11} &  b_{12} \\\\\n",
    "\t\tb_{21} &  b_{22}  \\nonumber \\\\ \n",
    "\t\\end{bmatrix}_{(2x2)}\n",
    "\\end{equation}\n",
    "\n",
    "Podemos fazer a multiplicação das matrizes por:\n",
    "\n",
    "\\begin{equation}\n",
    "C = A.B = \n",
    "\\begin{bmatrix}\n",
    "a_{11}.b_{11} + a_{12}.b_{21}  &  a_{11}.b_{12} + a_{12}.b_{22} \\\\\n",
    "a_{21}.b_{11} + a_{22}.b_{21}  &  a_{21}.b_{12} + a_{22}.b_{22} \\\\\n",
    "a_{31}.b_{11} + a_{32}.b_{21}  &  a_{31}.b_{12} + a_{32}.b_{22}  \\nonumber \\\\ \n",
    "\\end{bmatrix}\n",
    "=\n",
    "\\begin{bmatrix}\n",
    "\t\tc_{11} &  c_{12} \\\\\n",
    "        c_{21} &  c_{22} \\\\\n",
    "\t\tc_{31} &  c_{32}  \\nonumber \\\\ \n",
    "\t\\end{bmatrix}\n",
    "\\end{equation}"
   ]
  },
  {
   "cell_type": "markdown",
   "id": "493865b3-de0f-4084-9aa1-34818f93918b",
   "metadata": {},
   "source": [
    "**Exercício :** Cálcule a multiplicação das matrizes abaixo usando método algébrico e compare com o resultado usando a biblioteca Numpy.\n",
    "\n",
    "\n",
    "\\begin{equation}\t\n",
    "\tA = \n",
    "\t\\begin{bmatrix}\n",
    "\t\t1 &  2  \\\\\n",
    "\t\t3 &  4 \\\\\n",
    "        5 &  6  \\nonumber \\\\ \n",
    "        \\end{bmatrix}_{(3x2)}\n",
    "    \\\n",
    "    \\\n",
    "    \\\n",
    "    B = \n",
    "\t\\begin{bmatrix}\n",
    "\t\t1 &  3 \\\\\n",
    "\t\t2 &  4  \\nonumber \\\\ \n",
    "\t\\end{bmatrix}_{(2x2)}\n",
    "\\end{equation}\n",
    "\n",
    "\n",
    "**Resultado:**\n",
    "\n",
    "\\begin{equation}\t\n",
    "\tC= A.B = \n",
    "\t\\begin{bmatrix}\n",
    "\t\t5 & 11  \\\\\n",
    "\t\t11 & 25  \\\\\n",
    "        17 & 39 \\nonumber \\\\ \n",
    "        \\end{bmatrix}\n",
    "    \\end{equation}\n"
   ]
  },
  {
   "cell_type": "code",
   "execution_count": 10,
   "id": "afd3660b-be99-47d6-8193-7719971fcf0a",
   "metadata": {},
   "outputs": [
    {
     "data": {
      "text/plain": [
       "[[5, 11], [11, 25], [17, 39]]"
      ]
     },
     "execution_count": 10,
     "metadata": {},
     "output_type": "execute_result"
    }
   ],
   "source": [
    "# Cálculo usando métodos algébricos;\n",
    "\n",
    "# Matriz A.\n",
    "a11, a12 = 1, 2\n",
    "a21, a22 = 3, 4\n",
    "a31, a32 = 5, 6\n",
    "\n",
    "# Matriz B.\n",
    "b11, b12 = 1, 3\n",
    "b21, b22 = 2, 4\n",
    "\n",
    "# Matriz C=A.B\n",
    "c11 = a11*b11 + a12*b21\n",
    "c12 = a11*b12 + a12*b22 \n",
    "c21 = a21*b11 + a22*b21\n",
    "c22 = a21*b12 + a22*b22\n",
    "c31 = a31*b11 + a32*b21\n",
    "c32 = a31*b12 + a32*b22\n",
    "\n",
    "\n",
    "C = [[c11, c12],\n",
    "     [c21, c22],\n",
    "     [c31, c32]\n",
    "    ]\n",
    "C"
   ]
  },
  {
   "cell_type": "markdown",
   "id": "e4bded9c-41ba-4334-ae7a-facc1d5e49b7",
   "metadata": {},
   "source": [
    "__Vamos conferir os resultados resolvendo com a biblioteca Numpy__."
   ]
  },
  {
   "cell_type": "code",
   "execution_count": 11,
   "id": "aef2aefa-a4b8-421b-bb59-7b695c50e464",
   "metadata": {},
   "outputs": [
    {
     "data": {
      "text/plain": [
       "array([[ 5, 11],\n",
       "       [11, 25],\n",
       "       [17, 39]])"
      ]
     },
     "execution_count": 11,
     "metadata": {},
     "output_type": "execute_result"
    }
   ],
   "source": [
    "import numpy as np\n",
    "\n",
    "# Matriz A:\n",
    "A_mult = np.array([[1, 2],\n",
    "             [3, 4],\n",
    "             [5, 6]])\n",
    "\n",
    "# Matriz B.\n",
    "B_mult = np.array([[1, 3],\n",
    "             [2, 4]])\n",
    "\n",
    "# Se multiplicarmos C_mult=A_mult*B_mult vai aparecer erro.\n",
    "# tem que usar \"matmult\".\n",
    "C_mult = np.matmul(A_mult,B_mult)\n",
    "\n",
    "C_mult"
   ]
  },
  {
   "cell_type": "markdown",
   "id": "a6e926d0-06f1-4bfd-944c-b648a06ce660",
   "metadata": {},
   "source": [
    "__Vamos resolver mais um exercício__ \n",
    "\n",
    "Sabendo-se que a matriz $A$ e $B$ são dadas abaixo, calcule a matriz $C=A.B$.\n",
    "\n",
    "\\begin{equation}\n",
    "\t \tA = \n",
    " \t\\begin{bmatrix}\n",
    "\t\t2 & 3 \\\\\n",
    " \t\t4 & 6 \\\\\n",
    " \t\\end{bmatrix}_{(2x2)} \n",
    " \t\\\n",
    " \t\\\n",
    " \tB = \n",
    "\t\\begin{bmatrix}\n",
    " \t\t1 & 3 & 0 \\\\\n",
    "\t\t2 & 1 & 1 \\\\\n",
    "\t\\end{bmatrix}_{(2x3)}\n",
    "\\end{equation}"
   ]
  },
  {
   "cell_type": "markdown",
   "id": "ab968356-d5d1-4863-ad95-bb5c74b4dcfa",
   "metadata": {},
   "source": [
    "__Solução__:\n",
    "\n",
    "__Solução__:\n",
    "\n",
    " Vamos colocar as matrizes $A$ e $B$ com notações tais que: $A=[a_{i,j}]$ e $B=[b_{i,j}]$.\n",
    "\n",
    "\\begin{equation}\n",
    "\t \t\\begin{bmatrix}\n",
    "\t\t \t\ta_{11} & a_{12} \\\\\n",
    "\t\t \t\ta_{21} & a_{22} \n",
    "\t\t \t\\end{bmatrix}  \n",
    "\t \t.\n",
    "\t \t\\begin{bmatrix}\n",
    "\t\t \t\tb_{11} & b_{12} & b_{13} \\\\\n",
    "\t\t \t\tb_{21} & b_{22} & b_{23} \n",
    "\t\t \t\\end{bmatrix}\n",
    "\t \t=\n",
    "\t \t\\begin{bmatrix}\n",
    "a_{11}.b_{11} + a_{12}.b_{21} & a_{11}.b_{12} + a_{12}.b_{22}  & a_{11}.b_{13} + a_{12}.b_{23} \\\\\n",
    "a_{21}.b_{11} + a_{22}.b_{21} & a_{21}.b_{12} + a_{22} b_{22} & a_{21}.b_{13} + a_{22}.b_{23} \n",
    "\t\t \\end{bmatrix}  \n",
    "\\end{equation}\n"
   ]
  },
  {
   "cell_type": "code",
   "execution_count": 12,
   "id": "566644c9-087a-4eed-ab1f-6c43bc09f9e8",
   "metadata": {},
   "outputs": [
    {
     "data": {
      "text/plain": [
       "[[8, 9, 3], [16, 18, 6]]"
      ]
     },
     "execution_count": 12,
     "metadata": {},
     "output_type": "execute_result"
    }
   ],
   "source": [
    "# Declarando a Matriz A:\n",
    "a11, a12 = 2,3\n",
    "a21, a22 = 4,6\n",
    "\n",
    "# Declarando a Matriz B:\n",
    "b11, b12, b13 = 1, 3, 0\n",
    "b21, b22, b23 = 2, 1, 1\n",
    "\n",
    "# Cálculo das células cij.\n",
    "c11 = a11*b11 + a12*b21\n",
    "c12 = a11*b12 + a12*b22\n",
    "c13 = a11*b13 + a12*b23\n",
    "\n",
    "c21 = a21*b11 + a22*b21\n",
    "c22 = a21*b12 + a22*b22 \n",
    "c23 = a21*b13 + a22*b23\n",
    "\n",
    "# Cálculo da Matriz.\n",
    "c = [[c11, c12, c13],\n",
    "     [c21, c22, c23]]\n",
    "c"
   ]
  },
  {
   "cell_type": "markdown",
   "id": "6ca4ccfe-27dd-4a0d-90ca-737b5f18f767",
   "metadata": {},
   "source": [
    "__Agora vamos resolver usando Numpy__."
   ]
  },
  {
   "cell_type": "code",
   "execution_count": 13,
   "id": "5e80f184-3a7f-47f3-9ad6-fce30502343a",
   "metadata": {},
   "outputs": [
    {
     "data": {
      "text/plain": [
       "array([[ 8,  9,  3],\n",
       "       [16, 18,  6]])"
      ]
     },
     "execution_count": 13,
     "metadata": {},
     "output_type": "execute_result"
    }
   ],
   "source": [
    "import numpy as np\n",
    "# Declarando a Matriz A:\n",
    "A = np.array([[2, 3],\n",
    "              [4, 6]])\n",
    "\n",
    "# Declarando a Matriz B:\n",
    "B = np.array([[1, 3, 0],\n",
    "              [2, 1, 1]])\n",
    "\n",
    "# Cálculo de C.\n",
    "C = np.matmul(A,B)\n",
    "C"
   ]
  },
  {
   "cell_type": "markdown",
   "id": "37fcc572-0ad3-4166-b543-d1db8d2e8f63",
   "metadata": {},
   "source": [
    "__Exercício: Vamos resolver mais um exercício aumentando o número de colunas da matriz $B$__.\n",
    "\n",
    "Seja o conjunto de matrizes abaixo:\n",
    "\n",
    "\\begin{equation}\t\n",
    "\tA = \n",
    "\t\\begin{bmatrix}\n",
    "\t\ta_{11} &  a_{12}  \\\\\n",
    "\t\ta_{21} &  a_{22} \\\\\n",
    "        a_{31} &  a_{32}\\nonumber \\\\ \n",
    "        \\end{bmatrix}_{(3x2)}\n",
    "    \\\n",
    "    \\\n",
    "    B = \n",
    "\t\\begin{bmatrix}\n",
    "\t\tb_{11} &  b_{12} &  b_{13}  \\\\\n",
    "\t\tb_{21} &  b_{22} &  b_{23}  \\nonumber \\\\ \n",
    "\t\\end{bmatrix}_{(2x3)}\n",
    "\\end{equation}\n",
    "\n",
    "Como podemos fazer a multiplicação dessas matrizes?\n",
    "\n",
    "\\begin{equation}\n",
    "C = A.B = \n",
    "\\begin{bmatrix}\n",
    "a_{11}.b_{11} + a_{12}.b_{21}  &  a_{11}.b_{12} + a_{12}.b_{22} &  a_{11}.b_{13} + a_{12}.b_{23} \\\\\n",
    "a_{21}.b_{11} + a_{22}.b_{21}  &  a_{21}.b_{12} + a_{22}.b_{22} &  a_{21}.b_{13} + a_{22}.b_{23} \\\\\n",
    "b_{31}.b_{11} + a_{32}.b_{21}  &  a_{31}.b_{12} + a_{32}.b_{22} &  a_{31}.b_{13} + a_{32}.b_{23}   \\nonumber \\\\ \n",
    "\\end{bmatrix}\n",
    "\\end{equation}"
   ]
  },
  {
   "cell_type": "markdown",
   "id": "e79cbe6a-434d-4f37-8ad4-b85588b79c09",
   "metadata": {},
   "source": [
    "__Exercício de aplicação__:\n",
    "\n",
    "Vamos resolver de forma computacional a multiplicação das matrizes abaixo:\n",
    "\n",
    "\\begin{equation}\t\n",
    "\tA = \n",
    "\t\\begin{bmatrix}\n",
    "\t\t1 & 2 \\\\\n",
    "\t\t3 & 4 \\\\\n",
    "        5 & 6\\nonumber \\\\ \n",
    "        \\end{bmatrix}_{(3,2)}\n",
    "    \\\n",
    "    \\\n",
    "    B = \n",
    "\t\\begin{bmatrix}\n",
    "\t\t1 &  3 &  5  \\\\\n",
    "\t\t2 &  4 &  6  \\nonumber \\\\ \n",
    "\t\\end{bmatrix}_{(2,3)}\n",
    "\\end{equation}\n",
    "\n",
    "__Resposta__:\n",
    "\\begin{equation}\t\n",
    "\tA = \n",
    "\t\\begin{bmatrix}\n",
    "\t\t5 & 11 & 17 \\\\\n",
    "\t\t11 & 25 & 39 \\\\\n",
    "        17 & 39 & 61 \\nonumber \\\\ \n",
    "        \\end{bmatrix}\n",
    "    \\end{equation}\n"
   ]
  },
  {
   "cell_type": "markdown",
   "id": "6bea4fe4-b216-4cc7-8713-0cb78c74d8b3",
   "metadata": {},
   "source": [
    "__Vamos resolver usando métodos algébricos__."
   ]
  },
  {
   "cell_type": "code",
   "execution_count": 14,
   "id": "6d92db1c-4bcf-4ee7-ba34-71482871fe22",
   "metadata": {},
   "outputs": [],
   "source": [
    "# Matriz A:\n",
    "a11, a12 = 1, 2\n",
    "a21, a22 = 3, 4\n",
    "a31, a32 = 5, 6\n",
    "\n",
    "# Matriz B:\n",
    "b11, b12, b13 = 1, 3, 5\n",
    "b21, b22, b23 = 2, 4, 6\n",
    "\n",
    "# Matriz C = A.B\n",
    "# primeira linha.\n",
    "c11 = a11*b11 + a12*b21 \n",
    "c12 = a11*b12 + a12*b22\n",
    "c13 = a11*b13 + a12*b23\n",
    "\n",
    "# segunda linha.\n",
    "c21 = a21*b11 + a22*b21\n",
    "c22 = a21*b12 + a22*b22\n",
    "c23 = a21*b13 + a22*b23\n",
    "\n",
    "# terceira linha.\n",
    "c31 = a31*b11 + a32*b21\n",
    "c32 = a31*b12 + a32*b22\n",
    "c33 = a31*b13 + a32*b23\n"
   ]
  },
  {
   "cell_type": "code",
   "execution_count": 15,
   "id": "aab659b1-9f44-43d6-9ab2-d5130045afd6",
   "metadata": {},
   "outputs": [
    {
     "data": {
      "text/plain": [
       "[[5, 11, 17], [11, 25, 39], [17, 39, 61]]"
      ]
     },
     "execution_count": 15,
     "metadata": {},
     "output_type": "execute_result"
    }
   ],
   "source": [
    "c = [[c11, c12, c13],\n",
    "     [c21, c22, c23],\n",
    "     [c31, c32, c33]\n",
    "    ]\n",
    "c"
   ]
  },
  {
   "cell_type": "markdown",
   "id": "777095f2-1f4b-41e0-804b-70ec5c80e491",
   "metadata": {},
   "source": [
    "__Agora vamos resolver usando a biblioteca Numpy__."
   ]
  },
  {
   "cell_type": "code",
   "execution_count": 16,
   "id": "66ddd80b-7a9d-40c8-9cf3-c0bb3ba24926",
   "metadata": {},
   "outputs": [
    {
     "data": {
      "text/plain": [
       "array([[ 5, 11, 17],\n",
       "       [11, 25, 39],\n",
       "       [17, 39, 61]])"
      ]
     },
     "execution_count": 16,
     "metadata": {},
     "output_type": "execute_result"
    }
   ],
   "source": [
    "import numpy as np\n",
    "\n",
    "# Matriz A:\n",
    "A = np.array([[1, 2],\n",
    "             [3, 4],\n",
    "             [5, 6]])\n",
    "\n",
    "# Matriz B.\n",
    "B = np.array([[1, 3, 5],\n",
    "             [2, 4, 6]])\n",
    "\n",
    "C = np.matmul(A,B)\n",
    "\n",
    "C"
   ]
  },
  {
   "cell_type": "markdown",
   "id": "37b55e45-b048-4c93-8298-f2a94170abcb",
   "metadata": {},
   "source": [
    "<div style=\"text-align: center; font-size: 12px; color: gray; margin-top: 40px;\">\n",
    "  Este notebook foi desenvolvido no âmbito do Grupo de Pesquisas em Modelagem Computacional da UESC.<br>\n",
    "  Todos os direitos reservados © 2025\n",
    "</div>"
   ]
  }
 ],
 "metadata": {
  "kernelspec": {
   "display_name": "base",
   "language": "python",
   "name": "python3"
  },
  "language_info": {
   "codemirror_mode": {
    "name": "ipython",
    "version": 3
   },
   "file_extension": ".py",
   "mimetype": "text/x-python",
   "name": "python",
   "nbconvert_exporter": "python",
   "pygments_lexer": "ipython3",
   "version": "3.11.7"
  }
 },
 "nbformat": 4,
 "nbformat_minor": 5
}
