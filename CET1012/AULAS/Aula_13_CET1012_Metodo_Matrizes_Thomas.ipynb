{
 "cells": [
  {
   "cell_type": "markdown",
   "id": "3ca4a149",
   "metadata": {},
   "source": [
    "<div style=\"text-align: center;\">\n",
    "\n",
    "  <!-- Logotipo -->\n",
    "  <img src=\"img/LogoUesc.png\" alt=\"UESC\" style=\"width: 60px; display: block; margin: 0 auto 5px auto;\">\n",
    "\n",
    "  <!-- Cabeçalho -->\n",
    "  <div style=\"font-size: 20px;\"><strong>UNIVERSIDADE ESTADUAL DE SANTA CRUZ - UESC</strong></div>\n",
    "  <div style=\"font-size: 18px;\">DEPARTAMENTO DE ENGENHARIAS E COMPUTAÇÃO</div>\n",
    "  <div style=\"font-size: 18px;\">ENGENHARIA QUÍMICA</div>\n",
    "\n",
    "  <hr style=\"margin: 20px 0; border: 1px solid #0074B7;\">\n",
    "\n",
    "  <!-- Título do Trabalho -->\n",
    "  <div style=\"font-size: 22px; font-weight: bold; margin-bottom: 10px;\">Modelagem, Simulação e Otimização de Processos Químicos</div>\n",
    "  <div style=\"font-size: 20px; font-weight: bold; margin-bottom: 10px;\">Métodos de Matrizes de Thomas - Aplicação</div>\n",
    "\n",
    "  <!-- Autor e orientador -->\n",
    "  <div style=\"font-size: 18px;\">Prof. Dr. E.R.Edwards</div>\n",
    "\n",
    "<hr style=\"margin: 20px 0; border: 1px solid #0074B7;\">\n",
    "  <!-- Data -->\n",
    "<!-- <div style=\"font-size: 16px; margin-top: 15px;\">Ilhéus - BA, Abril de 2025</div> -->\n",
    "</div>"
   ]
  },
  {
   "cell_type": "markdown",
   "id": "570f0dba",
   "metadata": {},
   "source": [
    "<div style=\"background-color: #e6f2ff; border-left: 6px solid #0074B7; padding: 10px; font-size: 16px;\">\n",
    "  <strong>Resolução de matrizes esparsas usando o Teorema de Thomas.</strong> \n",
    "</div>"
   ]
  },
  {
   "cell_type": "markdown",
   "id": "382c4192",
   "metadata": {},
   "source": [
    "Suponha o processo de separação abaixo:"
   ]
  },
  {
   "cell_type": "markdown",
   "id": "ae342ff8",
   "metadata": {
    "vscode": {
     "languageId": "plaintext"
    }
   },
   "source": [
    "<img src=\"img/destilacao_site.png\" alt=\"UESC\" style=\"width: 550px; display: block; margin: 0 auto 5px auto;\">\n",
    "<p style=\"text-align: center;\"><strong>Figura: Processo de separação de Petróleo.</strong></p>"
   ]
  },
  {
   "cell_type": "markdown",
   "id": "ebf1b393",
   "metadata": {},
   "source": [
    "Nós podemos colocar vários dados de temperatura versus frações químicas por intervalo de ebulição de forma que a matriz tenha a forma:"
   ]
  },
  {
   "cell_type": "markdown",
   "id": "d5fed2ab",
   "metadata": {},
   "source": [
    "<img src=\"img/tabela_petroleo.png\" alt=\"UESC\" style=\"width: 550px; display: block; margin: 0 auto 5px auto;\">\n",
    "<p style=\"text-align: center;\"><strong>Figura: Temperatura de separação de componentes do petróleo.</strong></p>"
   ]
  },
  {
   "cell_type": "markdown",
   "id": "a915399f",
   "metadata": {},
   "source": [
    "__Matrizes Tridiagonais em Python - (Algoritmo de Thomas)__\n",
    "\n",
    "Na modelagem de problemas em que são utilizadas equações diferenciais para resolução de problemas de Engenharia, uma das ferrametnas utilizadas é a técnica matricial. Um tipo de matriz que aparece muito nos cálculos são chamadas de **Matrizes Tridiagonais** (ou *Tridiagonal Matrix Algorithm - TDMA*)"
   ]
  },
  {
   "cell_type": "markdown",
   "id": "893a94cf",
   "metadata": {},
   "source": [
    "<img src=\"img/Thomas1.png\" alt=\"UESC\" style=\"width: 550px; display: block; margin: 0 auto 5px auto;\">\n",
    "<p style=\"text-align: center;\"><strong>Figura: Matriz Tridiagonal\n",
    ".</strong></p>"
   ]
  },
  {
   "cell_type": "markdown",
   "id": "72595afa",
   "metadata": {},
   "source": [
    "Este tipo de matriz aparece em muitos problemas em que são necessários a resolução de um sistema  $mxn$ com valores elevados. \n",
    "<br>Imagine o **desgaste computacional** para resolução de um problema com matrizes com **muitos zeros** e poucos números."
   ]
  },
  {
   "cell_type": "markdown",
   "id": "67d15e65",
   "metadata": {},
   "source": [
    "Condições:\n",
    "- Armazenar apenas as células da matriz que possui números, não será necessário armazenar todos os  $n$ valores armazenados em todas as células da matriz, em especial as que possuem armazenamento de zeros.\n",
    "- Vamos armazenar apenas os vetores numéricos  $a_n$, $b_n$ e $c_n$\n",
    "- Os valores de $a_1$ e $c_n$ são nulos, então podemos definir: $a_1 = c_n = 0$"
   ]
  },
  {
   "cell_type": "markdown",
   "id": "3fa19846",
   "metadata": {},
   "source": [
    "__Aplicação do Algoritmo de Thomas__\n",
    "\n",
    "Para resolução de matriz dessa natureza vamos aplicar o algoritmo de Thomas seguindo três passos de resolução:\n",
    "- **Expressão 1**:\n",
    "   Determinar o valor de $\\beta_i$ dada por:\n",
    "\n",
    "  $$ \\beta_i = \\frac{c_i}{b_i}, \\ i = 1  $$\n",
    "\n",
    "  $$ \\beta_i = \\frac{c_i}{b_i-a_i.\\beta_i},  \\ i =  2, 3,..., n-1 $$\n",
    "\n",
    "  - **Expressão 2**:\n",
    "Determinar o valor de $\\gamma_i$ dada por:\n",
    "$$\\gamma_i = \\frac{d_i}{b_i}, \\ i = 1$$\n",
    "$$\\gamma_i = \\frac{d_i - a_i.\\gamma_{i-1}}{b_i - a_i.\\beta_{i-1}}, \\ i =  2, 3,..., n-1$$\n",
    "\n",
    "- **Expressão 3**:  Dessa forma, podemos determinar os valores das icógnitas do vetor $\\vec{x}$ da expressão $A.\\vec{x}=\\vec{b}$ utilizando cálculos computacionais.  As expressões abaixo mostram  como extrair os valores de $x$ das expressões da Matriz diagonal.\n",
    "\t\t\n",
    "$$x_n = \\gamma_n$$\n",
    "$$ x_i = \\gamma_i - \\beta_i.x_{i+1} $$"
   ]
  },
  {
   "cell_type": "markdown",
   "id": "1f8e66c2",
   "metadata": {},
   "source": [
    "__Aplicação__:\n",
    "\n",
    "Suponha que na resolução de um problema de Engenharia você encontre o conjunto de $7$ Equações e $7$ incógnitas como apresentado abaixo. Se o número de Equações é igual ao número de incógnitas então o problema tem solução. Mas como resolver uma expressão tão complexa como essa com poucas células com valores numéricos e muitas células preenchidas com zeros?"
   ]
  },
  {
   "cell_type": "markdown",
   "id": "374286de",
   "metadata": {},
   "source": [
    "<img src=\"img/Thomas1.png\" alt=\"UESC\" style=\"width: 550px; display: block; margin: 0 auto 5px auto;\">\n",
    "<p style=\"text-align: center;\"><strong>Figura: Matriz Tridiagonal\n",
    ".</strong></p>"
   ]
  },
  {
   "cell_type": "markdown",
   "id": "99ae9bb0",
   "metadata": {},
   "source": [
    "__Passo 1__:\n",
    "\n",
    "Inicialmente precisamos separar os valores numéricos das variáveis da expressão de tal forma que torne-se: ${\\color{blue}A.\\vec{x}=\\vec{b}}$. \n",
    "<br>A expressão abaixo mostra esse passo com a separação da Matriz ${\\color{blue} A}$ dos valores numéricos dos vetores ${\\color{blue} \\vec{x}}$ e ${\\color{blue} \\vec{b}}$\n",
    "\n",
    "Observe que a expressão abaixo cai na matriz: $A. {\\color{red}\\vec{x}} = \\vec{d}$"
   ]
  },
  {
   "cell_type": "markdown",
   "id": "9531f08d",
   "metadata": {},
   "source": [
    "<img src=\"img/Thomas3.png\" alt=\"UESC\" style=\"width: 500px; display: block; margin: 0 auto 5px auto;\">\n",
    "<p style=\"text-align: center;\"><strong>Figura: Matriz Tridiagonal\n",
    ".</strong></p>"
   ]
  },
  {
   "cell_type": "markdown",
   "id": "4a698a4d",
   "metadata": {},
   "source": [
    "Vamos rearranjar a matriz $A$ de forma que possamos identificar os valores armazenados em cada célula com llinhas e colunas. \n",
    "<br>Vamos também identificar os valores na coluna $b$.\n",
    "\n",
    "Observe que $a_1$ e $c_7$ são nulos pois estão fora da matriz."
   ]
  },
  {
   "cell_type": "markdown",
   "id": "76110c32",
   "metadata": {},
   "source": [
    "<img src=\"img/Thomas3b.png\" alt=\"UESC\" style=\"width: 600px; display: block; margin: 0 auto 5px auto;\">\n",
    "<p style=\"text-align: center;\"><strong>\n",
    "</strong></p>"
   ]
  },
  {
   "cell_type": "markdown",
   "id": "7f168946",
   "metadata": {},
   "source": [
    "__Passo 2__:\n",
    "\n",
    "Vamos substituir os valores numéricos para calcular o valor de $\\beta$ no passo da **Expressão 1**."
   ]
  },
  {
   "cell_type": "markdown",
   "id": "d96c7dc2",
   "metadata": {},
   "source": [
    "<img src=\"img/Thomas5.png\" alt=\"UESC\" style=\"width: 350px; display: block; margin: 0 auto 5px auto;\">\n",
    "<p style=\"text-align: center;\"><strong>\n",
    "</strong></p>"
   ]
  },
  {
   "cell_type": "markdown",
   "id": "48d28952",
   "metadata": {},
   "source": [
    "__Passo 3__:\n",
    "Agora, vamos substituir os valores numéricos nas variáveis da **Expressão 2** para calcular o valor de $\\gamma$."
   ]
  },
  {
   "cell_type": "markdown",
   "id": "a179f695",
   "metadata": {},
   "source": [
    "<img src=\"img/Thomas6.png\" alt=\"UESC\" style=\"width: 350px; display: block; margin: 0 auto 5px auto;\">\n",
    "<p style=\"text-align: center;\"><strong> \n",
    "</strong></p>"
   ]
  },
  {
   "cell_type": "markdown",
   "id": "6051a686",
   "metadata": {},
   "source": [
    "__Passo 4__:\n",
    "\n",
    "Após obtidos os valores de $\\beta_i$ e $\\gamma_i$ podemos determinar os valos do vetor $\\vec{x}$ utilizando a **Expressão 3**."
   ]
  },
  {
   "cell_type": "markdown",
   "id": "8f421751",
   "metadata": {},
   "source": [
    "<img src=\"img/Thomas7.png\" alt=\"UESC\" style=\"width: 550px; display: block; margin: 0 auto 5px auto;\">\n",
    "<p style=\"text-align: center;\"><strong> \n",
    "</strong></p>"
   ]
  },
  {
   "cell_type": "markdown",
   "id": "2b5f1969",
   "metadata": {},
   "source": [
    "<img src=\"img/Thomas8.png\" alt=\"UESC\" style=\"width: 550px; display: block; margin: 0 auto 5px auto;\">\n",
    "<p style=\"text-align: center;\"><strong> \n",
    "</strong></p>"
   ]
  },
  {
   "cell_type": "markdown",
   "id": "e539d4a0",
   "metadata": {},
   "source": [
    "__Resolução Computacional__\n",
    "\n",
    "Vamos voltar novamente na matriz $A$ e declarar os valores das variáveis de cada linha."
   ]
  },
  {
   "cell_type": "markdown",
   "id": "97436748",
   "metadata": {},
   "source": [
    "<img src=\"img/Thomas3b.png\" alt=\"UESC\" style=\"width: 600px; display: block; margin: 0 auto 5px auto;\">\n",
    "<p style=\"text-align: center;\"><strong> \n",
    "</strong></p>"
   ]
  },
  {
   "cell_type": "code",
   "execution_count": 13,
   "id": "0dc622c8",
   "metadata": {},
   "outputs": [],
   "source": [
    "# Declarand0 as variáveis em cada linha.\n",
    "b1, c1 = -2, 1\n",
    "a2, b2, c2 = 1, -2, 1\n",
    "a3, b3, c3 = 1, -2, 1\n",
    "a4,  b4, c4 = 1, -2, 1\n",
    "a5, b5, c5 = 1, -2, 1\n",
    "a6, b6, c6 = 1, -2, 1\n",
    "a7, b7 = 1, -2\n",
    "\n",
    "# Declarando a matriz d.\n",
    "d1, d2, d3, d4, d5, d6, d7 = -240, -40, -40, -40, -40, -40, -60"
   ]
  },
  {
   "cell_type": "markdown",
   "id": "c03b2a0a",
   "metadata": {},
   "source": [
    "- **Expressão 1**:\n",
    "   Determinar o valor de $\\beta_i$ dada por:\n",
    "  $$ \\beta_i = \\frac{c_i}{b_i}, \\ i = 1  $$\n",
    "  $$ \\beta_i = \\frac{c_i}{b_i-a_i.\\beta_i},  \\ i =  2, 3,..., n-1 $$"
   ]
  },
  {
   "cell_type": "code",
   "execution_count": 14,
   "id": "34e24ad3",
   "metadata": {},
   "outputs": [
    {
     "name": "stdout",
     "output_type": "stream",
     "text": [
      "O resultato de beta1 =  -0.5\n",
      "O resultato de beta2 = -0.67 \n",
      "O resultato de beta3 = -0.75 \n",
      "O resultato de beta4 = -0.80 \n",
      "O resultato de beta5 = -0.83 \n",
      "O resultato de beta6 = -0.86 \n"
     ]
    }
   ],
   "source": [
    "# Determinação de Beta.\n",
    "beta1 = c1/b1\n",
    "beta2 = c2/(b2-a2*beta1)\n",
    "beta3 = c3/(b3-a3*beta2)\n",
    "beta4 = c4/(b4-a4*beta3)\n",
    "beta5 = c5/(b5-a5*beta4)\n",
    "beta6 = c6/(b6-a6*beta5)\n",
    "\n",
    "# Observer que vai até beta6 porque c7 não existe.\n",
    "\n",
    "print('O resultato de beta1 = ', beta1)\n",
    "print('O resultato de beta2 = {:.2f} '.format(beta2))\n",
    "print('O resultato de beta3 = {:.2f} '.format(beta3))\n",
    "print('O resultato de beta4 = {:.2f} '.format(beta4))\n",
    "print('O resultato de beta5 = {:.2f} '.format(beta5))\n",
    "print('O resultato de beta6 = {:.2f} '.format(beta6))"
   ]
  },
  {
   "cell_type": "markdown",
   "id": "3ffe31e7",
   "metadata": {},
   "source": [
    "- **Expressão 2**:\n",
    "Determinar o valor de $\\gamma_i$ dada por:\n",
    "$$\\gamma_i = \\frac{d_i}{b_i}, \\ i = 1$$\n",
    "$$\\gamma_i = \\frac{d_i - a_i.\\gamma_{i-1}}{b_i - a_i.\\beta_{i-1}}, \\ i =  2, 3,..., n-1$$"
   ]
  },
  {
   "cell_type": "markdown",
   "id": "05388a4a",
   "metadata": {},
   "source": [
    "<img src=\"img/Thomas3b.png\" alt=\"UESC\" style=\"width: 600px; display: block; margin: 0 auto 5px auto;\">\n",
    "<p style=\"text-align: center;\"><strong> \n",
    "</strong></p>"
   ]
  },
  {
   "cell_type": "code",
   "execution_count": 15,
   "id": "2c45a790",
   "metadata": {},
   "outputs": [
    {
     "name": "stdout",
     "output_type": "stream",
     "text": [
      "O resultado do gama1 =  120.0\n",
      "O resultado do gama2 = 106.67\n",
      "O resultado do gama3 = 110.00\n",
      "O resultado do gama4 = 120.00\n",
      "O resultado do gama5 = 133.33\n",
      "O resultado do gama6 = 148.57\n",
      "O resultado do gama7 = 182.50\n"
     ]
    }
   ],
   "source": [
    "# Determinação de Gama.\n",
    "\n",
    "gama1 = d1/b1\n",
    "gama2 = (d2 - a2*gama1) /  (b2 - a2*beta1)\n",
    "gama3 = (d3 - a3*gama2) /  (b3 - a3*beta2)\n",
    "gama4 = (d4 - a4*gama3) /  (b4 - a4*beta3)\n",
    "gama5 = (d5 - a5*gama4) /  (b5 - a5*beta4)\n",
    "gama6 = (d6 - a6*gama5) /  (b6 - a6*beta5)\n",
    "gama7 = (d7 - a7*gama6) /  (b7 - a7*beta6)\n",
    "\n",
    "print('O resultado do gama1 = ', gama1)\n",
    "print('O resultado do gama2 = {:.2f}'.format(gama2))\n",
    "print('O resultado do gama3 = {:.2f}'.format(gama3))\n",
    "print('O resultado do gama4 = {:.2f}'.format(gama4))\n",
    "print('O resultado do gama5 = {:.2f}'.format(gama5))\n",
    "print('O resultado do gama6 = {:.2f}'.format(gama6))\n",
    "print('O resultado do gama7 = {:.2f}'.format(gama7))"
   ]
  },
  {
   "cell_type": "markdown",
   "id": "dbc34eb9",
   "metadata": {},
   "source": [
    "- **Expressão 3**: Determinar dos valores das icógnitas do vetor $\\vec{x}$ da expressão $A.\\vec{x}=\\vec{b}$ \t\t\n",
    "$$x_n = \\gamma_n$$\n",
    "$$ x_i = \\gamma_i - \\beta_i.x_{i+1} $$"
   ]
  },
  {
   "cell_type": "code",
   "execution_count": 16,
   "id": "9f469c38",
   "metadata": {},
   "outputs": [
    {
     "name": "stdout",
     "output_type": "stream",
     "text": [
      "--------------------------------------------------\n",
      "     RESULTADOS        \n",
      "--------------------------------------------------\n",
      "O resultado de x1 =  317.5\n",
      "O resultado de x2 =  395.00\n",
      "O resultado de x3 =  432.50\n",
      "O resultado de x4 =  430.00\n",
      "O resultado de x5 =  387.50\n",
      "O resultado de x6 =  305.00\n",
      "O resultado de x7 =  182.50\n",
      "--------------------------------------------------\n"
     ]
    }
   ],
   "source": [
    "x7 = gama7\n",
    "x6 = gama6 - beta6*x7\n",
    "x5 = gama5 - beta5*x6\n",
    "x4 = gama4 - beta4*x5\n",
    "x3 = gama3 - beta3*x4\n",
    "x2 = gama2 - beta2*x3\n",
    "x1 = gama1 - beta1*x2\n",
    "\n",
    "def line():\n",
    "    print('-'*50)\n",
    "\n",
    "\n",
    "line()\n",
    "print('     RESULTADOS        ')\n",
    "line()\n",
    "print('O resultado de x1 = ', x1)\n",
    "print('O resultado de x2 =  {:.2f}'.format(x2))\n",
    "print('O resultado de x3 =  {:.2f}'.format(x3))\n",
    "print('O resultado de x4 =  {:.2f}'.format(x4))\n",
    "print('O resultado de x5 =  {:.2f}'.format(x5))\n",
    "print('O resultado de x6 =  {:.2f}'.format(x6))\n",
    "print('O resultado de x7 =  {:.2f}'.format(x7))\n",
    "line()"
   ]
  },
  {
   "cell_type": "markdown",
   "id": "34c9df5a",
   "metadata": {},
   "source": [
    "Vamos conferir os resultados."
   ]
  },
  {
   "cell_type": "code",
   "execution_count": 17,
   "id": "0ceb9772",
   "metadata": {},
   "outputs": [
    {
     "name": "stdout",
     "output_type": "stream",
     "text": [
      "O resultado de d1 = -240 e z1 = -240.00\n",
      "O resultado de d2 = -40 e z2 = -40.00\n",
      "O resultado de d3 = -40 e z3 = -40.00\n",
      "O resultado de d4 = -40 e z4 = -40.00\n",
      "O resultado de d5 = -40 e z5 = -40.00\n",
      "O resultado de d6 = -40 e z6 = -40.00\n",
      "O resultado de d7 = -60 e z7 = -60.00\n"
     ]
    }
   ],
   "source": [
    "z1 = -2 * x1 + x2 \n",
    "z2 = x1 - 2 * x2 + x3\n",
    "z3 = x2 -2 * x3 + x4\n",
    "z4 = x3 -2 * x4 + x5\n",
    "z5 = x4 -2 * x5 + x6\n",
    "z6 = x5 -2 * x6 + x7\n",
    "z7 = x6 -2* x7\n",
    "\n",
    "# imprimindo os resultados.\n",
    "print('O resultado de d1 = -240 e z1 = {:.2f}'.format(z1))\n",
    "print('O resultado de d2 = -40 e z2 = {:.2f}'.format(z2))\n",
    "print('O resultado de d3 = -40 e z3 = {:.2f}'.format(z3))\n",
    "print('O resultado de d4 = -40 e z4 = {:.2f}'.format(z4))\n",
    "print('O resultado de d5 = -40 e z5 = {:.2f}'.format(z5))\n",
    "print('O resultado de d6 = -40 e z6 = {:.2f}'.format(z6))\n",
    "print('O resultado de d7 = -60 e z7 = {:.2f}'.format(z7))"
   ]
  },
  {
   "cell_type": "markdown",
   "id": "ba128b21",
   "metadata": {},
   "source": [
    "Observe que o cálculo acima é um trabalho repetitivo, dessa forma nós podemos usar função para resolver o problema."
   ]
  },
  {
   "cell_type": "code",
   "execution_count": 18,
   "id": "f6022a45",
   "metadata": {},
   "outputs": [],
   "source": [
    "def line():\n",
    "    print('-'*50)\n",
    "\n",
    "# Dados de entrada.\n",
    "# Decaração das variáveis diagonais em forma de lista.\n",
    "a = [1, 1, 1, 1, 1, 1, 1]\n",
    "b = [ -2, -2, -2, -2, -2, -2, -2]\n",
    "c = [1, 1, 1, 1, 1, 1, 1]\n",
    "\n",
    "# Declarando o vetor d.\n",
    "d = [-240, -40, -40, -40,  -40, -40, -60]   \n",
    "\n",
    "# Declaração dos valores Beta.\n",
    "beta = [0]*6\n",
    "\n",
    "# Declaração dos valores de Gama.\n",
    "gama = [0]*7\n",
    "\n",
    "# Declaração dos resultados.\n",
    "x = [0]*7 \n",
    "z = [0]*7\n",
    "\n",
    "# Expressões para os cálculos.\n",
    "\n",
    "# Determinação de Beta.\n",
    "for i in range(0, 6):\n",
    "    if i == 0:\n",
    "        beta[i] = c[i]/b[i]\n",
    "    else:\n",
    "        beta[i] = c[i]/(b[i] - a[i]*beta[i-1])\n",
    "\n",
    "# Determinação de Gama.\n",
    "\n",
    "for i in range(0, 7):\n",
    "    if i==0:\n",
    "        gama[i] = d[i]/b[i]\n",
    "    else:\n",
    "        gama[i] = (d[i]-a[i] * gama[i-1]) / (b[i]-a[i]*beta[i-1])  \n",
    "\n",
    "# Determinação de x.\n",
    "\n",
    "for i in range(6, -1, -1):\n",
    "    if i ==6:\n",
    "        x[i] = gama[i]\n",
    "    else:\n",
    "        x[i] = (gama[i] - beta[i]*x[i+1])\n",
    "\n",
    "# Conferindo os resultados.\n",
    "\n",
    "for i in range(0, 7):\n",
    "    if i==0:\n",
    "        z[i] = -2*x[i] + x[i+1]\n",
    "    elif i>0 and i<6:\n",
    "        z[i] = x[i-1] -2*x[i]+x[i+1]\n",
    "    else:\n",
    "        z[i] = x[i-1] - 2*x[i]      "
   ]
  },
  {
   "cell_type": "code",
   "execution_count": 19,
   "id": "285341b4",
   "metadata": {},
   "outputs": [
    {
     "name": "stdout",
     "output_type": "stream",
     "text": [
      "--------------------------------------------------\n",
      "As expressões da Tabela 1 são:\n",
      "--------------------------------------------------\n",
      "O valor de beta1 é = -0.50\n",
      "O valor de beta2 é = -0.67\n",
      "O valor de beta3 é = -0.75\n",
      "O valor de beta4 é = -0.80\n",
      "O valor de beta5 é = -0.83\n",
      "O valor de beta6 é = -0.86\n",
      "--------------------------------------------------\n",
      "As expreeões da Tabela 2 são:\n",
      "--------------------------------------------------\n",
      "O valor de gama1 é = 120.00\n",
      "O valor de gama2 é = 106.67\n",
      "O valor de gama3 é = 110.00\n",
      "O valor de gama4 é = 120.00\n",
      "O valor de gama5 é = 133.33\n",
      "O valor de gama6 é = 148.57\n",
      "O valor de gama7 é = 182.50\n",
      "--------------------------------------------------\n",
      " Resultado de x \n",
      "--------------------------------------------------\n",
      "O valor de x7 é = 182.50\n",
      "O valor de x6 é = 305.00\n",
      "O valor de x5 é = 387.50\n",
      "O valor de x4 é = 430.00\n",
      "O valor de x3 é = 432.50\n",
      "O valor de x2 é = 395.00\n",
      "O valor de x1 é = 317.50\n",
      "--------------------------------------------------\n",
      "Conferindo os resultados\n",
      "--------------------------------------------------\n",
      "O valor de z1 é = -240.00\n",
      "O valor de z2 é = -40.00\n",
      "O valor de z3 é = -40.00\n",
      "O valor de z4 é = -40.00\n",
      "O valor de z5 é = -40.00\n",
      "O valor de z6 é = -40.00\n",
      "O valor de z7 é = -60.00\n",
      "--------------------------------------------------\n"
     ]
    }
   ],
   "source": [
    "# Imprimindo os resultados.\n",
    "line()\n",
    "print('As expressões da Tabela 1 são:' )\n",
    "line()\n",
    "for i in range(0,6):\n",
    "    print('O valor de beta{} é = {:.2f}'.format(i+1, beta[i]))\n",
    "line()\n",
    "print('As expreeões da Tabela 2 são:')\n",
    "line()\n",
    "for i in range(0, 7):\n",
    "    print('O valor de gama{} é = {:.2f}'.format(i+1, gama[i]))\n",
    "line()\n",
    "print(' Resultado de x ')\n",
    "line()\n",
    "for i in range(7, 0, -1):\n",
    "    print('O valor de x{} é = {:.2f}'.format(i, x[i-1]))\n",
    "line()\n",
    "print('Conferindo os resultados')\n",
    "line()\n",
    "for i in range(0,7):\n",
    "    print('O valor de z{} é = {:.2f}'.format(i+1, z[i]))\n",
    "line()"
   ]
  },
  {
   "cell_type": "markdown",
   "id": "a7b139ee",
   "metadata": {},
   "source": [
    "<div style=\"text-align: center; font-size: 12px; color: gray; margin-top: 40px;\">\n",
    "  Este notebook foi desenvolvido no âmbito do Grupo de Pesquisas em Modelagem Computacional da UESC.<br>\n",
    "  Todos os direitos reservados © 2025\n",
    "</div>"
   ]
  }
 ],
 "metadata": {
  "kernelspec": {
   "display_name": "base",
   "language": "python",
   "name": "python3"
  },
  "language_info": {
   "codemirror_mode": {
    "name": "ipython",
    "version": 3
   },
   "file_extension": ".py",
   "mimetype": "text/x-python",
   "name": "python",
   "nbconvert_exporter": "python",
   "pygments_lexer": "ipython3",
   "version": "3.11.7"
  }
 },
 "nbformat": 4,
 "nbformat_minor": 5
}
