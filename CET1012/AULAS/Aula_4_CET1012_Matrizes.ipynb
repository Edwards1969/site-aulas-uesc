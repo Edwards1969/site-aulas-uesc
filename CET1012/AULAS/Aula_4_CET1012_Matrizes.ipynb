{
 "cells": [
  {
   "cell_type": "markdown",
   "id": "cbc89fcf",
   "metadata": {},
   "source": [
    "<div style=\"text-align: center;\">\n",
    "\n",
    "  <!-- Logotipo -->\n",
    "  <img src=\"img/LogoUesc.png\" alt=\"UESC\" style=\"width: 60px; display: block; margin: 0 auto 5px auto;\">\n",
    "\n",
    "  <!-- Cabeçalho -->\n",
    "  <div style=\"font-size: 20px;\"><strong>UNIVERSIDADE ESTADUAL DE SANTA CRUZ - UESC</strong></div>\n",
    "  <div style=\"font-size: 18px;\">DEPARTAMENTO DE ENGENHARIAS E COMPUTAÇÃO</div>\n",
    "  <div style=\"font-size: 18px;\">ENGENHARIA QUÍMICA</div>\n",
    "\n",
    "  <hr style=\"margin: 20px 0; border: 1px solid #0074B7;\">\n",
    "\n",
    "  <!-- Título do Trabalho -->\n",
    "  <div style=\"font-size: 22px; font-weight: bold; margin-bottom: 10px;\">Modelagem, Simulação e Otimização de Processos Químicos</div>\n",
    "  <div style=\"font-size: 20px; font-weight: bold; margin-bottom: 10px;\">Cálculo da Inversa de uma Matriz 4x4</div>\n",
    "\n",
    "  <!-- Autor e orientador -->\n",
    "  <div style=\"font-size: 18px;\">Prof. Dr. E.R.Edwards</div>\n",
    "\n",
    "<hr style=\"margin: 20px 0; border: 1px solid #0074B7;\">\n",
    "  <!-- Data -->\n",
    "<!-- <div style=\"font-size: 16px; margin-top: 15px;\">Ilhéus - BA, Abril de 2025</div> -->\n",
    "</div>"
   ]
  },
  {
   "cell_type": "markdown",
   "id": "cab7f9fd-c469-42f4-8a26-12ef8e146412",
   "metadata": {},
   "source": [
    "Suponha uma matriz $A \\times \\vec{x}=\\vec{b}$ de forma que o vetor $\\vec{x}$ seja a incógnita que precisamos determinar, sendo:\n",
    "\n",
    "$$ \n",
    "\\vec{x}= \\frac{b}{A} =A^{-1}.b ...Eq(\\ 2 ) \n",
    "$$ \n",
    "\n",
    "Agora vamos pensar em como resolver um problema em que a matriz $A$ é da forma $4x4$ como mostrado abaixo:\n",
    "\n",
    "\\begin{equation}\n",
    "\tA = \n",
    "\t\\begin{bmatrix}\n",
    "\t\ta_{11} & a_{12}  & a_{13} & a_{14} \\\\\n",
    "\t\ta_{21} & a_{22}  & a_{23} & a_{24} \\\\\n",
    "\t\ta_{31} & a_{32}  & a_{33} & a_{34} \\\\\n",
    "\t\ta_{41} & a_{42}  & a_{43} & a_{44} \\nonumber \\\\ \n",
    "\t\\end{bmatrix} \n",
    "\\end{equation}\n",
    "\n",
    "Para o cálculo das incógnitas, precisamos calcular $A^{-1}$ aplicando a seguinte expressão:\n",
    "\n",
    "$$ \n",
    "A^{-1} = \\frac{1}{det(A)}.A^T ...Eq(2)\n",
    "$$ \n",
    "\n",
    "Sendo:\n",
    "\n",
    "$det(A)$... O determinte da matriz A Eq( 3  )\n",
    "\n",
    "$A^T$... a matriz transposta. Eq( 4 )\n",
    "\n",
    "A matriz Transposta $A^T$ é calculada a partir da matriz Cofator ($A_c$) dada por:\n",
    "\n",
    "$$ \n",
    "A_c = (-1)^{(i+j)} [a_{ij}] ... Eq(5)\n",
    "$$ \n",
    "\n",
    "Dessa forma, conseguimos obter a **Matriz cofator** na  Eq(5), fazer a **Matriz Transposta** na Eq(4) e juntamente com o **Determinante** na Eq(3) encontrar a **Matriz Inversa** ($A^{-1}$) na Eq(2) e obter as incógnitas $\\vec{x}$ na Eq(1).\n",
    "\n",
    "\n"
   ]
  },
  {
   "cell_type": "markdown",
   "id": "c3f6638b-d1c4-4de3-a5e6-4f29d1bab853",
   "metadata": {
    "tags": []
   },
   "source": [
    "#### Aplicação:\n",
    "\n",
    "Dada a matriz $A$, encontre sua inversa, $A^{-1}$ aplicando o método descrito acima.\n",
    "\n",
    "\\begin{equation}\n",
    "A =\n",
    "\t\\begin{bmatrix}\n",
    "\t\t 1 & 2   & 0 & 1 \\\\\n",
    "\t\t-1 & -3  & 0 & 1 \\\\\n",
    "\t     3 & 6   & 1 & 3 \\\\\n",
    "\t\t 2 & 4   & 0 & 3 \\nonumber \\\\ \n",
    "\t\\end{bmatrix} \n",
    "\\end{equation}"
   ]
  },
  {
   "cell_type": "code",
   "execution_count": 23,
   "id": "73fcad5e-1cbf-4bb9-93a4-949aebb878b7",
   "metadata": {},
   "outputs": [],
   "source": [
    "# Inicialmente, temos que  declararmos as variáveis.\n",
    "a11, a12, a13, a14 = 1, 2, 0, 1\n",
    "a21, a22, a23, a24 = -1, -3, 0, 1\n",
    "a31, a32, a33, a34 = 3, 6, 1, 3\n",
    "a41, a42, a43, a44 = 2, 4, 0, 3"
   ]
  },
  {
   "cell_type": "markdown",
   "id": "6aa7fa0c-208b-4769-bed8-d9bf3eecbaff",
   "metadata": {},
   "source": [
    "#### Cálculo das Matrizes cofatores - Ac\n",
    "\n",
    "Vamos pegar o célula $a_{11}$ de tal forma que a linha e coluna dessa célula não sejam usadas.\n",
    "\n",
    "\\begin{equation}\n",
    "c_{11} = (-1)^{(1+1)}.\n",
    "\t\\begin{bmatrix}\n",
    "\ta_{22} & a_{23}  & a_{24}  \\\\\n",
    "\ta_{32} & a_{33}  & a_{34}  \\\\\n",
    "\ta_{42} & a_{43}  & a_{44}  \\nonumber \\\\ \n",
    "\t\\end{bmatrix}  \n",
    "\\end{equation}        "
   ]
  },
  {
   "cell_type": "code",
   "execution_count": 24,
   "id": "d0eaec1e-3005-4dbf-8205-a572356f0766",
   "metadata": {},
   "outputs": [
    {
     "data": {
      "text/plain": [
       "-13"
      ]
     },
     "execution_count": 24,
     "metadata": {},
     "output_type": "execute_result"
    }
   ],
   "source": [
    "# Cálculo para a11\n",
    "# Indices de linhas e colunas a11\n",
    "i = 1\n",
    "j = 1\n",
    "matriz11 = a22*((a33*a44)-(a34*a43))-a23*((a32*a44)-(a34*a42))+a24*((a32*a43)-(a33*a42))\n",
    "\n",
    "c11 = (-1)**(i+j)*matriz11\n",
    "matriz11"
   ]
  },
  {
   "cell_type": "markdown",
   "id": "44af5cc6-0818-41bf-8ccc-23814b98a9cd",
   "metadata": {},
   "source": [
    "Vamos fazer o mesmo para as outras células e seguir os passos da resolução anterior.\n",
    "\\begin{equation}\n",
    "\tc_{12} = (-1)^{(1+2)}.\n",
    "\t\\begin{bmatrix}\n",
    "\t\ta_{21} & a_{23}  & a_{24}  \\\\\n",
    "\t\ta_{31} & a_{33}  & a_{34}  \\\\\n",
    "\t\ta_{41} & a_{43}  & a_{44}  \\nonumber \\\\ \n",
    "\t\\end{bmatrix} \n",
    "\\end{equation}"
   ]
  },
  {
   "cell_type": "code",
   "execution_count": 25,
   "id": "0e25405a-37aa-4e9d-a2db-5a7852d90c52",
   "metadata": {},
   "outputs": [
    {
     "data": {
      "text/plain": [
       "5"
      ]
     },
     "execution_count": 25,
     "metadata": {},
     "output_type": "execute_result"
    }
   ],
   "source": [
    "# Cálculo para a12\n",
    "# Indices de linhas e colunas a12\n",
    "i = 1\n",
    "j = 2\n",
    "matriz12 = a21*((a33*a44)-(a34*a43))-a23*((a31*a44)-(a34*a41))+a24*((a31*a43)-(a33*a41))\n",
    "c12 = (-1)**(i+j)*matriz12\n",
    "c12"
   ]
  },
  {
   "cell_type": "markdown",
   "id": "09f8ff88",
   "metadata": {},
   "source": [
    "Cálculo da célula $a_{13}$.\n",
    "\n",
    "\\begin{equation}\n",
    "c_{13} = (-1)^{(1+3)}.\n",
    "\t\\begin{bmatrix}\n",
    "\t\ta_{21} & a_{22}  & a_{24}  \\\\\n",
    "\t\ta_{31} & a_{32}  & a_{34}  \\\\\n",
    "\t\ta_{41} & a_{42}  & a_{44}  \\nonumber \\\\ \n",
    "\t\\end{bmatrix} \n",
    "\\end{equation}"
   ]
  },
  {
   "cell_type": "code",
   "execution_count": 26,
   "id": "0764dec0",
   "metadata": {},
   "outputs": [
    {
     "data": {
      "text/plain": [
       "3"
      ]
     },
     "execution_count": 26,
     "metadata": {},
     "output_type": "execute_result"
    }
   ],
   "source": [
    "# Cálculo para a13\n",
    "# Indices de linhas e colunas a13.\n",
    "i = 1\n",
    "j = 3\n",
    "\n",
    "matriz13 = a21*((a32*a44)-(a34*a42))-a22*((a31*a44)-(a34*a41))+a24*((a31*a42)-(a32*a41))\n",
    "c13 = (-1)**(i+j)*matriz13\n",
    "c13"
   ]
  },
  {
   "cell_type": "markdown",
   "id": "b8a66320",
   "metadata": {},
   "source": [
    "Cálculo da célula a_{14}.\n",
    "\n",
    "\\begin{equation}\n",
    "\tc_{14} = (-1)^{(1+4)}.\n",
    "\t\\begin{bmatrix}\n",
    "\t\ta_{21} & a_{22}  & a_{23}  \\\\\n",
    "\t\ta_{31} & a_{32}  & a_{33}  \\\\\n",
    "\t\ta_{41} & a_{42}  & a_{43}  \\nonumber \\\\ \n",
    "\t\\end{bmatrix}\n",
    "\\end{equation}"
   ]
  },
  {
   "cell_type": "code",
   "execution_count": 27,
   "id": "e1fe16da",
   "metadata": {},
   "outputs": [
    {
     "data": {
      "text/plain": [
       "2"
      ]
     },
     "execution_count": 27,
     "metadata": {},
     "output_type": "execute_result"
    }
   ],
   "source": [
    "# Cálculo para a14\n",
    "# Indices de linhas e colunas a14.\n",
    "i = 1\n",
    "j = 4\n",
    "\n",
    "matriz14 = a21*((a32*a43)-(a33*a42))-a22*((a31*a43)-(a33*a41))+a23*((a31*a42)-(a32*a41))\n",
    "c14 = (-1)**(i+j)*matriz14\n",
    "c14"
   ]
  },
  {
   "cell_type": "markdown",
   "id": "335d7fc8",
   "metadata": {},
   "source": [
    "Cálculo da célula a_{21}.\n",
    "\\begin{equation}\n",
    "\tc_{21} = (-1)^{(2+1)}.\n",
    "\t\\begin{bmatrix}\n",
    "\t\ta_{12} & a_{13}  & a_{14}  \\\\\n",
    "\t\ta_{32} & a_{33}  & a_{34}  \\\\\n",
    "\t\ta_{42} & a_{43}  & a_{44}  \\nonumber \\\\ \n",
    "\t\\end{bmatrix} \n",
    "\\end{equation}"
   ]
  },
  {
   "cell_type": "code",
   "execution_count": 28,
   "id": "726f4ca2",
   "metadata": {},
   "outputs": [
    {
     "data": {
      "text/plain": [
       "-2"
      ]
     },
     "execution_count": 28,
     "metadata": {},
     "output_type": "execute_result"
    }
   ],
   "source": [
    "# Cálculo para a21.\n",
    "# Indices de linhas e colunas a21\n",
    "i = 2\n",
    "j = 1\n",
    "\n",
    "matriz21 = a12*((a33*a44)-(a34*a43))-a13*((a32*a44)-(a34*a42))+a14*((a32*a43)-(a33*a42))\n",
    "c21 = (-1)**(i+j)*matriz21\n",
    "c21"
   ]
  },
  {
   "cell_type": "markdown",
   "id": "e317f458",
   "metadata": {},
   "source": [
    "Cálculo da célula a_{22}.\n",
    "\\begin{equation}\n",
    "c_{22} = (-1)^{(2+2)}.\n",
    "\t\\begin{bmatrix}\n",
    "\t\ta_{11} & a_{13}  & a_{14}  \\\\\n",
    "\t\ta_{31} & a_{33}  & a_{34}  \\\\\n",
    "\t\ta_{41} & a_{43}  & a_{44}  \\nonumber \\\\ \n",
    "\t\\end{bmatrix} \n",
    "\\end{equation}"
   ]
  },
  {
   "cell_type": "code",
   "execution_count": 29,
   "id": "561e948d",
   "metadata": {},
   "outputs": [
    {
     "data": {
      "text/plain": [
       "1"
      ]
     },
     "execution_count": 29,
     "metadata": {},
     "output_type": "execute_result"
    }
   ],
   "source": [
    "# Cálculo para a22\n",
    "# Indices de linhas e colunas a22\n",
    "i = 2\n",
    "j = 2\n",
    "\n",
    "matriz22 = a11*((a33*a44)-(a34*a43))-a13*((a31*a44)-(a34*a41))+a14*((a31*a43)-(a33*a41))\n",
    "c22 = (-1)**(i+j)*matriz22\n",
    "c22"
   ]
  },
  {
   "cell_type": "markdown",
   "id": "487c5850",
   "metadata": {},
   "source": [
    "Cálculo da célula a_{23}.\n",
    "\n",
    "\\begin{equation}\n",
    "c_{23} = (-1)^{(2+3)}.\n",
    "\t\\begin{bmatrix}\n",
    "\t\ta_{11} & a_{12}  & a_{14}  \\\\\n",
    "\t\ta_{31} & a_{32}  & a_{34}  \\\\\n",
    "\t\ta_{41} & a_{42}  & a_{44}  \\nonumber \\\\ \n",
    "\t\\end{bmatrix} \n",
    "\\end{equation}"
   ]
  },
  {
   "cell_type": "code",
   "execution_count": 30,
   "id": "4706efe7",
   "metadata": {},
   "outputs": [
    {
     "data": {
      "text/plain": [
       "0"
      ]
     },
     "execution_count": 30,
     "metadata": {},
     "output_type": "execute_result"
    }
   ],
   "source": [
    "# Cálculo para a23.\n",
    "# Indices de linhas e colunas a23.\n",
    "i = 2\n",
    "j = 3\n",
    "\n",
    "matriz23 = a11*((a32*a44)-(a34*a42))-a12*((a31*a44)-(a34*a41))+a14*((a31*a42)-(a32*a41))\n",
    "c23 = (-1)**(i+j)*matriz23\n",
    "c23"
   ]
  },
  {
   "cell_type": "markdown",
   "id": "2b38ec5f",
   "metadata": {},
   "source": [
    "Cálculo da célula a_{24}.\n",
    "\\begin{equation}\n",
    "c_{24} = (-1)^{(2+4)}.\n",
    "\t\\begin{bmatrix}\n",
    "\t\ta_{11} & a_{12}  & a_{13}  \\\\\n",
    "\t\ta_{31} & a_{32}  & a_{33}  \\\\\n",
    "\t\ta_{41} & a_{42}  & a_{44}  \\nonumber \\\\ \n",
    "\t\\end{bmatrix} \n",
    "\\end{equation}"
   ]
  },
  {
   "cell_type": "code",
   "execution_count": 31,
   "id": "16681e94",
   "metadata": {},
   "outputs": [
    {
     "data": {
      "text/plain": [
       "0"
      ]
     },
     "execution_count": 31,
     "metadata": {},
     "output_type": "execute_result"
    }
   ],
   "source": [
    "# Cálculo para a24\n",
    "# Indices de linhas e colunas a24\n",
    "i = 2\n",
    "j = 4\n",
    "\n",
    "matriz24 = a11*((a32*a44)-(a33*a42))-a12*((a31*a44)-(a33*a41))+a13*((a31*a42)-(a32*a41))\n",
    "c24 = (-1)**(i+j)*matriz24\n",
    "c24"
   ]
  },
  {
   "cell_type": "markdown",
   "id": "45a3a61b",
   "metadata": {},
   "source": [
    "Cálculo da célula a_{31}.\n",
    "\\begin{equation}\n",
    "c_{31} = (-1)^{(3+1)}.\n",
    "\t\\begin{bmatrix}\n",
    "\t\ta_{12} & a_{13}  & a_{14}  \\\\\n",
    "\t\ta_{22} & a_{23}  & a_{24}  \\\\\n",
    "\t\ta_{42} & a_{43}  & a_{44}  \\nonumber \\\\ \n",
    "\t\\end{bmatrix} \n",
    "\\end{equation}"
   ]
  },
  {
   "cell_type": "code",
   "execution_count": 32,
   "id": "53324ee5",
   "metadata": {},
   "outputs": [
    {
     "data": {
      "text/plain": [
       "0"
      ]
     },
     "execution_count": 32,
     "metadata": {},
     "output_type": "execute_result"
    }
   ],
   "source": [
    "# Cálculo para a31\n",
    "# Indices de linhas e colunas a31\n",
    "i = 3\n",
    "j = 1\n",
    "\n",
    "matriz31 = a12*((a23*a44)-(a24*a43))-a13*((a22*a44)-(a24*a42))+a14*((a22*a43)-(a23*a42))\n",
    "c31 = (-1)**(i+j)*matriz31\n",
    "c31"
   ]
  },
  {
   "cell_type": "markdown",
   "id": "d770456a",
   "metadata": {},
   "source": [
    "Cálculo da célula a_{32}.\n",
    "\\begin{equation}\n",
    "c_{32} = (-1)^{(3+2)}.\n",
    "\t\\begin{bmatrix}\n",
    "\t\ta_{11} & a_{13}  & a_{14}  \\\\\n",
    "\t\ta_{21} & a_{23}  & a_{24}  \\\\\n",
    "\t\ta_{41} & a_{43}  & a_{44}  \\nonumber \\\\ \n",
    "\t\\end{bmatrix} \n",
    "\\end{equation}"
   ]
  },
  {
   "cell_type": "code",
   "execution_count": 33,
   "id": "c4a2661a",
   "metadata": {},
   "outputs": [
    {
     "data": {
      "text/plain": [
       "0"
      ]
     },
     "execution_count": 33,
     "metadata": {},
     "output_type": "execute_result"
    }
   ],
   "source": [
    "# Cálculo para a32\n",
    "# Indices de linhas e colunas a32\n",
    "i = 3\n",
    "j = 2\n",
    "\n",
    "matriz32 = a11*((a23*a44)-(a24*a43))-a13*((a21*a44)-(a24*a41))+a14*((a21*a43)-(a23*a41))\n",
    "c32 = (-1)**(i+j)*matriz32\n",
    "c32"
   ]
  },
  {
   "cell_type": "markdown",
   "id": "fb1dc1c9",
   "metadata": {},
   "source": [
    "Cálculo da célula a_{33}.\n",
    "\\begin{equation}\n",
    "c_{33} = (-1)^{(3+3)}.\n",
    "\t\\begin{bmatrix}\n",
    "\t\ta_{11} & a_{12}  & a_{14}  \\\\\n",
    "\t\ta_{21} & a_{22}  & a_{24}  \\\\\n",
    "\t\ta_{41} & a_{42}  & a_{44}  \\nonumber \\\\ \n",
    "\t\\end{bmatrix} \n",
    "\\end{equation}\n"
   ]
  },
  {
   "cell_type": "code",
   "execution_count": 34,
   "id": "c5dbeddf",
   "metadata": {},
   "outputs": [
    {
     "data": {
      "text/plain": [
       "-1"
      ]
     },
     "execution_count": 34,
     "metadata": {},
     "output_type": "execute_result"
    }
   ],
   "source": [
    "# Cálculo para a33\n",
    "# indice de linhas e colunas a33.\n",
    "i = 3\n",
    "j = 3\n",
    "\n",
    "matriz33 = a11*((a22*a44)-(a24*a42))-a12*((a21*a44)-(a24*a41))+a14*((a21*a42)-(a22*a41))\n",
    "c33 = (-1)**(i+j)*matriz33\n",
    "c33"
   ]
  },
  {
   "cell_type": "markdown",
   "id": "73131f63",
   "metadata": {},
   "source": [
    "Cálculo da célula a_{34}.\n",
    "\\begin{equation}\n",
    "c_{34} = (-1)^{(3+4)}.\n",
    "\t\\begin{bmatrix}\n",
    "\t\ta_{11} & a_{12}  & a_{13}  \\\\\n",
    "\t\ta_{21} & a_{22}  & a_{23}  \\\\\n",
    "\t\ta_{41} & a_{42}  & a_{43}  \\nonumber \\\\ \n",
    "\t\\end{bmatrix} \n",
    "\\end{equation}"
   ]
  },
  {
   "cell_type": "code",
   "execution_count": 35,
   "id": "6d1fa23e",
   "metadata": {},
   "outputs": [
    {
     "data": {
      "text/plain": [
       "0"
      ]
     },
     "execution_count": 35,
     "metadata": {},
     "output_type": "execute_result"
    }
   ],
   "source": [
    "# Cálculo para a34\n",
    "# Indice de linhas e colunas a34.\n",
    "i = 3\n",
    "j = 4\n",
    "\n",
    "matriz34 = a11*((a22*a43)-(a23*a42))-a12*((a21*a43)-(a23*a41))+a13*((a21*a42)-(a22*a41))\n",
    "c34 = (-1)**(i+j)*matriz34\n",
    "c34"
   ]
  },
  {
   "cell_type": "markdown",
   "id": "7a4813d8",
   "metadata": {},
   "source": [
    "Cálculo de célula a_{41}.\n",
    "\\begin{equation}\n",
    "c_{41} = (-1)^{(4+1)}.\n",
    "\t\\begin{bmatrix}\n",
    "\t\ta_{12} & a_{13}  & a_{14}  \\\\\n",
    "\t\ta_{22} & a_{23}  & a_{24}  \\\\\n",
    "\t\ta_{32} & a_{33}  & a_{34}  \\nonumber \\\\ \n",
    "\t\\end{bmatrix} \n",
    "\\end{equation}\n"
   ]
  },
  {
   "cell_type": "code",
   "execution_count": 36,
   "id": "7457e713",
   "metadata": {},
   "outputs": [
    {
     "data": {
      "text/plain": [
       "5"
      ]
     },
     "execution_count": 36,
     "metadata": {},
     "output_type": "execute_result"
    }
   ],
   "source": [
    "# Cálculo para a41\n",
    "# Indice de linhas e colunas a41\n",
    "i = 4\n",
    "j = 1\n",
    "\n",
    "matriz41 = a12*((a23*a34)-(a24*a33))-a13*((a22*a34)-(a24*a32))+a14*((a22*a33)-(a23*a32))\n",
    "c41 = (-1)**(i+j)*matriz41\n",
    "c41"
   ]
  },
  {
   "cell_type": "markdown",
   "id": "78a7c8cf",
   "metadata": {},
   "source": [
    "Cálculo da célula a_{42}.\n",
    "\\begin{equation}\n",
    "c_{42} = (-1)^{(4+2)}.\n",
    "\t\\begin{bmatrix}\n",
    "\t\ta_{11} & a_{13}  & a_{14}  \\\\\n",
    "\t\ta_{21} & a_{23}  & a_{24}  \\\\\n",
    "\t\ta_{31} & a_{33}  & a_{34}  \\nonumber \\\\ \n",
    "\t\\end{bmatrix}\n",
    "\\end{equation}"
   ]
  },
  {
   "cell_type": "code",
   "execution_count": 37,
   "id": "d9ad18ef",
   "metadata": {},
   "outputs": [
    {
     "data": {
      "text/plain": [
       "-2"
      ]
     },
     "execution_count": 37,
     "metadata": {},
     "output_type": "execute_result"
    }
   ],
   "source": [
    "# Cálculo para a41\n",
    "# Indice de linhas e colunas a42\n",
    "i = 4\n",
    "j = 2\n",
    "\n",
    "matriz42 = a11*((a23*a34)-(a24*a33))-a13*((a21*a34)-(a24*a31))+a14*((a21*a33)-(a23*a31))\n",
    "c42 = (-1)**(i+j)*matriz42\n",
    "c42"
   ]
  },
  {
   "cell_type": "markdown",
   "id": "f4e94159",
   "metadata": {},
   "source": [
    "Cálculo da célula a_{43}.\n",
    "\\begin{equation}\n",
    "c_{43} = (-1)^{(4+3)}.\n",
    "\t\\begin{bmatrix}\n",
    "\t\ta_{11} & a_{12}  & a_{14}  \\\\\n",
    "\t\ta_{21} & a_{22}  & a_{24}  \\\\\n",
    "\t\ta_{31} & a_{32}  & a_{34}  \\nonumber \\\\ \n",
    "\t\\end{bmatrix}\n",
    "\\end{equation}"
   ]
  },
  {
   "cell_type": "code",
   "execution_count": 38,
   "id": "b89a657d",
   "metadata": {},
   "outputs": [
    {
     "data": {
      "text/plain": [
       "0"
      ]
     },
     "execution_count": 38,
     "metadata": {},
     "output_type": "execute_result"
    }
   ],
   "source": [
    "# Cálculo para a43\n",
    "# Indice de linhas e colunas a43\n",
    "i = 4\n",
    "j = 3\n",
    "\n",
    "matriz43 = a11*((a22*a34)-(a24*a32))-a12*((a21*a34)-(a24*a31))+a14*((a21*a32)-(a22*a31))\n",
    "c43 = (-1)**(i+j)*matriz43\n",
    "c43"
   ]
  },
  {
   "cell_type": "markdown",
   "id": "6e223718",
   "metadata": {},
   "source": [
    "Cálculo da célula a_{44}.\n",
    "\n",
    "\\begin{equation}\n",
    "c_{44} = (-1)^{(4+4)}.\n",
    "\t\\begin{bmatrix}\n",
    "\t\ta_{11} & a_{12}  & a_{13}  \\\\\n",
    "\t\ta_{21} & a_{22}  & a_{23}  \\\\\n",
    "\t\ta_{31} & a_{32}  & a_{33}  \\nonumber \\\\ \n",
    "\t\\end{bmatrix} \n",
    "\\end{equation}"
   ]
  },
  {
   "cell_type": "code",
   "execution_count": 39,
   "id": "a949957f",
   "metadata": {},
   "outputs": [
    {
     "data": {
      "text/plain": [
       "-1"
      ]
     },
     "execution_count": 39,
     "metadata": {},
     "output_type": "execute_result"
    }
   ],
   "source": [
    "# Cálculo para a44\n",
    "# Indice de linhas e colunas a44.\n",
    "i = 4\n",
    "j = 4\n",
    "\n",
    "matriz44 = a11*((a22*a33)-(a23*a32))-a12*((a21*a33)-(a23*a31))+a13*((a21*a32)-(a22*a31))\n",
    "c44 = (-1)**(i+j)*matriz44\n",
    "c44"
   ]
  },
  {
   "cell_type": "markdown",
   "id": "7d1358bd",
   "metadata": {},
   "source": [
    "Agora vamos substituir os valores encontrados para cada cofator $c_{ij}$ na matriz $A$ para forma a matriz cofator $A_c$."
   ]
  },
  {
   "cell_type": "code",
   "execution_count": 40,
   "id": "3c6791c8",
   "metadata": {},
   "outputs": [
    {
     "data": {
      "text/plain": [
       "array([[-13,   5,   3,   2],\n",
       "       [ -2,   1,   0,   0],\n",
       "       [  0,   0,  -1,   0],\n",
       "       [  5,  -2,   0,  -1]])"
      ]
     },
     "execution_count": 40,
     "metadata": {},
     "output_type": "execute_result"
    }
   ],
   "source": [
    "import numpy as np\n",
    "\n",
    "Ac = np.array([[c11, c12, c13, c14],\n",
    "               [c21, c22, c23, c24],\n",
    "               [c31, c23, c33, c34],\n",
    "               [c41, c42, c43, c44]\n",
    "\n",
    "])\n",
    "Ac"
   ]
  },
  {
   "cell_type": "markdown",
   "id": "2dfbaeb7",
   "metadata": {},
   "source": [
    "#### Cálculo da  Matriz transposta ($A^T$).\n",
    "\n",
    "Nós podemos calcular a matriz transposta fazendo a linha da matriz se transforma em coluna conforme abaixo."
   ]
  },
  {
   "cell_type": "code",
   "execution_count": 41,
   "id": "15041421",
   "metadata": {},
   "outputs": [
    {
     "data": {
      "text/plain": [
       "[[-13, -2, 0, 5], [5, 1, 0, -2], [3, 0, -1, 0], [2, 0, 0, -1]]"
      ]
     },
     "execution_count": 41,
     "metadata": {},
     "output_type": "execute_result"
    }
   ],
   "source": [
    "Matriz_T = [[c11, c21, c31, c41],\n",
    "            [c12, c22, c32, c42],\n",
    "            [c13, c23, c33, c43],\n",
    "            [c14, c24, c34, c44]]\n",
    "Matriz_T"
   ]
  },
  {
   "cell_type": "markdown",
   "id": "91f347fd",
   "metadata": {},
   "source": [
    "Nós também podemos usar a biblioteca Numpy e resolver a transposta de uma matriz conforme mostrado abaixo."
   ]
  },
  {
   "cell_type": "code",
   "execution_count": 42,
   "id": "05168cb6",
   "metadata": {},
   "outputs": [
    {
     "data": {
      "text/plain": [
       "array([[-13,  -2,   0,   5],\n",
       "       [  5,   1,   0,  -2],\n",
       "       [  3,   0,  -1,   0],\n",
       "       [  2,   0,   0,  -1]])"
      ]
     },
     "execution_count": 42,
     "metadata": {},
     "output_type": "execute_result"
    }
   ],
   "source": [
    "AT = np.transpose(Ac)\n",
    "AT"
   ]
  },
  {
   "cell_type": "markdown",
   "id": "f0e9baeb",
   "metadata": {},
   "source": [
    "Nós já temos a matriz Transposta $A^T$, agora precisamos calcular o Determinante de uma matriz $4x4$ e substituir os resultados na Eq(2).\n",
    "\n",
    "Vamos repetir a matriz $A$ com os valores numéricos abaixo:\n",
    "\n",
    "\\begin{equation}\n",
    "\tA = \n",
    "\t\\begin{bmatrix}\n",
    "\t\ta_{11} & a_{12}  & a_{13} & a_{14} \\\\\n",
    "\t\ta_{21} & a_{22}  & a_{23} & a_{24} \\\\\n",
    "\t\ta_{31} & a_{32}  & a_{33} & a_{34} \\\\\n",
    "\t\ta_{41} & a_{42}  & a_{43} & a_{44} \\nonumber \\\\ \n",
    "\t\\end{bmatrix} \n",
    "    =\n",
    "    \\begin{bmatrix}\n",
    "\t\t4 & -1  & -1 & 0 \\\\\n",
    "\t\t-1 & 4  & 0 & -1 \\\\\n",
    "\t\t-1 & 0  & 4 & -1 \\\\\n",
    "\t\t0 & -1  & -1 & 4 \\nonumber \\\\ \n",
    "\t\\end{bmatrix}\n",
    "\\end{equation}\n",
    "\n",
    "O Determinante será encontrado fazendo:\n",
    "\n",
    "$$\n",
    " D = \\sum a_{ij}A_{ij}\n",
    "$$\n",
    "\n",
    "Ele poderá ser encontrado a partir de uma linha ou coluna. Vamos escolher a que apresenta muitos zeros porque qualquer número multiplicado por zero é igual a zero. Dessa forma o cálculo ficará mais fácil. Então vamos escolher a primeira linha para fazer o cálculo do Determinante.\n",
    "\n",
    "$$\n",
    " D = a_{11}A_{11} + a_{12}A_{12} + a_{13}A_{13} + a_{14}A_{14}\n",
    "$$\n",
    "\n",
    "$$ \n",
    "D = 4A_{11} -1A_{12} -1A_{13} + 0A_{14}\n",
    "$$\n",
    "\n",
    "Vamos usar a Eq(5) para calcular as matrizes $A_{ij}$ (repetido abaixo)\n",
    "\n",
    "$$ \n",
    "A_c = (-1)^{(i+j)} [a_{ij}] ... Eq(5)\n",
    "$$ \n",
    "\n",
    "Já foi calculado acima: $A_{11}=c_{11}$, $A_{12}=c_{12}$ e $A_{13}=c_{13}$."
   ]
  },
  {
   "cell_type": "code",
   "execution_count": 43,
   "id": "bc01e52f-5107-4948-861e-ac5db7684ade",
   "metadata": {},
   "outputs": [
    {
     "data": {
      "text/plain": [
       "-60"
      ]
     },
     "execution_count": 43,
     "metadata": {},
     "output_type": "execute_result"
    }
   ],
   "source": [
    "D = 4*c11 -1*c12 -1*c13 + 0*c14\n",
    "D"
   ]
  },
  {
   "cell_type": "markdown",
   "id": "c9b4c9b7",
   "metadata": {},
   "source": [
    "Substituindo os valores na Equação (1) para determinar a matriz inversa, ($A^{-1}$), temos:\n"
   ]
  },
  {
   "cell_type": "code",
   "execution_count": 44,
   "id": "04612c34",
   "metadata": {},
   "outputs": [
    {
     "data": {
      "text/plain": [
       "array([[ 0.21666667,  0.03333333, -0.        , -0.08333333],\n",
       "       [-0.08333333, -0.01666667, -0.        ,  0.03333333],\n",
       "       [-0.05      , -0.        ,  0.01666667, -0.        ],\n",
       "       [-0.03333333, -0.        , -0.        ,  0.01666667]])"
      ]
     },
     "execution_count": 44,
     "metadata": {},
     "output_type": "execute_result"
    }
   ],
   "source": [
    "A_inv = (1/D)*AT\n",
    "A_inv"
   ]
  },
  {
   "cell_type": "markdown",
   "id": "1dc129a2-0bc6-4556-b5f8-246450acfc86",
   "metadata": {},
   "source": [
    "__Cálculo de matriz $5x5$ usando método algébrico.__ \n",
    "\n",
    "Para calcular o determinante de uma matriz $5x5$ usando apenas métodos algébricos, seguimos a abordagem de expansão de cofatores, que envolve calcular o determinante de submatrizes menores ($4x4$, $3x3$, etc.). Embora o cálculo de determinantes de matrizes grandes manualmente seja trabalhoso, o processo se baseia em alguns passos principais que vou explicar"
   ]
  },
  {
   "cell_type": "markdown",
   "id": "5dac9d14-e8ff-4bb0-bea9-c4bd45196556",
   "metadata": {},
   "source": [
    "Passo a Passo para Cálculo Algébrico do Determinante de uma Matriz $5x5$.<br\n",
    "Vamos trabalhar com a matriz genérica $𝐴$ de ordem $5x5$:"
   ]
  },
  {
   "cell_type": "markdown",
   "id": "134c017f-d7e1-4275-b649-323f49b023f2",
   "metadata": {},
   "source": [
    "\\begin{equation}\n",
    "\tA = \n",
    "\t\\begin{bmatrix}\n",
    "\t\ta_{11} & a_{12}  & a_{13} & a_{14} & a_{15} \\\\\n",
    "\t\ta_{21} & a_{22}  & a_{23} & a_{24} & a_{25} \\\\\n",
    "\t\ta_{31} & a_{32}  & a_{33} & a_{34} & a_{35} \\\\\n",
    "\t\ta_{41} & a_{42}  & a_{43} & a_{44} & a_{45} \\\\\n",
    "        a_{51} & a_{52}  & a_{53} & a_{54} & a_{55} \\nonumber \\\\ \n",
    "\t\\end{bmatrix} \n",
    "\\end{equation}"
   ]
  },
  {
   "cell_type": "markdown",
   "id": "3e9656e4-c0d7-4b7b-8ea3-d3369548c1b3",
   "metadata": {},
   "source": [
    "O determinante de $A$ é indicado por det(𝐴). <br>\n",
    "\n",
    "1.**Escolha uma linha ou coluna para expandir os cofatores** <br>\n",
    "Neste exemplo, vamos expandir pela primeira linha ($a_{11}$, $a_{12}$, $a_{13}$, $a_{14}$, $a_{15}$, ) <br>\n",
    "O determinante de $A$ será a soma dos produtos de cada elemento da primeira linha pelos seus cofatores:\n",
    "$$ det(A) = a_{11}C_{11} - a_{12}C_{12}- a_{13}C_{13} - a_{14}C_{14} - a_{15}C_{15}$$\n",
    "\n",
    "Agora, calculamos o determinante dessa submatriz $4x4$ usando a mesma abordagem de cofatores, expandindo, por exemplo, pela primeira linha novamente.\n",
    "\n",
    "2. **Calcular os cofatores**<br>\n",
    "\n",
    "Cada coator $C_{ij}$ será o determinante de uma submatriz $4x4$. Vamos calcular o determinante dessas submatrizes menores usando o mesmo processo de expansão de cofatores.\n",
    "\n",
    "Por exemplo, para calcular $C_{11}$, removemos a primeira linha e a primeira coluna de A e ficamos com a submatriz $4x4$:\n",
    "\n",
    "\\begin{equation}\n",
    "\tA = \n",
    "\t\\begin{bmatrix}\n",
    "\t\ta_{22}  & a_{23} & a_{24} & a_{25} \\\\\n",
    "\t\ta_{32}  & a_{33} & a_{34} & a_{35} \\\\\n",
    "    \ta_{42}  & a_{43} & a_{44} & a_{45} \\\\\n",
    "        a_{52}  & a_{53} & a_{54} & a_{55} \\nonumber \\\\ \n",
    "\t\\end{bmatrix} \n",
    "\\end{equation}\n",
    "\n",
    "Agora, calculamos o determinante dessa submatriz $4x4$ usando a mesma abordagem de **cofatores**, expandindo, por exemplo, pela primeira linha novamente.\n",
    "\n",
    "3. **Repetir o processo até alcançar submatrizes $2x2$**.\n",
    "\n",
    "Esse processo de expansão de cofatores continua até chegarmos ao determinante de uma matriz $2x2$, que é direto de calcular. O determinante de uma matriz $2x2$ $B$ é dado por:\n",
    "\n",
    "$$ det(B) = b_{11}b_{12} - b_{12}b_{21}$$\n",
    "\n",
    "4. **Juntar todos os resultados**. <br>\n",
    "\n",
    "Após calcular os determinantes das submatrizes menores ($3x3$, $2x2$, etc.), substituímos esses valores de volta nos cofatores originais para encontrar o determinante da matriz $5x5$.\n"
   ]
  },
  {
   "cell_type": "markdown",
   "id": "9101bf38-dcb0-4936-9e48-f5a7118963df",
   "metadata": {},
   "source": [
    "<div style=\"text-align: center; font-size: 12px; color: gray; margin-top: 40px;\">\n",
    "  Este notebook foi desenvolvido no âmbito do Grupo de Pesquisas em Modelagem Computacional da UESC.<br>\n",
    "  Todos os direitos reservados © 2025\n",
    "</div>"
   ]
  }
 ],
 "metadata": {
  "kernelspec": {
   "display_name": "base",
   "language": "python",
   "name": "python3"
  },
  "language_info": {
   "codemirror_mode": {
    "name": "ipython",
    "version": 3
   },
   "file_extension": ".py",
   "mimetype": "text/x-python",
   "name": "python",
   "nbconvert_exporter": "python",
   "pygments_lexer": "ipython3",
   "version": "3.11.7"
  }
 },
 "nbformat": 4,
 "nbformat_minor": 5
}
