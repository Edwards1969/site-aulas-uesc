{
 "cells": [
  {
   "cell_type": "markdown",
   "id": "75fdb041",
   "metadata": {},
   "source": [
    "<div style=\"text-align: center;\">\n",
    "\n",
    "  <!-- Logotipo -->\n",
    "  <img src=\"img/LogoUesc.png\" alt=\"UESC\" style=\"width: 60px; display: block; margin: 0 auto 5px auto;\">\n",
    "\n",
    "  <!-- Cabeçalho -->\n",
    "  <div style=\"font-size: 20px;\"><strong>UNIVERSIDADE ESTADUAL DE SANTA CRUZ - UESC</strong></div>\n",
    "  <div style=\"font-size: 18px;\">DEPARTAMENTO DE ENGENHARIAS E COMPUTAÇÃO</div>\n",
    "  <div style=\"font-size: 18px;\">ENGENHARIA QUÍMICA</div>\n",
    "\n",
    "  <hr style=\"margin: 20px 0; border: 1px solid #0074B7;\">\n",
    "\n",
    "  <!-- Título do Trabalho -->\n",
    "  <div style=\"font-size: 22px; font-weight: bold; margin-bottom: 10px;\">Modelagem, Simulação e Otimização de Processos Químicos</div>\n",
    "  <div style=\"font-size: 20px; font-weight: bold; margin-bottom: 10px;\">Determinação de Matriz mxn</div>\n",
    "\n",
    "  <!-- Autor e orientador -->\n",
    "  <div style=\"font-size: 18px;\">Prof. Dr. E.R.Edwards</div>\n",
    "\n",
    "<hr style=\"margin: 20px 0; border: 1px solid #0074B7;\">\n",
    "  <!-- Data -->\n",
    "<!-- <div style=\"font-size: 16px; margin-top: 15px;\">Ilhéus - BA, Abril de 2025</div> -->\n",
    "</div>"
   ]
  },
  {
   "cell_type": "markdown",
   "id": "43e6c576",
   "metadata": {},
   "source": [
    "__Determinação de Matriz__ $m \\times n$\n",
    "\n",
    "Até o momento, estudamos como determinar o determinante de matrizes até a ordem $5 \\times 5$ utilizando métodos puramente algébricos. Entretanto, à medida que a dimensão da matriz aumenta, o número de operações necessárias cresce exponencialmente, tornando o processo manual inviável e sujeito a erros.\n",
    "\n",
    "Em problemas de Engenharia, principalmente em áreas como modelagem de processos, análise de sistemas lineares, controle de processos industriais e simulação de fenômenos físicos, é comum lidar com matrizes de ordem elevada. Nesses casos, o cálculo do determinante e de outras propriedades matriciais (como inversa, autovalores e autovetores) é essencial para compreender o comportamento de sistemas complexos — por exemplo, na resolução de equações diferenciais lineares, balanços de massa e energia ou análises de estabilidade de processos.\n",
    "\n",
    "É nesse contexto que a programação científica se torna uma ferramenta indispensável. Com ela, é possível automatizar os cálculos e aplicar algoritmos eficientes capazes de resolver matrizes de qualquer ordem $m \\times n$ de forma rápida e precisa. Assim, o engenheiro pode concentrar-se na interpretação dos resultados e no entendimento físico do problema, em vez de se preocupar com o trabalho repetitivo de manipulação algébrica.\n",
    "\n",
    "O código apresentado a seguir exemplifica essa aplicação, permitindo calcular o determinante de uma matriz de qualquer ordem. Dessa forma, ele se torna um recurso valioso para a resolução computacional de sistemas lineares e para o apoio à tomada de decisões em problemas de engenharia."
   ]
  },
  {
   "cell_type": "markdown",
   "id": "a6a87508",
   "metadata": {},
   "source": [
    "Vamos ver um exemplo:\n",
    "\n",
    "\\begin{equation}\n",
    "A =\n",
    "    \\begin{bmatrix}\n",
    "        a_{11} & a_{12} & a_{13} \\\\\n",
    "        a_{21} & a_{22} & a_{23} \\\\\n",
    "        a_{31} & a_{32} & a_{33}\n",
    "    \\end{bmatrix}\n",
    "    =\n",
    "    \\begin{bmatrix}\n",
    "        0.9 & 0.3 & 0.1 \\\\\n",
    "        0.1 & 0.5 & 0.2 \\\\\n",
    "        0.0 & 0.2 & 0.7\n",
    "    \\end{bmatrix}\n",
    "    =\n",
    "    0.2600\n",
    "\\end{equation}\n",
    "\n",
    "1. digite a ordem da matriz quadrada: 3 (porque é uma matriz $3x3$)\n",
    "2. Digite os elementos da linha 1: 0.9 0.3 0.1 (coloque espaço entre os números)\n",
    "3. Digite os elementos da linha 2: 0.1 0.5 0.2 (coloque espaço entre os números)\n",
    "4. Digite os elementos da linha 3: 0.0 0.2 0.7 (coloque espaço entre os números)"
   ]
  },
  {
   "cell_type": "markdown",
   "id": "70eb1a7b",
   "metadata": {},
   "source": [
    "__Resultado__:\n",
    "\n",
    "O determinante da matriz é: 0.2600"
   ]
  },
  {
   "cell_type": "markdown",
   "id": "f7543456",
   "metadata": {},
   "source": [
    "__Código em Python__"
   ]
  },
  {
   "cell_type": "code",
   "execution_count": 8,
   "id": "9f947e51",
   "metadata": {},
   "outputs": [],
   "source": [
    "import numpy as np"
   ]
  },
  {
   "cell_type": "code",
   "execution_count": 10,
   "id": "dbaf066b",
   "metadata": {},
   "outputs": [
    {
     "name": "stdout",
     "output_type": "stream",
     "text": [
      "Digite os elementos da matriz linha por linha:\n",
      "O determinante da matriz é: 0.2600\n"
     ]
    }
   ],
   "source": [
    "def calcular_determinante():\n",
    "    # Solicita o tamanho da matriz\n",
    "    n = int(input(\"Digite a ordem da matriz quadrada (n x n): \"))\n",
    "    \n",
    "    # Cria uma matriz vazia de ordem n x n\n",
    "    matriz = []\n",
    "    print(\"Digite os elementos da matriz linha por linha:\")\n",
    "    \n",
    "    for i in range(n):\n",
    "        linha = list(map(float, input(f\"Digite os elementos da linha {i+1}, separados por espaço: \").split()))\n",
    "        if len(linha) != n:\n",
    "            print(\"Erro: o número de elementos digitados não corresponde à ordem da matriz.\")\n",
    "            return\n",
    "        matriz.append(linha)\n",
    "    \n",
    "    # Converte a matriz para um array do numpy\n",
    "    matriz = np.array(matriz)\n",
    "    \n",
    "    try:\n",
    "        # Calcula o determinante\n",
    "        determinante = np.linalg.det(matriz)\n",
    "        \n",
    "        # Mostra o resultado\n",
    "        if abs(determinante) < 1e-10:  # Verifica se o determinante é aproximadamente zero\n",
    "            print(\"Determinante igual a zero.\")\n",
    "        else:\n",
    "            print(f\"O determinante da matriz é: {determinante:.4f}\")\n",
    "    except np.linalg.LinAlgError:\n",
    "        print(\"Erro: não foi possível calcular o determinante da matriz fornecida.\")\n",
    "\n",
    "# Executa a função\n",
    "calcular_determinante()"
   ]
  },
  {
   "cell_type": "markdown",
   "id": "3d98c058",
   "metadata": {},
   "source": [
    "<div style=\"text-align: center; font-size: 12px; color: gray; margin-top: 40px;\">\n",
    "  Este notebook foi desenvolvido no âmbito do Grupo de Pesquisas em Modelagem Computacional da UESC.<br>\n",
    "  Todos os direitos reservados © 2025\n",
    "</div>"
   ]
  }
 ],
 "metadata": {
  "kernelspec": {
   "display_name": "base",
   "language": "python",
   "name": "python3"
  },
  "language_info": {
   "codemirror_mode": {
    "name": "ipython",
    "version": 3
   },
   "file_extension": ".py",
   "mimetype": "text/x-python",
   "name": "python",
   "nbconvert_exporter": "python",
   "pygments_lexer": "ipython3",
   "version": "3.11.7"
  }
 },
 "nbformat": 4,
 "nbformat_minor": 5
}
