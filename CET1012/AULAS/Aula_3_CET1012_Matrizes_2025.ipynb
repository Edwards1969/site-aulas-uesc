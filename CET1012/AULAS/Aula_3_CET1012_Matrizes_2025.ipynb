{
 "cells": [
  {
   "cell_type": "markdown",
   "id": "31ff32ba",
   "metadata": {},
   "source": [
    "<div style=\"text-align: center;\">\n",
    "\n",
    "  <!-- Logotipo -->\n",
    "  <img src=\"img/LogoUesc.png\" alt=\"UESC\" style=\"width: 60px; display: block; margin: 0 auto 5px auto;\">\n",
    "\n",
    "  <!-- Cabeçalho -->\n",
    "  <div style=\"font-size: 20px;\"><strong>UNIVERSIDADE ESTADUAL DE SANTA CRUZ - UESC</strong></div>\n",
    "  <div style=\"font-size: 18px;\">DEPARTAMENTO DE ENGENHARIAS E COMPUTAÇÃO</div>\n",
    "  <div style=\"font-size: 18px;\">ENGENHARIA QUÍMICA</div>\n",
    "\n",
    "  <hr style=\"margin: 20px 0; border: 1px solid #0074B7;\">\n",
    "\n",
    "  <!-- Título do Trabalho -->\n",
    "  <div style=\"font-size: 22px; font-weight: bold; margin-bottom: 10px;\">Modelagem, Simulação e Otimização de Processos Químicos</div>\n",
    "  <div style=\"font-size: 20px; font-weight: bold; margin-bottom: 10px;\">Cálculos - Processo de Saparação de Componentes do Petróleo</div>\n",
    "\n",
    "  <!-- Autor e orientador -->\n",
    "  <div style=\"font-size: 18px;\">Prof. Dr. E.R.Edwards</div>\n",
    "\n",
    "<hr style=\"margin: 20px 0; border: 1px solid #0074B7;\">\n",
    "  <!-- Data -->\n",
    "<!-- <div style=\"font-size: 16px; margin-top: 15px;\">Ilhéus - BA, Abril de 2025</div> -->\n",
    "</div>"
   ]
  },
  {
   "cell_type": "markdown",
   "id": "12619b6d",
   "metadata": {},
   "source": [
    "__QUESTÃO 1__:\n",
    "\n",
    "Suponhamos que temos quatro componentes principais no petróleo bruto: **gasolina (G)**, **diesel (D)**, <br> **querosene (Q)** e **resíduos (R)**. Queremos separar esses componentes usando um processo de destilação. <br> As frações molares iniciais de cada componente no **petróleo bruto** são dadas por:\n",
    "\n",
    "- Fração molar inicial de **gasolina**: 0.2\n",
    "- Fração molar inicial de **diesel**: 0.3\n",
    "- Fração molar inicial de **querosene**: 0.4\n",
    "- Fração molar inicial de **resíduos**: 0.1\n",
    "\n",
    "O processo de destilação produz quatro correntes de produtos com as seguintes frações molares:\n",
    "\n",
    "- Corrente de gasolina (G): **Fração molar de gasolina** = 0.8\n",
    "- Corrente de diesel (D): **Fração molar de diesel** = 0.5\n",
    "- Corrente de querosene (Q): **Fração molar de querosene** = 0.2\n",
    "- Corrente de resíduos (R) : **Fração molar de resíduos** = 0.1"
   ]
  },
  {
   "cell_type": "markdown",
   "id": "7028f627",
   "metadata": {},
   "source": [
    "<img src=\"img/Q1_CET1012_corrente.png\" alt=\"UESC\" style=\"width: 650px; display: block; margin: 0 auto 5px auto;\">\n",
    "<p style=\"text-align: center;\"><strong>Tabela: Composição dos elementos de cada corrente.</strong></p>"
   ]
  },
  {
   "cell_type": "markdown",
   "id": "bfeb7b47",
   "metadata": {},
   "source": [
    "__Obs__: No processo de separação, apenas aquele componente específico será separado naquela determinada corrente.<br>\n",
    "Dessa forma, na corrente 1 só será separado o componente Gasolina, na corrente 2 só será separado o componente <br>\n",
    "Diesel, assim por diante."
   ]
  },
  {
   "cell_type": "markdown",
   "id": "065113b8",
   "metadata": {},
   "source": [
    "A matriz $A$ representa as frações molares dos componentes nas correntes de produtos.\n",
    "\n",
    "Portanto, temos:\n",
    "\n",
    "\\begin{equation}\n",
    " A = \n",
    " \\begin{bmatrix}\n",
    " 0.8 & 0 & 0 & 0 \\\\\n",
    " 0 & 0.5 & 0 & 0 \\\\\n",
    " 0 & 0 & 0.2 & 0 \\\\\n",
    " 0 & 0 & 0 & 0.1 \n",
    " \\end{bmatrix} \n",
    "\\end{equation}"
   ]
  },
  {
   "cell_type": "markdown",
   "id": "ed6e556e",
   "metadata": {},
   "source": [
    "E o vetor $b$ representa as frações molares iniciais no Petróleo bruto.\n",
    "\n",
    "\\begin{equation}\n",
    " b = \n",
    " \\begin{bmatrix} \n",
    " 0.2 \\\\\n",
    " 0.3 \\\\\n",
    " 0.4 \\\\\n",
    " 0.1 \n",
    " \\end{bmatrix} \n",
    "\\end{equation}"
   ]
  },
  {
   "cell_type": "markdown",
   "id": "46801c2d",
   "metadata": {},
   "source": [
    "__Resolução usando biblioteca Numpy__"
   ]
  },
  {
   "cell_type": "code",
   "execution_count": 92,
   "id": "f2b88562",
   "metadata": {},
   "outputs": [],
   "source": [
    "import numpy as np"
   ]
  },
  {
   "cell_type": "code",
   "execution_count": 93,
   "id": "07549d48",
   "metadata": {},
   "outputs": [],
   "source": [
    "# Declarando a matriz:\n",
    "a11, a12, a13, a14 = 0.8, 0.0, 0.0, 0.0\n",
    "a21, a22, a23, a24 = 0.0, 0.5, 0.0, 0.0\n",
    "a31, a32, a33, a34 = 0.0, 0.0, 0.2, 0.0\n",
    "a41, a42, a43, a44 = 0.0, 0.0, 0.0, 0.1\n"
   ]
  },
  {
   "cell_type": "code",
   "execution_count": 94,
   "id": "43f5478d",
   "metadata": {},
   "outputs": [
    {
     "data": {
      "text/plain": [
       "array([[0.8, 0. , 0. , 0. ],\n",
       "       [0. , 0.5, 0. , 0. ],\n",
       "       [0. , 0. , 0.2, 0. ],\n",
       "       [0. , 0. , 0. , 0.1]])"
      ]
     },
     "execution_count": 94,
     "metadata": {},
     "output_type": "execute_result"
    }
   ],
   "source": [
    "# Definindo a matriz A e o vetor b\n",
    "A = np.array([\n",
    "    [a11, a12, a13, a14],\n",
    "    [a21, a22, a23, a24],\n",
    "    [a31, a32, a33, a34],\n",
    "    [a41, a42, a43, a44]\n",
    "])\n",
    "A"
   ]
  },
  {
   "cell_type": "code",
   "execution_count": 95,
   "id": "89e0b0f5",
   "metadata": {},
   "outputs": [],
   "source": [
    "# Declarando a matriz b.\n",
    "b11, b12, b13, b14 = 0.2, 0.3, 0.4, 0.1"
   ]
  },
  {
   "cell_type": "code",
   "execution_count": 96,
   "id": "4da51d5b",
   "metadata": {},
   "outputs": [
    {
     "data": {
      "text/plain": [
       "array([0.2, 0.3, 0.4, 0.1])"
      ]
     },
     "execution_count": 96,
     "metadata": {},
     "output_type": "execute_result"
    }
   ],
   "source": [
    "# Calculando a matriz b.\n",
    "b = np.array([b11, b12, b13, b14])\n",
    "b"
   ]
  },
  {
   "cell_type": "code",
   "execution_count": 97,
   "id": "1bf1c636",
   "metadata": {},
   "outputs": [],
   "source": [
    "# Resolvendo o Sistema Linear.\n",
    "x = np.linalg.solve(A, b)\n",
    "\n",
    "x_gasolina  = x[0]   # Fração molar da Gasolina (G)\n",
    "x_diesel    = x[1]   # Fração molar do Diesel (D)\n",
    "x_querosene = x[2]   # Fração molar do Querosene (Q)\n",
    "x_residuos  = x[3]   # Fração molar dos Resíduos (R)"
   ]
  },
  {
   "cell_type": "code",
   "execution_count": 132,
   "id": "6b3e43cb",
   "metadata": {},
   "outputs": [
    {
     "name": "stdout",
     "output_type": "stream",
     "text": [
      "---------------------------------------------\n",
      "\t Frações molares dos componentes: \n",
      "---------------------------------------------\n",
      "Frações molares da Gasolina (G) = 0.25\n",
      "Frações molares do Diesel (D) = 0.60\n",
      "Frações molares do Querosene (Q) = 2.00\n",
      "Frações molares dos Resíduos(R) = 1.00\n",
      "---------------------------------------------\n"
     ]
    }
   ],
   "source": [
    "# Imprimindo os resultados\n",
    "\n",
    "def line():\n",
    "    print('-'*45)\n",
    "    \n",
    "line()    \n",
    "print('\\t Frações molares dos componentes: ')\n",
    "line()\n",
    "print('Frações molares da Gasolina (G) = {:.2f}'.format(x_gasolina))\n",
    "print('Frações molares do Diesel (D) = {:.2f}'.format(x_diesel))\n",
    "print('Frações molares do Querosene (Q) = {:.2f}'.format(x_querosene))\n",
    "print('Frações molares dos Resíduos(R) = {:.2f}'.format(x_residuos))\n",
    "line()"
   ]
  },
  {
   "cell_type": "markdown",
   "id": "3f3a4344",
   "metadata": {},
   "source": [
    "__Conferindo os resultados__"
   ]
  },
  {
   "cell_type": "code",
   "execution_count": 99,
   "id": "41f7c8e7",
   "metadata": {},
   "outputs": [],
   "source": [
    "z1 = a11*x_gasolina\n",
    "z2 = a22*x_diesel\n",
    "z3 = a33*x_querosene\n",
    "z4 = a44*x_residuos"
   ]
  },
  {
   "cell_type": "code",
   "execution_count": 100,
   "id": "1ad3b9c4-3a3f-4249-bb5a-92288d961e76",
   "metadata": {},
   "outputs": [
    {
     "name": "stdout",
     "output_type": "stream",
     "text": [
      "O valor de b1=0.2 e o valor de z1=0.2\n",
      "O valor de b2=0.3 e o valor de z2=0.3\n",
      "O valor de b3=0.4 e o valor de z3=0.4\n",
      "O valor de b3=0.1 e o valor de z3=0.1\n"
     ]
    }
   ],
   "source": [
    "print(f'O valor de b1={b11} e o valor de z1={z1}')\n",
    "print(f'O valor de b2={b12} e o valor de z2={z2}')\n",
    "print(f'O valor de b3={b13} e o valor de z3={z3}')\n",
    "print(f'O valor de b3={b14} e o valor de z3={z4}')"
   ]
  },
  {
   "cell_type": "markdown",
   "id": "fad077ce-451e-41c9-bd86-8b8b817c7c90",
   "metadata": {},
   "source": [
    "__QUESTÃO 3__:\n",
    "\n",
    "A figura mostra uma coluna de separação da mistura dos componentes **Propileno** e **Propano**. A vazão de entrada dos componentes é de $272.2\\  Kmol/h $ de forma que $163.3 \\ kmol/h$ corresponde a vazão de entrada para o  Propileno e $108.9 \\ Kmol/h$ para o  Propano. Sabendo-se que na corrente de topo as vazões de saída correspondem a $157.6 \\ Kmol/h$ para o Propileno e $1.6 \\ Kmol/h$ para o Propano e na corrente de fundo as vazões de saída são $5.7 \\ Kmol/h$ para o Propileno e $107.3 \\ Kmol/h$ para o Propano. Pede-se: Aplique a **Regra de Cramer**\n",
    "e determine de **forma algébrica** as frações $x$ e $y$ de cada componente.   Resolva utilizando **métodos algébricos** e programação em Python para determinação das frações de cada componente. Declare cada variável de forma que seu modelo possa ser utilizado com outros valores. Confira os resultados utilizando uma biblioteca de cálculo em Python. [2.5 pontos]\n"
   ]
  },
  {
   "cell_type": "markdown",
   "id": "9c6d4783",
   "metadata": {},
   "source": [
    "<img src=\"img/separador_seader.png\" alt=\"UESC\" style=\"width: 450px; display: block; margin: 0 auto 5px auto;\">\n",
    "<p style=\"text-align: center;\">Fonte<strong>: Seader, et. all \" Separation Process Principles - Chemical ad Biochemical Operations\" 3a Ed.</strong></p>"
   ]
  },
  {
   "cell_type": "markdown",
   "id": "27b27ff7-43e5-4a19-8fa1-7776209b14d8",
   "metadata": {},
   "source": [
    "__Vamos colocar os dados em forma matricial__.\n",
    "\n",
    "Seja $x$ a fração do Propileno e $y$ a fração do Propano, então temos:\n",
    "\n",
    "$$ 157.6x +   5.7y = 163.3 $$\n",
    "$$   1.6x + 107.3y = 108.9 $$\n",
    "\n",
    "Então vamos chamar de:\n",
    "\n",
    "$a_1$... fração de Propileno na corrente de topo <br>\n",
    "$b_1$... fração do Propileno na corrente de fundo <br>\n",
    "\n",
    "$a_2$...fração do Propano na corrente de topo <br>\n",
    "$b_2$... fração do Propano na corrente de fundo <br>\n",
    "\n",
    "$d_1$... vazão de Propileno na entrada do processo <br>\n",
    "$d_2$... vazão de Propano na entrada do processo <br>\n",
    "\n",
    "Então teremos:\n",
    "\n",
    "$$ a_1x + b_1y = d_1 $$\n",
    "$$ a_2x + b_2y = d_2 $$\n",
    "\n",
    "Vamos resolver aplicando a **Regra de Cramer** para determinar as incógnitas."
   ]
  },
  {
   "cell_type": "markdown",
   "id": "5306cd5d-0aeb-4f10-81d7-0a6c70c34c87",
   "metadata": {},
   "source": [
    "__Aplicando Método Álgébrico__\n",
    "\n",
    "\n",
    "$$a_{11}x +   a_{12}y = b_{11} $$\n",
    "$$a_{21}x + a_{22}y = b_{21}$$\n",
    "\n",
    "Em valores numéricos, temos:\n",
    "\n",
    "$$ 157.6x +   5.7y = 163.3 $$\n",
    "$$   1.6x + 107.3y = 108.9 $$"
   ]
  },
  {
   "cell_type": "code",
   "execution_count": 101,
   "id": "41ff7df3-a6a2-47d8-9441-9c48d4d39658",
   "metadata": {},
   "outputs": [],
   "source": [
    "# Declarando as variáveis, temos:\n",
    "a11, a12 = 157.6, 5.7\n",
    "a21, a22 = 1.6, 107.3"
   ]
  },
  {
   "cell_type": "code",
   "execution_count": 102,
   "id": "47494c46-24b4-4dca-9773-805ebd056f4e",
   "metadata": {},
   "outputs": [],
   "source": [
    "# Declarando os valores de entrada no processo.\n",
    "b11, b21 = 163.3, 108.9"
   ]
  },
  {
   "cell_type": "markdown",
   "id": "c91a021b-c2c3-4076-a018-997989da7d62",
   "metadata": {},
   "source": [
    "Então teremos:\n",
    "\n",
    "$$ a_{11}x +   a_{12}y = b_{11} $$\n",
    "$$ a_{21}x + a_{22}y = b_{21}$$\n",
    "\n",
    "Vamos resolver aplicando a **Regra de Cramer** para determinar as incógnitas."
   ]
  },
  {
   "cell_type": "code",
   "execution_count": 103,
   "id": "78aad05b-bb46-4cf0-b407-21d9e91c6fd2",
   "metadata": {},
   "outputs": [],
   "source": [
    "# Declarando as variáveis, temos:\n",
    "a11, a12 = 157.6, 5.7\n",
    "a21, a22 = 1.6, 107.3"
   ]
  },
  {
   "cell_type": "markdown",
   "id": "6fc200d9-71a0-42fd-af70-f821ad5fc197",
   "metadata": {},
   "source": [
    "Cálculo do Determinante:\n",
    "\n",
    "$$ a_{11} + a_{12} $$\n",
    "$$ a_{21} + a_{22} $$"
   ]
  },
  {
   "cell_type": "code",
   "execution_count": 104,
   "id": "67f274e6-ca9d-4baa-97ee-c2c64479cc90",
   "metadata": {},
   "outputs": [
    {
     "data": {
      "text/plain": [
       "16901.36"
      ]
     },
     "execution_count": 104,
     "metadata": {},
     "output_type": "execute_result"
    }
   ],
   "source": [
    "# Cálculo do Determinante.\n",
    "D = a11*a22 - a12*a21\n",
    "D"
   ]
  },
  {
   "cell_type": "markdown",
   "id": "5b17814d-44d7-4136-a2c8-8d4c885e2caa",
   "metadata": {},
   "source": [
    "Cálculo do Determinante  $Dx$.\n",
    "\n",
    "Temos que substituir os termos da coluna $d$ no lugar dos termos da coluna $x$. \n",
    "\n",
    "$$ b_{11} + a_{12} $$\n",
    "$$ b_{21} + a_{22} $$"
   ]
  },
  {
   "cell_type": "code",
   "execution_count": 105,
   "id": "8147961d-b33f-4d33-b3c9-47e9ccd00688",
   "metadata": {},
   "outputs": [
    {
     "data": {
      "text/plain": [
       "16901.36"
      ]
     },
     "execution_count": 105,
     "metadata": {},
     "output_type": "execute_result"
    }
   ],
   "source": [
    "# Cálculo de Dx\n",
    "Dx = b11*a22 - a12*b21\n",
    "Dx"
   ]
  },
  {
   "cell_type": "markdown",
   "id": "6352b576-281a-4f9c-9794-49ff18d53cf3",
   "metadata": {},
   "source": [
    "Agora vamos cálculo o Determinante $Dy$.\n",
    "\n",
    "Temos que substituir os termos da coluna $d$ no lugar dos termos da coluna $y$. \n",
    "\n",
    "$$a_{11} + b_{11} $$\n",
    "$$a_{21} + b_{21} $$"
   ]
  },
  {
   "cell_type": "code",
   "execution_count": 106,
   "id": "ab88b7b0-c57f-4973-901f-ac783d4300cb",
   "metadata": {},
   "outputs": [
    {
     "data": {
      "text/plain": [
       "16901.36"
      ]
     },
     "execution_count": 106,
     "metadata": {},
     "output_type": "execute_result"
    }
   ],
   "source": [
    "Dy = a11*b21 - b11*a21\n",
    "Dy"
   ]
  },
  {
   "cell_type": "code",
   "execution_count": 107,
   "id": "52d970ca-3de0-49a5-afb7-721a026608ac",
   "metadata": {},
   "outputs": [
    {
     "name": "stdout",
     "output_type": "stream",
     "text": [
      "------------------------------\n",
      "\t Resultados\n",
      "------------------------------\n",
      "O resultado de x =  1.0\n",
      "O resultado de y =  1.0\n",
      "------------------------------\n"
     ]
    }
   ],
   "source": [
    "# Cálculo das incógnitas.\n",
    "x = Dx/D\n",
    "y = Dy/D\n",
    "\n",
    "def line():\n",
    "    print('-'*30)\n",
    "\n",
    "line()\n",
    "print('\\t Resultados')\n",
    "line()\n",
    "print('O resultado de x = ', x)\n",
    "print('O resultado de y = ',y)\n",
    "line()"
   ]
  },
  {
   "cell_type": "markdown",
   "id": "433a997b-2b7e-4c2c-bab4-897b73359f62",
   "metadata": {},
   "source": [
    "Para conferir os resultados, vamos voltar nos dados iniciais.\n",
    "\n",
    "$$ a_{11}x + a_{12}y = b_{11} $$\n",
    "$$ a_{21}x + a_{22}y = b_{21} $$\n",
    "\n",
    "Os valores numéricos de $a_{ij}$ são dados abaixo:\n",
    "\n",
    "$$ 157.6x + 5.7y = 163.3 $$\n",
    "$$ 1.6x + 107.3y = 108.9 $$"
   ]
  },
  {
   "cell_type": "code",
   "execution_count": 108,
   "id": "f5e019cb-3dd2-40b0-9d76-6db5ccebf911",
   "metadata": {},
   "outputs": [
    {
     "name": "stdout",
     "output_type": "stream",
     "text": [
      "----------------------------------------\n",
      " \t Conferindo os resultados \n",
      "----------------------------------------\n",
      "O valor de d1 = 163.3 e z1 = 163.30\n",
      "O valor de d2 = 108.9 e z2 = 108.90\n",
      "----------------------------------------\n"
     ]
    }
   ],
   "source": [
    "# Conferindo os resultados.\n",
    "z1 = a11*x + a12*y\n",
    "z2 = a21*x + a22*y\n",
    "\n",
    "def line():\n",
    "    print('-'*40)\n",
    "\n",
    "line()\n",
    "print(' \\t Conferindo os resultados ')\n",
    "line()\n",
    "print('O valor de d1 = 163.3 e z1 = {:.2f}'.format(z1))\n",
    "print('O valor de d2 = 108.9 e z2 = {:.2f}'.format(z2))\n",
    "line()"
   ]
  },
  {
   "cell_type": "markdown",
   "id": "0a80c4eb-5438-4d3a-a216-47345e8e66db",
   "metadata": {},
   "source": [
    "Agora, vamos usar a biblioteca NumPy para resolver o mesmo exercício."
   ]
  },
  {
   "cell_type": "code",
   "execution_count": 109,
   "id": "53e32ea2-9577-42bf-9c29-423511a7a06c",
   "metadata": {},
   "outputs": [],
   "source": [
    "import numpy as np"
   ]
  },
  {
   "cell_type": "markdown",
   "id": "b55e7de6-e761-49f7-808b-9cd4983bb6de",
   "metadata": {},
   "source": [
    "Vamos montar a matriz visualizando os dados iniciais.\n",
    "\n",
    "$$ a_{11}x + a_{12}y = b_{11} $$\n",
    "$$ a_{21}x + a_{22}y = b_{21} $$\n",
    "\n",
    "Em valores numéricos, temos:\n",
    "\n",
    "$$ 157.6x + 5.7y = 163.3 $$\n",
    "$$ 1.6x + 107.3y = 108.9 $$"
   ]
  },
  {
   "cell_type": "code",
   "execution_count": 110,
   "id": "8ed54349-cf5c-4d9b-9482-0fba63c4eaef",
   "metadata": {},
   "outputs": [
    {
     "name": "stdout",
     "output_type": "stream",
     "text": [
      "[[157.6   5.7]\n",
      " [  1.6 107.3]]\n"
     ]
    }
   ],
   "source": [
    "# Declarando a Matriz A.\n",
    "A = np.array([\n",
    "    [a11, a12],\n",
    "    [a21, a22]\n",
    "])\n",
    "print(A)"
   ]
  },
  {
   "cell_type": "code",
   "execution_count": 111,
   "id": "9477e45b-af53-4b29-957b-b867471ede6c",
   "metadata": {},
   "outputs": [
    {
     "data": {
      "text/plain": [
       "array([[ 6.34860153e-03, -3.37250967e-04],\n",
       "       [-9.46669380e-05,  9.32469340e-03]])"
      ]
     },
     "execution_count": 111,
     "metadata": {},
     "output_type": "execute_result"
    }
   ],
   "source": [
    "# Cálculo da matriz inversa.\n",
    "A_inv = np.linalg.inv(A)\n",
    "A_inv"
   ]
  },
  {
   "cell_type": "code",
   "execution_count": 112,
   "id": "212eddf5-ee9b-4ede-8ca5-9be3b2a37ff7",
   "metadata": {},
   "outputs": [
    {
     "name": "stdout",
     "output_type": "stream",
     "text": [
      "[163.3 108.9]\n"
     ]
    }
   ],
   "source": [
    "# Declarano a matriz b.\n",
    "b = np.array([b11,b21])\n",
    "print(b)"
   ]
  },
  {
   "cell_type": "code",
   "execution_count": 113,
   "id": "9171d4a6-bb95-4c2a-a3cc-b8d05b1516c5",
   "metadata": {},
   "outputs": [],
   "source": [
    "# Cálculo das incógnitas.\n",
    "x = A_inv.dot(b)\n",
    "x11 = x[0] # x11 apenas para diferencial e x1 do cálculo anterior\n",
    "x22 = x[1] # x22 apenas para diferencial e x2 do cálculo anterior"
   ]
  },
  {
   "cell_type": "code",
   "execution_count": 114,
   "id": "f2740487-2397-4ebb-9a6c-fc65239fed24",
   "metadata": {},
   "outputs": [
    {
     "name": "stdout",
     "output_type": "stream",
     "text": [
      "------------------------------\n",
      "\t  Resultados\n",
      "------------------------------\n",
      "O resultado de x = 1.0\n",
      "O resultado de y =  1.0\n",
      "------------------------------\n"
     ]
    }
   ],
   "source": [
    "# Imprimindo os resultados\n",
    "\n",
    "def line():\n",
    "    print('-'*30)\n",
    "\n",
    "line()\n",
    "print('\\t  Resultados')\n",
    "line()\n",
    "print('O resultado de x = {:.1f}'.format(x11))\n",
    "print('O resultado de y = ', x22)\n",
    "line()"
   ]
  },
  {
   "cell_type": "markdown",
   "id": "6b239a9f-b054-4c9b-a88e-46050813a4d9",
   "metadata": {},
   "source": [
    "Ou poderiamos ter resolvido da seguinte forma."
   ]
  },
  {
   "cell_type": "code",
   "execution_count": 115,
   "id": "5c478b32-ccc4-437e-838f-474b31d0051f",
   "metadata": {},
   "outputs": [
    {
     "name": "stdout",
     "output_type": "stream",
     "text": [
      "[1. 1.]\n"
     ]
    }
   ],
   "source": [
    "k = np.linalg.solve(A, b)\n",
    "print(k)"
   ]
  },
  {
   "cell_type": "markdown",
   "id": "ac8f0c93-736b-44ad-b41f-2f2e63a39416",
   "metadata": {},
   "source": [
    "Observe que linalg.solve faz a inversa da matriz $A$ e inverte a matriz $\\vec{b}$ para ser multiplicado pela matriz inversa $A^{-1}$. <br>\n",
    "Faz tudo isso em uma linha de código."
   ]
  },
  {
   "cell_type": "markdown",
   "id": "ca7273fd-ca44-4747-93cd-b0def1035f97",
   "metadata": {},
   "source": [
    "__QUESTÃO 4__:\n",
    "\n",
    "\n",
    "__Tema do Exercício: Destilação de Mistura Binária__\n",
    "\n",
    "Suponhamos que temos uma mistura binária de dois componentes $A$ e $B$ e queremos separar<br>  usando um processo de Destilação. As frações molares iniciais de cada componente na mistura são dadas por:\n",
    "\n",
    "* Fração molar inicial de **A**: $0.6$\n",
    "* Fração molar inicial de **B**: $0.4$\n",
    "\n",
    "Durante a destilação, obtemos duas correntes de produtos:\n",
    "\n",
    "<br>1 - Corrente de topo (**overhead**): Fração molar de A na corrente de topo = $0.8$\n",
    "<br>2 - Corrente de fundo (**bottom**): Fração molar de A na corrente de fundo = $0.2$\n",
    "\n",
    "<br>A matriz $A$ representa as frações molares dos componentes nas correntes de produtos e o \n",
    "<br>vetor $b$ representa as frações molares iniciais na mistura. Monte um Sistema de Equações\n",
    "<br>Linear para o cálculo das frações de cada componente. Para resolução desse sistema Linear, \n",
    "<br>$Ax=b$, use o método algébrico e confira os resultados usando a biblioteca *Numerical Python*."
   ]
  },
  {
   "cell_type": "markdown",
   "id": "0d0a2afe",
   "metadata": {},
   "source": [
    "<img src=\"img/Q4_CET1012_sep_comp.png\" alt=\"UESC\" style=\"width: 650px; display: block; margin: 0 auto 5px auto;\">\n",
    "<p style=\"text-align: center;\">Figura<strong>: Coluna de separação.</strong></p>"
   ]
  },
  {
   "cell_type": "markdown",
   "id": "3dde403a-6055-42fa-9bd1-2432b7a3c376",
   "metadata": {},
   "source": [
    "**Obs**: Os valores obtidos para as frações molares dos componentes após a destilação serão impressos na saída.\n",
    "<br>Lembre-se de adaptar os valores e as matrizes conforme necessário para diferentes cenários de separação em Engenharia Química."
   ]
  },
  {
   "cell_type": "markdown",
   "id": "a44fb2bd-173a-4a73-8605-9a3b5f1caa6f",
   "metadata": {},
   "source": [
    "Calculos:\n",
    "\n",
    "Declarando a matriz A:\n",
    "\\begin{equation}\n",
    " A = \n",
    " \\begin{bmatrix}\n",
    " 0.8 & 0  \\\\\n",
    " 0 & 0.2  \n",
    " \\end{bmatrix} \n",
    "\\end{equation}\n",
    "\n",
    "Declarando a matriz b:\n",
    "\n",
    "\\begin{equation}\n",
    " b = \n",
    " \\begin{bmatrix}\n",
    " 0.6   \\\\\n",
    " 0.4\n",
    " \\end{bmatrix} \n",
    "\\end{equation}\n"
   ]
  },
  {
   "cell_type": "markdown",
   "id": "e3a9eded-ba4a-4a4f-96e0-d819d920a9c7",
   "metadata": {},
   "source": [
    "__Cálculo pelo Método Álgebrico__."
   ]
  },
  {
   "cell_type": "code",
   "execution_count": 116,
   "id": "da0af83f-8cbe-4267-9551-96444b38daa0",
   "metadata": {},
   "outputs": [],
   "source": [
    "# Declarando a Matriz A.\n",
    "a11, a12 = 0.8, 0\n",
    "a21, a22 = 0, 0.2"
   ]
  },
  {
   "cell_type": "code",
   "execution_count": 117,
   "id": "8573972a-837b-4aca-9ebe-d844b8828c3b",
   "metadata": {},
   "outputs": [
    {
     "data": {
      "text/plain": [
       "array([[1.25, 0.  ],\n",
       "       [0.  , 5.  ]])"
      ]
     },
     "execution_count": 117,
     "metadata": {},
     "output_type": "execute_result"
    }
   ],
   "source": [
    "# Cálculo de A^-1\n",
    "\n",
    "# Cálculo da inversa da Matriz A.\n",
    "\n",
    "A_inv = (1/(a11*a22 - a12*a21))*np.array([[a22, -a12],\n",
    "                                         [-a21, a11]])\n",
    "                                         \n",
    "A_inv"
   ]
  },
  {
   "cell_type": "code",
   "execution_count": 118,
   "id": "7b03733e-62e0-4690-9c8d-03aea39b3896",
   "metadata": {},
   "outputs": [],
   "source": [
    "# Declarando a matriz b:\n",
    "b11 = 0.6\n",
    "b12 = 0.4"
   ]
  },
  {
   "cell_type": "code",
   "execution_count": 119,
   "id": "ed0deefc-d460-45f6-944f-90c156ebb557",
   "metadata": {},
   "outputs": [],
   "source": [
    "# Cálculo algébrico \n",
    "x_tp = 1.25*b11 \n",
    "x_fd = 5.0*b12"
   ]
  },
  {
   "cell_type": "code",
   "execution_count": 120,
   "id": "91f85c9a-ccaa-4d41-b112-a6ab66fda578",
   "metadata": {},
   "outputs": [
    {
     "name": "stdout",
     "output_type": "stream",
     "text": [
      "----------------------------------------------------------------------\n",
      "\t Frações molares dos compontentes após a destilação:\n",
      "----------------------------------------------------------------------\n",
      "Frações molares de A na corrente de topo = 0.75\n",
      "Fraçõe molares de B na corrente de fundo = 2.00\n",
      "----------------------------------------------------------------------\n"
     ]
    }
   ],
   "source": [
    "# Resultados:\n",
    "def line():\n",
    "    print('-'*70)\n",
    "\n",
    "line()\n",
    "print('\\t Frações molares dos compontentes após a destilação:')\n",
    "line()\n",
    "print('Frações molares de A na corrente de topo = {:.2f}'.format(x_tp))\n",
    "print('Fraçõe molares de B na corrente de fundo = {:.2f}'.format(x_fd))\n",
    "line()"
   ]
  },
  {
   "cell_type": "markdown",
   "id": "6ff2d4b6-cab5-48ff-a5bd-5ea118afc319",
   "metadata": {},
   "source": [
    "__Conferindo os resultados__.\n",
    "\n",
    "Usando a biblioteca NumPy."
   ]
  },
  {
   "cell_type": "code",
   "execution_count": 121,
   "id": "389a76b3-0089-46c2-a34d-789f63690203",
   "metadata": {},
   "outputs": [],
   "source": [
    "z1  = 1.25*b11\n",
    "z2 = 5.0 * b12"
   ]
  },
  {
   "cell_type": "code",
   "execution_count": 122,
   "id": "fa3adc2e-e711-4240-81d6-4791ae9130f2",
   "metadata": {},
   "outputs": [
    {
     "name": "stdout",
     "output_type": "stream",
     "text": [
      "----------------------------------------\n",
      " \t Frações molares inicial:\n",
      "----------------------------------------\n",
      "Frações molares iniciais de A = 0.7500\n",
      "Fraçõe molares iniciais de B = 2.0000\n",
      "----------------------------------------\n"
     ]
    }
   ],
   "source": [
    "# Resultados:\n",
    "def line():\n",
    "    print('-'*40)\n",
    "\n",
    "line()\n",
    "print(' \\t Frações molares inicial:')\n",
    "line()\n",
    "print('Frações molares iniciais de A = {:.4f}'.format(z1))\n",
    "print('Fraçõe molares iniciais de B = {:.4f}'.format(z2))\n",
    "line()"
   ]
  },
  {
   "cell_type": "code",
   "execution_count": 123,
   "id": "efcea975-31d0-4e7d-905d-4fed71872916",
   "metadata": {},
   "outputs": [],
   "source": [
    "import numpy as np"
   ]
  },
  {
   "cell_type": "code",
   "execution_count": 124,
   "id": "5f33c61e-b689-45e0-8482-76f7c8c55513",
   "metadata": {},
   "outputs": [
    {
     "data": {
      "text/plain": [
       "array([[0.8, 0. ],\n",
       "       [0. , 0.2]])"
      ]
     },
     "execution_count": 124,
     "metadata": {},
     "output_type": "execute_result"
    }
   ],
   "source": [
    "A = np.array([\n",
    "    [0.8, 0],\n",
    "    [0, 0.2]\n",
    "])\n",
    "A"
   ]
  },
  {
   "cell_type": "code",
   "execution_count": 125,
   "id": "0ca4e27f-dcc7-428f-9e46-35a5d9dfd110",
   "metadata": {},
   "outputs": [
    {
     "data": {
      "text/plain": [
       "array([0.6, 0.4])"
      ]
     },
     "execution_count": 125,
     "metadata": {},
     "output_type": "execute_result"
    }
   ],
   "source": [
    "b = np.array([0.6, 0.4])\n",
    "b"
   ]
  },
  {
   "cell_type": "code",
   "execution_count": 126,
   "id": "2028f9f0-5b6f-4f58-aa50-a7c3ce0b3bb4",
   "metadata": {},
   "outputs": [],
   "source": [
    "# Resolvendo o Sistema Linear.\n",
    "x = np.linalg.solve(A,b)\n",
    "x_topo = x[0]\n",
    "x_fundo = x[1]"
   ]
  },
  {
   "cell_type": "code",
   "execution_count": 127,
   "id": "c08a176f-3322-475c-b154-c172a4ab81f9",
   "metadata": {},
   "outputs": [
    {
     "name": "stdout",
     "output_type": "stream",
     "text": [
      "-----------------------------------------------------------------\n",
      " \t Frações molares dos compontentes após a destilação:\n",
      "-----------------------------------------------------------------\n",
      "Frações molares de A na corrente de topo = 0.7500\n",
      "Fraçõe molares de A na corrente de fundo = 2.0000\n",
      "-----------------------------------------------------------------\n"
     ]
    }
   ],
   "source": [
    "# Resultados:\n",
    "def line():\n",
    "    print('-'*65)\n",
    "\n",
    "line()\n",
    "print(' \\t Frações molares dos compontentes após a destilação:')\n",
    "line()\n",
    "print('Frações molares de A na corrente de topo = {:.4f}'.format(x_topo))\n",
    "print('Fraçõe molares de A na corrente de fundo = {:.4f}'.format(x_fundo))\n",
    "line()"
   ]
  },
  {
   "cell_type": "markdown",
   "id": "80f6a59e-c44c-4eab-917a-89735b24ef60",
   "metadata": {},
   "source": [
    "__Conferindo os resultados__."
   ]
  },
  {
   "cell_type": "code",
   "execution_count": 128,
   "id": "0d65c1b4-7834-4ea1-89cc-2af5ae2001b6",
   "metadata": {},
   "outputs": [],
   "source": [
    "z_1  = 1.25*b11\n",
    "z_2 = 5.0*b12"
   ]
  },
  {
   "cell_type": "code",
   "execution_count": 129,
   "id": "1e71d949-aded-43b1-a0e0-5908dba5aa2b",
   "metadata": {},
   "outputs": [
    {
     "name": "stdout",
     "output_type": "stream",
     "text": [
      "----------------------------------------\n",
      " \t Frações molares inicial:\n",
      "----------------------------------------\n",
      "Frações molares iniciais de A = 0.75\n",
      "Fraçõe molares iniciais de B = 2.00\n",
      "----------------------------------------\n"
     ]
    }
   ],
   "source": [
    "# Resultados:\n",
    "def line():\n",
    "    print('-'*40)\n",
    "\n",
    "line()\n",
    "print(' \\t Frações molares inicial:')\n",
    "line()\n",
    "print('Frações molares iniciais de A = {:.2f}'.format(z_1))\n",
    "print('Fraçõe molares iniciais de B = {:.2f}'.format(z_2))\n",
    "line()"
   ]
  }
 ],
 "metadata": {
  "kernelspec": {
   "display_name": "base",
   "language": "python",
   "name": "python3"
  },
  "language_info": {
   "codemirror_mode": {
    "name": "ipython",
    "version": 3
   },
   "file_extension": ".py",
   "mimetype": "text/x-python",
   "name": "python",
   "nbconvert_exporter": "python",
   "pygments_lexer": "ipython3",
   "version": "3.11.7"
  }
 },
 "nbformat": 4,
 "nbformat_minor": 5
}
