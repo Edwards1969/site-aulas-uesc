{
 "cells": [
  {
   "cell_type": "markdown",
   "metadata": {},
   "source": [
    "<div style=\"text-align: center;\">\n",
    "\n",
    "  <!-- Logotipo -->\n",
    "  <img src=\"img/LogoUesc.png\" alt=\"UESC\" style=\"width: 60px; display: block; margin: 0 auto 5px auto;\">\n",
    "\n",
    "  <!-- Cabeçalho -->\n",
    "  <div style=\"font-size: 20px;\"><strong>UNIVERSIDADE ESTADUAL DE SANTA CRUZ - UESC</strong></div>\n",
    "  <div style=\"font-size: 18px;\">DEPARTAMENTO DE ENGENHARIAS E COMPUTAÇÃO</div>\n",
    "  <div style=\"font-size: 18px;\">ENGENHARIA QUÍMICA</div>\n",
    "\n",
    "  <hr style=\"margin: 20px 0; border: 1px solid #0074B7;\">\n",
    "\n",
    "  <!-- Título do Trabalho -->\n",
    "  <div style=\"font-size: 22px; font-weight: bold; margin-bottom: 10px;\">Modelagem, Simulação e Otimização de Processos Químicos</div>\n",
    "  <div style=\"font-size: 20px; font-weight: bold; margin-bottom: 10px;\">Modelagem de Reações Química em um Reator.</div>\n",
    "\n",
    "  <!-- Autor e orientador -->\n",
    "  <div style=\"font-size: 18px;\">Prof. Dr. E.R.Edwards</div>\n",
    "\n",
    "<hr style=\"margin: 20px 0; border: 1px solid #0074B7;\">\n",
    "  <!-- Data -->\n",
    "<!-- <div style=\"font-size: 16px; margin-top: 15px;\">Ilhéus - BA, Abril de 2025</div> -->\n",
    "</div>"
   ]
  },
  {
   "cell_type": "markdown",
   "metadata": {},
   "source": [
    "__Métodos de matrizes sparsas na modelagem de reatores__.\n",
    "\n",
    "__Fonte__: https://docs.scipy.org/doc/scipy/reference/generated/scipy.sparse.diags.html"
   ]
  },
  {
   "cell_type": "markdown",
   "metadata": {},
   "source": [
    "__Cálculos de matrizes diagonais__.\n",
    "\n",
    "**Parâmetros**:\n",
    "\n",
    "**Diagonais**\n",
    "sequência de array_like\n",
    "Sequência de matrizes contendo as diagonais da matriz, correspondentes a compensações.\n",
    "\n",
    "**Deslocamentos**\n",
    "sequência de int ou int, opcional\n",
    "\n",
    "**Diagonais a definir**:\n",
    "- k = 0 a diagonal principal (padrão)\n",
    "\n",
    "- k > 0 a k-ésima diagonal superior\n",
    "\n",
    "- k < 0 a k-ésima diagonal inferior\n",
    "\n",
    "**forma**\n",
    "Tupla de int, opcional\n",
    "Forma do resultado. Se omitida, uma matriz quadrada grande o suficiente para conter as diagonais é retornado.\n",
    "\n",
    "**formato**\n",
    "{\"dia\", \"csr\", \"csc\", \"lil\", ...}, opcional\n",
    "Formato matricial do resultado. Por padrão (format=None) um o formato de matriz esparso apropriado é retornado. Esta escolha é sujeito a alterações.\n",
    "\n",
    "**dtype**\n",
    "dtype, opcional\n",
    "Tipo de dados da matriz."
   ]
  },
  {
   "cell_type": "markdown",
   "metadata": {},
   "source": [
    "__Matrizes triangulares__\n",
    "\n",
    "**Fonte**: Anton Rorres, \"Álgebra Linear com Aplicação\". $8^o$ Edição. pág.67\n",
    "\n",
    "Uma matriz quadrada na qual todas as entradas acima da diagonal principal são zero é chamada de **triangular inferior** e uma matriz na qual todas as entradas abaixo da diagonal principal são zeros é chamada **triangular superior**. Uma matriz que é triangular inferior ou triangular superior é chamada **triangular**."
   ]
  },
  {
   "cell_type": "markdown",
   "metadata": {},
   "source": [
    "__Exemplo__:\n",
    "Matriz triangular superior $4x4$ arbitrária:\n",
    "\n",
    "\\begin{equation}\n",
    "    \\begin{bmatrix}\n",
    "    {\\color{blue}a_{11}} & a_{12} & a_{13} & a_{14} \\\\\n",
    "    0 &  {\\color{blue}a_{22}} & a_{23} & a_{24} \\\\\n",
    "    0 & 0 & {\\color{blue}a_{33}} & a_{34} \\\\\n",
    "    0 & 0 & 0 &  {\\color{blue}a_{44}} \\\\\n",
    "    \\end{bmatrix}\n",
    "\\end{equation}"
   ]
  },
  {
   "cell_type": "markdown",
   "metadata": {},
   "source": [
    "\n",
    "Matriz triangular inferior $4x4$ arbitrária:\n",
    "\n",
    "\\begin{equation}\n",
    "    \\begin{bmatrix}\n",
    "    {\\color{blue}a_{11}} & 0 & 0 & 0  \\\\\n",
    "   a_{21} &  {\\color{blue}a_{22}} & 0 & 0 \\\\\n",
    "    a_{31} & a_{32} & {\\color{blue}a_{33}} & 0 \\\\\n",
    "    a_{41} & a_{42} & a_{43} &  {\\color{blue}a_{44}} \\\\\n",
    "    \\end{bmatrix}\n",
    "\\end{equation}"
   ]
  },
  {
   "cell_type": "markdown",
   "metadata": {},
   "source": [
    "__Exemplo__:\n",
    "Considere as matrizes triangulares superior abaixo.\n",
    "\n",
    "\\begin{equation}\n",
    "A = \n",
    "    \\begin{bmatrix}\n",
    "    1 & 3  & -1  \\\\\n",
    "    0 & 2  & 4  \\\\\n",
    "    0 & 0  & 5 \\\\\n",
    "    \\end{bmatrix}\n",
    "    \\\n",
    "B = \n",
    "    \\begin{bmatrix}\n",
    "    3 & -2  & 2  \\\\\n",
    "    0 & 0  & -1  \\\\\n",
    "    0 & 0  & 1 \\\\\n",
    "    \\end{bmatrix}\n",
    "\\end{equation}\n",
    "\n",
    "A matriz A é inversível, pois suas entradas na diagonal principal são não-nulas, mas a matriz $B$ não é. Ou seja, para que você consiga calcular a inversa da matriz ($A^{-1}$) diagonal superior ou inferior, os valores armazenados não podem ter nenhum zero."
   ]
  },
  {
   "cell_type": "markdown",
   "metadata": {},
   "source": [
    "__Exercício 1__ \n",
    "\n",
    "Imprima a matriz A aplicando o método apresentado na parte teórica.\n",
    "\n",
    "\\begin{equation}\n",
    "A = \n",
    "    \\begin{bmatrix}\n",
    "    1 & 0 & 1 & 0 \\\\\n",
    "    1 & 2 & 0 & 2 \\\\\n",
    "    0 & 2 & 3 & 0 \\\\\n",
    "    0 & 0 & 3 & 4 \\\\\n",
    "    \\end{bmatrix}\n",
    "\\end{equation}"
   ]
  },
  {
   "cell_type": "code",
   "execution_count": 1,
   "metadata": {},
   "outputs": [],
   "source": [
    "from scipy.sparse import diags"
   ]
  },
  {
   "cell_type": "code",
   "execution_count": 2,
   "metadata": {},
   "outputs": [
    {
     "data": {
      "text/plain": [
       "array([[1., 0., 1., 0.],\n",
       "       [1., 2., 0., 2.],\n",
       "       [0., 2., 3., 0.],\n",
       "       [0., 0., 3., 4.]])"
      ]
     },
     "execution_count": 2,
     "metadata": {},
     "output_type": "execute_result"
    }
   ],
   "source": [
    "diagonals = [[1, 2, 3, 4], [1, 2, 3], [1, 2]]\n",
    "Matrix = diags(diagonals, [0, -1, 2]).toarray()\n",
    "Matrix"
   ]
  },
  {
   "cell_type": "markdown",
   "metadata": {},
   "source": [
    "__Exercício 2__:\n",
    "\n",
    "A transmissão de escalares é suportada (mas a forma (shape) precisa ser especificada):\n",
    "\n",
    "**Explicação**:\n",
    "\n",
    "Suponha que você queira uma matriz em que a diagonal superior inferior seja formada por $1$ na primeira diagonal inferior $k=-1$, formada por $2$ na diagonal principal $k=0$ e formada por $1$ na primeira diagonal superior $k=1$. E que essa matriz seja de $4x4$. O código abaixo mostra que a primeira lista $[1, -2, 1]$ mostra os valores numéricos para cada diagonal, começando com a diagonal inferior, e a segunda lista $[-1, 0, 1]$ mostra a posição dessas diagonais $[k1, k2, k3]$ sendo $k1$ a diagonal inferior, $k=0$ a diaganal principal e $k=1$ a diagonal superior."
   ]
  },
  {
   "cell_type": "code",
   "execution_count": 3,
   "metadata": {},
   "outputs": [
    {
     "data": {
      "text/plain": [
       "array([[-2.,  1.,  0.,  0.],\n",
       "       [ 1., -2.,  1.,  0.],\n",
       "       [ 0.,  1., -2.,  1.],\n",
       "       [ 0.,  0.,  1., -2.]])"
      ]
     },
     "execution_count": 3,
     "metadata": {},
     "output_type": "execute_result"
    }
   ],
   "source": [
    "Matrix_2 = diags([1, -2, 1], [-1, 0, 1], shape=(4, 4)).toarray()\n",
    "Matrix_2"
   ]
  },
  {
   "cell_type": "markdown",
   "metadata": {},
   "source": [
    "Se apenas uma diagonal for desejada (como em numpy.diag), o seguinte também funciona:"
   ]
  },
  {
   "cell_type": "code",
   "execution_count": 4,
   "metadata": {},
   "outputs": [
    {
     "data": {
      "text/plain": [
       "array([[0., 1., 0., 0.],\n",
       "       [0., 0., 2., 0.],\n",
       "       [0., 0., 0., 3.],\n",
       "       [0., 0., 0., 0.]])"
      ]
     },
     "execution_count": 4,
     "metadata": {},
     "output_type": "execute_result"
    }
   ],
   "source": [
    "Matrix_3 = diags([1, 2, 3], 1).toarray()\n",
    "Matrix_3"
   ]
  },
  {
   "cell_type": "markdown",
   "metadata": {},
   "source": [
    "Agora vamos para uma aplicação na resolução de um problema de Engenharia Química.\n",
    "\n",
    " Modelagem de Reações Químicas em um Reator\n",
    "\n",
    "Considere um reator químico que opera com as seguintes reações:\n",
    "\n",
    "1. Reação 1: A + B → C\n",
    "2. Reação 2: C → D\n",
    "\n",
    "Neste sistema, temos as seguintes taxas de reação:\n",
    "\n",
    "- Taxa de consumo de A ($ r_A $): <br>\n",
    "$ r_A = k_1.C_A.C_B $\n",
    "\n",
    "- Taxa de consumo de B ($ r_B $): <br>\n",
    "$ r_B = k_1.C_A.C_B $\n",
    "\n",
    "- Taxa de formação de C ($ r_C $): <br>\n",
    "$ r_C = k_1.C_A.C_B - k_2.C_C $\n",
    "\n",
    "- Taxa de formação de D ($r_D$):<br>\n",
    "$ r_D = k_2.C_c $"
   ]
  },
  {
   "cell_type": "markdown",
   "metadata": {},
   "source": [
    "onde: <br>\n",
    "\n",
    "- $C_A$, $C_B$, $C_C$ são as concentrações dos componentes $A$, $B$, $C$ e $D$, respectivamente.\n",
    "\n",
    "- $k_1$ e $k_2$ são as constantes de velocidade das reações."
   ]
  },
  {
   "cell_type": "markdown",
   "metadata": {},
   "source": [
    "Agora, vamos montar o sistema de **Equações Diferenciais** para modelar a evolução das concentrações ao longo do tempo:\n",
    "\n",
    "1. $\\frac{dC_A}{dt} = -r_A$ <br>\n",
    "\n",
    "2. $\\frac{dC_B}{dt} = -r_B$ <br>\n",
    "\n",
    "3. $\\frac{dC_C}{dt} = r_C$  <br>\n",
    "\n",
    "4. $\\frac{dC_D}{dt} =  r_D$ <br>"
   ]
  },
  {
   "cell_type": "markdown",
   "metadata": {},
   "source": [
    "<img src=\"img/reator_matriz.png\" alt=\"UESC\" style=\"width: 650px; display: block; margin: 0 auto 5px auto;\">\n",
    "<p style=\"text-align: center;\"><strong>Figura: Desenho esquemático de um reator.</strong></p>"
   ]
  },
  {
   "cell_type": "markdown",
   "metadata": {},
   "source": [
    "A matriz $A$ com os coeficientes das concentrações é:\n",
    "\n",
    "\\begin{equation}\n",
    "A = \n",
    "\\begin{bmatrix}\n",
    "-1 &  0 & 0 & 0 \\\\\n",
    " 0 & -1 & 1 & 0 \\\\\n",
    " 0 & 0 & -1 & 1\\\\\n",
    " 0 & 0 & 0 & -1 \\\\\n",
    "\\end{bmatrix}\n",
    "\\end{equation}"
   ]
  },
  {
   "cell_type": "markdown",
   "metadata": {},
   "source": [
    "O vetor $b$ com as concentrações iniciais é:\n",
    "\n",
    "\\begin{equation}\n",
    "b = \n",
    "\\begin{bmatrix}\n",
    "C_{A0} \\\\\n",
    "C_{B0} \\\\\n",
    "C_{C0} \\\\\n",
    "C_{D0}\n",
    "\\end{bmatrix}\n",
    "\\end{equation}"
   ]
  },
  {
   "cell_type": "markdown",
   "metadata": {},
   "source": [
    "Agora, vamos resolver numericamente o sistema de equações diferenciais usando a biblioteca scipy.sparse e plotar os resultados em um gráfico."
   ]
  },
  {
   "cell_type": "code",
   "execution_count": 1,
   "metadata": {},
   "outputs": [],
   "source": [
    "import numpy as np\n",
    "import matplotlib.pyplot as plt\n",
    "from scipy.sparse import diags\n",
    "from scipy.integrate import solve_ivp\n",
    "\n",
    "# IVP - Problema de Valor Inicial\n",
    "\n",
    "# https://docs.scipy.org/doc/scipy/reference/generated/scipy.integrate.solve_ivp.html"
   ]
  },
  {
   "cell_type": "code",
   "execution_count": 7,
   "metadata": {},
   "outputs": [],
   "source": [
    "# Parâmetros\n",
    "k1 = 0.1\n",
    "k2 = 0.05\n",
    "C_A0 = 1.0\n",
    "C_B0 = 0.5\n",
    "C_C0 = 0.01\n",
    "C_D0 = 0.01"
   ]
  },
  {
   "cell_type": "code",
   "execution_count": 8,
   "metadata": {},
   "outputs": [
    {
     "data": {
      "text/plain": [
       "array([[-1,  0,  0,  0],\n",
       "       [ 0, -1,  1,  0],\n",
       "       [ 0,  0, -1,  1],\n",
       "       [ 0,  0,  0, -1]])"
      ]
     },
     "execution_count": 8,
     "metadata": {},
     "output_type": "execute_result"
    }
   ],
   "source": [
    "# Criando a matriz esparsa.\n",
    "\n",
    "diagonals = np.array([[-1, 0, 0, 0], [0, -1, 1, 0], [0, 0, -1, 1], [0, 0, 0, -1]])\n",
    "\n",
    "diagonals"
   ]
  },
  {
   "cell_type": "code",
   "execution_count": 9,
   "metadata": {},
   "outputs": [
    {
     "data": {
      "text/plain": [
       "array([[-1.,  0.,  0.,  0.],\n",
       "       [ 0.,  0., -1.,  0.],\n",
       "       [ 0.,  0.,  0.,  1.],\n",
       "       [ 0.,  0.,  0.,  0.]])"
      ]
     },
     "execution_count": 9,
     "metadata": {},
     "output_type": "execute_result"
    }
   ],
   "source": [
    "A = diags(diagonals, [0, 1, 2, 3]).toarray()\n",
    "A"
   ]
  },
  {
   "cell_type": "code",
   "execution_count": 10,
   "metadata": {},
   "outputs": [],
   "source": [
    "# Sistema de equações diferenciais.\n",
    "def reator(t, y):\n",
    "    return A @ y\n",
    "# Anotação acima @ significa multiplicação matricial.\n",
    "    \n",
    "# Tempo de simulação.\n",
    "t_span = (0, 10) # 10 unidades de tempo.\n",
    "\n",
    "# Resolvendo as equações diferenciais.\n",
    "sol = solve_ivp(reator, t_span,  [C_A0, C_B0, C_C0, C_D0], t_eval=np.linspace(0, 10, 100))"
   ]
  },
  {
   "cell_type": "code",
   "execution_count": 11,
   "metadata": {},
   "outputs": [
    {
     "data": {
      "image/png": "[encoded data removed]",
      "text/plain": [
       "<Figure size 640x480 with 1 Axes>"
      ]
     },
     "metadata": {},
     "output_type": "display_data"
    }
   ],
   "source": [
    "# Plotando os resultados\n",
    "plt.plot(sol.t, sol.y[0], label='$C_A$')\n",
    "plt.plot(sol.t, sol.y[1], label='$C_B$')\n",
    "plt.plot(sol.t, sol.y[2], label='$C_C$')\n",
    "plt.plot(sol.t, sol.y[3], label='$C_D$')\n",
    "plt.xlabel('Tempo')\n",
    "plt.ylabel('Concentração')\n",
    "plt.legend()\n",
    "plt.title('Evolução das Concentrações no Reator')\n",
    "plt.show()"
   ]
  },
  {
   "cell_type": "markdown",
   "metadata": {},
   "source": [
    "<div style=\"text-align: center; font-size: 12px; color: gray; margin-top: 40px;\">\n",
    "  Este notebook foi desenvolvido no âmbito do Grupo de Pesquisas em Modelagem Computacional da UESC.<br>\n",
    "  Todos os direitos reservados © 2025\n",
    "</div>"
   ]
  }
 ],
 "metadata": {
  "kernelspec": {
   "display_name": "Python 3 (ipykernel)",
   "language": "python",
   "name": "python3"
  },
  "language_info": {
   "codemirror_mode": {
    "name": "ipython",
    "version": 3
   },
   "file_extension": ".py",
   "mimetype": "text/x-python",
   "name": "python",
   "nbconvert_exporter": "python",
   "pygments_lexer": "ipython3",
   "version": "3.12.4"
  }
 },
 "nbformat": 4,
 "nbformat_minor": 4
}
