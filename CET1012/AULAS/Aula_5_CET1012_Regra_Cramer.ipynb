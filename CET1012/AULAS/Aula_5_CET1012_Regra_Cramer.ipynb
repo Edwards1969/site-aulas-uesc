{
 "cells": [
  {
   "cell_type": "markdown",
   "id": "a2432306",
   "metadata": {},
   "source": [
    "<div style=\"text-align: center;\">\n",
    "\n",
    "  <!-- Logotipo -->\n",
    "  <img src=\"img/LogoUesc.png\" alt=\"UESC\" style=\"width: 60px; display: block; margin: 0 auto 5px auto;\">\n",
    "\n",
    "  <!-- Cabeçalho -->\n",
    "  <div style=\"font-size: 20px;\"><strong>UNIVERSIDADE ESTADUAL DE SANTA CRUZ - UESC</strong></div>\n",
    "  <div style=\"font-size: 18px;\">DEPARTAMENTO DE ENGENHARIAS E COMPUTAÇÃO</div>\n",
    "  <div style=\"font-size: 18px;\">ENGENHARIA QUÍMICA</div>\n",
    "\n",
    "  <hr style=\"margin: 20px 0; border: 1px solid #0074B7;\">\n",
    "\n",
    "  <!-- Título do Trabalho -->\n",
    "  <div style=\"font-size: 22px; font-weight: bold; margin-bottom: 10px;\">Modelagem, Simulação e Otimização de Processos Químicos</div>\n",
    "  <div style=\"font-size: 20px; font-weight: bold; margin-bottom: 10px;\">Métodos Matriciais em Cálculos de Engenharia</div>\n",
    "\n",
    "  <!-- Autor e orientador -->\n",
    "  <div style=\"font-size: 18px;\">Prof. Dr. E.R.Edwards</div>\n",
    "\n",
    "<hr style=\"margin: 20px 0; border: 1px solid #0074B7;\">\n",
    "  <!-- Data -->\n",
    "<!-- <div style=\"font-size: 16px; margin-top: 15px;\">Ilhéus - BA, Abril de 2025</div> -->\n",
    "</div>"
   ]
  },
  {
   "cell_type": "markdown",
   "id": "4c6d8716-7752-437f-991f-1c39fc81c5f2",
   "metadata": {},
   "source": [
    "#### Conceito:\n",
    "\n",
    "A **Regra de Cramer** é um método desenvolvido para calcular um **Sistema Linear** utilizando o determinante das matrizes relacionadas a esse sistema. É utilizado para encontrar as soluções de um sistema linear."
   ]
  },
  {
   "cell_type": "markdown",
   "id": "ffc26409-26d6-421d-af1c-b27e4a450ddf",
   "metadata": {},
   "source": [
    "1 - Vamos aplicar a regra de Cramer para encontrar  as incógnitas do seguinte sistema de equações:\n",
    "\n",
    "$$a_{11}x + b_{12} y =c_{11}$$\n",
    "\n",
    "$$a_{21}x + b_{22} y =c_{21}$$\n",
    "\n",
    "O cálculo das incógnitas $x$ e $y$ é determinada por:\n",
    "\n",
    "$$ x = \\frac{D_x}{D} $$\n",
    "\n",
    "$$ y = \\frac{D_y}{D} $$\n",
    "\n",
    "\n",
    "1.1 -  O Determinante $D$ é calculado por:  \n",
    "\n",
    "\\begin{equation}\n",
    "D =\n",
    "\\begin{bmatrix}\n",
    "a_{11} & b_{12} \\\\\n",
    "a_{21} & b_{22} \n",
    "\\end{bmatrix}\n",
    "= a_{11}.b_{22} - b_{12}.a_{21}\n",
    "\\end{equation}\n",
    "\n",
    "1.2 - Para o cálculo do determinte $D_x$ vamos substituir os valor da coluna de $x$ pelos valores da coluna $c$.\n",
    "\\begin{equation}\n",
    "D_x =\n",
    "\\begin{bmatrix}\n",
    "c_{11} & b_{12} \\\\\n",
    "c_{21} & b_{22} \n",
    "\\end{bmatrix}\n",
    "= c_{11}.b_{22} - b_{12}.c_{21}\n",
    "\\end{equation}\n",
    "\n",
    "1.3 - Para o cálculo do determinante $D_y$ vamos substituir os valor da coluna de $y$ pelos valores da coluna $c$.\n",
    "\\begin{equation}\n",
    "D_y =\n",
    "\\begin{bmatrix}\n",
    "a_{11} & c_{11} \\\\\n",
    "a_{21} & c_{21} \n",
    "\\end{bmatrix}\n",
    "= a_{11}.c_{21} - c_{11}.a_{21}\n",
    "\\end{equation}\n"
   ]
  },
  {
   "cell_type": "markdown",
   "id": "68c5692e-2a54-4f52-8465-e3aa9787368a",
   "metadata": {},
   "source": [
    "#### Exercício:\n",
    "\n",
    "Aplique os conceitos apresentados no item anterior e encontre as  incógnitas das equações abaixo de forma computacional. Confira seus resultados.\n",
    "\n",
    "$$ x + 2y = 3 $$\n",
    "$$ 3x + 4y = 4 $$"
   ]
  },
  {
   "cell_type": "code",
   "execution_count": 46,
   "id": "eaf26383-b703-4036-9eac-7468c4184f78",
   "metadata": {},
   "outputs": [
    {
     "data": {
      "text/plain": [
       "-2"
      ]
     },
     "execution_count": 46,
     "metadata": {},
     "output_type": "execute_result"
    }
   ],
   "source": [
    "# Dados numéricos:\n",
    "a11, b11 = 1, 2\n",
    "a21, b22 = 3, 4\n",
    "\n",
    "c11, c12 = 3, 4\n",
    "\n",
    "# Cálculo do Determinante\n",
    "D = a11*b22 - b11*a21\n",
    "D"
   ]
  },
  {
   "cell_type": "code",
   "execution_count": 47,
   "id": "078478b9-3760-4740-b548-e0a33af05026",
   "metadata": {},
   "outputs": [
    {
     "data": {
      "text/plain": [
       "4"
      ]
     },
     "execution_count": 47,
     "metadata": {},
     "output_type": "execute_result"
    }
   ],
   "source": [
    "# Cálculo do determinante Dx\n",
    "D_x = c11*b22 - b11*c12\n",
    "D_x"
   ]
  },
  {
   "cell_type": "code",
   "execution_count": 48,
   "id": "2b1fc67a-cc69-464d-a483-6a230079f8df",
   "metadata": {},
   "outputs": [
    {
     "data": {
      "text/plain": [
       "-5"
      ]
     },
     "execution_count": 48,
     "metadata": {},
     "output_type": "execute_result"
    }
   ],
   "source": [
    "# Cálculo do determinante Dy\n",
    "D_y = a11*c12 - c11*a21\n",
    "D_y"
   ]
  },
  {
   "cell_type": "code",
   "execution_count": 49,
   "id": "27741f36-5d20-447d-9808-648f14259bfd",
   "metadata": {},
   "outputs": [
    {
     "name": "stdout",
     "output_type": "stream",
     "text": [
      "O valor de x =  -2.0\n",
      "O valor de y =  2.5\n"
     ]
    }
   ],
   "source": [
    "# Cálculo de x e y.\n",
    "x = D_x/D\n",
    "y = D_y/D\n",
    "\n",
    "print('O valor de x = ', x)\n",
    "print('O valor de y = ', y)"
   ]
  },
  {
   "cell_type": "code",
   "execution_count": 50,
   "id": "5b0ea5ee-4e01-4b4f-9c44-f25020a64d03",
   "metadata": {},
   "outputs": [
    {
     "name": "stdout",
     "output_type": "stream",
     "text": [
      "O valor de c11 = 3 e z1 =  3.0\n",
      "O valor de c12 = 4 e z2 =  4.0\n"
     ]
    }
   ],
   "source": [
    "#Conferindo os resultados:\n",
    "# x+2y = 3\n",
    "z1 = x + 2*y\n",
    "\n",
    "# 3x+4y = 4\n",
    "z2 = 3*x + 4*y\n",
    "\n",
    "print('O valor de c11 = 3 e z1 = ', z1 )\n",
    "print('O valor de c12 = 4 e z2 = ', z2)"
   ]
  },
  {
   "cell_type": "markdown",
   "id": "36ffdda0-7c68-4234-bbda-9f8336b2d2e4",
   "metadata": {},
   "source": [
    "__Exercício de aplicação__.\n",
    "\n",
    "O propileno e o propano estão entre os hidrocarbonetos leves produzidos pelo craqueamento de frações pesadas de petróleo. O propano é valioso como combustível e gás natural liquefeito (GLP) e como matéria-prima para a produção de propileno e etileno. A partir dos dados de entrada encontre de forma computacional as frações dos componentes na saída do Processo. Confira seus resultados."
   ]
  },
  {
   "cell_type": "markdown",
   "id": "23ebd85f-21d3-4b93-bc55-b4ab474e41c6",
   "metadata": {},
   "source": [
    "<img src=\"img/separador_seader.png\" alt=\"UESC\" style=\"width: 450px; display: block; margin: 0 auto 5px auto;\">\n",
    "<p style=\"text-align: center;\">Fonte<strong>: Seader, et. all \" Separation Process Principles - Chemical ad Biochemical Operations\" 3a Ed.</strong></p>"
   ]
  },
  {
   "cell_type": "markdown",
   "id": "b4a85261-c9f0-45aa-9dcf-6adfd4d823e4",
   "metadata": {},
   "source": [
    "__#### __Vamos colocar os dados em forma matricial__.\n",
    "\n",
    "Seja $x$ a fração do Propileno e $y$ a fração do Propano, então temos:\n",
    "\n",
    "$$ 157.6x +   5.7y = 163.3 $$\n",
    "$$   1.6x + 107.3y = 108.9 $$\n",
    "\n",
    "Então vamos chamar de:\n",
    "\n",
    "$a_1$... fração de Propileno na corrente de topo <br>\n",
    "$b_1$... fração do Propileno na corrente de fundo <br>\n",
    "\n",
    "$a_2$...fração do Propano na corrente de topo <br>\n",
    "$b_2$... fração do Propano na corrente de fundo <br>\n",
    "\n",
    "$d_1$... vazão de Propileno na entrada do processo <br>\n",
    "$d_2$... vazão de Propano na entrada do processo <br>\n",
    "\n",
    "Então teremos:\n",
    "\n",
    "$$ a_1x + b_1y = d_1 $$\n",
    "$$ a_2x + b_2y = d_2 $$\n",
    "\n",
    "Vamos resolver aplicando a **Regra de Cramer** para determinar as incógnitas."
   ]
  },
  {
   "cell_type": "code",
   "execution_count": 51,
   "id": "76344899-b14a-49b1-93cb-55cc769483ff",
   "metadata": {},
   "outputs": [],
   "source": [
    "# Declarando as variáveis, temos:\n",
    "\n",
    "a1, b1 = 157.6, 5.7\n",
    "a2, b2 = 1.6, 107.3\n",
    "\n",
    "# Declarando os valores de entrada no processo.\n",
    "d1 = 163.3\n",
    "d2 = 108.9"
   ]
  },
  {
   "cell_type": "code",
   "execution_count": 52,
   "id": "b4e209e9-e60f-4c64-83be-53f3e8483d31",
   "metadata": {},
   "outputs": [
    {
     "data": {
      "text/plain": [
       "16901.36"
      ]
     },
     "execution_count": 52,
     "metadata": {},
     "output_type": "execute_result"
    }
   ],
   "source": [
    "# Cálculo do Determinante.\n",
    "D = a1*b2 - b1*a2\n",
    "D"
   ]
  },
  {
   "cell_type": "code",
   "execution_count": 53,
   "id": "bb163eaa-855c-40aa-b365-39514be23bd2",
   "metadata": {},
   "outputs": [
    {
     "data": {
      "text/plain": [
       "16901.36"
      ]
     },
     "execution_count": 53,
     "metadata": {},
     "output_type": "execute_result"
    }
   ],
   "source": [
    "# Cálculo de Dx\n",
    "\n",
    "Dx = d1*b2 - b1*d2\n",
    "Dx"
   ]
  },
  {
   "cell_type": "code",
   "execution_count": 54,
   "id": "db513f69-aad8-4b33-8666-b3b308ceeb9d",
   "metadata": {},
   "outputs": [
    {
     "data": {
      "text/plain": [
       "16901.36"
      ]
     },
     "execution_count": 54,
     "metadata": {},
     "output_type": "execute_result"
    }
   ],
   "source": [
    "# Cálculo de Dy\n",
    "Dy = a1*d2 - d1*a2\n",
    "Dy"
   ]
  },
  {
   "cell_type": "code",
   "execution_count": 55,
   "id": "c9eb6f8a-517b-457d-8e4a-d8516ab74600",
   "metadata": {},
   "outputs": [
    {
     "name": "stdout",
     "output_type": "stream",
     "text": [
      "O resultado de x =  1.0\n",
      "O resultado de y =  1.0\n"
     ]
    }
   ],
   "source": [
    "# Cálculo das incógnitas.\n",
    "x = Dx/D\n",
    "y = Dy/D\n",
    "\n",
    "print('O resultado de x = ', x)\n",
    "print('O resultado de y = ',y)\n"
   ]
  },
  {
   "cell_type": "code",
   "execution_count": 56,
   "id": "04895847-b8e3-41f0-9f27-cc34f846eb82",
   "metadata": {},
   "outputs": [
    {
     "name": "stdout",
     "output_type": "stream",
     "text": [
      "O valor de d1 = 163.3 e z1 = 163.30\n",
      "O valor de d2 = 108.9 e z2 = 108.90\n"
     ]
    }
   ],
   "source": [
    "# Conferindo os resultados.\n",
    "z1 = a1*x + b1*y\n",
    "z2 = a2*x + b2*y\n",
    "\n",
    "print('O valor de d1 = 163.3 e z1 = {:.2f}'.format(z1))\n",
    "print('O valor de d2 = 108.9 e z2 = {:.2f}'.format(z2))"
   ]
  },
  {
   "cell_type": "markdown",
   "id": "69d0ea35",
   "metadata": {},
   "source": [
    "__Regra de Cramer__\n",
    "\n",
    "A **Regra de Cramer** é um método utilizado para encontrar o conjunto solução de um sistema de equação linear possível de determinar, possibilitando a resolução de problema de Engenharia. Vamos analisar um sistema com três equações e três incógnitas como mostrado abaixo.\n",
    "\n",
    "$$a_{11}x + a_{12}y + a_{13}z  = d_1$$\n",
    "\n",
    "$$a_{21}x + a_{22}y + a_{23}z = d_2$$\n",
    "\n",
    "$$a_{31}x + a_{32}y + a_{33}z = d_3$$"
   ]
  },
  {
   "cell_type": "markdown",
   "id": "14b0b893-f39a-4ad5-be61-3e89368514bf",
   "metadata": {},
   "source": [
    "Vamos calcular o Determinante de uma matriz com três incógnitas.\n",
    "\n",
    "\\begin{equation}\n",
    "D = \n",
    "    \\begin{vmatrix}\n",
    "\ta_{11} & a_{12} & a_{13}  \\\\\n",
    "\ta_{21} & a_{22} & a_{23}  \\\\\n",
    "\ta_{31} & a_{32} & a_{33}  \\\\\n",
    "    \\end{vmatrix}\n",
    "    =a_{11}.(a_{22}.a_{33}-a_{23}.a_{32})-a_{12}.(a_{21}.a_{33}-a_{23}.a_{31})+a_{13}.(a_{21}.a_{32}-a_{22}.a_{31})\n",
    "\\end{equation}\n",
    "\n",
    "Agora vamos calcular o determinante $D_x$ substituindo os valores da coluna $x$ pelos valores de $d$.\n",
    "\\begin{equation}\n",
    "A_x = \n",
    "    \\begin{vmatrix}\n",
    "\td_{1} & a_{12} & a_{13}  \\\\\n",
    "\td_{2} & a_{22} & a_{23}  \\\\\n",
    "\td_{3} & a_{32} & a_{33}  \\\\\n",
    "    \\end{vmatrix}\n",
    "    = d_{1}(a_{22}.a_{33}-a_{23}.a_{32})-a_{12}(d_{2}.a_{33}-a_{23}.d_{3})+a_{13}.(d_{2}.a_{32}-a_{22}.d_{3})\n",
    "\\end{equation}\n",
    "\n",
    "Vamos calcular o determinante $D_y$ substituindo os valores da coluna $y$ pelos valores de $d$.\n",
    "\n",
    "\\begin{equation}\n",
    "A_y = \n",
    "    \\begin{vmatrix}\n",
    "\ta_{11} & d_{1} & a_{13}  \\\\\n",
    "\ta_{21} & d_{2} & a_{23}  \\\\\n",
    "\ta_{31} & d_{3} & a_{33}  \\\\\n",
    "    \\end{vmatrix}\n",
    "    = a_{11}.(d_{2}.a_{33}-a_{23}.d_{3})-d_{1}.(a_{21}.a_{33}-a_{23}.a_{31})+a_{13}.(a_{21}.d_{3}-d_{2}.a_{31})\n",
    "\\end{equation}\n",
    "\n",
    "Agora vamos determinar $D_z$ substituindo os valores da coluna $z$ pelos valores de $d$.\n",
    "\n",
    "\\begin{equation}\n",
    "A_z = \n",
    "    \\begin{vmatrix}\n",
    "\ta_{11} & a_{12} & d_{1}  \\\\\n",
    "\ta_{21} & a_{22} & d_{2}  \\\\\n",
    "\ta_{31} & a_{32} & d_{3} \\\\\n",
    "    \\end{vmatrix}\n",
    "    = a_{11}.(a_{22}.d_{3} -d_{2}.a_{32})-a_{12}.(a_{21}.d_{3}-d_{2}.a_{31})+d_{1}.(a_{21}.a_{32}-a_{22}.a_{31})\n",
    "\\end{equation}"
   ]
  },
  {
   "cell_type": "markdown",
   "id": "daf03ec8-67d3-410f-a52c-a7766bf1c8d9",
   "metadata": {},
   "source": [
    "Agora, vamos determinar as incógnitas $x$, $y$ e $z$.\n",
    "\n",
    "$$x = \\frac{D_x}{D}$$\n",
    "\n",
    "$$y = \\frac{D_y}{D}$$\n",
    "\n",
    "$$z = \\frac{D_z}{D}$$"
   ]
  },
  {
   "cell_type": "markdown",
   "id": "d2406c0b",
   "metadata": {},
   "source": [
    "__Exercício 1__.\n",
    "\n",
    "No processamento de Petróleo existem várias colunas de separação e a figura abaixo mostra uma dessas colunas separando uma mistrua contendo $35 \\ Kg/s$ de Metileno, $28 \\ Kg/s$ de Etileno e $16 \\ Kg/s$ de Propileno, com frações de cada componente sendo indicada na corrente de topo, corrente do meio e do fundo. Pede-se: Use a **Regra de Cramer** para determinar o valor dos componentes $m_1$, $m_2$ e $m_3$ nessa coluna de destilação. Confira os resultados obtidos substituindo esses valores na expressão de cada componente. Apresente todos os passos de resolução. "
   ]
  },
  {
   "cell_type": "markdown",
   "id": "3de508e1",
   "metadata": {},
   "source": [
    "<img src=\"img/Coluna_Sep_comp.png\" alt=\"UESC\" style=\"width: 400px; display: block; margin: 0 auto 5px auto;\">\n",
    "<p style=\"text-align: center;\">Figura<strong>: Coluna de separação de componentes.</strong></p>"
   ]
  },
  {
   "cell_type": "markdown",
   "id": "96202e98",
   "metadata": {},
   "source": [
    "Vamos rearranjar os dados em uma tabela."
   ]
  },
  {
   "cell_type": "markdown",
   "id": "b37296cd",
   "metadata": {},
   "source": [
    "<img src=\"img/Tabela_Cramer_Sep.png\" alt=\"UESC\" style=\"width: 700px; display: block; margin: 0 auto 5px auto;\">\n",
    "<p style=\"text-align: center;\">Tabela<strong>: Compontes em cada corrente do separador.</strong></p>"
   ]
  },
  {
   "cell_type": "markdown",
   "id": "4dee6c7e",
   "metadata": {},
   "source": [
    "Agora vamos declarar as variáveis de cada corrente."
   ]
  },
  {
   "cell_type": "code",
   "execution_count": 57,
   "id": "3fca34a2",
   "metadata": {},
   "outputs": [],
   "source": [
    "# Declarando as variáveis\n",
    "\n",
    "a11, a12, a13 = 0.85, 0.35, 0.15 # valores do Metileno.\n",
    "a21, a22, a23 = 0.16, 0.55, 0.25 # valores do Etileno.\n",
    "a31, a32, a33 = 0, 0.30, 0.72    # valores do Propileno.\n",
    "\n",
    "# Declarando os valores de entrada.\n",
    "d1, d2, d3 = 35, 28, 16"
   ]
  },
  {
   "cell_type": "markdown",
   "id": "24478582-7ea6-48be-ab15-fb59c874e10a",
   "metadata": {},
   "source": [
    "Passo 1 - Cálculo do Determinante D"
   ]
  },
  {
   "cell_type": "code",
   "execution_count": 58,
   "id": "8c8e0bad",
   "metadata": {},
   "outputs": [
    {
     "data": {
      "text/plain": [
       "0.23973"
      ]
     },
     "execution_count": 58,
     "metadata": {},
     "output_type": "execute_result"
    }
   ],
   "source": [
    "D = a11*(a22*a33 - a23*a32) - a12*(a21*a33 - a23*a31) + a13*(a21*a32 - a22*a31)\n",
    "D"
   ]
  },
  {
   "cell_type": "markdown",
   "id": "df9e3998-9971-4d7e-94d8-5abe79f43f12",
   "metadata": {},
   "source": [
    "Passo 2 - Cálculo do Determinante em x -> Dx\n",
    "\n",
    "\\begin{equation}\n",
    "D_x =\n",
    "    \\begin{bmatrix}\n",
    "d_1 & a_{12} & a_{13} \\\\\n",
    "d_2 & a_{22} & a_{23} \\\\\n",
    "d_3 & a_{32} & a_{33}\\\\\n",
    "    \\end{bmatrix}\n",
    "\\end{equation}"
   ]
  },
  {
   "cell_type": "code",
   "execution_count": 59,
   "id": "85fc2281-5e04-4453-9625-6228a1673c5a",
   "metadata": {},
   "outputs": [
    {
     "data": {
      "text/plain": [
       "5.519"
      ]
     },
     "execution_count": 59,
     "metadata": {},
     "output_type": "execute_result"
    }
   ],
   "source": [
    "D_x = d1*(a22*a33 - a23*a32) - a12*(d2*a33 - a23*d3) + a13*(d2*a32 - a22*d3)\n",
    "D_x"
   ]
  },
  {
   "cell_type": "markdown",
   "id": "f5cb0323-fcea-4d4d-a9c7-2513e6251afd",
   "metadata": {},
   "source": [
    "Passo 3 - Cálculo do Determinante em y -> Dy\n",
    "\n",
    "\\begin{equation}\n",
    "D_y =\n",
    "    \\begin{bmatrix}\n",
    "a_{11} & d_1  & a_{13} \\\\\n",
    "a_{21} & d_2 & a_{23} \\\\\n",
    "a_{31} & d_3 & a_{33}\\\\\n",
    "    \\end{bmatrix}\n",
    "\\end{equation}"
   ]
  },
  {
   "cell_type": "code",
   "execution_count": 60,
   "id": "f01df123-c8cb-4e42-9d6b-d3dc50da3a94",
   "metadata": {},
   "outputs": [
    {
     "data": {
      "text/plain": [
       "10.088"
      ]
     },
     "execution_count": 60,
     "metadata": {},
     "output_type": "execute_result"
    }
   ],
   "source": [
    "D_y = a11*(d2*a33 -a23*d3) - d1*(a21*a33 - a23*a31) + a13*(a21*d3 - d2*a31)\n",
    "D_y"
   ]
  },
  {
   "cell_type": "markdown",
   "id": "f4f28a36-4c67-4f44-9e5f-d10b20d15371",
   "metadata": {},
   "source": [
    "Passo 3 - Cálculo do Determinante em z -> Dz\n",
    "\n",
    "\\begin{equation}\n",
    "D_z =\n",
    "    \\begin{bmatrix}\n",
    "a_{11} & a_{12} & d_1 \\\\\n",
    "a_{21} & a_{22} & d_2 \\\\\n",
    "a_{31} & a_{32} & d_3\\\\\n",
    "    \\end{bmatrix}\n",
    "\\end{equation}"
   ]
  },
  {
   "cell_type": "code",
   "execution_count": 61,
   "id": "ec4df1b3-c0f7-4185-b185-468c360e0c41",
   "metadata": {},
   "outputs": [
    {
     "data": {
      "text/plain": [
       "1.1240000000000003"
      ]
     },
     "execution_count": 61,
     "metadata": {},
     "output_type": "execute_result"
    }
   ],
   "source": [
    "D_z = a11*(a22*d3 - d2*a32) - a12*(a21*d3 - d2*a31) + d1*(a21*a32 - a22*a31)\n",
    "D_z"
   ]
  },
  {
   "cell_type": "markdown",
   "id": "8727621b-24d3-4aba-84bc-97b76ae835a0",
   "metadata": {},
   "source": [
    "Passo 4 - Cálculo de $m_1$, $m_2$ e $m_3$."
   ]
  },
  {
   "cell_type": "code",
   "execution_count": 62,
   "id": "ddfd0c23-7c72-4c85-902f-facfcd1c3dcd",
   "metadata": {},
   "outputs": [],
   "source": [
    "m1 = D_x/D\n",
    "m2 = D_y/D\n",
    "m3 = D_z/D"
   ]
  },
  {
   "cell_type": "code",
   "execution_count": 63,
   "id": "8fdc72cd-a2b0-4100-b697-592321ced501",
   "metadata": {},
   "outputs": [
    {
     "name": "stdout",
     "output_type": "stream",
     "text": [
      "O resultado de m1 =  23.021732782713887 Kg/s\n",
      "O resultado de m2 =  42.080674091686475 Kg/s\n",
      "O resultado de 3 =  4.688608017352856 Kg/s\n"
     ]
    }
   ],
   "source": [
    "# Imprimindo os valores, temos:\n",
    "\n",
    "print('O resultado de m1 = ', m1, 'Kg/s')\n",
    "print('O resultado de m2 = ', m2, 'Kg/s')\n",
    "print('O resultado de 3 = ', m3, 'Kg/s')"
   ]
  },
  {
   "cell_type": "code",
   "execution_count": 64,
   "id": "2e24991d-85a0-4b92-a3f3-21a18f43f0d8",
   "metadata": {},
   "outputs": [
    {
     "name": "stdout",
     "output_type": "stream",
     "text": [
      "O resultado de m1 = 23.02  Kg/s\n",
      "O resultado de m2 = 42.08  Kg/s\n",
      "O resultado de m3 = 4.69  Kg/s\n"
     ]
    }
   ],
   "source": [
    "# reduzindo o número de casas decimais.\n",
    "\n",
    "print('O resultado de m1 = {:.2f} '.format(m1), 'Kg/s')\n",
    "print('O resultado de m2 = {:.2f} '.format(m2), 'Kg/s')\n",
    "print('O resultado de m3 = {:.2f} '.format(m3), 'Kg/s')"
   ]
  },
  {
   "cell_type": "code",
   "execution_count": 65,
   "id": "4f3d35be-c619-41fe-b34a-694cbdeeb7ce",
   "metadata": {},
   "outputs": [],
   "source": [
    "# Conferindo os resultados.\n",
    "\n",
    "z1 = 0.85*m1 + 0.35*m2 + 0.15*m3\n",
    "z2 = 0.16*m1 + 0.55*m2 + 0.25*m3\n",
    "z3 = 0.30*m2 + 0.72*m3"
   ]
  },
  {
   "cell_type": "code",
   "execution_count": 66,
   "id": "3f90eed4-a74f-449d-8acb-4c3e45a61731",
   "metadata": {},
   "outputs": [
    {
     "name": "stdout",
     "output_type": "stream",
     "text": [
      "O resultado de d1 = 35 e o resultado de z1 = 35.000000\n",
      "O resultado de d1 = 28 e o resultado de z1 = 28.000000\n",
      "O resultado de d1 = 16 e o resultado de z1 = 16.000000\n"
     ]
    }
   ],
   "source": [
    "# Conferindo os resultados.\n",
    "\n",
    "print(f'O resultado de d1 = {d1} e o resultado de z1 = {z1:1f}')\n",
    "print(f'O resultado de d1 = {d2} e o resultado de z1 = {z2:1f}')\n",
    "print(f'O resultado de d1 = {d3} e o resultado de z1 = {z3:1f}')"
   ]
  },
  {
   "cell_type": "code",
   "execution_count": 67,
   "id": "9da58140-c275-4895-b48a-8f9589c47f67",
   "metadata": {},
   "outputs": [
    {
     "data": {
      "text/plain": [
       "1.3333333333333333"
      ]
     },
     "execution_count": 67,
     "metadata": {},
     "output_type": "execute_result"
    }
   ],
   "source": [
    "2/1.5\n"
   ]
  },
  {
   "cell_type": "markdown",
   "id": "d8f2b9e0-da82-43b7-a936-b259c7d9d864",
   "metadata": {},
   "source": [
    "<div style=\"text-align: center; font-size: 12px; color: gray; margin-top: 40px;\">\n",
    "  Este notebook foi desenvolvido no âmbito do Grupo de Pesquisas em Modelagem Computacional da UESC.<br>\n",
    "  Todos os direitos reservados © 2025\n",
    "</div>"
   ]
  }
 ],
 "metadata": {
  "kernelspec": {
   "display_name": "base",
   "language": "python",
   "name": "python3"
  },
  "language_info": {
   "codemirror_mode": {
    "name": "ipython",
    "version": 3
   },
   "file_extension": ".py",
   "mimetype": "text/x-python",
   "name": "python",
   "nbconvert_exporter": "python",
   "pygments_lexer": "ipython3",
   "version": "3.11.7"
  }
 },
 "nbformat": 4,
 "nbformat_minor": 5
}
