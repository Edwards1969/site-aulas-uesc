{
 "cells": [
  {
   "cell_type": "markdown",
   "metadata": {},
   "source": [
    "<div style=\"text-align: center;\">\n",
    "\n",
    "  <!-- Logotipo -->\n",
    "  <img src=\"img/LogoUesc.png\" alt=\"UESC\" style=\"width: 60px; display: block; margin: 0 auto 5px auto;\">\n",
    "\n",
    "  <!-- Cabeçalho -->\n",
    "  <div style=\"font-size: 20px;\"><strong>UNIVERSIDADE ESTADUAL DE SANTA CRUZ - UESC</strong></div>\n",
    "  <div style=\"font-size: 18px;\">DEPARTAMENTO DE ENGENHARIAS E COMPUTAÇÃO</div>\n",
    "  <div style=\"font-size: 18px;\">ENGENHARIA QUÍMICA</div>\n",
    "\n",
    "  <hr style=\"margin: 20px 0; border: 1px solid #0074B7;\">\n",
    "\n",
    "  <!-- Título do Trabalho -->\n",
    "  <div style=\"font-size: 22px; font-weight: bold; margin-bottom: 10px;\">Modelagem, Simulação e Otimização de Processos Químicos</div>\n",
    "  <div style=\"font-size: 20px; font-weight: bold; margin-bottom: 10px;\">Balanço em Reatores Químicos utilizando Cálculos Matriciais.</div>\n",
    "\n",
    "  <!-- Autor e orientador -->\n",
    "  <div style=\"font-size: 18px;\">Prof. Dr. E.R.Edwards</div>\n",
    "\n",
    "<hr style=\"margin: 20px 0; border: 1px solid #0074B7;\">\n",
    "  <!-- Data -->\n",
    "<!-- <div style=\"font-size: 16px; margin-top: 15px;\">Ilhéus - BA, Abril de 2025</div> -->\n",
    "</div>"
   ]
  },
  {
   "cell_type": "markdown",
   "metadata": {},
   "source": [
    "__Fonte__:\n",
    "\n",
    "Sistema de Reatores (Engenharia Química/Bioengenharia)\n",
    "\n",
    "Steven C. Chapra e Raymond P. Canale, \"Métodos Numéricos para Engenharia\", $7^a$ Edição. Editora: MacGraw Hill. página 283.\n",
    "\n"
   ]
  },
  {
   "cell_type": "markdown",
   "metadata": {},
   "source": [
    "__Fundamentação__.\n",
    "\n",
    "A conservação de massa é uma das principais organizações na Engenharia Química. Ela contabiliza o balanço de massa que entra em um volume de controle pelo balanço de massa que sai do volume de controle. Caso haja reações químicas esses dados deverão ser contabilizados como acumulo no reator.\n",
    "\n",
    "$$Acumulo = Entrada - saída$$\n",
    "\n",
    "Sendo assim, o balanço de massa representa um exercício de contabilidade para a substância específica que esta sendo\n",
    "modelada. Pelo próprio balanço, se as entradas forem maiores do que as saídas a massa da substância dentro do volume de\n",
    "controle cresce. Se as saídas forem iguais as entradas o acumulo é igual a zero e a massa permanece constante."
   ]
  },
  {
   "cell_type": "markdown",
   "metadata": {},
   "source": [
    "Para condições estáveis ou estacionárias o acumulo será nulo e a equação torna-se.\n",
    "\n",
    "$$entrada=saída$$"
   ]
  },
  {
   "cell_type": "markdown",
   "metadata": {},
   "source": [
    "<img src=\"img/acumulacao.png\" alt=\"UESC\" style=\"width: 500px; display: block; margin: 0 auto 5px auto;\">\n",
    "<p style=\"text-align: center;\"><strong>Figura: Balanço de entradas e saídas em um processo.</strong></p>"
   ]
  },
  {
   "cell_type": "markdown",
   "metadata": {},
   "source": [
    "Podemos usar a conservação da massa para determinar as concentrações estacionárias de um sistema de reatores."
   ]
  },
  {
   "cell_type": "markdown",
   "metadata": {},
   "source": [
    "__Aplicação__:\n",
    "\n",
    "Vamos analisar o reator abaixo e fazermos um balançco de massa no processo.\n",
    "\n",
    "Exercício<br>\n",
    "\n",
    "Calcule a concentração $c_3$ na saída do reator sendo dadas as informações da tabela ao lado."
   ]
  },
  {
   "cell_type": "markdown",
   "metadata": {},
   "source": [
    "<img src=\"img/reator1.png\" alt=\"UESC\" style=\"width: 650px; display: block; margin: 0 auto 5px auto;\">\n",
    "<p style=\"text-align: center;\"><strong>Figura: Desenho esquemático de entradas e saídas em um reator.</strong></p>"
   ]
  },
  {
   "cell_type": "markdown",
   "metadata": {},
   "source": [
    "\n",
    "$$Q_1.c_1 + Q_2.c_2 =  Q_3.c_3$$\n",
    "\n",
    "$$ c_3 = \\frac{Q_1.c_1 + Q_2.c_2}{Q_3}$$"
   ]
  },
  {
   "cell_type": "markdown",
   "metadata": {},
   "source": [
    "__Cálculo em Python__"
   ]
  },
  {
   "cell_type": "code",
   "execution_count": 1,
   "metadata": {},
   "outputs": [
    {
     "name": "stdout",
     "output_type": "stream",
     "text": [
      "O resultado da concentração c3 = 18.57 mg/m3\n"
     ]
    }
   ],
   "source": [
    "# dados das vazões.\n",
    "Q1 = 2.0 # m3/min\n",
    "Q2 = 1.5 # m3/min\n",
    "Q3 = 3.5 # m3/min\n",
    "\n",
    "# Dados das concentrações.\n",
    "c1 = 25 # mg/m3\n",
    "c2 = 10 # mg/m3\n",
    "\n",
    "# Cálculo da concentração de saída c3.\n",
    "c3 = (Q1*c1 + Q2*c2) / Q3\n",
    "\n",
    "def line():\n",
    "    print\n",
    "# Resultado da concentração 3.\n",
    "print('O resultado da concentração c3 = {:.2f}'.format(c3), 'mg/m3')"
   ]
  },
  {
   "cell_type": "markdown",
   "metadata": {},
   "source": [
    "__Aplicação dos conceitos__ \n",
    "\n",
    "__Resolução Matricial do Balanço de Massa em Tanque de Formulação__.\n",
    "\n",
    "Nesta aplicação, utilizamos métodos matriciais para resolver um problema clássico da Engenharia Química: a mistura de componentes em um tanque de formulação. O sistema analisado consiste em um tanque que recebe três correntes de entrada com composições previamente conhecidas. A corrente de saída apresenta uma vazão total de 1000 kg/h e é composta por 31,0% da substância A, 33,0% da substância B e 36,0% da substância C, conforme ilustrado na figura a seguir. A partir dos dados apresentados qual os fluxos de entrada em cada corrente: $F_1$, $F_2$ e $F_3$. Confira os resultados."
   ]
  },
  {
   "cell_type": "markdown",
   "metadata": {},
   "source": [
    "<img src=\"img/Tanque_3_entradas_1_saida.png\" alt=\"UESC\" style=\"width: 400px; display: block; margin: 0 auto 5px auto;\">\n",
    "<p style=\"text-align: center;\"><strong>Figura: Tanque com três entradas e uma saída.</strong></p>"
   ]
  },
  {
   "cell_type": "markdown",
   "metadata": {},
   "source": [
    "Vamos encontrar as equações que representam o modelo acima:\n",
    "\n",
    "\\begin{equation}\n",
    "\\begin{aligned}\n",
    "0.19F_1 + 0.25F_2 + 0.65F_3 &= 0.31*1000 \\quad \\text{(substância A)} \\\\\n",
    "0.52F_1 + 0.35F_2 + 0.11F_3 &= 0.33*1000 \\quad \\text{(substância B)} \\\\\n",
    "0.29F_1 + 0.40F_2 + 0.24F_3 &= 0.36*1000 \\quad \\text{(substância C)}\n",
    "\\end{aligned}\n",
    "\\end{equation}"
   ]
  },
  {
   "cell_type": "markdown",
   "metadata": {},
   "source": [
    "Agora vamos transformar essas equações em uma matrix $A.x=b$\n",
    "\n",
    "\\begin{equation}\n",
    "\\begin{bmatrix}\n",
    "0.19 & 0.25 & 0.65 \\\\\n",
    "0.52 & 0.35 & 0.11 \\\\\n",
    "0.29 & 0.40 & 0.24 \n",
    "\\end{bmatrix}\n",
    ".\n",
    "\\begin{bmatrix}\n",
    "F_1 \\\\\n",
    "F_2  \\\\\n",
    "F_3\n",
    "\\end{bmatrix}\n",
    "=\n",
    "\\begin{bmatrix}\n",
    "310 \\\\\n",
    "330 \\\\\n",
    "360\n",
    "\\end{bmatrix}\n",
    "\\end{equation}"
   ]
  },
  {
   "cell_type": "markdown",
   "metadata": {},
   "source": [
    "Cálculo utilizando Programação em Python."
   ]
  },
  {
   "cell_type": "code",
   "execution_count": 2,
   "metadata": {},
   "outputs": [],
   "source": [
    "import numpy as np"
   ]
  },
  {
   "cell_type": "code",
   "execution_count": 3,
   "metadata": {},
   "outputs": [
    {
     "data": {
      "text/plain": [
       "array([[0.19, 0.25, 0.65],\n",
       "       [0.52, 0.35, 0.11],\n",
       "       [0.29, 0.4 , 0.24]])"
      ]
     },
     "execution_count": 3,
     "metadata": {},
     "output_type": "execute_result"
    }
   ],
   "source": [
    "# Declarando as variáveis.\n",
    "x11, x12, x13 = 0.19, 0.25, 0.65\n",
    "x21, x22, x23 = 0.52, 0.35, 0.11\n",
    "x31, x32, x33 = 0.29, 0.40, 0.24\n",
    "\n",
    "A = np.array([\n",
    "    [x11, x12, x13],\n",
    "    [x21, x22, x23],\n",
    "    [x31, x32, x33]\n",
    "])\n",
    "A"
   ]
  },
  {
   "cell_type": "code",
   "execution_count": 4,
   "metadata": {},
   "outputs": [
    {
     "data": {
      "text/plain": [
       "array([310, 330, 360])"
      ]
     },
     "execution_count": 4,
     "metadata": {},
     "output_type": "execute_result"
    }
   ],
   "source": [
    "# Criando a matriz b\n",
    "b1, b2, b3 = 310, 330, 360\n",
    "\n",
    "b = np.array([b1, b2, b3])\n",
    "b"
   ]
  },
  {
   "cell_type": "code",
   "execution_count": 5,
   "metadata": {},
   "outputs": [],
   "source": [
    "# Calculando as incógnitas.\n",
    "\n",
    "x = np.linalg.solve(A, b)\n",
    "\n",
    "F1 = x[0]\n",
    "F2 = x[1]\n",
    "F3 = x[2]"
   ]
  },
  {
   "cell_type": "code",
   "execution_count": 6,
   "metadata": {},
   "outputs": [
    {
     "name": "stdout",
     "output_type": "stream",
     "text": [
      "O resultado de F1 = 119.40 Kg/h\n",
      "O resultado de F2 = 712.69 Kg/h\n",
      "O resultado de F3 = 167.91 Kg/h\n"
     ]
    }
   ],
   "source": [
    "# Imprimindo os resultados\n",
    "print('O resultado de F1 = {:.2f}'.format(F1), 'Kg/h')\n",
    "print('O resultado de F2 = {:.2f}'.format(F2), 'Kg/h')\n",
    "print('O resultado de F3 = {:.2f}'.format(F3), 'Kg/h')"
   ]
  },
  {
   "cell_type": "code",
   "execution_count": 7,
   "metadata": {},
   "outputs": [
    {
     "name": "stdout",
     "output_type": "stream",
     "text": [
      "O resultado de b1 = 310 e o resultado de z1 = 310.0\n",
      "O resultado de b2 = 330 e o resultado de z2 = 330.0\n",
      "O resultado de b3 = 360 e o resultado de z3 = 360.0\n"
     ]
    }
   ],
   "source": [
    "# Conferindo os resultados.\n",
    "z1 = 0.19*F1 + 0.25*F2 + 0.65*F3\n",
    "z2 = 0.52*F1 + 0.35*F2 + 0.11*F3\n",
    "z3 = 0.29*F1 + 0.40*F2 + 0.24*F3\n",
    "\n",
    "# Imprimindo os resultados.\n",
    "print(f'O resultado de b1 = {b1} e o resultado de z1 = {z1}')\n",
    "print(f'O resultado de b2 = {b2} e o resultado de z2 = {z2}')\n",
    "print(f'O resultado de b3 = {b3} e o resultado de z3 = {z3}')"
   ]
  },
  {
   "cell_type": "markdown",
   "metadata": {},
   "source": [
    "#### Aplicação industrial - Caso 1.\n",
    "\n",
    "Este tipo de cálculo é de grande utilidade para Engenharia Química e Petroquímica em que deve ser projetado um reator contendo misturas <br>com concentrações específicas. Nesse exercício foi usado **álgebra** para determinar a concentração de um único reator usando o conhecimento <br> de balanços de massa visto em assuntos anteriores. Dessa forma, fica mais fácil a utilização de computador para a realização desse tipo de cálculo.\n"
   ]
  },
  {
   "cell_type": "markdown",
   "metadata": {},
   "source": [
    "<img src=\"img/reator2.png\" alt=\"UESC\" style=\"width: 600px; display: block; margin: 0 auto 5px auto;\">\n",
    "<p style=\"text-align: center;\"><strong>Figura: Conjunto com Conexões de reatores.</strong></p>"
   ]
  },
  {
   "cell_type": "markdown",
   "metadata": {},
   "source": [
    "__Informações__:\n",
    "\n",
    "1. Estabelecer um volume de controle em cada reator.\n",
    "2. Faça um balanço de massa em cada reator (entrada de fluxo positivo, saída de fluxo negativo).\n",
    "3. Serão 5 equações e 5 incógitas ($c_1$, $c_2$, $c_3$, $c_4$, $c_5$)\n",
    "4. Monte a Matriz: $Ax=b$\n",
    "6. Cálcule a matriz inversa $A$.\n",
    "7. Cálcule a incógnita $x$ - coloque os valores de saída separados ($c_1$, $c_2$, $c_3$, $c_4$, $c_5$)<br>\n",
    "$c_1 = x[0,0]$ <br>\n",
    "$c_2 = x[1,0]$ <br>\n",
    "$c_3 = x[2,0]$ <br>\n",
    "$c_4 = x[3,0]$ <br>\n",
    "$c_5 = x[4,0]$ <br>\n",
    "8. Confira seus cálculos substituindo os valores nas equações.\n",
    "\n"
   ]
  },
  {
   "cell_type": "markdown",
   "metadata": {},
   "source": [
    "__Solução__:\n",
    "\n",
    "__Primeiro Reator__:"
   ]
  },
  {
   "cell_type": "markdown",
   "metadata": {},
   "source": [
    "<img src=\"img/reator3.png\" alt=\"UESC\" style=\"width: 450px; display: block; margin: 0 auto 5px auto;\">\n",
    "<p style=\"text-align: center;\"><strong>Figura: Balanço no reator C1.</strong></p>"
   ]
  },
  {
   "cell_type": "markdown",
   "metadata": {},
   "source": [
    "Para o balanço de massa no primeiro reator de entrada, temos:\n",
    "\n",
    "$$ Q_{01}c_{01} = 5 \\ x \\ 10 = 50$$\n",
    "\n",
    "__Entrada = saída__\n",
    "\n",
    "\\begin{align*}\n",
    "Q_{01}c_{01} + Q_{31}c_3 &= Q_{15}c_1 + Q_{12}c_1 \\\\\n",
    "50 + c_3 &= 2c_1 + 3c_1 \\\\\n",
    "-6c_1 + c_3 &= -50 \\\\\n",
    "6c_1 - c_3 &= 50\n",
    "\\end{align*}\n",
    "\n",
    "\n",
    "A equação acima corresponde ao balanço no primeiro reator."
   ]
  },
  {
   "cell_type": "markdown",
   "metadata": {},
   "source": [
    "__Segundo Reator__:"
   ]
  },
  {
   "cell_type": "markdown",
   "metadata": {},
   "source": [
    "<img src=\"img/reator4.png\" alt=\"UESC\" style=\"width: 400px; display: block; margin: 0 auto 5px auto;\">\n",
    "<p style=\"text-align: center;\"><strong>Figura: Balanço no reator C2.</strong></p>"
   ]
  },
  {
   "cell_type": "markdown",
   "metadata": {},
   "source": [
    "Balanço material no segundo reator.\n",
    "\n",
    "$Entrada = saída$\n",
    "\n",
    "\\begin{align*}\n",
    "Q_{12}c_1 = Q_{25}c_2 + Q_{23}c_2 + Q_{24}c_2 \\\\\n",
    "3c_1 = c_2 + c_2 + c_2 \\\\\n",
    "3c_1 = 3c_2 \\\\\n",
    "3c_1 -  3c_2 = 0\n",
    "\\end{align*}\n",
    "\n",
    "\n",
    "Equação para o segundo reator"
   ]
  },
  {
   "cell_type": "markdown",
   "metadata": {},
   "source": [
    "__Terceiro Reator__:"
   ]
  },
  {
   "cell_type": "markdown",
   "metadata": {},
   "source": [
    "<img src=\"img/reator5.png\" alt=\"UESC\" style=\"width: 550px; display: block; margin: 0 auto 5px auto;\">\n",
    "<p style=\"text-align: center;\"><strong>Figura: Balanço no reator C3.</strong></p>"
   ]
  },
  {
   "cell_type": "markdown",
   "metadata": {},
   "source": [
    "Balançco material no terceiro reator.\n",
    "\n",
    "$$ entrada = saída $$\n",
    "\n",
    "\\begin{align*}\n",
    "Q_{03}c_{03} + Q_{23}c_2 = Q_{34}c_3 + Q_{31}c_3  \\\\\n",
    "(8  \\ x \\ 20) + c_2 = 8c_3 + c_3  \\\\\n",
    "160 + c_2 = 8c_3 + c_3 \\\\\n",
    "160 = 9c_3 - c_2 \\\\\n",
    "9c_3 - c_2 = 160  \n",
    "\\end{align*}\n",
    "\n",
    "Equações para o terceiro reator.\n"
   ]
  },
  {
   "cell_type": "markdown",
   "metadata": {},
   "source": [
    "__Quarto Reator__:"
   ]
  },
  {
   "cell_type": "markdown",
   "metadata": {},
   "source": [
    "<img src=\"img/reator6.png\" alt=\"UESC\" style=\"width: 400px; display: block; margin: 0 auto 5px auto;\">\n",
    "<p style=\"text-align: center;\"><strong>Figura: Balanço no reator C4.</strong></p>"
   ]
  },
  {
   "cell_type": "markdown",
   "metadata": {},
   "source": [
    "Balanço material no segundo reator.\n",
    "\n",
    "\\begin{align*}\n",
    "Q_{24}c_2 + Q_{34}c_3 + Q_{54}c_5 = Q_{44}c_4 \\\\\n",
    "c_2 + 8c_3 + 2c_5 = 11c_4 \\\\\n",
    "c_2 + 8c_3 + 2c_5 - 11c_4 = 0 \n",
    "\\end{align*}\n",
    "\n",
    "Equação para o quarto reator."
   ]
  },
  {
   "cell_type": "markdown",
   "metadata": {},
   "source": [
    "__Quinto Reator__:"
   ]
  },
  {
   "cell_type": "markdown",
   "metadata": {},
   "source": [
    "<img src=\"img/reator7.png\" alt=\"UESC\" style=\"width: 550px; display: block; margin: 0 auto 5px auto;\">\n",
    "<p style=\"text-align: center;\"><strong>Figura: Balanço no reator C5.</strong></p>"
   ]
  },
  {
   "cell_type": "markdown",
   "metadata": {},
   "source": [
    "\n",
    "Balanço material no quinto reator.\n",
    "\n",
    "$$ Entrada = Saída $$\n",
    "\n",
    "\\begin{align*}\n",
    "3c_1 + c_2= 2c_5 + 2c_5 \\\\\n",
    "3c_1 + c_2 = 4c_5 \\\\\n",
    "3c_1 + c_2 - 4c_5 = 0  \n",
    "\\end{align*}\n",
    "\n",
    "Equação para o quinto reator."
   ]
  },
  {
   "cell_type": "markdown",
   "metadata": {},
   "source": [
    "Abaixo estão todas as equações dos cinco reatores.\n",
    "\n",
    "\\begin{align*}\n",
    "6c_1 - c_3 = 50 \\\\\n",
    "3c_1 -  3c_2 = 0 \\\\\n",
    "9c_3 - c_2 = 160 \\\\\n",
    "c_2 + 8c_3 + 2c_5 - 11c_4 = 0 \\\\\n",
    "3c_1 + c_2 - 4c_5 = 0 \n",
    "\\end{align*}"
   ]
  },
  {
   "cell_type": "markdown",
   "metadata": {},
   "source": [
    "<img src=\"img/tabela_reator_1.png\" alt=\"UESC\" style=\"width: 650px; display: block; margin: 0 auto 5px auto;\">\n",
    "<p style=\"text-align: center;\"><strong>Figura: Tabela com os dados calculados do balanço dos reatores.</strong></p>"
   ]
  },
  {
   "cell_type": "markdown",
   "metadata": {},
   "source": [
    "Vamos criar um sistema matricial com os dados da Tabela acima de forma que: $A.\\vec{x}=\\vec{b}$\n",
    "\n",
    "\\begin{equation}\n",
    "\\begin{bmatrix}\n",
    "6 & 0 & -1 & 0 & 0 \\\\\n",
    "3 & -3 & 0 & 0 & 0 \\\\\n",
    "0 & -1 & 9 & 0 & 0 \\\\\n",
    "0 & 1 & 8 & -11 & 2 \\\\\n",
    "3 & 1 & 0 & 0 & -4 \\\\\n",
    "\\end{bmatrix}\n",
    ".\n",
    "\\begin{bmatrix}\n",
    "c_1 \\\\\n",
    "c_2 \\\\\n",
    "c_3 \\\\\n",
    "c_4 \\\\\n",
    "c_5\n",
    "\\end{bmatrix}\n",
    "=\n",
    "\\begin{bmatrix}\n",
    "50 \\\\\n",
    "0 \\\\\n",
    "160 \\\\\n",
    "0 \\\\\n",
    "0\n",
    "\\end{bmatrix}\n",
    "\\end{equation}"
   ]
  },
  {
   "attachments": {},
   "cell_type": "markdown",
   "metadata": {},
   "source": [
    "A matriz $A$ tem a forma de uma matriz $5x5$, precisamos encontrar um modelo que possamos utilizar para resolução dessa matriz. \n",
    "<br>Vamos usar o modelo de matrizes **csr_matrix** para isso, precisamos criar uma matriz com: linhas, colunas e dados (row, col, data)."
   ]
  },
  {
   "cell_type": "code",
   "execution_count": 8,
   "metadata": {},
   "outputs": [],
   "source": [
    "import numpy as np\n",
    "from scipy import sparse\n",
    "from scipy.sparse import csr_matrix"
   ]
  },
  {
   "cell_type": "code",
   "execution_count": 9,
   "metadata": {},
   "outputs": [],
   "source": [
    "# Declarando as arrays.\n",
    "row = np.array([0, 0, 1, 1, 2, 2, 3, 3, 3, 3, 4, 4, 4])\n",
    "col = np.array([0, 2, 0, 1, 1, 2, 1, 2, 3, 4, 0, 1, 4])\n",
    "data = np.array([6, -1, 3, -3, -1, 9, 1, 8, -11, 2, 3, 1, -4])"
   ]
  },
  {
   "cell_type": "code",
   "execution_count": 10,
   "metadata": {},
   "outputs": [
    {
     "name": "stdout",
     "output_type": "stream",
     "text": [
      "<COOrdinate sparse matrix of dtype 'float64'\n",
      "\twith 13 stored elements and shape (5, 5)>\n",
      "  Coords\tValues\n",
      "  (0, 0)\t6.0\n",
      "  (0, 2)\t-1.0\n",
      "  (1, 0)\t3.0\n",
      "  (1, 1)\t-3.0\n",
      "  (2, 1)\t-1.0\n",
      "  (2, 2)\t9.0\n",
      "  (3, 1)\t1.0\n",
      "  (3, 2)\t8.0\n",
      "  (3, 3)\t-11.0\n",
      "  (3, 4)\t2.0\n",
      "  (4, 0)\t3.0\n",
      "  (4, 1)\t1.0\n",
      "  (4, 4)\t-4.0\n"
     ]
    }
   ],
   "source": [
    "A_coord = sparse.coo_matrix((data, (row,col)), dtype=float)\n",
    "print(A_coord)"
   ]
  },
  {
   "cell_type": "markdown",
   "metadata": {},
   "source": [
    "Podemos transformar a matriz coordenada (COO) para matriz esparsa usando: **.toarray()**"
   ]
  },
  {
   "cell_type": "code",
   "execution_count": 11,
   "metadata": {},
   "outputs": [
    {
     "name": "stdout",
     "output_type": "stream",
     "text": [
      "[[  6.   0.  -1.   0.   0.]\n",
      " [  3.  -3.   0.   0.   0.]\n",
      " [  0.  -1.   9.   0.   0.]\n",
      " [  0.   1.   8. -11.   2.]\n",
      " [  3.   1.   0.   0.  -4.]]\n"
     ]
    }
   ],
   "source": [
    "A = sparse.coo_matrix((data, (row,col)), dtype=float).toarray()\n",
    "print(A)"
   ]
  },
  {
   "cell_type": "code",
   "execution_count": 12,
   "metadata": {},
   "outputs": [
    {
     "data": {
      "text/plain": [
       "array([[  6.,   0.,  -1.,   0.,   0.],\n",
       "       [  3.,  -3.,   0.,   0.,   0.],\n",
       "       [  0.,  -1.,   9.,   0.,   0.],\n",
       "       [  0.,   1.,   8., -11.,   2.],\n",
       "       [  3.,   1.,   0.,   0.,  -4.]])"
      ]
     },
     "execution_count": 12,
     "metadata": {},
     "output_type": "execute_result"
    }
   ],
   "source": [
    "A = sparse.csr_matrix((data, (row, col)), shape = (5,5), dtype=float).toarray()\n",
    "A"
   ]
  },
  {
   "cell_type": "code",
   "execution_count": 13,
   "metadata": {},
   "outputs": [],
   "source": [
    "A_inv = np.linalg.inv(A)"
   ]
  },
  {
   "cell_type": "code",
   "execution_count": 14,
   "metadata": {},
   "outputs": [],
   "source": [
    "b1, b2, b3, b4, b5 = 50, 0, 160, 0, 0\n",
    "\n",
    "b = np.array([b1, b2, b3, b4, b5])"
   ]
  },
  {
   "cell_type": "code",
   "execution_count": 15,
   "metadata": {},
   "outputs": [],
   "source": [
    "# Cálculo das incógnitas.\n",
    "x = A_inv.dot(b)\n",
    "\n",
    "c1 = x[0]\n",
    "c2 = x[1]\n",
    "c3 = x[2]\n",
    "c4 = x[3]\n",
    "c5 = x[4]"
   ]
  },
  {
   "cell_type": "code",
   "execution_count": 16,
   "metadata": {},
   "outputs": [
    {
     "name": "stdout",
     "output_type": "stream",
     "text": [
      "--------------------------------------------------\n",
      "   RESULTADOS DAS CONCENTRAÇÕES\n",
      "--------------------------------------------------\n",
      "O resultado de c1 = 11.51 mg/m3\n",
      "O resultado de c2 = 11.51 mg/m3\n",
      "O resultado de c3 = 19.06 mg/m3\n",
      "O resultado de c4 = 17.00 mg/m3\n",
      "O resultado de c5 = 11.51 mg/m3\n",
      "--------------------------------------------------\n"
     ]
    }
   ],
   "source": [
    "def line():\n",
    "    print('-'*50)\n",
    "\n",
    "line()\n",
    "print('   RESULTADOS DAS CONCENTRAÇÕES' )\n",
    "line()\n",
    "\n",
    "print('O resultado de c1 = {:.2f}'.format(c1), 'mg/m3')\n",
    "print('O resultado de c2 = {:.2f}'.format(c2), 'mg/m3')\n",
    "print('O resultado de c3 = {:.2f}'.format(c3), 'mg/m3')\n",
    "print('O resultado de c4 = {:.2f}'.format(c4), 'mg/m3')\n",
    "print('O resultado de c5 = {:.2f}'.format(c5), 'mg/m3')\n",
    "line()\n"
   ]
  },
  {
   "cell_type": "markdown",
   "metadata": {},
   "source": [
    "Conferindo os resultados"
   ]
  },
  {
   "cell_type": "code",
   "execution_count": 17,
   "metadata": {},
   "outputs": [],
   "source": [
    "z1 = 6*c1-c3\n",
    "z3 = -c2+9*c3"
   ]
  },
  {
   "cell_type": "code",
   "execution_count": 18,
   "metadata": {},
   "outputs": [
    {
     "name": "stdout",
     "output_type": "stream",
     "text": [
      "--------------------------------------------------\n",
      "   CONFERINDO OS RESULTADOS DAS CONCENTRAÇÕES\n",
      "--------------------------------------------------\n",
      "O resultado de b1 = 50 e o resultado de z1 = 50.00\n",
      "O resultado de b3 = 160 e o resultado de z3 = 160.00\n",
      "--------------------------------------------------\n"
     ]
    }
   ],
   "source": [
    "line()\n",
    "print('   CONFERINDO OS RESULTADOS DAS CONCENTRAÇÕES' )\n",
    "line()\n",
    "\n",
    "print(f'O resultado de b1 = {b1} e o resultado de z1 = {z1:.2f}')\n",
    "print(f'O resultado de b3 = {b3} e o resultado de z3 = {z3:.2f}')\n",
    "line()"
   ]
  },
  {
   "cell_type": "markdown",
   "metadata": {},
   "source": [
    "<div style=\"text-align: center; font-size: 12px; color: gray; margin-top: 40px;\">\n",
    "  Este notebook foi desenvolvido no âmbito do Grupo de Pesquisas em Modelagem Computacional da UESC.<br>\n",
    "  Todos os direitos reservados © 2025\n",
    "</div>"
   ]
  },
  {
   "cell_type": "markdown",
   "metadata": {},
   "source": []
  }
 ],
 "metadata": {
  "kernelspec": {
   "display_name": "base",
   "language": "python",
   "name": "python3"
  },
  "language_info": {
   "codemirror_mode": {
    "name": "ipython",
    "version": 3
   },
   "file_extension": ".py",
   "mimetype": "text/x-python",
   "name": "python",
   "nbconvert_exporter": "python",
   "pygments_lexer": "ipython3",
   "version": "3.11.7"
  }
 },
 "nbformat": 4,
 "nbformat_minor": 4
}
