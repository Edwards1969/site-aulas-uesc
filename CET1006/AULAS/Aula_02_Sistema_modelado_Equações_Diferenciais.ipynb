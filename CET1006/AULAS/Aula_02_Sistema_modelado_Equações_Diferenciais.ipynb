{
 "cells": [
  {
   "cell_type": "markdown",
   "id": "4f9cfa33",
   "metadata": {},
   "source": [
    "<div style=\"text-align: center;\">\n",
    "\n",
    "  <!-- Logotipo -->\n",
    "  <img src=\"img/LogoUesc.png\" alt=\"UESC\" style=\"width: 60px; display: block; margin: 0 auto 5px auto;\">\n",
    "\n",
    "  <!-- Cabeçalho -->\n",
    "  <div style=\"font-size: 20px;\"><strong>UNIVERSIDADE ESTADUAL DE SANTA CRUZ - UESC</strong></div>\n",
    "  <div style=\"font-size: 18px;\">DEPARTAMENTO DE ENGENHARIAS E COMPUTAÇÃO</div>\n",
    "  <div style=\"font-size: 18px;\">ENGENHARIA QUÍMICA</div>\n",
    "\n",
    "  <hr style=\"margin: 20px 0; border: 1px solid #0074B7;\">\n",
    "\n",
    "  <!-- Título do Trabalho -->\n",
    "  <div style=\"font-size: 22px; font-weight: bold; margin-bottom: 10px;\">Controle de Processos Aplicado na Engenharia Química</div>\n",
    "  <div style=\"font-size: 20px; font-weight: bold; margin-bottom: 10px;\">Sistema Modelado por Equações Diferenciais Ordinárias - EDO</div>\n",
    "\n",
    "  <!-- Autor e orientador -->\n",
    "  <div style=\"font-size: 18px;\">Prof. Dr. E.R.Edwards</div>\n",
    "\n",
    "<hr style=\"margin: 20px 0; border: 1px solid #0074B7;\">\n",
    "  <!-- Data -->\n",
    "<!-- <div style=\"font-size: 16px; margin-top: 15px;\">Ilhéus - BA, Abril de 2025</div> -->\n",
    "</div>"
   ]
  },
  {
   "cell_type": "markdown",
   "id": "479e5fd5",
   "metadata": {},
   "source": [
    "__Resposta Dinâmica de $1^a$ Ordem__\n",
    "\n",
    "Um sistema é modelado por Equações Diferênciais Ordinárias (EDO) de $1^a$ Ordem se for linearizado (ou linear) de forma que a equação relacione a saída $y(t)$ com a entrada $u(t)$ para todo $t$, sendo dada por :\n",
    "\n",
    "\n",
    "$$\n",
    "u(t) \\rightarrow G(s)=\\frac{Y(s)}{U(s)} = \\frac{k}{\\tau s + 1}  \\rightarrow y(t)\n",
    "$$\n",
    "\n",
    "Sabendo-se que a função $u(t)$ é chamada de \"perturbação de entrada\" e corresponde ao termo de excitação da equação diferencial não homogênea apresentada na expressão abaixo:\n",
    "\n",
    "$$\n",
    "a_1\\frac{dy(t)}{dt} + a_o y(t) = b_o u(t)\n",
    "$$\n",
    "\n",
    "podemos deduzir a expressão $G(s)$ que corresponde a função de transferência para o sistema de resposta diâmica de processos lineares de  $1^a$ ordem da seguinte forma:"
   ]
  },
  {
   "cell_type": "markdown",
   "id": "0ab1d638",
   "metadata": {},
   "source": [
    "A Equação diferencial Ordinária de $1^o$ ordem é dada por:\n",
    "\n",
    "$$ a_1\\frac{dy(t)}{dt} + a_o y(t) = b_o u(t)  \\,\\ \\text{ eq (1)} $$\n",
    "\n",
    "dividindo a equ(1) por $a_o$, sebdi $a \\neq 0$, temos:\n",
    "\n",
    "$$ \\frac{a_1}{a_o}\\frac{dy(t)}{dt} + \\frac{a_o}{a_o} y(t) = \\frac{b_o}{a_o} u(t)  \\,\\ \\text{ eq (2)} $$\n",
    "\n",
    "Considerando que a constante de tempo é $\\tau = \\frac{a_1}{a_o}$ e o ganho estático é $\\kappa = \\frac{b_o}{a_o}$, então temos:\n",
    "\n",
    "$$  \\tau \\frac{dy(t)}{dt} +  y(t) = \\kappa u(t)  \\,\\ \\text{ eq (3)} $$\n",
    "\n",
    "Aplicando a Transformada de Laplace, temos:\n",
    " \n",
    "$$ \\mathcal{L}\\{\\frac{dy(t)}{dt}\\} + \\mathcal{L}\\{y(t)\\} = \\kappa \\mathcal{L}\\{u(t)\\} $$\n",
    "\n",
    "$$ \\tau sY(s) + Y(s) = \\kappa U(s) $$\n",
    "\n",
    "$$ Y(s) (\\tau s + 1) = \\kappa U(s) $$\n",
    "\n",
    "$$  \\frac{Y(s)}{U(s)} =  \\frac{\\kappa}{(\\tau s + 1)} $$"
   ]
  },
  {
   "cell_type": "markdown",
   "id": "72f66711",
   "metadata": {
    "vscode": {
     "languageId": "plaintext"
    }
   },
   "source": [
    "Logo a Função de Transferência para o sistema de resposta dinâmica de processo Linear de $1^a$ Ordem é dada por:\n",
    "\n",
    "$$ G(s) = \\frac{\\kappa}{(\\tau s + 1)}  $$"
   ]
  },
  {
   "cell_type": "markdown",
   "id": "b1b31940",
   "metadata": {},
   "source": [
    "__Resposta Dinâmica de $2^a$ Ordem__\n",
    "\n",
    "Sabendo-se que:\n",
    "\n",
    "$ \\kappa = \\frac{b_o}{a_o} \\text{... ganho estático}$\n",
    "\n",
    "$ \\tau = \\sqrt{\\frac{a_2}{a_o}}  \\text{... período natural de oscilação do sistema} $\n",
    "\n",
    "$ 2\\xi \\tau = \\frac{a_1}{a_o} $\n",
    "\n",
    "onde $\\xi$ é o fator de amortecimento.\n",
    "\n",
    "A equação diferencial de $2^a$ Ordem ordinária pode ser represenada da seguinte fórma:\n",
    "\n",
    "$$  a_2 \\frac{d^2 y(t)}{dt^2} + a_1 \\frac{dy(t)}{dt} + a_o y(t) = b_o u(t) \\,\\  \\text{...eq(1)}$$"
   ]
  },
  {
   "cell_type": "markdown",
   "id": "74e4b1af",
   "metadata": {},
   "source": [
    "Sendo $a \\neq 0$ e dividindo a eq(1) por $a_o$, tem-se:\n",
    "\n",
    "$$  \\frac{a_2}{a_o} \\frac{d^2 y(t)}{dt^2} + \\frac{a_1}{a_o} \\frac{dy(t)}{dt} + \\frac{a_o}{a_o} y(t) = \\frac{b_o}{a_o} u(t) \\,\\  \\text{...eq(1)}$$\n",
    "\n",
    "Substituindo as constantes, temos:\n",
    "\n",
    "$$  \\tau^2 \\frac{d^2 y(t)}{dt^2} + 2 \\xi \\tau \\frac{dy(t)}{dt} + y(t) = \\kappa u(t) \\,\\  \\text{...eq(2)}$$"
   ]
  },
  {
   "cell_type": "markdown",
   "id": "f4440d58",
   "metadata": {},
   "source": [
    "Lembrando que:\n",
    "\n",
    "$ \\mathcal{L}\\{\\ f(t)\\} = F(s) $\n",
    "\n",
    "$ \\mathcal{L}\\{\\ u(t)\\} = U(s) $\n",
    "\n",
    "$ \\mathcal{L}\\{\\ \\frac{df(t)}{dt}\\} = sF(s) $\n",
    "\n",
    "$ \\mathcal{L}\\{\\ \\frac{d^2f(t)}{dt^2}\\} = s^2F(s) $\n",
    "\n",
    "\n"
   ]
  },
  {
   "cell_type": "markdown",
   "id": "bc20fee7",
   "metadata": {},
   "source": [
    "Agora, aplicando a definição da Transformada de Laplace na equação 2, temos:\n",
    " \n",
    "$$  \\tau^2  \\mathcal{L}\\{\\ \\frac{d^2 y(t)}{dt^2}\\}  + 2 \\xi \\tau \\mathcal{L}\\{\\ \\frac{dy(t)}{dt}\\} +  \\mathcal{L}\\{\\ y(t) \\} = \\kappa \\mathcal{L}\\{\\ u(t) \\} $$\n",
    "\n",
    "Aplicando as definições do lembrete, temos:\n",
    "\n",
    "$$ \\tau^2 s^2Y(s) + 2 \\xi \\tau s Y(s) + Y(s) = \\kappa U(s)  \\text{...eq(3)}$$\n",
    "\n",
    "Rearranjando os termos da eq(3), temos:\n",
    "\n",
    "$$Y(s)[\\tau^2 s^2 + 2 \\xi \\tau s + 1] = \\kappa U(s)   $$\n",
    "\n",
    "A função de transferência será dada por:\n",
    "\n",
    "$$ \\frac{Y(s)}{U(s)} = \\frac{\\kappa}{\\tau^2 s^2 + 2 \\xi \\tau s + 1}  $$"
   ]
  },
  {
   "cell_type": "markdown",
   "id": "0a69a950",
   "metadata": {},
   "source": [
    "<div style=\"text-align: center; font-size: 12px; color: gray; margin-top: 40px;\">\n",
    "  Este notebook foi desenvolvido no âmbito do Grupo de Pesquisas em Modelagem Computacional da UESC.<br>\n",
    "  Todos os direitos reservados © 2025\n",
    "</div>"
   ]
  }
 ],
 "metadata": {
  "kernelspec": {
   "display_name": "base",
   "language": "python",
   "name": "python3"
  },
  "language_info": {
   "name": "python",
   "version": "3.11.7"
  }
 },
 "nbformat": 4,
 "nbformat_minor": 5
}
