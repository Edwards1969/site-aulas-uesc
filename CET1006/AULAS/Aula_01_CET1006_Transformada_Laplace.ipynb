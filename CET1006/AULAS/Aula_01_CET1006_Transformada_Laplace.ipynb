{
 "cells": [
  {
   "cell_type": "markdown",
   "id": "875756c5",
   "metadata": {},
   "source": [
    "<div style=\"text-align: center;\">\n",
    "\n",
    "  <!-- Logotipo -->\n",
    "  <img src=\"img/LogoUesc.png\" alt=\"UESC\" style=\"width: 60px; display: block; margin: 0 auto 5px auto;\">\n",
    "\n",
    "  <!-- Cabeçalho -->\n",
    "  <div style=\"font-size: 20px;\"><strong>UNIVERSIDADE ESTADUAL DE SANTA CRUZ - UESC</strong></div>\n",
    "  <div style=\"font-size: 18px;\">DEPARTAMENTO DE ENGENHARIAS E COMPUTAÇÃO</div>\n",
    "  <div style=\"font-size: 18px;\">ENGENHARIA QUÍMICA</div>\n",
    "\n",
    "  <hr style=\"margin: 20px 0; border: 1px solid #0074B7;\">\n",
    "\n",
    "  <!-- Título do Trabalho -->\n",
    "  <div style=\"font-size: 22px; font-weight: bold; margin-bottom: 10px;\">Controle de Processos Aplicado na Engenharia Química</div>\n",
    "  <div style=\"font-size: 20px; font-weight: bold; margin-bottom: 10px;\">Transformada de Laplace em Controle de Processos</div>\n",
    "\n",
    "  <!-- Autor e orientador -->\n",
    "  <div style=\"font-size: 18px;\">Prof. Dr. E.R.Edwards</div>\n",
    "\n",
    "<hr style=\"margin: 20px 0; border: 1px solid #0074B7;\">\n",
    "  <!-- Data -->\n",
    "<!-- <div style=\"font-size: 16px; margin-top: 15px;\">Ilhéus - BA, Abril de 2025</div> -->\n",
    "</div>"
   ]
  },
  {
   "cell_type": "markdown",
   "metadata": {},
   "source": [
    "Vimos nas aulas anteriores que em __Controle de Processos__ podemos encontrar duas formas de resolução de problemas para manter a variável controlada dentro do ponto fixo (_setpoint_). Quando controlamos processos com uma entrada e uma saída usamos _Transformada de Laplace_ para encontrarmos a _Função de Transferência_ que relaciona a Transformada de Laplace da saída com a Transformada de Laplace da entradado do processo. Esse tipo de resolução gera Equações Diferenciais Ordinárias (EDO) que são difíceis de resolver. Dessa forma, a Transformada de Laplace quebra as equações diferenciais obtidas no Estado Estacionário (tempo constante), subtraindo das equações diferenciais no regime transiente (tempo sendo levado em consideração) possibilitando sua resolução usando métodos algébricos. A equação diferencial resultante corresponde ao que ocorre no processo naquele intervalo de tempo, sendo este o resultado que será usado na aplicação da Transformada de Laplace. "
   ]
  },
  {
   "cell_type": "markdown",
   "id": "3c12ce54",
   "metadata": {},
   "source": [
    "A figura abaixo mostra que um problema original, que esta no domínio do tempo, $t$, com função $f(t)$, caracterizada por EDO é de difícil resolução. A aplicação de Transformada de Laplace, no dominio, $s$, com função $F(s)$ transforma uma equação complexa em uma forma mais adequada e de mais fácil solução. A Transformada de Laplace quebra uma equação grande e complexa em pequenas partes que podem ser resolvidas de forma mais simplificada. "
   ]
  },
  {
   "cell_type": "markdown",
   "metadata": {},
   "source": [
    "Colocar figura nessa parte"
   ]
  },
  {
   "cell_type": "markdown",
   "id": "6abd23bf",
   "metadata": {},
   "source": [
    "A Transformada de Laplace, desenvolvida por Pierre - Simon Laplace, gera uma função de variável s$$ (fraquência) a partir de uma função de variável $t$ (tempo) e vice-versa.\n",
    "\n",
    "Então o que é a Transformada de Laplace?\n",
    "\n",
    "Dada uma simples descrição matemática ou funcional de entrada - ou saída - de um sistema, a Transformada de Laplace fornece uma descrição alternativa que, em um grande número de casos, diminui a complexidade do processo de aálise do comportamento do sistema ou sintetiza um novo sistema baseado em características específicas. Nesse sentido a transformada de Laplace converte uma equação diferecial em uma equação algébrica e uma convolução em multiplicação."
   ]
  },
  {
   "cell_type": "markdown",
   "id": "db4be5a3",
   "metadata": {},
   "source": [
    "A Transformada de Laplace $\\mathcal{L}\\{f(t)\\}$ da função $f(t)$ é uma função $s$, que representa o domínio de frequência. Utilizamos então como notação a __letra maiúscula para a Transformada__ e a __letra minúscula para a Função__. \n",
    "\n",
    "$$ \\mathcal{L}\\{f(t)\\} = F(s) $$\n",
    "\n",
    "$$ \\mathcal{L}\\{g(t)\\} = G(s) $$\n",
    "\n",
    "No caso de aplicação na Engenharia, em Controle de Processos, temos:"
   ]
  },
  {
   "cell_type": "markdown",
   "id": "48614dde",
   "metadata": {},
   "source": [
    "<img src=\"img/controle_siso.png\" alt=\"UESC\" style=\"width: 700px; display: block; margin: 0 auto 5px auto;\">\n",
    "<p style=\"text-align: center;\"><strong>Figura: Sistema com uma entrada e uma saída.</strong></p>"
   ]
  },
  {
   "cell_type": "markdown",
   "id": "807bd319",
   "metadata": {},
   "source": [
    "Aplicamos a Transformada de Laplace no caso em que temos apenas uma entrada e uma saída no processo, logo teremos:\n",
    "\n",
    "$$ G(s) = \\frac{Y(s)}{X(s)} \\text{... que é a Função de Transferência}  $$\n",
    "\n",
    "Essa função relaciona a Transformada de Laplace da saída pela Transformada de Laplace da entrada."
   ]
  },
  {
   "cell_type": "markdown",
   "id": "4b694b42",
   "metadata": {},
   "source": [
    "Agora, e no caso de termos várias entradas e várias saídas como em um processo de separação de petróleo em uma destilaria como podemos resolver esse problema e quais métodos computacionais devemos utilizar? Veja por exemplo o desenho esquemático abaixo."
   ]
  },
  {
   "cell_type": "markdown",
   "id": "075eb405",
   "metadata": {},
   "source": [
    "<img src=\"img/sistema_multiplas_entradas.png\" alt=\"UESC\" style=\"width: 800px; display: block; margin: 0 auto 5px auto;\">\n",
    "<p style=\"text-align: center;\"><strong>Figura: Sistema com multiplas entrada e multiplas saída.</strong></p>"
   ]
  },
  {
   "cell_type": "markdown",
   "id": "012b624f",
   "metadata": {},
   "source": [
    "Nesse caso, não podemos usar a Transformada de Laplace para resolução de um problema que pussui varias entradas e várias saídas. Dessa forma, problemas como esse nos fornecerão varias equações diferenciais com varias incógnitas. E precisamos encontrar outra ferramenta para resolução de um problme com esse grau de complexidade elevada. E a ferramenta para cálculos dessa natureza é a aplicação de __Métodos Matriciais__."
   ]
  },
  {
   "cell_type": "markdown",
   "id": "ffd7c69e",
   "metadata": {},
   "source": [
    "__Métodos Matriciais na Resolução de Probelmas de Engenharia__\n",
    "\n",
    "As equações diferenciais são utilizadas em uma grande quantidade de modelos matemáticos que apresentam muitas técnicas de resolução. Em uma infinidade de problemas de Engenharia utilizamos resoluções matriciais do tipo:\n",
    "\n",
    "$$\n",
    "A. \\vec{x} = \\vec{b} \n",
    "$$\n",
    "\n",
    "tal que $\\vec{x}$ é a incógnita que devemos encontrar sendo:\n",
    "\n",
    "$$ \n",
    "\\vec{x} = \\frac{b}{A} =  A^{-1}.\\vec{b}\n",
    "$$\n",
    "\n",
    "\n",
    "__Da teoria de álgebra__\n",
    "\n",
    "\n",
    "Se multiplicarmos $a$ pela sua inversa $a^{-1}$, teremos como resultado 1. O mesmo ocorre quando multiplicamos:\n",
    "\n",
    "$$\n",
    "A.A^{-1} = A.\\frac{1}{A} = 1\n",
    "$$"
   ]
  },
  {
   "cell_type": "markdown",
   "id": "993b2f3a",
   "metadata": {},
   "source": [
    "Se tivermos a matriz:\n",
    "\n",
    "\\begin{equation}\n",
    "A = \n",
    "    \\begin{bmatrix}\n",
    "    a & b \\\\\n",
    "    c & d \\\\\n",
    "    \\end{bmatrix}\n",
    "\\end{equation}\n",
    "\n",
    "Essa matriz é inversível se: $ad - bc \\neq c$\n",
    "\n",
    "\\begin{equation}\n",
    "A^{-1} =\n",
    "\\frac{1}{ad-bc}.\n",
    "    \\begin{bmatrix}\n",
    "     d & -b \\\\\n",
    "    -c & a\n",
    "    \\end{bmatrix}\n",
    "    =\n",
    "    \\begin{bmatrix}\n",
    "    \\frac{d}{ad-bc}  & -\\frac{b}{ad-bc} \\\\\n",
    "    -\\frac{c}{ad-bc} & \\frac{a}{ad-bc}\n",
    "    \\end{bmatrix}\n",
    "\\end{equation}"
   ]
  },
  {
   "cell_type": "markdown",
   "id": "459c480d",
   "metadata": {},
   "source": [
    "O desenvolvimento matemático mais aprofundado da aplicação de métodos matriciais na resolução de problemas de Controle de Processos com várias entradas e várias saídas serão desevolvida na disciplina de __CET1012__ Modelagem, Simulação e Otimização de Processos Químicos"
   ]
  },
  {
   "cell_type": "markdown",
   "id": "acc38a35",
   "metadata": {},
   "source": [
    "<div style=\"text-align: center; font-size: 12px; color: gray; margin-top: 40px;\">\n",
    "  Este notebook foi desenvolvido no âmbito do Grupo de Pesquisas em Modelagem Computacional da UESC.<br>\n",
    "  Todos os direitos reservados © 2025\n",
    "</div>"
   ]
  }
 ],
 "metadata": {
  "kernelspec": {
   "display_name": "base",
   "language": "python",
   "name": "python3"
  },
  "language_info": {
   "codemirror_mode": {
    "name": "ipython",
    "version": 3
   },
   "file_extension": ".py",
   "mimetype": "text/x-python",
   "name": "python",
   "nbconvert_exporter": "python",
   "pygments_lexer": "ipython3",
   "version": "3.11.7"
  }
 },
 "nbformat": 4,
 "nbformat_minor": 5
}
