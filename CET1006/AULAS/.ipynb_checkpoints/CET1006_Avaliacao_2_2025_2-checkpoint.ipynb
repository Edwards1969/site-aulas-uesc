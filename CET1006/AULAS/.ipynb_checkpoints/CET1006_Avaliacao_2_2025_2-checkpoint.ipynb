{
 "cells": [
  {
   "cell_type": "markdown",
   "id": "5c22c582",
   "metadata": {},
   "source": [
    "<div style=\"text-align: center;\">\n",
    "\n",
    "  <!-- Logotipo -->\n",
    "  <img src=\"img/LogoUesc.png\" alt=\"UESC\" style=\"width: 60px; display: block; margin: 0 auto 5px auto;\">\n",
    "\n",
    "  <!-- Cabeçalho -->\n",
    "  <div style=\"font-size: 20px;\"><strong>UNIVERSIDADE ESTADUAL DE SANTA CRUZ - UESC</strong></div>\n",
    "  <div style=\"font-size: 18px;\">DEPARTAMENTO DE ENGENHARIAS E COMPUTAÇÃO</div>\n",
    "  <div style=\"font-size: 18px;\">ENGENHARIA QUÍMICA</div>\n",
    "\n",
    "  <hr style=\"margin: 20px 0; border: 1px solid #0074B7;\">\n",
    "\n",
    "  <!-- Título do Trabalho -->\n",
    "  <div style=\"font-size: 22px; font-weight: bold; margin-bottom: 10px;\">Controle de Processos Aplicado</div>\n",
    "  <div style=\"font-size: 20px; font-weight: bold; margin-bottom: 10px;\">Avaliação 2 - Cálculos</div>\n",
    "\n",
    "  <!-- Autor e orientador -->\n",
    "  <div style=\"font-size: 18px;\">Prof. Dr. E.R.Edwards</div>\n",
    "\n",
    "<hr style=\"margin: 20px 0; border: 1px solid #0074B7;\">\n",
    "  <!-- Data -->\n",
    "<!-- <div style=\"font-size: 16px; margin-top: 15px;\">Ilhéus - BA, Abril de 2025</div> -->\n",
    "</div>"
   ]
  },
  {
   "cell_type": "markdown",
   "id": "0d3e3cd2",
   "metadata": {},
   "source": [
    "__Questão 1__ - Considere o separador mostrado na figura 1 abaixo, sendo $w_i(t)$ o fluxo de alimentação, $x_(t)$ a fração de alimentação, $w_v(t)$ o fluxo de vapor na corrente de topo; $w_o(t)$ o fluxo de sólido na corrente de fundo e $x_o(t)$ a fração na corrente de fundo. Pede-se:\n",
    "\n",
    "- Faça um balanço de massa da água (obtenha a equação 1);\n",
    "- Faça um balanço total no sistema (obtenha a equação 2);\n",
    "- Substitua o equação 2 na equação 1 e determine analiticamente $w_i(t)x_i(t)$.\n",
    "- Sabendo-se que $w_i(t) = k_vf_a(t)$, substitua o valor obtido no tem (c) e obtenha analiticamente o valor do fluxo de gás combustível $f_a(t)$.\n"
   ]
  },
  {
   "cell_type": "markdown",
   "id": "ce89055b",
   "metadata": {},
   "source": [
    "<img src=\"img/separador_basico.png\" alt=\"UESC\" style=\"width: 200px; display: block; margin: 0 auto 5px auto;\">\n",
    "<p style=\"text-align: center;\"><strong>Figura 1: Desenho esquemático para o separador.</strong></p>"
   ]
  },
  {
   "cell_type": "markdown",
   "id": "4805f56f",
   "metadata": {},
   "source": [
    "__Cálculos__:\n",
    "\n",
    "a - Balançco de massa daágua.\n",
    "\n",
    "$$ w_i(t) \\times x_i(t) - w_o(t) \\times x_o(t) - w_v(t) = 0 \\,\\ ...\\,\\  \\text{eq.1} $$\n",
    "\n",
    "b - Balanço total no sistema.\n",
    "\n",
    "$$ w_i(t) -w_o(t) -w_v(t) = 0 $$\n",
    "\n",
    "$$ w_o(t) = w_i(t) -w_i(t) \\,\\ ...\\,\\  \\text{eq.2} $$\n",
    "\n",
    "c - Substituindo a eq.2 na eq.1, temos:\n",
    "\n",
    "$$ w_i(t) \\times x_i(t) - [w_i(t) - w_v(t)] \\times x_o(t) - w_v(t) = 0 $$\n",
    "\n",
    "$$ w_i(t) \\times x_i(t) - w_i(t) \\times x_o(t) + w_v(t) \\times x_o(t) - w_v(t) = 0 $$\n",
    "\n",
    "$$ w_i(t) \\times x_i(t) - w_i(t) \\times x_o(t) + w_v(t) \\times [x_o(t) - 1] = 0 $$\n",
    "\n",
    "$$ w_i(t) \\times x_i(t) = w_i(t) \\times x_o(t) - w_v(t) \\times [x_o(t) - 1]  \\,\\ ...\\,\\ \\text{eq.3} $$\n",
    "\n",
    "d - Substituir $w_v(t) = k_vf_o(t) $ na eq.3.\n",
    "\n",
    "$$ w_i(t) \\times x_i(t) = w_i(t) \\times x_o(t) - k_vf_a(t) \\times [x_o(t) -1] $$\n",
    "\n",
    "$$ k_vf_a(t) \\times [1 - x_o(t)] = w_i(t) \\times x_i(t) - w_i(t) \\times x_o(t) $$\n",
    "\n",
    "Resposta:\n",
    "\n",
    "$$ fa(t) = \\dfrac{w_i(t) \\times  [x_i(t) - x_o(t)]}{k_v \\times [1 - x_o(t)]} $$\n",
    "\n",
    "\n",
    "<div style=\"background-color:#eef6ff; border:1px solid #a3c4f3; border-radius:8px; padding:10px; text-align:center;\">\n",
    "$$ \n",
    "fa(t) = \\dfrac{w_i(t) \\times  [x_i(t) - x_o(t)]}{k_v \\times [1 - x_o(t)]} \n",
    "$$\n",
    "</div>"
   ]
  },
  {
   "cell_type": "markdown",
   "id": "c86d43c1",
   "metadata": {},
   "source": [
    "__Questão 2__: Considere o sistema mostrado na Figura abaixo. Para a diluição de uma solução de NaOH, pede-se:\n",
    "\n",
    "- Realize o balanço de massa global no misturador;\n",
    "- Realize o balanço de massa para o componente NaOH;\n",
    "- Substitua a primeira expressão na segunda e determine, analiticamente, o valor da vazão mássica da água."
   ]
  },
  {
   "cell_type": "markdown",
   "id": "c164f336",
   "metadata": {},
   "source": [
    "<img src=\"img/sistema_mistura.png\" alt=\"UESC\" style=\"width: 400px; display: block; margin: 0 auto 5px auto;\">\n",
    "<p style=\"text-align: center;\"><strong>Figura 2: Esquema ilustrativo de mistura de solução com NaOH.</strong></p>"
   ]
  },
  {
   "cell_type": "markdown",
   "id": "6b9e71bd",
   "metadata": {},
   "source": [
    "__Cálculos__: \n",
    "\n",
    "a - Balanço de massa global no misturador.\n",
    "\n",
    "$$ m_{\\text{50 \\% solução}} + m_{\\text{water}} = m_{\\text{product}} \\,\\ \\text{(eq.1)}$$\n",
    "\n",
    "b - Balanço de massa nos componentes com $NaOH$\n",
    "\n",
    "$$ m_{\\text{50 \\% solução}} \\times x_{\\text{50 \\%solução}} =  m_{\\text{product}} \\times x_{\\text{product}}  \\,\\ \\text{(eq.2)}$$\n",
    "\n",
    "c - Cálculo analitico do valor da vazão mássica.\n",
    "\n",
    "$$ m_{\\text{50 \\% solução}} \\times x_{\\text{50 \\% solução}} =  (m_{\\text{50 \\% solução}} + m_{\\text{water}}) \\times x_{\\text{product}}$$\n",
    "\n",
    "$$ m_{\\text{50 \\% solução}} \\times x_{\\text{50 \\% solução}} =  m_{\\text{50 \\% solução}} \\times x_{\\text{product}} + m_{\\text{water}}  \\times x_{\\text{product}}$$\n",
    "\n",
    "$$ m_{\\text{50 \\% solução}} \\times x_{\\text{50 \\% solução}} -  m_{\\text{50 \\% solução}} \\times x_{\\text{product}} = m_{\\text{water}}  \\times x_{\\text{product}}$$\n",
    "\n",
    "$$ \\dfrac{m_{\\text{50 \\% solução}} \\times (x_{\\text{50 \\% solução}} -  x_{\\text{product}}) }{x_{\\text{product}}}  =  m_{\\text{water}} $$\n",
    "\n",
    "Resposta:\n",
    "\n",
    "<div style=\"background-color:#eef6ff; border:1px solid #a3c4f3; border-radius:8px; padding:10px; text-align:center;\">\n",
    "$$\n",
    "m_{\\text{water}} = \\dfrac{m_{\\text{50 \\% solução}} \\times (x_{\\text{50 \\% solução}} -  x_{\\text{product}}) }{x_{\\text{product}}} \n",
    "$$\n",
    "</div>"
   ]
  },
  {
   "cell_type": "markdown",
   "id": "008e6849",
   "metadata": {},
   "source": [
    "__Questão 3__: Podemos representar uma expressão matemática em forma de blocos de construção, muito utilizada em simuladores tais como o _Simulink_ do _MatLab_ ou o _XCos_ do _Scilab_. Represente a expressão abaixo na forma de blocos, de modo que, por exemplo, o fluxo $F$, em um bloco (retângulo), multiplique o bloco $x(t)$ (retângulo). As setas que saem do bloco de fluxo e da fração seguem para o bloco de multiplicação (__mult__), e assim por diante. O ponto de soma, representado por um círculo (com entradas positivas ou negativas), terá como saída $F \\times x(t)$. Dessa forma, represente em forma de blocos os cálculos necessários para encontrar $M$ na expressão abaixo:\n",
    "\n",
    "$$ [F \\times x(t) + H \\times y(t)] \\times [T \\times z(t) + V \\times w(t)] = M $$\n",
    "\n",
    "__Cálculos__:"
   ]
  },
  {
   "cell_type": "markdown",
   "id": "4f9ad5e5",
   "metadata": {},
   "source": [
    "<img src=\"img/soma_blocos_prova.png\" alt=\"UESC\" style=\"width: 550px; display: block; margin: 0 auto 5px auto;\">\n",
    "<p style=\"text-align: center;\"><strong>Figura 2: Resposta da manipulação de blocos.</strong></p>"
   ]
  },
  {
   "cell_type": "markdown",
   "id": "ae1fb1ae",
   "metadata": {},
   "source": [
    "__Questão 4__: Apresente o modelo em _Simulink_ para o sistema de mistura representado pela expressão abaixo, sendo $f = f_1 + f_2$:\n",
    "\n",
    "$$ f_1(t)C_{A_1}(t) + f_2(t)C_{A_2}(t) - f(t)C_A(t) = V \\dfrac{dC_A(t)}{dt} $$\n",
    "\n",
    "__Cálculos__:\n",
    "\n",
    "$$ [f_1(t)C_{A_1}(t) + f_2(t)C_{A_2}(t) - f(t)C_A(t)] \\times \\frac{1}{V}=  \\dfrac{dC_A(t)}{dt} $$"
   ]
  },
  {
   "cell_type": "markdown",
   "id": "b1836e28",
   "metadata": {},
   "source": []
  },
  {
   "cell_type": "markdown",
   "id": "4d7d3049",
   "metadata": {},
   "source": []
  }
 ],
 "metadata": {
  "language_info": {
   "name": "python"
  }
 },
 "nbformat": 4,
 "nbformat_minor": 5
}
