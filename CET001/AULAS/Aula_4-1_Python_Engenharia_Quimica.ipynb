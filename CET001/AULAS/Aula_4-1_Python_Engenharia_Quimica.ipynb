{
 "cells": [
  {
   "cell_type": "markdown",
   "id": "bdc7b212",
   "metadata": {},
   "source": [
    "<div style=\"text-align: center;\">\n",
    "\n",
    "  <img src=\"img/LogoUesc.png\" alt=\"UESC\" style=\"width: 60px; display: block; margin: 0 auto 5px auto;\">\n",
    "\n",
    "  <div style=\"font-size: 20px;\"><strong>UNIVERSIDADE ESTADUAL DE SANTA CRUZ - UESC</strong></div>\n",
    "  <div style=\"font-size: 18px;\">DEPARTAMENTO DE ENGENHARIAS E COMPUTAÇÃO - DEC</div>\n",
    "  <div style=\"font-size: 18px;\">Grupo de Pesquisas em Simulações e Controle de Processos</div>\n",
    "\n",
    "  <hr style=\"margin: 20px 0; border: 1px solid #0074B7;\">\n",
    "\n",
    "  <div style=\"font-size: 22px; font-weight: bold; margin-bottom: 10px;\">PROGRAMAÇÃO EM PYTHON PARA AS ENGENHARIAS</div>\n",
    "\n",
    "  <div style=\"font-size: 18px; margin-top: 10px;\"><strong></strong> Programação em Python na resolução de problemas de Engenharia Química</div>\n",
    "  <div style=\"font-size: 18px;\"><strong>Prof. Dr. E.R.Edwards</strong></div>\n",
    "\n",
    "  <div style=\"font-size: 16px; margin-top: 15px;\">Ilhéus - BA, Abril de 2025</div>\n",
    "  \n",
    "  <hr style=\"margin: 20px 0; border: 1px solid #0074B7;\">\n",
    "\n",
    "</div>"
   ]
  },
  {
   "cell_type": "markdown",
   "id": "ca6b50ad",
   "metadata": {},
   "source": [
    "<div style=\"background-color: #e6f2ff; border-left: 6px solid #0074B7; padding: 10px; font-size: 16px;\">\n",
    "  <strong>Projeto: Balanço de Massa em Processos Sequênciais. - Engenharia Química.</strong> \n",
    "</div>"
   ]
  },
  {
   "cell_type": "markdown",
   "id": "b44d79ef",
   "metadata": {},
   "source": [
    "__Descrição do problema.__\n",
    "\n",
    "Um sistema de mistura recebe dois fluxos de entrada: \n",
    "\n",
    "- __Fluxo 1__: Contém $40 \\%$ de etanol (E) e $60 \\%$ de água (A), com uma vazão de $100 \\ Kg/h$ \n",
    "- __Fluxo 2__: Contém $20 \\%$ de etanol (E) e $80 \\%$ de água (A), com uma vazão de $50 \\ Kg/h$.\n",
    "\n",
    "Os dois fluxos são misturados e o fluxo resultate sai do sistema como __Fluxo 3__. \n",
    "\n",
    "1. Calcule a vazão total do Fluxo 3. \n",
    "2. Determine a fração mássica do etanol no Fluxo 3. \n",
    "3. Determine a fração mássica de água no Fluxo 3.\n",
    "\n",
    "__Resolução - Explicada com estrutura linear__\n",
    "\n",
    "1. __Cálculo A__: Vazão total do Fluxo 3. \n",
    "\n",
    "Para determinar a vazão total, somamos as vazões dos fluxos de entrada:\n",
    "\n",
    "$$  \n",
    "\\dot{m_3}  = \\dot{m_1} + \\dot{m_2} = 100 \\ Kg/h + 50 \\ Kg/h = 150 \\ Kg/h  \n",
    "$$\n"
   ]
  },
  {
   "cell_type": "markdown",
   "id": "dbbf2a5c",
   "metadata": {},
   "source": [
    "2. __Cálculo B__: Massa de etanol no Fluxo 3.\n",
    "\n",
    "Determinamos a massa total de etanol a partir das contribuições dos __Fluxos 1__ e __2__: \n",
    "\n",
    "$$ \n",
    "m_{E,3} = m_{E,1} + m_{E,2} \n",
    "$$\n",
    "\n",
    "onde: \n",
    "\n",
    "$$ \n",
    "m_{E,1} = \\dot{m_1} \\times x_{E,1} = 100 \\times 0.4 = 40 \\ Kg/h \n",
    "$$ \n",
    "\n",
    "$$ \n",
    "m_{E,2} = \\dot{m_2} \\times x_{E,2} = 50 \\times 0.2 = 10 \\ Kg/h   \n",
    "$$\n",
    "\n",
    "Logo:\n",
    "\n",
    "$$ \n",
    "m_{E,3} = 40 + 10 = 50 \\ Kg/h \n",
    "$$\n",
    "\n",
    "3.  __Cálculo C__: Fração mássica de etanol no __Fluxo 3__: \n",
    "\n",
    "Agora, calculando a fração mássica de etanol no __Fluxo 3__: \n",
    "\n",
    "$$\n",
    "x_{E,3} = \\frac{m_{E,3}}{\\dot{m_3} }= \\frac{50}{150} = 0.333 \\ (ou \\ 33,3 \\ \\%) \n",
    "$$"
   ]
  },
  {
   "cell_type": "markdown",
   "id": "171aacb2",
   "metadata": {},
   "source": [
    "4. __Cálculo adicional__: Fração mássica da água no __Fluxo 3__.\n",
    "\n",
    "Sabemos que a soma das frações mássicas devem ser igual a 1, logo: \n",
    "\n",
    "$$ \n",
    "x_{A,3} - x_{E,3} = 1 - 0.333 = 0.667 \\ (ou \\ 66,7 \\%)  \n",
    "$$\n",
    "\n",
    "__Justificativa da Estrutura linear__: \n",
    "\n",
    "Neste problema o cálculo $C$ depende de $B$ e o cálculo $B$ depende de $A$. Você não pode calcular as frações mássicas ($C$) sem antes determinar as massas totais ($B$) e não pode determiar as massas totais de ($B$) sem antes determinar as vazões totais de ($A$).\n",
    "\n",
    "__Implementação em Python.__"
   ]
  },
  {
   "cell_type": "code",
   "execution_count": 7,
   "id": "3864d985",
   "metadata": {},
   "outputs": [],
   "source": [
    "# Dados do Fluxo 1.\n",
    "frac_E1 = 0.40 # Fração mássica de etanol no Fluxo 1\n",
    "frac_A1 = 0.60 # Fração mássica de água no Fluxo 1\n",
    "Q1 = 100 # Vazão do Fluxo 2 (Kg/h)"
   ]
  },
  {
   "cell_type": "code",
   "execution_count": 8,
   "id": "c9a8f96d",
   "metadata": {},
   "outputs": [],
   "source": [
    "# Dados do Fluxo 2.\n",
    "frac_E2 = 0.20 # Fração mássica de etanol no Fluxo 2.\n",
    "frac_A2 = 0.80 # Fração mássica de água no Fluxo 2.\n",
    "Q2 = 50 # Vazão do Fluxo 2 (Kg/h)"
   ]
  },
  {
   "cell_type": "code",
   "execution_count": 9,
   "id": "bff244d0",
   "metadata": {},
   "outputs": [],
   "source": [
    "# Cálculo da vazão total no Fluxo 3\n",
    "Q3 = Q1 + Q2"
   ]
  },
  {
   "cell_type": "code",
   "execution_count": 10,
   "id": "1a9df2cc",
   "metadata": {},
   "outputs": [],
   "source": [
    "# Cálculo da vazão total noFluxo 3.\n",
    "massa_E1 = frac_E1 * Q1  # Massa de etanol no Fluxo 1\n",
    "massa_E2 = frac_E2 * Q2  # Massa de etanol no Fluxo 2\n",
    "massa_E3 = massa_E1 + massa_E2  # Massa total de etanol no Fluxo 3\n",
    "frac_E3 = massa_E3 / Q3  # Fração mássica de etanol no Fluxo 3"
   ]
  },
  {
   "cell_type": "code",
   "execution_count": 11,
   "id": "076ef173",
   "metadata": {},
   "outputs": [],
   "source": [
    "# Cálculo da fração mássica de água no Fluxo 3\n",
    "massa_A1 = frac_A1 * Q1  # Massa de água no Fluxo 1\n",
    "massa_A2 = frac_A2 * Q2  # Massa de água no Fluxo 2\n",
    "massa_A3 = massa_A1 + massa_A2  # Massa total de água no Fluxo 3\n",
    "frac_A3 = massa_A3 / Q3  # Fração mássica de água no Fluxo "
   ]
  },
  {
   "cell_type": "code",
   "execution_count": 12,
   "id": "8e8fb359",
   "metadata": {},
   "outputs": [
    {
     "name": "stdout",
     "output_type": "stream",
     "text": [
      "Vazão total do Fluxo 3: 150.00 kg/h\n",
      "Fração mássica de etanol no Fluxo 3: 33.33%\n",
      "Fração mássica de água no Fluxo 3: 66.67%\n"
     ]
    }
   ],
   "source": [
    "# Exibição dos resultados\n",
    "print(f\"Vazão total do Fluxo 3: {Q3:.2f} kg/h\")\n",
    "print(f\"Fração mássica de etanol no Fluxo 3: {frac_E3:.2%}\")\n",
    "print(f\"Fração mássica de água no Fluxo 3: {frac_A3:.2%}\")"
   ]
  },
  {
   "cell_type": "markdown",
   "id": "8575e36e",
   "metadata": {},
   "source": [
    "<div style=\"text-align: center; font-size: 12px; color: gray; margin-top: 40px;\">\n",
    "  Este notebook foi desenvolvido no âmbito do Grupo de Pesquisas em Modelagem Computacional da UESC.<br>\n",
    "  Todos os direitos reservados © 2025\n",
    "</div>"
   ]
  }
 ],
 "metadata": {
  "kernelspec": {
   "display_name": "base",
   "language": "python",
   "name": "python3"
  },
  "language_info": {
   "codemirror_mode": {
    "name": "ipython",
    "version": 3
   },
   "file_extension": ".py",
   "mimetype": "text/x-python",
   "name": "python",
   "nbconvert_exporter": "python",
   "pygments_lexer": "ipython3",
   "version": "3.11.7"
  }
 },
 "nbformat": 4,
 "nbformat_minor": 5
}
