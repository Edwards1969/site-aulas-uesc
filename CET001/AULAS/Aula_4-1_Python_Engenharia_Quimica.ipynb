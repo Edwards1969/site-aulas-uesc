{
 "cells": [
  {
   "cell_type": "markdown",
   "id": "bdc7b212",
   "metadata": {},
   "source": [
    "<div style=\"text-align: center;\">\n",
    "\n",
    "  <img src=\"img/LogoUesc.png\" alt=\"UESC\" style=\"width: 60px; display: block; margin: 0 auto 5px auto;\">\n",
    "\n",
    "  <div style=\"font-size: 20px;\"><strong>UNIVERSIDADE ESTADUAL DE SANTA CRUZ - UESC</strong></div>\n",
    "  <div style=\"font-size: 18px;\">DEPARTAMENTO DE ENGENHARIAS E COMPUTAÇÃO - DEC</div>\n",
    "  <div style=\"font-size: 18px;\">Grupo de Pesquisas em Simulações e Controle de Processos</div>\n",
    "\n",
    "  <hr style=\"margin: 20px 0; border: 1px solid #0074B7;\">\n",
    "\n",
    "  <div style=\"font-size: 22px; font-weight: bold; margin-bottom: 10px;\">PROGRAMAÇÃO EM PYTHON PARA AS ENGENHARIAS</div>\n",
    "\n",
    "  <div style=\"font-size: 18px; margin-top: 10px;\"><strong></strong> Programação em Python na resolução de problemas de Engenharia Química</div>\n",
    "  <div style=\"font-size: 18px;\"><strong>Prof. Dr. E.R.Edwards</strong></div>\n",
    "\n",
    "  <div style=\"font-size: 16px; margin-top: 15px;\">Ilhéus - BA, Abril de 2025</div>\n",
    "  \n",
    "  <hr style=\"margin: 20px 0; border: 1px solid #0074B7;\">\n",
    "\n",
    "</div>"
   ]
  },
  {
   "cell_type": "markdown",
   "id": "ca6b50ad",
   "metadata": {},
   "source": [
    "<div style=\"background-color: #e6f2ff; border-left: 6px solid #0074B7; padding: 10px; font-size: 16px;\">\n",
    "  <strong>Projeto: Balanço de Massa em Processos Sequênciais. - Engenharia Química.</strong> \n",
    "</div>"
   ]
  },
  {
   "cell_type": "markdown",
   "id": "b44d79ef",
   "metadata": {},
   "source": [
    "__Descrição do problema.__\n",
    "\n",
    "Um sistema de mistura recebe dois fluxos de entrada: \n",
    "\n",
    "- __Fluxo 1__: Contém $40 \\%$ de etanol (E) e $60 \\%$ de água (A), com uma vazão de $100 \\ Kg/h$ \n",
    "- __Fluxo 2__: Contém $20 \\%$ de etanol (E) e $80 \\%$ de água (A), com uma vazão de $50 \\ Kg/h$.\n",
    "\n",
    "Os dois fluxos são misturados e o fluxo resultate sai do sistema como __Fluxo 3__. \n",
    "\n",
    "1. Calcule a vazão total do Fluxo 3. \n",
    "2. Determine a fração mássica do etanol no Fluxo 3. \n",
    "3. Determine a fração mássica de água no Fluxo 3.\n",
    "\n",
    "__Resolução - Explicada com estrutura linear__\n",
    "\n",
    "1. __Cálculo A__: Vazão total do Fluxo 3. \n",
    "\n",
    "Para determinar a vazão total, somamos as vazões dos fluxos de entrada:\n",
    "\n",
    "$$  \n",
    "\\dot{m_3}  = \\dot{m_1} + \\dot{m_2} = 100 \\ Kg/h + 50 \\ Kg/h = 150 \\ Kg/h  \n",
    "$$\n"
   ]
  },
  {
   "cell_type": "markdown",
   "id": "dbbf2a5c",
   "metadata": {},
   "source": [
    "2. __Cálculo b__: Massa de etanol no Fluxo 3.\n",
    "\n",
    "Determinamos a massa total de etanol a partir das contribuiçõesdos __Fluxos 1__ e __2__: \n",
    "\n",
    "$$ \n",
    "m_{E,3} = m_{E,1} + m_{E,2} \n",
    "$$\n",
    "\n",
    "onde: \n",
    "\n",
    "$$ \n",
    "m_{E,1} = \\dot{m_1} \\times x_{E,1} = 100 \\times 0.4 = 40 \\ Kg/h \n",
    "$$ \n",
    "\n",
    "$$ \n",
    "m_{E,2} = \\dot{m_2} \\times x_{E,2} = 50 \\times 0.2 = 10 \\ Kg/h   \n",
    "$$\n",
    "\n",
    "Logo:\n",
    "\n",
    "$$ \n",
    "m_{E,3} = 40 + 10 = 50 \\ Kg/h \n",
    "$$\n",
    "\n",
    "3.  __Cálculo C__: Fração mássica de etanol no __Fluxo 3__: \n",
    "\n",
    "Agora, calculando a fração mássica de etanol no __Fluxo 3__: \n",
    "\n",
    "$$\n",
    "x_{E,3} = \\frac{m_{E,3}}{\\dot{m_3} }= \\frac{50}{150} = 0.333 \\ (ou \\ 33,3 \\ \\%) \n",
    "$$"
   ]
  },
  {
   "cell_type": "markdown",
   "id": "171aacb2",
   "metadata": {},
   "source": [
    "4. __Cálculo adicional__: Fração mássica da água no __Fluxo 3__.\n",
    "\n",
    "Sabemos que a soma das frações mássicas devem ser igual a 1, logo: \n",
    "\n",
    "$$ \n",
    "x_{A,3} - x_{E,3} = 1 - 0.333 = 0.667 \\ (ou \\ 66,7 \\%)  \n",
    "$$\n",
    "\n",
    "__Justificativa da Estrutura linear__: \n",
    "\n",
    "Neste problema o cálculo $C$ depende de $B$ e o cálculo $B$ depende de $A$. Você não pode calcular as frações mássicas ($C$) sem antes determinar as massas totais ($B$) e não pode determiar as massas totais de ($B$) sem antes determinar as vazões totais de ($A$).\n",
    "\n",
    "__Implementação em Python.__"
   ]
  },
  {
   "cell_type": "markdown",
   "id": "8575e36e",
   "metadata": {},
   "source": [
    "<div style=\"text-align: center; font-size: 12px; color: gray; margin-top: 40px;\">\n",
    "  Este notebook foi desenvolvido no âmbito do Grupo de Pesquisas em Modelagem Computacional da UESC.<br>\n",
    "  Todos os direitos reservados © 2025\n",
    "</div>"
   ]
  }
 ],
 "metadata": {
  "language_info": {
   "name": "python"
  }
 },
 "nbformat": 4,
 "nbformat_minor": 5
}
