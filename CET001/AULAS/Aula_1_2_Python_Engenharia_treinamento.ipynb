{
 "cells": [
  {
   "cell_type": "markdown",
   "id": "c0fa1530",
   "metadata": {},
   "source": [
    "<div style=\"text-align: center;\">\n",
    "\n",
    "  <!-- Logotipo -->\n",
    "  <img src=\"img/LogoUesc.png\" alt=\"UESC\" style=\"width: 60px; display: block; margin: 0 auto 5px auto;\">\n",
    "\n",
    "  <!-- Cabeçalho -->\n",
    "  <div style=\"font-size: 20px;\"><strong>UNIVERSIDADE ESTADUAL DE SANTA CRUZ - UESC</strong></div>\n",
    "  <div style=\"font-size: 18px;\">DEPARTAMENTO DE ENGENHARIAS E COMPUTAÇÃO</div>\n",
    "  <div style=\"font-size: 18px;\">ENGENHARIA QUÍMICA</div>\n",
    "\n",
    "  <hr style=\"margin: 20px 0; border: 1px solid #0074B7;\">\n",
    "\n",
    "  <!-- Título do Trabalho -->\n",
    "  <div style=\"font-size: 22px; font-weight: bold; margin-bottom: 10px;\">Programação em Python para as Engenharias</div>\n",
    "  <div style=\"font-size: 20px; font-weight: bold; margin-bottom: 10px;\">Conceitos básicos em Python - Séries</div>\n",
    "\n",
    "  <!-- Autor e orientador -->\n",
    "  <div style=\"font-size: 18px;\">Prof. Dr. E.R.Edwards</div>\n",
    "\n",
    "<hr style=\"margin: 20px 0; border: 1px solid #0074B7;\">\n",
    "  <!-- Data -->\n",
    "<!-- <div style=\"font-size: 16px; margin-top: 15px;\">Ilhéus - BA, Abril de 2025</div> -->\n",
    "</div>"
   ]
  },
  {
   "cell_type": "markdown",
   "id": "08232a0b",
   "metadata": {},
   "source": [
    "<div style=\"background-color: #e6f2ff; border-left: 6px solid #0074B7; padding: 10px; font-size: 16px;\"><strong>Conceitos Básicos e Análises - Séries.</strong> \n",
    "</div>"
   ]
  },
  {
   "cell_type": "markdown",
   "id": "c5981f7b",
   "metadata": {},
   "source": [
    "Uma série é a soma de termos em uma sequência. Se a sequência é infinitamente longa, a soma dos termos é uma série denotada por $\\sum_{n=1}^{\\infty} x_n$. Por exemplo, a sequência $(\\frac{1}{n^2})_{n=1}^{\\infty}$ da origem à série.\n",
    "\n",
    "$$ \\sum_{n=1}^{\\infty} \\frac{1}{n^2} = 1 + \\frac{1}{4}+\\frac{1}{9}+\\frac{1}{16}+\\ldots $$\n",
    "\n",
    "Python não pode lidar com termos infinitos, mas ainda podemos calcular a soma parcial.\n",
    "\n",
    "$$ S_N = \\sum_{n=1}^{N} x_n = x_1 + x_2 +\\ldots + x_N $$\n",
    "\n",
    "para grandes valores de $N$.\n",
    "\n",
    "Essas somas parciais devem nos dar uma boa ideia sobre se a série converge para um número finito ou diverge (por exemplo, a soma se torna arbitrariamente grande ou flutua sem se estabilizar em um valor). \n",
    "\n",
    "Um comando útil para séries de avaliação é `sum(an array)`. Outro operador útil no Python 3 é o operador $ @ $, que é equivalente ao produto escalar de dois arrays, isto é:\n",
    "\n",
    "````Python\n",
    "x@y = np.dot(x,y)=sum(x*y) \n",
    "````\n",
    "\n",
    "\n",
    "\n",
    "Claro que também existe a opção de usar o loop for. Este é o método mais apropriado se você precisar plotar somas parciais. Aqui estão dois exemplos de avaliação de séries usando vários métodos."
   ]
  },
  {
   "cell_type": "markdown",
   "id": "4308a76d",
   "metadata": {},
   "source": [
    "__Séries Numéricas e Somas Parciais__\n",
    "\n",
    "Uma **série** é definida como a soma dos termos de uma sequência.   Se a sequência for infinita, a série é escrita como:\n",
    "\n",
    "$$\n",
    "\\sum_{n=1}^{\\infty} x_n\n",
    "$$\n",
    "\n",
    "Por exemplo, a sequência $$\\sum_{n=1}^{\\infty} \\frac{1}{n^2} $$ dá origem à série:\n",
    "\n",
    "$$ \\sum_{n=1}^{\\infty} \\frac{1}{n^2} = 1 + \\frac{1}{4} + \\frac{1}{9} + \\frac{1}{16} + \\ldots$$\n",
    "\n",
    "\n",
    "No entanto, o Python não pode lidar diretamente com **infinitos termos**.  \n",
    "O que podemos calcular são as **somas parciais**, isto é, a soma dos $N$ primeiros termos:\n",
    "\n",
    "$$\n",
    "S_N = \\sum_{n=1}^{N} x_n = x_1 + x_2 + \\ldots + x_N\n",
    "$$\n",
    "\n",
    "Para valores grandes de $N$, essas somas parciais nos ajudam a verificar se a série **converge** para um número finito ou se **diverge** (isto é, cresce indefinidamente ou oscila sem se estabilizar).\n",
    "\n",
    "No Python, alguns comandos úteis para lidar com séries são:\n",
    "\n",
    "- `sum(array)` $\\rightarrow$ soma todos os elementos de um array.  \n",
    "- Operador `@` $\\rightarrow$ representa o **produto escalar** de dois arrays:\n",
    "\n",
    "$$\n",
    "x \\, @ \\, y \\;=\\; \\text{np.dot}(x,y) \\;=\\; \\sum (x \\cdot y)\n",
    "$$\n",
    "\n",
    "Além disso, também podemos usar **loops for** para calcular e até **plotar somas parciais**, o que é especialmente útil para visualizar o comportamento de uma série.\n",
    "\n",
    "Nos exemplos a seguir veremos como avaliar séries em Python utilizando esses diferentes métodos.\n"
   ]
  },
  {
   "cell_type": "markdown",
   "id": "9592b04c",
   "metadata": {},
   "source": [
    "<img src=\"img/series_avaliacao.png\" alt=\"UESC\" style=\"width: 800px; display: block; margin: 0 auto 5px auto;\">\n",
    "<p style=\"text-align: center;\"><strong>Figura: Avaliação em Series.</strong></p>\n",
    "\n",
    "__Fonte__: Siri Changchitnan \"Exploring University Mathematicas with Python\" Ed. Springer"
   ]
  },
  {
   "cell_type": "markdown",
   "id": "b47a943a",
   "metadata": {},
   "source": [
    "__Exemplo__:\n",
    "\n",
    "Vamos calcular o valor de $n$ na soma de $0$ até $100$ da expressão abaixo:\n",
    "\n",
    "$$ x = \\sum_{n=1}^{100} n $$"
   ]
  },
  {
   "cell_type": "code",
   "execution_count": 2,
   "id": "16fd5e5b",
   "metadata": {},
   "outputs": [
    {
     "data": {
      "text/plain": [
       "5050"
      ]
     },
     "execution_count": 2,
     "metadata": {},
     "output_type": "execute_result"
    }
   ],
   "source": [
    "import numpy as np\n",
    "\n",
    "x = np.arange(1,101)\n",
    "sum(x)"
   ]
  },
  {
   "cell_type": "code",
   "execution_count": 3,
   "id": "26c2fb2b",
   "metadata": {},
   "outputs": [
    {
     "name": "stdout",
     "output_type": "stream",
     "text": [
      "Soma de 1 até 100: 5050\n"
     ]
    }
   ],
   "source": [
    "# ou poderíamos ter resolvido da seguinte forma usando laço for:\n",
    "S = 0\n",
    "for n in np.arange(1, 101):\n",
    "   S += n\n",
    "print(\"Soma de 1 até 100:\", S)"
   ]
  },
  {
   "cell_type": "markdown",
   "id": "2b27442f",
   "metadata": {},
   "source": [
    "Agora, vamos ver a seguinte Série de valores:\n",
    "\n",
    "$$ \\sum_{n=1}^{100} n(n+3)$$\n",
    "\n",
    "Abaixo o código para resolução de um problema dessa natureza."
   ]
  },
  {
   "cell_type": "code",
   "execution_count": 4,
   "id": "faf13234",
   "metadata": {},
   "outputs": [
    {
     "name": "stdout",
     "output_type": "stream",
     "text": [
      "353500\n"
     ]
    }
   ],
   "source": [
    "import numpy as np\n",
    "\n",
    "x = np.arange(1, 101)\n",
    "\n",
    "x@(x + 3)\n",
    "\n",
    "sum(x*(x+3))\n",
    "\n",
    "np.dot(x, x+3)\n",
    "\n",
    "S = 0\n",
    "\n",
    "for n in np.arange(1, 101):\n",
    "    S += n*(n + 3)\n",
    "\n",
    "\n",
    "print(S)"
   ]
  },
  {
   "cell_type": "markdown",
   "id": "83a6cec6",
   "metadata": {},
   "source": [
    "Temos uma forma mais intuitiva de resolver este problema sem usar bibliotecas.\n",
    "\n",
    "__Resolução__\n",
    "\n",
    "Começamos expandindo o termo da soma:\n",
    "\n",
    "$$\n",
    "\\sum_{n=1}^{100} n(n+3) = \\sum_{n=1}^{100} \\left( n^2 + 3n \\right)\n",
    "$$\n",
    "\n",
    "Separando em duas somas:\n",
    "\n",
    "$$\n",
    "\\sum_{n=1}^{100} n(n+3) = \\sum_{n=1}^{100} n^2 \\;+\\; 3\\sum_{n=1}^{100} n\n",
    "$$\n",
    "\n",
    "\n",
    "Usando as fórmulas conhecidas:\n",
    "\n",
    "$$\n",
    "\\sum_{n=1}^N n = \\frac{N(N+1)}{2}, \\qquad \n",
    "\\sum_{n=1}^N n^2 = \\frac{N(N+1)(2N+1)}{6}\n",
    "$$\n",
    "\n",
    "\n",
    "Substituímos \\(N = 100\\):\n",
    "\n",
    "$$\n",
    "\\sum_{n=1}^{100} n^2 = \\frac{100 \\cdot 101 \\cdot 201}{6}\n",
    "$$\n",
    "\n",
    "$$\n",
    "\\sum_{n=1}^{100} n = \\frac{100 \\cdot 101}{2}\n",
    "$$\n",
    "\n",
    "\n",
    "Portanto, o resultado é:\n",
    "\n",
    "$$\n",
    "S = \\frac{100 \\cdot 101 \\cdot 201}{6} + 3 \\cdot \\frac{100 \\cdot 101}{2}\n",
    "$$\n",
    "\n",
    "Simplificando:\n",
    "\n",
    "$$\n",
    "S = 338350 + 15150 = 353500\n",
    "$$\n"
   ]
  },
  {
   "cell_type": "code",
   "execution_count": 5,
   "id": "7f7f78ff",
   "metadata": {},
   "outputs": [
    {
     "name": "stdout",
     "output_type": "stream",
     "text": [
      "Resultado com produto escalar: 353500\n",
      "Resultado com sum: 353500\n",
      "Resultado com np.dot: 353500\n",
      "Resultado com laço for: 353500\n"
     ]
    }
   ],
   "source": [
    "# Resolução em Python\n",
    "import numpy as np\n",
    "\n",
    "# Definindo o intervalo\n",
    "x = np.arange(1, 101)\n",
    "\n",
    "# Usando produto escalar\n",
    "resultado1 = x @ (x + 3)\n",
    "\n",
    "# Usando multiplicação e soma\n",
    "resultado2 = sum(x * (x + 3))\n",
    "\n",
    "# Usando np.dot\n",
    "resultado3 = np.dot(x, x + 3)\n",
    "\n",
    "# Usando laço for\n",
    "S = 0\n",
    "for n in np.arange(1, 101):\n",
    "    S += n * (n + 3)\n",
    "\n",
    "print(\"Resultado com produto escalar:\", resultado1)\n",
    "print(\"Resultado com sum:\", resultado2)\n",
    "print(\"Resultado com np.dot:\", resultado3)\n",
    "print(\"Resultado com laço for:\", S)"
   ]
  },
  {
   "cell_type": "markdown",
   "id": "54bb37c0",
   "metadata": {},
   "source": [
    "<div style=\"text-align: center; font-size: 12px; color: gray; margin-top: 40px;\">\n",
    "  Este notebook foi desenvolvido no âmbito do Grupo de Pesquisas em Modelagem Computacional da UESC.<br>\n",
    "  Todos os direitos reservados © 2025\n",
    "</div>"
   ]
  }
 ],
 "metadata": {
  "kernelspec": {
   "display_name": "base",
   "language": "python",
   "name": "python3"
  },
  "language_info": {
   "codemirror_mode": {
    "name": "ipython",
    "version": 3
   },
   "file_extension": ".py",
   "mimetype": "text/x-python",
   "name": "python",
   "nbconvert_exporter": "python",
   "pygments_lexer": "ipython3",
   "version": "3.11.7"
  }
 },
 "nbformat": 4,
 "nbformat_minor": 5
}
