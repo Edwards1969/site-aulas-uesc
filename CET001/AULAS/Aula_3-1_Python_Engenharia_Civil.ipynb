{
 "cells": [
  {
   "cell_type": "markdown",
   "id": "41d026db",
   "metadata": {},
   "source": [
    "<div style=\"text-align: center;\">\n",
    "\n",
    "  <img src=\"img/LogoUesc.png\" alt=\"UESC\" style=\"width: 60px; display: block; margin: 0 auto 5px auto;\">\n",
    "\n",
    "  <div style=\"font-size: 20px;\"><strong>UNIVERSIDADE ESTADUAL DE SANTA CRUZ - UESC</strong></div>\n",
    "  <div style=\"font-size: 18px;\">DEPARTAMENTO DE ENGENHARIAS E COMPUTAÇÃO - DEC</div>\n",
    "  <div style=\"font-size: 18px;\">Grupo de Pesquisas em Simulações e Controle de Processos</div>\n",
    "\n",
    "  <hr style=\"margin: 20px 0; border: 1px solid #0074B7;\">\n",
    "\n",
    "  <div style=\"font-size: 22px; font-weight: bold; margin-bottom: 10px;\">PROGRAMAÇÃO EM PYTHON PARA AS ENGENHARIAS</div>\n",
    "\n",
    "  <div style=\"font-size: 18px; margin-top: 10px;\"><strong></strong> Programação em Python na resolução de problemas de Engenharia Civil</div>\n",
    "  <div style=\"font-size: 18px;\"><strong>Prof. Dr. E.R.Edwards</strong></div>\n",
    "\n",
    "  <div style=\"font-size: 16px; margin-top: 15px;\">Ilhéus - BA, Abril de 2025</div>\n",
    "  \n",
    "  <hr style=\"margin: 20px 0; border: 1px solid #0074B7;\">\n",
    "\n",
    "</div>"
   ]
  },
  {
   "cell_type": "markdown",
   "id": "c2e9e91b",
   "metadata": {},
   "source": [
    "<div style=\"background-color: #e6f2ff; border-left: 6px solid #0074B7; padding: 10px; font-size: 16px;\">\n",
    "  <strong>Projeto: Cálculo de custo em Projeto de Engenharia Civil.</strong> \n",
    "</div>"
   ]
  },
  {
   "cell_type": "markdown",
   "id": "c7fd771e",
   "metadata": {},
   "source": [
    "Um __programa__ consiste em uma sequência de declarações (statements). Uma __declaração__ é um comando que informa ao interpretador quais ações a CPU deve executar.\n",
    "\n",
    "Por exemplo: aceitar uma entrada, processar essa entrada ou enviar os resultados do processamento para a tela. Essas ações, que sempre são executadas da mesma forma, são descritas pelo modelo de entrada, processamento e saída (IPO – Input, Process, Output) na terminologia da Ciência da Computação.\n",
    "\n",
    "__Estrutura de Programações Lineares__\n",
    "\n",
    "Em programas com estrutura de fluxo linear, os cálculos são realizados na ordem lógica da solução do problema.\n",
    "Assim, o cálculo $C$ não pode ser executado até que o cálculo $B$ tenha sido concluído, e o cálculo $B$ não pode ser executado até que o cálculo $A$ tenha sido realizado primeiro.\n",
    "Portanto, deve-se manter a ordem de primeiro calcular $A$, depois calcular $B$ e, em seguida, calcular $C$, pois essa sequência é obrigatória para esse tipo de problema."
   ]
  },
  {
   "cell_type": "markdown",
   "id": "ef0f4018",
   "metadata": {},
   "source": [
    "__Aplicação__:\n",
    "\n",
    "__Cálculo do Custo Total de um Projeto__\n",
    "\n",
    "Imagine um projeto de construção que envolve as seguintes etapas:\n",
    "\n",
    "1. __Compra de materiais__: Determinar o custo total dos materiais, levando em conta a quantidade e o preço por Unidade.\n",
    "\n",
    "2. __Cálculo da mão de obra__: Estimar o custo da mão de obra com base no número de horas trabalhadas e na taxa horária.\n",
    "\n",
    "3. __Custo total do projeto__: Some os __Custos dos Materiais__ e da __Mão de Obra__ para determinar o __Custo Total do Projeto__."
   ]
  },
  {
   "cell_type": "markdown",
   "id": "56d39170",
   "metadata": {},
   "source": [
    "__Regras de Estrutura Linear__\n",
    "\n",
    "- Primeiro, você deve calcular o custo dos materiais (Etapa $A$).\n",
    "- Depois, você deve calcular o custo da mão de obra (Etapa $B$).\n",
    "- Por fim, use esses resultados para calcular o custo total do projeto (Etapa $C$).\n",
    "\n",
    "__Exercício proposto:__\n",
    "\n",
    "Um engenheiro está planejando um pequeno projeto. As informações são:\n",
    "\n",
    "- __Materiais:__\n",
    "\n",
    "   - 500 unidades de tijolos a R$ 1,50 cada.\n",
    "   - 20 sacos de cimento a R$ 25,00 cada.\n",
    "\n",
    "- __Mão de obra:__\n",
    "\n",
    "    - 5 trabalhadores, cada um recebendo R$ 20,00/hora.\n",
    "    - Total de horas trabalhadas: 8 horas por dia, durante 10 dias."
   ]
  },
  {
   "cell_type": "markdown",
   "id": "6df0abfe",
   "metadata": {},
   "source": [
    "__Pergunta__:\n",
    "\n",
    "1. Qual o custo total dos materiais? <br>\n",
    "2. Qual o custo total da mão de obra? <br>\n",
    "3. Qual o custo total do projeto? <br>\n",
    "\n",
    "__Resolução__ (com estrutura linear)\n",
    "\n",
    "1. __Cálculo A__: Custo total dos materiais.\n",
    "\n",
    "Custo total dos materiais = (unidade de tijolos x preço por tijolo) + (sacos de cimento x preço por saco)\n",
    "\n",
    "Substituindo:\n",
    "\n",
    "Custo total dos materiais = CTM\n",
    "\n",
    "$$\n",
    "CTM = (500 \\times 1,50) + (20 \\times 25,00)= 750,00 + 500,00 = 1250 reais.\n",
    "$$\n"
   ]
  },
  {
   "cell_type": "markdown",
   "id": "29ce0c5f",
   "metadata": {},
   "source": [
    "2. __Cálculo B__: Custo total da mão de obra\n",
    "\n",
    "Custo total da mão de obra = (número de trabalhadores x taxa por hora x dias trabalhados)\n",
    "\n",
    "Substituindo:\n",
    "\n",
    "Custo total da mão de obra = CTMO\n",
    "\n",
    "$$\n",
    "CTMO = (5 \\times 20,00  \\times 8 \\times 10) = 8000 \\ reais\n",
    "$$\n",
    "\n",
    "3. __Cálculo C__: Custo total do Projeto\n",
    "\n",
    "$$\n",
    "\\text{Custo total do Projeto} = \\text{Custo total dos materiais} + \\text{custo total da mão de obra} \n",
    "$$\n",
    "\n",
    "Substituindo:\n",
    "\n",
    "$$\n",
    "\\text{Custo total do projeto} = 1250 + 8000 = 9250  \\ reais\n",
    "$$\n",
    "\n",
    "__Implementação em Python__ <br>__\n",
    "\n",
    "A seguir, vamos fazer um código em Python para resolver o problema acima."
   ]
  },
  {
   "cell_type": "code",
   "execution_count": 16,
   "id": "602aff97",
   "metadata": {},
   "outputs": [
    {
     "name": "stdout",
     "output_type": "stream",
     "text": [
      "O custo total dos materiais é =  1250.0\n"
     ]
    }
   ],
   "source": [
    "# Etapa A: Cálculo do custo total dos materiais.\n",
    "custo_tijolos = 500*1.50\n",
    "custo_cimento = 20*25.00\n",
    "custo_materiais = custo_tijolos + custo_cimento\n",
    "\n",
    "print('O custo total dos materiais é = ', custo_materiais)"
   ]
  },
  {
   "cell_type": "code",
   "execution_count": 17,
   "id": "8a2b4743",
   "metadata": {},
   "outputs": [
    {
     "name": "stdout",
     "output_type": "stream",
     "text": [
      "O custo total da mão de obra =  8000.0\n"
     ]
    }
   ],
   "source": [
    "# Etapa B: Cálculo do custo total da mão de obra.\n",
    "num_trabalhadores = 5\n",
    "taxa_horaria = 20.00\n",
    "hora_por_dia = 8\n",
    "dias_trabalhados = 10\n",
    "custo_mao_obra = num_trabalhadores*taxa_horaria*hora_por_dia*dias_trabalhados\n",
    "\n",
    "print('O custo total da mão de obra = ', custo_mao_obra)"
   ]
  },
  {
   "cell_type": "code",
   "execution_count": 18,
   "id": "0038d34a",
   "metadata": {},
   "outputs": [
    {
     "name": "stdout",
     "output_type": "stream",
     "text": [
      "O custo total do projeto =  9250.0\n"
     ]
    }
   ],
   "source": [
    "# Etapa C: Cálculo do custo total do Projeto.\n",
    "custo_total_projeto = custo_materiais + custo_mao_obra\n",
    "\n",
    "print('O custo total do projeto = ', custo_total_projeto)"
   ]
  },
  {
   "cell_type": "code",
   "execution_count": 19,
   "id": "b74f2444",
   "metadata": {},
   "outputs": [
    {
     "name": "stdout",
     "output_type": "stream",
     "text": [
      "Custo total dos materiais: R$ 1250.00\n",
      "Custo total da mão de obra: R$ 8000.00\n",
      "Custo total do projeto: R$ 9250.00\n"
     ]
    }
   ],
   "source": [
    "# Exibição dos resultados.\n",
    "print(f'Custo total dos materiais: R$ {custo_materiais:.2f}')\n",
    "print(f'Custo total da mão de obra: R$ {custo_mao_obra:.2f}')\n",
    "print(f'Custo total do projeto: R$ {custo_total_projeto:.2f}')"
   ]
  },
  {
   "cell_type": "markdown",
   "id": "8121e344",
   "metadata": {},
   "source": [
    "<div style=\"text-align: center; font-size: 12px; color: gray; margin-top: 40px;\">\n",
    "  Este notebook foi desenvolvido no âmbito do Grupo de Pesquisas em Modelagem Computacional da UESC.<br>\n",
    "  Todos os direitos reservados © 2025\n",
    "</div>"
   ]
  }
 ],
 "metadata": {
  "kernelspec": {
   "display_name": "base",
   "language": "python",
   "name": "python3"
  },
  "language_info": {
   "codemirror_mode": {
    "name": "ipython",
    "version": 3
   },
   "file_extension": ".py",
   "mimetype": "text/x-python",
   "name": "python",
   "nbconvert_exporter": "python",
   "pygments_lexer": "ipython3",
   "version": "3.11.7"
  }
 },
 "nbformat": 4,
 "nbformat_minor": 5
}
