{
 "cells": [
  {
   "cell_type": "markdown",
   "id": "6209194d",
   "metadata": {},
   "source": [
    "<div style=\"text-align: center;\">\n",
    "\n",
    "  <img src=\"img/LogoUesc.png\" alt=\"UESC\" style=\"width: 60px; display: block; margin: 0 auto 5px auto;\">\n",
    "\n",
    "  <div style=\"font-size: 20px;\"><strong>UNIVERSIDADE ESTADUAL DE SANTA CRUZ - UESC</strong></div>\n",
    "  <div style=\"font-size: 18px;\">DEPARTAMENTO DE ENGENHARIAS E COMPUTAÇÃO - DEC</div>\n",
    "  <div style=\"font-size: 18px;\">Grupo de Pesquisas em Simulações e Controle de Processos</div>\n",
    "\n",
    "  <hr style=\"margin: 20px 0; border: 1px solid #0074B7;\">\n",
    "\n",
    "  <div style=\"font-size: 22px; font-weight: bold; margin-bottom: 10px;\">PROGRAMAÇÃO EM PYTHON PARA AS ENGENHARIAS</div>\n",
    "\n",
    "  <div style=\"font-size: 18px; margin-top: 10px;\"><strong></strong> Programação em Python na resolução de problemas de Engenharia Elétrica - Projeto</div>\n",
    "  <div style=\"font-size: 18px;\"><strong>Prof. Dr. E.R.Edwards</strong></div>\n",
    "\n",
    "  <div style=\"font-size: 16px; margin-top: 15px;\">Ilhéus - BA, Abril de 2025</div>\n",
    "  \n",
    "  <hr style=\"margin: 20px 0; border: 1px solid #0074B7;\">\n",
    "\n",
    "</div>"
   ]
  },
  {
   "cell_type": "markdown",
   "id": "313385b7",
   "metadata": {},
   "source": [
    "<div style=\"background-color: #e6f2ff; border-left: 6px solid #0074B7; padding: 10px; font-size: 16px;\">\n",
    "  <strong>Projeto: Planejamento de Produção com Custos e Lucros - Engenharia Elétrica.</strong> \n",
    "</div>"
   ]
  },
  {
   "cell_type": "markdown",
   "id": "a0429f88",
   "metadata": {},
   "source": [
    "Um gerente de produção precisa calcular:\n",
    "\n",
    "1. O custo total de produção com base na quantidade de produtos fabricados, no custo unitário de fabricação e nos custos fixos de fábricação. \n",
    "2. O faturamento total esperado, considerando o preço de venda unitária e a quantidade produzida. \n",
    "3. O lucro líquido, subtraindo os custos totais do faturamento.\n",
    "\n",
    "__Informações fornecidas.__ \n",
    "\n",
    "- Custos de Produção: \n",
    "\n",
    "    - Custos fixos de fabricação: $R \\$ \\ 25.00$ por unidade. \n",
    "    - Custos fixos de fábricaçã: $R \\$ \\ 5.000,00$ por mês. \n",
    "\n",
    "- Prudução:\n",
    "    - Quantidade produzida: $1.000$ unidades\n",
    "\n",
    "- Faturamento:\n",
    "    - Preço de venda unitária: $R \\$ \\ 50,00$ por unidade."
   ]
  },
  {
   "cell_type": "markdown",
   "id": "7494c3f5",
   "metadata": {},
   "source": [
    "__Perguntas:__\n",
    "\n",
    "1. Qual o custo total de produção? \n",
    "2. Qual o faturamento total esperado?  \n",
    "3. Qual o lucro líquido?\n",
    "\n",
    "__Resolução (com estrutura linear).__\n",
    "\n",
    "1. __Cálculo A__: Custo total de produção. <br>\n",
    "\n",
    "$C_{total}$ = (Quantidade produzida x custo unitário) + custos fixos\n",
    "\n",
    "Substituindo:\n",
    "\n",
    "$$\n",
    "C_{total} = (1000 \\times 25,00) + 5000 = 25000 + 5000 = 30.000,00 \\ reais. \n",
    "$$\n",
    "\n",
    "2. __Cálculo B__: Faturamento total esperado. <br>\n",
    "\n",
    "O faturamento é dado por:\n",
    "\n",
    "$$\n",
    "\\text{$F_{total}$} = \\text{quantidade produzida} \\times \\text{preço de venda unitário.}\n",
    "$$\n",
    "\n",
    "Substituindo:\n",
    "\n",
    "$$\n",
    "F_{total} = 1000 \\times 50,00 = 50.0000 \\ reais.\n",
    "$$\n",
    "\n",
    "3. __Cáculo C__: Lucro líquido.\n",
    "\n",
    "O lucro líquido é a diferençca entre o faturamento e os custos totais.\n",
    "\n",
    "$$\n",
    "L = 50.000 - 30.000 = 20.000 \\ reais\n",
    "$$\n",
    "\n",
    "__Implementação em Python__"
   ]
  },
  {
   "cell_type": "code",
   "execution_count": 1,
   "id": "6ceb7884",
   "metadata": {},
   "outputs": [
    {
     "name": "stdout",
     "output_type": "stream",
     "text": [
      "O custo total de produção =  R$ 30000.0\n"
     ]
    }
   ],
   "source": [
    "# Etapa A: Cálculo do custo total de produção. \n",
    "quantidade_produzida = 1000\n",
    "custo_unitario = 25.00\n",
    "custos_fixos = 5000.00\n",
    "\n",
    "custo_total = (quantidade_produzida*custo_unitario)+custos_fixos\n",
    "\n",
    "print('O custo total de produção = ','R$', custo_total)"
   ]
  },
  {
   "cell_type": "code",
   "execution_count": 2,
   "id": "93059160",
   "metadata": {},
   "outputs": [
    {
     "name": "stdout",
     "output_type": "stream",
     "text": [
      "O faturamento total é =  R$ 50000.0\n"
     ]
    }
   ],
   "source": [
    "# Etapa B: Cálculo do faturamento total.\n",
    "preco_venda_unitario = 50.00\n",
    "faturamento_total = quantidade_produzida*preco_venda_unitario\n",
    "\n",
    "print('O faturamento total é = ','R$',faturamento_total)"
   ]
  },
  {
   "cell_type": "code",
   "execution_count": 3,
   "id": "4f6b989b",
   "metadata": {},
   "outputs": [
    {
     "name": "stdout",
     "output_type": "stream",
     "text": [
      "O lucro líquido é =  R$ 20000.0\n"
     ]
    }
   ],
   "source": [
    "# Etapa C: Cálculo do lucro líquido.\n",
    "lucro_liquido = faturamento_total - custo_total\n",
    "\n",
    "print('O lucro líquido é = ', 'R$',lucro_liquido)"
   ]
  },
  {
   "cell_type": "markdown",
   "id": "2ad83ec3",
   "metadata": {},
   "source": [
    "Ou podemos imprimir de acordo com os códigos abaixo."
   ]
  },
  {
   "cell_type": "code",
   "execution_count": 4,
   "id": "ab2d89e4",
   "metadata": {},
   "outputs": [
    {
     "name": "stdout",
     "output_type": "stream",
     "text": [
      "Custo total de produção: R$ 30000.00\n",
      "Faturameto total esperado: R$ 50000.00\n",
      "Lucro líquido: R$ 20000.00\n"
     ]
    }
   ],
   "source": [
    "# Exibição dos resultados.\n",
    "print(f'Custo total de produção: R$ {custo_total:.2f}')\n",
    "print(f'Faturameto total esperado: R$ {faturamento_total:.2f}')\n",
    "print(f'Lucro líquido: R$ {lucro_liquido:.2f}')"
   ]
  },
  {
   "cell_type": "markdown",
   "id": "efeb11ca",
   "metadata": {},
   "source": [
    "<div style=\"text-align: center; font-size: 12px; color: gray; margin-top: 40px;\">\n",
    "  Este notebook foi desenvolvido no âmbito do Grupo de Pesquisas em Modelagem Computacional da UESC.<br>\n",
    "  Todos os direitos reservados © 2025\n",
    "</div>"
   ]
  }
 ],
 "metadata": {
  "kernelspec": {
   "display_name": "base",
   "language": "python",
   "name": "python3"
  },
  "language_info": {
   "codemirror_mode": {
    "name": "ipython",
    "version": 3
   },
   "file_extension": ".py",
   "mimetype": "text/x-python",
   "name": "python",
   "nbconvert_exporter": "python",
   "pygments_lexer": "ipython3",
   "version": "3.11.7"
  }
 },
 "nbformat": 4,
 "nbformat_minor": 5
}
