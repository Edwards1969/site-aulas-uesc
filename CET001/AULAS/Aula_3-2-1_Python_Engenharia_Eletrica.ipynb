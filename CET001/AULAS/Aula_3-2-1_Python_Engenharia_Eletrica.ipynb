{
 "cells": [
  {
   "cell_type": "markdown",
   "id": "0030e8ab",
   "metadata": {},
   "source": [
    "<div style=\"text-align: center;\">\n",
    "\n",
    "  <img src=\"img/LogoUesc.png\" alt=\"UESC\" style=\"width: 60px; display: block; margin: 0 auto 5px auto;\">\n",
    "\n",
    "  <div style=\"font-size: 20px;\"><strong>UNIVERSIDADE ESTADUAL DE SANTA CRUZ - UESC</strong></div>\n",
    "  <div style=\"font-size: 18px;\">DEPARTAMENTO DE ENGENHARIAS E COMPUTAÇÃO - DEC</div>\n",
    "  <div style=\"font-size: 18px;\">Grupo de Pesquisas em Simulações e Controle de Processos</div>\n",
    "\n",
    "  <hr style=\"margin: 20px 0; border: 1px solid #0074B7;\">\n",
    "\n",
    "  <div style=\"font-size: 22px; font-weight: bold; margin-bottom: 10px;\">PROGRAMAÇÃO EM PYTHON PARA AS ENGENHARIAS</div>\n",
    "\n",
    "  <div style=\"font-size: 18px; margin-top: 10px;\"><strong></strong> Programação em Python na resolução de problemas de Engenharia Elétrica</div>\n",
    "  <div style=\"font-size: 18px;\"><strong>Prof. Dr. E.R.Edwards</strong></div>\n",
    "\n",
    "  <div style=\"font-size: 16px; margin-top: 15px;\">Ilhéus - BA, Abril de 2025</div>\n",
    "  \n",
    "  <hr style=\"margin: 20px 0; border: 1px solid #0074B7;\">\n",
    "\n",
    "</div>"
   ]
  },
  {
   "cell_type": "markdown",
   "id": "31d93f86",
   "metadata": {},
   "source": [
    "<div style=\"background-color: #e6f2ff; border-left: 6px solid #0074B7; padding: 10px; font-size: 16px;\">\n",
    "  <strong>Projeto: Dimensionamento de um Sistema de Iluminação - Engenharia Elétrica.</strong> \n",
    "</div>"
   ]
  },
  {
   "cell_type": "markdown",
   "id": "445597b9",
   "metadata": {},
   "source": [
    "Um Engenheiro está dimensionando um sistema de iluminação para um ambiente e precisa calcular:<br>\n",
    "\n",
    "1. A potência total necessária com base no número de lâmpadas e sua potência individual. <br>\n",
    "2. O custo de energia elétrica mensal, considerando o número de horas de uso por dia, o custo por $kWh$ e o número de dias no mês. <br>\n",
    "3. O custo total do sistema de iluminação, somando o custo inicial das lâmpadas ao custo mensal de energia.\n",
    "\n",
    "__Informações fornecidas__.\n",
    "\n",
    "- Lâmpadas:\n",
    "    - Quantidade: 10 lâmpadas.\n",
    "    - Potência por lâmpada: 60 $W$ (0,06 $kW$)\n",
    "    - Custo unitário: $R \\$ \\ 15,00$ cada.\n",
    "\n",
    "- Energia elérica:\n",
    "    - Tempo de uso: 8 horas por dia.\n",
    "    - Custo por KWh: $R \\$ \\ 0,85$\n",
    "    - Dias no mês: 30"
   ]
  },
  {
   "cell_type": "markdown",
   "id": "0697fe72",
   "metadata": {},
   "source": [
    "__Resolução (com estrutura linear)__\n",
    "\n",
    "__1. Cálculo A__: Potência total do sistema.\n",
    "\n",
    "A potência total é calculada como:\n",
    "\n",
    "$$\n",
    "P_{total} = \\text{quantidade de lâmpadas} \\times \\text{potência por lâmpada.}\n",
    "$$\n",
    "\n",
    "Substituindo:\n",
    "\n",
    "$$\n",
    "P_{total} = 10 \\times 0,06 = 0,6 \\ kW\n",
    "$$\n",
    "\n",
    "__2. Cálculo B__: Custo mensal de energia elétrica.\n",
    "\n",
    "O custo mensal de energia elétrica é dada por:\n",
    "\n",
    "$$\n",
    "\\text{Custo de energia} = P_{total} \\times \\text{tempo de uso diário} \\times \\text{dias do mês} \\times \\text{custo por kWh}.\n",
    "$$\n",
    "\n",
    "\n",
    "Substituindo:\n",
    "\n",
    "$$\n",
    "\\text{Custo energia} = 0.6 \\times 8 \\times 30 \\times 0,85 = R \\$ \\ 122,40\n",
    "$$\n",
    "\n"
   ]
  },
  {
   "cell_type": "markdown",
   "id": "2e7c6eec",
   "metadata": {},
   "source": [
    "__3.Cálculo C__: Custo total do sistma.\n",
    "\n",
    "O custo total inclui o custo inicial das lâmpadas e o custo mensal de energia:\n",
    "\n",
    "Custo total = (quantidade de lâmpadas $\\times$ custo por lâmpada) + Custo energia.\n",
    "\n",
    "substituindo:\n",
    "\n",
    "$$\n",
    "\\text{Custo total} = 10 \\times 15,00 + 122,40 = 150 + 122,40 = R \\$  \\ 272,40 \n",
    "$$\n",
    "\n",
    "__Implementação em Python__."
   ]
  },
  {
   "cell_type": "code",
   "execution_count": 5,
   "id": "5d92d30b",
   "metadata": {},
   "outputs": [
    {
     "name": "stdout",
     "output_type": "stream",
     "text": [
      "A potência total é dada por =  0.6 kW\n"
     ]
    }
   ],
   "source": [
    "# Etapa A: Potêncial total do sistema.\n",
    "quantidade_lampadas = 10\n",
    "potencia_por_lampada = 0.06 # kW\n",
    "potencia_total = quantidade_lampadas*potencia_por_lampada\n",
    "\n",
    "print('A potência total é dada por = ', potencia_total, 'kW')"
   ]
  },
  {
   "cell_type": "code",
   "execution_count": 2,
   "id": "2afc97b6",
   "metadata": {},
   "outputs": [
    {
     "name": "stdout",
     "output_type": "stream",
     "text": [
      "O custo mensal de energia elétrica = R$ 122.40\n"
     ]
    }
   ],
   "source": [
    "# Etapa B: Custo mensal de energia elétrica.\n",
    "tempo_uso_diario = 8 # horas\n",
    "dias_no_mes = 30\n",
    "custo_por_kwh = 0.85 # reais\n",
    "custo_energia = potencia_total*tempo_uso_diario*dias_no_mes*custo_por_kwh\n",
    "\n",
    "print('O custo mensal de energia elétrica = R$ {:.2f}'.format(custo_energia ))"
   ]
  },
  {
   "cell_type": "code",
   "execution_count": 3,
   "id": "d7cf0285",
   "metadata": {},
   "outputs": [
    {
     "name": "stdout",
     "output_type": "stream",
     "text": [
      "O custo total é dado por: R$ 272.40\n"
     ]
    }
   ],
   "source": [
    "# Etapa C: Custo total do sistema.\n",
    "custo_lampada = 15.00 # reais\n",
    "custo_inicial = quantidade_lampadas*custo_lampada\n",
    "custo_total =custo_inicial + custo_energia\n",
    "\n",
    "print('O custo total é dado por: R$ {:.2f}'.format(custo_total))"
   ]
  },
  {
   "cell_type": "markdown",
   "id": "35316961",
   "metadata": {},
   "source": [
    "Ou podemos imprimir de acordo com os códigos abaixo."
   ]
  },
  {
   "cell_type": "code",
   "execution_count": 4,
   "id": "28d9d05f",
   "metadata": {},
   "outputs": [
    {
     "name": "stdout",
     "output_type": "stream",
     "text": [
      "Potência total do sistema: 0.6 kW\n",
      "Custo mensal de energia: R$ 122.40\n",
      "Custo total do sistema: R$ 272.40\n"
     ]
    }
   ],
   "source": [
    "# Exibindo os resultados\n",
    "print(f'Potência total do sistema: {potencia_total} kW')\n",
    "print(f'Custo mensal de energia: R$ {custo_energia:.2f}')\n",
    "print(f'Custo total do sistema: R$ {custo_total:.2f}')"
   ]
  },
  {
   "cell_type": "markdown",
   "id": "7e0625ac",
   "metadata": {},
   "source": [
    "<div style=\"text-align: center; font-size: 12px; color: gray; margin-top: 40px;\">\n",
    "  Este notebook foi desenvolvido no âmbito do Grupo de Pesquisas em Modelagem Computacional da UESC.<br>\n",
    "  Todos os direitos reservados © 2025\n",
    "</div>"
   ]
  }
 ],
 "metadata": {
  "kernelspec": {
   "display_name": "base",
   "language": "python",
   "name": "python3"
  },
  "language_info": {
   "codemirror_mode": {
    "name": "ipython",
    "version": 3
   },
   "file_extension": ".py",
   "mimetype": "text/x-python",
   "name": "python",
   "nbconvert_exporter": "python",
   "pygments_lexer": "ipython3",
   "version": "3.11.7"
  }
 },
 "nbformat": 4,
 "nbformat_minor": 5
}
