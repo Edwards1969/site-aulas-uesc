{
 "cells": [
  {
   "cell_type": "markdown",
   "id": "bec7895f",
   "metadata": {},
   "source": [
    "<div style=\"text-align: center;\">\n",
    "\n",
    "  <img src=\"img/LogoUesc.png\" alt=\"UESC\" style=\"width: 60px; display: block; margin: 0 auto 5px auto;\">\n",
    "\n",
    "  <div style=\"font-size: 20px;\"><strong>UNIVERSIDADE ESTADUAL DE SANTA CRUZ - UESC</strong></div>\n",
    "  <div style=\"font-size: 18px;\">DEPARTAMENTO DE ENGENHARIAS E COMPUTAÇÃO - DEC</div>\n",
    "  <div style=\"font-size: 18px;\">Grupo de Pesquisas em Simulações e Controle de Processos</div>\n",
    "\n",
    "  <hr style=\"margin: 20px 0; border: 1px solid #0074B7;\">\n",
    "\n",
    "  <div style=\"font-size: 22px; font-weight: bold; margin-bottom: 10px;\">PROGRAMAÇÃO EM PYTHON PARA AS ENGENHARIAS</div>\n",
    "\n",
    "  <div style=\"font-size: 18px; margin-top: 10px;\"><strong></strong> Programação em Python na resolução de problemas de Engenharia Mecânica</div>\n",
    "  <div style=\"font-size: 18px;\"><strong>Prof. Dr. E.R.Edwards</strong></div>\n",
    "\n",
    "  <div style=\"font-size: 16px; margin-top: 15px;\">Ilhéus - BA, Abril de 2025</div>\n",
    "  \n",
    "  <hr style=\"margin: 20px 0; border: 1px solid #0074B7;\">\n",
    "\n",
    "</div>"
   ]
  },
  {
   "cell_type": "markdown",
   "id": "c4b14db4",
   "metadata": {},
   "source": [
    "<div style=\"background-color: #e6f2ff; border-left: 6px solid #0074B7; padding: 10px; font-size: 16px;\">\n",
    "  <strong>Projeto: Cálculo de Esforços em um Sistema de Polias - Engenharia Mecânica.</strong> \n",
    "</div>"
   ]
  },
  {
   "cell_type": "markdown",
   "id": "458fdc82",
   "metadata": {},
   "source": [
    "Um Engenheiro Mecânico precisa calcular os esforços em um sistema de polias usado para levantar uma carga. O problema envolve determinar: \n",
    "\n",
    "1. A força mínima necessária para levantar a carga, considerando o número de polias e o peso da carga.\n",
    "2. O trabalho total realizado, considerando a altura a que a carga será levantada. \n",
    "3. A potência média necessária, assumindo que o levantamento ocorre em um determinado intervalo de tempo.\n",
    "\n",
    "__Informações fornecidas__. (dados iniciais) \n",
    "\n",
    "- __Carga__:\n",
    "   - __Peso__: $200 \\ Kg$ <br>\n",
    "   - __Altura a ser elevada__: $5$ metros <br>\n",
    "- Sistema de polias:\n",
    "    - __Número de polias móveis__: $3$ (multiplicador de forçca $2^n$, onde $n$ é o número de polias móveis). <br>\n",
    "- Tempo: <br>\n",
    "    - __Duração do levantamento__: 10 segundos.\n",
    "- Gravidade:\n",
    "    - __Aceleração gravitacional__: $g=9,81 m/s^2$"
   ]
  },
  {
   "cell_type": "markdown",
   "id": "aeec72a0",
   "metadata": {},
   "source": [
    "__Perguntas__:\n",
    "\n",
    "1. Qual a força mínima necessária para levantar a carga ? \n",
    "2. Qual o trabalho  total realizado ? \n",
    "3. Qual a potência média necessária ?\n",
    "\n",
    "__Resolução__ (com estrutura linear) \n",
    "\n",
    "1. __Cálculo A__: Força mínima necessária. \n",
    "\n",
    "A força é reduzida pelo sistema de polias de acordo com o multiplicador de força ($2^n$). \n",
    "\n",
    "$$ \n",
    "F_{minima} = \\frac{Peso}{2^n} \n",
    "$$\n",
    "\n",
    "O peso da carga é dada por: $P = m.g$ \n",
    "\n",
    "$$ \n",
    "P = 200 \\times 9,81 = 1962 \\ N \n",
    "$$\n",
    "\n",
    "Substituindo:\n",
    "\n",
    "$$ \n",
    "F_{minimo} = \\frac{1962}{2^3}= \\frac{1962}{8} = 245. 25 \\ N \n",
    "$$"
   ]
  },
  {
   "cell_type": "markdown",
   "id": "91ca3cb6",
   "metadata": {},
   "source": [
    "2. __Cálculo B__: Trabalho total realizado. \n",
    "\n",
    "O trabalho é dado por:\n",
    "\n",
    "$$ \n",
    "W = F_{minima} \\times h \n",
    "$$\n",
    "\n",
    "Substituindo: \n",
    "\n",
    "$$ \n",
    "W = 245,25 \\times 5 = 1226,25 \\ J  \n",
    "$$\n",
    "\n",
    "3. __Cálculo C__: Potência média necessária.\n",
    "\n",
    "A potência média é calculada como: \n",
    "\n",
    "$$ \n",
    "P_{média} = \\frac{W}{t}  \n",
    "$$\n",
    "\n",
    "Substituindo:\n",
    "\n",
    "$$  \n",
    "P_{média} = \\frac{1226, 25}{10} = 122,63 \\ W  \n",
    "$$\n",
    "\n",
    "__Implementação em Python__"
   ]
  },
  {
   "cell_type": "code",
   "execution_count": 12,
   "id": "6ae9bf55",
   "metadata": {},
   "outputs": [],
   "source": [
    "# Dados iniciais.\n",
    "peso_carga = 200  # Kg\n",
    "altura = 5        # metros\n",
    "num_polias = 3\n",
    "tempo = 10        # segundos\n",
    "gravidade = 9.81  # m/s^2"
   ]
  },
  {
   "cell_type": "code",
   "execution_count": 13,
   "id": "ebc32842",
   "metadata": {},
   "outputs": [
    {
     "name": "stdout",
     "output_type": "stream",
     "text": [
      "A forçca minima necessária:  245.25 N\n"
     ]
    }
   ],
   "source": [
    "# Etapa A: Cáculo da força mínima necessária.\n",
    "peso = peso_carga*gravidade # força peso (N)\n",
    "multiplicador_forca = 2**num_polias\n",
    "forca_minima = peso/multiplicador_forca\n",
    "\n",
    "print('A forçca minima necessária: ', forca_minima, 'N')"
   ]
  },
  {
   "cell_type": "code",
   "execution_count": 14,
   "id": "30a4f4fe",
   "metadata": {},
   "outputs": [
    {
     "name": "stdout",
     "output_type": "stream",
     "text": [
      "O trabalho total ralizado:  1226.25 J\n"
     ]
    }
   ],
   "source": [
    "# Etapa B: Cálculo do trabalho total realizado.\n",
    "trabalho_total = forca_minima*altura\n",
    "\n",
    "print('O trabalho total ralizado: ', trabalho_total, 'J')"
   ]
  },
  {
   "cell_type": "code",
   "execution_count": 15,
   "id": "24a417c8",
   "metadata": {},
   "outputs": [
    {
     "name": "stdout",
     "output_type": "stream",
     "text": [
      "A potência média necessária:  122.62 W\n"
     ]
    }
   ],
   "source": [
    "# Etapa C: Cálculo da potência média necessária.\n",
    "potencia_media = trabalho_total/tempo\n",
    "\n",
    "print('A potência média necessária: ', round(potencia_media,2), 'W')"
   ]
  },
  {
   "cell_type": "markdown",
   "id": "b2a02922",
   "metadata": {},
   "source": [
    "Ou podemos exibir o resultado de outra forma."
   ]
  },
  {
   "cell_type": "code",
   "execution_count": 16,
   "id": "b957c600",
   "metadata": {},
   "outputs": [
    {
     "name": "stdout",
     "output_type": "stream",
     "text": [
      "Força mínima necessária: 245.25 N\n",
      "Trabalho total realizado: 1226.25 J\n",
      "Potência média necessária: 122.62 W\n"
     ]
    }
   ],
   "source": [
    "print(f'Força mínima necessária: {forca_minima:.2f} N')\n",
    "print(f'Trabalho total realizado: {trabalho_total:.2f} J')\n",
    "print(f'Potência média necessária: {potencia_media:.2f} W')"
   ]
  },
  {
   "cell_type": "markdown",
   "id": "13acd02e",
   "metadata": {},
   "source": [
    "<div style=\"text-align: center; font-size: 12px; color: gray; margin-top: 40px;\">\n",
    "  Este notebook foi desenvolvido no âmbito do Grupo de Pesquisas em Modelagem Computacional da UESC.<br>\n",
    "  Todos os direitos reservados © 2025\n",
    "</div>"
   ]
  }
 ],
 "metadata": {
  "kernelspec": {
   "display_name": "base",
   "language": "python",
   "name": "python3"
  },
  "language_info": {
   "codemirror_mode": {
    "name": "ipython",
    "version": 3
   },
   "file_extension": ".py",
   "mimetype": "text/x-python",
   "name": "python",
   "nbconvert_exporter": "python",
   "pygments_lexer": "ipython3",
   "version": "3.11.7"
  }
 },
 "nbformat": 4,
 "nbformat_minor": 5
}
