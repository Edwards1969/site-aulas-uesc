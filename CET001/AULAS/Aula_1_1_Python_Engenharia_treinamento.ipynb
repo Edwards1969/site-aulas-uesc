{
 "cells": [
  {
   "cell_type": "markdown",
   "id": "88c3f2bd",
   "metadata": {},
   "source": [
    "<div style=\"text-align: center;\">\n",
    "\n",
    "  <!-- Logotipo -->\n",
    "  <img src=\"img/LogoUesc.png\" alt=\"UESC\" style=\"width: 60px; display: block; margin: 0 auto 5px auto;\">\n",
    "\n",
    "  <!-- Cabeçalho -->\n",
    "  <div style=\"font-size: 20px;\"><strong>UNIVERSIDADE ESTADUAL DE SANTA CRUZ - UESC</strong></div>\n",
    "  <div style=\"font-size: 18px;\">DEPARTAMENTO DE ENGENHARIAS E COMPUTAÇÃO</div>\n",
    "  <div style=\"font-size: 18px;\">ENGENHARIA QUÍMICA</div>\n",
    "\n",
    "  <hr style=\"margin: 20px 0; border: 1px solid #0074B7;\">\n",
    "\n",
    "  <!-- Título do Trabalho -->\n",
    "  <div style=\"font-size: 22px; font-weight: bold; margin-bottom: 10px;\">Programação em Python para as Engenharias</div>\n",
    "  <div style=\"font-size: 20px; font-weight: bold; margin-bottom: 10px;\">Conceitos Básicos e Análises</div>\n",
    "\n",
    "  <!-- Autor e orientador -->\n",
    "  <div style=\"font-size: 18px;\">Prof. Dr. E.R.Edwards</div>\n",
    "\n",
    "<hr style=\"margin: 20px 0; border: 1px solid #0074B7;\">\n",
    "  <!-- Data -->\n",
    "<!-- <div style=\"font-size: 16px; margin-top: 15px;\">Ilhéus - BA, Abril de 2025</div> -->\n",
    "</div>"
   ]
  },
  {
   "cell_type": "markdown",
   "id": "59cf7717",
   "metadata": {},
   "source": [
    "<div style=\"background-color: #e6f2ff; border-left: 6px solid #0074B7; padding: 10px; font-size: 16px;\">\n",
    "  <strong>Conceitos Básicos e Análises.</strong> \n",
    "</div>"
   ]
  },
  {
   "cell_type": "markdown",
   "id": "953217a0",
   "metadata": {},
   "source": [
    "__Sequências numéricas em Python para Engenhaias__\n",
    "\n",
    "Em problemas de Engenharia é comum lidarmos com __sequências de valores numéricos__ que variam ao longo de um processo. \n",
    "\n",
    "Por exemplo:\n",
    "\n",
    "- Em uma __reação química__, a concentração de reagentes pode variar com o __tempo__;\n",
    "- Em um __ensaio mecânico__ grandezas como deformação ou tensão também dependem do __tempo__;\n",
    "- Em __simulações de processos__, variáveis como pressão, temperatura ou vazão assumem diferentes valores em função de outros parâmetros.\n",
    "\n",
    "Para representar essas sequência de forma prática, utilizamos o __numpy__, uma biblioteca fundamental em Python para cálculos numéricos. O numpy fornece funções que permitem criar vetores (array) de valores de maneira simples e eficiente, tais como:\n",
    "\n",
    "- `arange()` ->  cria uma sequência com valores igualmente espaçados dentro de um intervalo.\n",
    "- `linspace()` -> gera uma sequência dividindo um intervalo em partes iguais.\n",
    "- `array` -> cria um vetor a partir de uma lista definida pelo usuário.\n",
    "- `zeros()` -> cria um vetor preenchido com zeros.\n",
    "- `full()` -> cria um vetor preenchido com um valor constante. \n",
    "\n",
    "Essas ferramenta são essenciais, pois permitem organizar e manipular dados de forma sistemática, o que é indispensável na modelagem e resolução de problemas de Engenharia."
   ]
  },
  {
   "cell_type": "code",
   "execution_count": null,
   "id": "58aabcce",
   "metadata": {},
   "outputs": [
    {
     "name": "stdout",
     "output_type": "stream",
     "text": [
      "arange (0 até 10, passo 2):  [0 2 4 6 8]\n"
     ]
    }
   ],
   "source": [
    "import numpy as np\n",
    "\n",
    "# 1) arange: cria uma sequência de 0 até 10, com passo 2.\n",
    "valores_arange = np.arange(0, 10, 2)  # start, stop, step\n",
    "print('arange (0 até 10, passo 2): ', valores_arange)\n",
    "\n",
    "# Obs: arange não imprime o último valor."
   ]
  },
  {
   "cell_type": "code",
   "execution_count": null,
   "id": "08dfcd32",
   "metadata": {},
   "outputs": [
    {
     "name": "stdout",
     "output_type": "stream",
     "text": [
      "linspace (0 até 1, 5 pontos) :  [0.   0.25 0.5  0.75 1.  ]\n"
     ]
    }
   ],
   "source": [
    "# 2) linspace: cria 5 valores igualmente espaçados entre 0 e 1.\n",
    "valores_linspace = np.linspace(0, 1, 5)\n",
    "print('linspace (0 até 1, 5 pontos) : ', valores_linspace)\n",
    "\n",
    "# Obs: linspace imprime o último valor."
   ]
  },
  {
   "cell_type": "code",
   "execution_count": 3,
   "id": "e7e485cb",
   "metadata": {},
   "outputs": [
    {
     "name": "stdout",
     "output_type": "stream",
     "text": [
      "array (a partir da lista) :  [10 20 30 40]\n"
     ]
    }
   ],
   "source": [
    "# 3) array: cria um vetor a partir de uma lista definida.\n",
    "valores_array = np.array([10, 20, 30, 40])\n",
    "print('array (a partir da lista) : ', valores_array)"
   ]
  },
  {
   "cell_type": "code",
   "execution_count": 4,
   "id": "3c4c0202",
   "metadata": {},
   "outputs": [
    {
     "name": "stdout",
     "output_type": "stream",
     "text": [
      "full (4 elementos iguais a 7):  [7 7 7 7]\n"
     ]
    }
   ],
   "source": [
    "# 5) full: cria um vetor de 4 elementos, todos iguais a 7.\n",
    "valores_full = np.full(4, 7)\n",
    "print('full (4 elementos iguais a 7): ', valores_full)"
   ]
  },
  {
   "cell_type": "markdown",
   "id": "063ac853",
   "metadata": {},
   "source": [
    "Vamos aplicar o conhecimento apresentado acima na resolução dos exercícios da lista abaixo."
   ]
  },
  {
   "cell_type": "markdown",
   "id": "3ef55f02",
   "metadata": {},
   "source": [
    "<img src=\"img/sequencias_python.png\" alt=\"UESC\" style=\"width: 800px; display: block; margin: 0 auto 5px auto;\">\n",
    "<p style=\"text-align: center;\"><strong>Figura: Criação de sequências como arrays.</strong></p>\n",
    "\n",
    "__Fonte__: Siri Changchitnan \"Exploring University Mathematicas with Python\" Ed. Springer"
   ]
  },
  {
   "cell_type": "code",
   "execution_count": null,
   "id": "a8abdc23",
   "metadata": {},
   "outputs": [
    {
     "name": "stdout",
     "output_type": "stream",
     "text": [
      "Valores de 0 a 5 com 100 espaçamentos:  [0.         0.05050505 0.1010101  0.15151515 0.2020202  0.25252525\n",
      " 0.3030303  0.35353535 0.4040404  0.45454545 0.50505051 0.55555556\n",
      " 0.60606061 0.65656566 0.70707071 0.75757576 0.80808081 0.85858586\n",
      " 0.90909091 0.95959596 1.01010101 1.06060606 1.11111111 1.16161616\n",
      " 1.21212121 1.26262626 1.31313131 1.36363636 1.41414141 1.46464646\n",
      " 1.51515152 1.56565657 1.61616162 1.66666667 1.71717172 1.76767677\n",
      " 1.81818182 1.86868687 1.91919192 1.96969697 2.02020202 2.07070707\n",
      " 2.12121212 2.17171717 2.22222222 2.27272727 2.32323232 2.37373737\n",
      " 2.42424242 2.47474747 2.52525253 2.57575758 2.62626263 2.67676768\n",
      " 2.72727273 2.77777778 2.82828283 2.87878788 2.92929293 2.97979798\n",
      " 3.03030303 3.08080808 3.13131313 3.18181818 3.23232323 3.28282828\n",
      " 3.33333333 3.38383838 3.43434343 3.48484848 3.53535354 3.58585859\n",
      " 3.63636364 3.68686869 3.73737374 3.78787879 3.83838384 3.88888889\n",
      " 3.93939394 3.98989899 4.04040404 4.09090909 4.14141414 4.19191919\n",
      " 4.24242424 4.29292929 4.34343434 4.39393939 4.44444444 4.49494949\n",
      " 4.54545455 4.5959596  4.64646465 4.6969697  4.74747475 4.7979798\n",
      " 4.84848485 4.8989899  4.94949495 5.        ]\n"
     ]
    }
   ],
   "source": [
    "import numpy as np\n",
    "\n",
    "# 100 valores uniformemente espaçados de 0 a 5.\n",
    "valores_linsp = np.linspace(0, 5, 100)\n",
    "print('Valores de 0 a 5 com 100 espaçamentos: ',  valores_linsp)\n",
    "\n",
    "# Obs: linspace imprime o último valor."
   ]
  },
  {
   "cell_type": "code",
   "execution_count": null,
   "id": "0920d4cd",
   "metadata": {},
   "outputs": [
    {
     "name": "stdout",
     "output_type": "stream",
     "text": [
      " Valores de 3 a 100:  [ 3  4  5  6  7  8  9 10 11 12 13 14 15 16 17 18 19 20 21 22 23 24 25 26\n",
      " 27 28 29 30 31 32 33 34 35 36 37 38 39 40 41 42 43 44 45 46 47 48 49 50\n",
      " 51 52 53 54 55 56 57 58 59 60 61 62 63 64 65 66 67 68 69 70 71 72 73 74\n",
      " 75 76 77 78 79 80 81 82 83 84 85 86 87 88 89 90 91 92 93 94 95 96 97 98\n",
      " 99]\n"
     ]
    }
   ],
   "source": [
    "# a_n = np.arange(0, 5, 100)\n",
    "\n",
    "a_n = np.arange(3, 100)\n",
    "print(' Valores de 3 a 100: ', a_n)\n",
    "\n",
    "# Obs: arange não imprime o último valor."
   ]
  },
  {
   "cell_type": "code",
   "execution_count": null,
   "id": "1f8ea9d1",
   "metadata": {},
   "outputs": [
    {
     "name": "stdout",
     "output_type": "stream",
     "text": [
      "o valor de b_n de 3 a 99.1 é:  [ 3.  5.  7.  9. 11. 13. 15. 17. 19. 21. 23. 25. 27. 29. 31. 33. 35. 37.\n",
      " 39. 41. 43. 45. 47. 49. 51. 53. 55. 57. 59. 61. 63. 65. 67. 69. 71. 73.\n",
      " 75. 77. 79. 81. 83. 85. 87. 89. 91. 93. 95. 97. 99.]\n"
     ]
    }
   ],
   "source": [
    "# b_n = 3, 5, 7,..., 99\n",
    "\n",
    "b_n = np.arange(3, 99.1, 2)\n",
    "print('o valor de b_n de 3 a 99.1 é: ', b_n)\n",
    "\n",
    "# Obs: arange não imprime o último valor."
   ]
  },
  {
   "cell_type": "code",
   "execution_count": 8,
   "id": "3f0d24ee",
   "metadata": {},
   "outputs": [
    {
     "name": "stdout",
     "output_type": "stream",
     "text": [
      "Valores da lista c_n:  [0.33333333 1.41421356 3.14159265]\n"
     ]
    }
   ],
   "source": [
    "# c_n = 1/3, sqrt(2), pi\n",
    "\n",
    "c_n = np.array([1/3, np.sqrt(2), np.pi])\n",
    "print('Valores da lista c_n: ', c_n)"
   ]
  },
  {
   "cell_type": "code",
   "execution_count": 9,
   "id": "330f135e",
   "metadata": {},
   "outputs": [
    {
     "name": "stdout",
     "output_type": "stream",
     "text": [
      "Valores de 100 termos, todos zero:  [0. 0. 0. 0. 0. 0. 0. 0. 0. 0. 0. 0. 0. 0. 0. 0. 0. 0. 0. 0. 0. 0. 0. 0.\n",
      " 0. 0. 0. 0. 0. 0. 0. 0. 0. 0. 0. 0. 0. 0. 0. 0. 0. 0. 0. 0. 0. 0. 0. 0.\n",
      " 0. 0. 0. 0. 0. 0. 0. 0. 0. 0. 0. 0. 0. 0. 0. 0. 0. 0. 0. 0. 0. 0. 0. 0.\n",
      " 0. 0. 0. 0. 0. 0. 0. 0. 0. 0. 0. 0. 0. 0. 0. 0. 0. 0. 0. 0. 0. 0. 0. 0.\n",
      " 0. 0. 0. 0.]\n"
     ]
    }
   ],
   "source": [
    "# d_n = 100 termos, todos 0\n",
    "\n",
    "d_n = np.zeros(100)\n",
    "print('Valores de 100 termos, todos zero: ', d_n)"
   ]
  },
  {
   "cell_type": "code",
   "execution_count": 10,
   "id": "1922377c",
   "metadata": {},
   "outputs": [
    {
     "name": "stdout",
     "output_type": "stream",
     "text": [
      "Valores de 100 termos, todos 0.7:  [0.7 0.7 0.7 0.7 0.7 0.7 0.7 0.7 0.7 0.7 0.7 0.7 0.7 0.7 0.7 0.7 0.7 0.7\n",
      " 0.7 0.7 0.7 0.7 0.7 0.7 0.7 0.7 0.7 0.7 0.7 0.7 0.7 0.7 0.7 0.7 0.7 0.7\n",
      " 0.7 0.7 0.7 0.7 0.7 0.7 0.7 0.7 0.7 0.7 0.7 0.7 0.7 0.7 0.7 0.7 0.7 0.7\n",
      " 0.7 0.7 0.7 0.7 0.7 0.7 0.7 0.7 0.7 0.7 0.7 0.7 0.7 0.7 0.7 0.7 0.7 0.7\n",
      " 0.7 0.7 0.7 0.7 0.7 0.7 0.7 0.7 0.7 0.7 0.7 0.7 0.7 0.7 0.7 0.7 0.7 0.7\n",
      " 0.7 0.7 0.7 0.7 0.7 0.7 0.7 0.7 0.7 0.7]\n"
     ]
    }
   ],
   "source": [
    "# e_n = 100 termos, todos 0.7\n",
    "\n",
    "e_n = np.full(100, 0.7)\n",
    "print('Valores de 100 termos, todos 0.7: ', e_n)"
   ]
  },
  {
   "cell_type": "markdown",
   "id": "3f7f1000",
   "metadata": {},
   "source": [
    "__Operadores__\n",
    "\n",
    "Os operadores são símbolos usados para realizar operações sobre valores e variáveis. Eles são fundamentais em qualquer linguagem de programação, pois permitem executar cálculos, comparações e manipulações de dados. Em Python, os operadores podem ser agrupados em diferentes categorias:\n",
    "\n",
    "__1. Operadores Aritméticos.__\n",
    "\n",
    "Usados em cálculos matemáticos.\n",
    "\n",
    "- `+` soma\n",
    "- `-` subtração\n",
    "- `*` multiplicação\n",
    "- `/` divisão (resultado em número real)\n",
    "- `//` divisão inteira (descartar casas decimais)\n",
    "- `%` resto da divisão (módulo)\n",
    "- `**` potência"
   ]
  },
  {
   "cell_type": "markdown",
   "id": "86d6d392",
   "metadata": {},
   "source": [
    "__2. Operadores de Comparação.__\n",
    "\n",
    "Usados para comparar valores, retornam __True__ ou __False__.\n",
    "\n",
    "- `==` igual\n",
    "- `!=` diferente\n",
    "- `>` maior que\n",
    "- `<` menor que \n",
    "- `>=` maior ou igual \n",
    "- `<=` menor ou igual"
   ]
  },
  {
   "cell_type": "markdown",
   "id": "b07103ff",
   "metadata": {},
   "source": [
    "__3. Operadores Lógicos,__\n",
    "\n",
    "Usados para combinar condições.\n",
    "- `and` -> verdadeiro se __todas__ as condições forem verdadeiras.\n",
    "- `or` -> verdadeiro se __pelo menos uma__ condição for verdadeira.\n",
    "- `not` -> inverte o valor lógico (True <-> False)\n",
    "\n",
    "Esses operadores são essenciais para expressar __relações matemáticas e lógicas__. "
   ]
  },
  {
   "cell_type": "markdown",
   "id": "7ec356a0",
   "metadata": {},
   "source": [
    "Abaixo esta uma tabela com operadores _Arrays_."
   ]
  },
  {
   "cell_type": "markdown",
   "id": "8124ff47",
   "metadata": {},
   "source": [
    "Aplicações:"
   ]
  },
  {
   "cell_type": "code",
   "execution_count": null,
   "id": "733ee4ae",
   "metadata": {},
   "outputs": [],
   "source": [
    "# Dados de entrada:\n",
    "a_n = 2\n",
    "\n",
    "# Adição e multiplicação escalar.\n",
    "x_n = 2 * a_n - 5\n",
    "y_n = a_n + x_n\n",
    "\n",
    "\n",
    "# Multiplicação e divisão.\n",
    "\n",
    "z_1 = x_n * y_n\n",
    "z_2 = 2 / x_n\n",
    "z_3 = x_n / y_n\n",
    "\n",
    "# Exponenciação.\n",
    "k_1 = x_n**3\n",
    "k_2 = 3**x_n"
   ]
  },
  {
   "cell_type": "code",
   "execution_count": 32,
   "id": "6dde2017",
   "metadata": {},
   "outputs": [
    {
     "name": "stdout",
     "output_type": "stream",
     "text": [
      "--------------------------------------------------\n",
      " Resultado de Adição e multiplicação escalar\n",
      "--------------------------------------------------\n",
      "Resultado de xn:  -1\n",
      "Resultado de yn:  1\n",
      "--------------------------------------------------\n",
      " Resultado de Multiplicação e divisão\n",
      "--------------------------------------------------\n",
      "Resultado de z1 -1\n",
      "Resultado de z2 -2.0\n",
      "Resultado de z3 -1.0\n",
      "--------------------------------------------------\n",
      " Resultado de Exponenciação\n",
      "Resultado de k1 -1\n",
      "Resultado de k2 0.3333333333333333\n",
      "--------------------------------------------------\n"
     ]
    }
   ],
   "source": [
    "# Imprimindo os resultados.\n",
    "\n",
    "def line():\n",
    "    print('-'*50)\n",
    "\n",
    "line()\n",
    "print(' Resultado de Adição e multiplicação escalar')\n",
    "line()\n",
    "print('Resultado de xn: ', x_n)\n",
    "print('Resultado de yn: ', y_n)\n",
    "line()\n",
    "print(' Resultado de Multiplicação e divisão')\n",
    "line()\n",
    "print('Resultado de z1', z_1)\n",
    "print('Resultado de z2', z_2)\n",
    "print('Resultado de z3', z_3)\n",
    "line()\n",
    "print(' Resultado de Exponenciação')\n",
    "print('Resultado de k1', k_1)\n",
    "print('Resultado de k2', k_2)\n",
    "line()"
   ]
  },
  {
   "cell_type": "markdown",
   "id": "b8aa858b",
   "metadata": {},
   "source": [
    "__1) Operadores Aritméticos.__"
   ]
  },
  {
   "cell_type": "code",
   "execution_count": 11,
   "id": "9a633621",
   "metadata": {},
   "outputs": [
    {
     "name": "stdout",
     "output_type": "stream",
     "text": [
      "Operadores Aritméticos.\n",
      "a + b =  13\n",
      "a - b =  7\n",
      "a * b =  30\n",
      "a / b =  3.3333333333333335\n",
      "a // b =  3\n",
      "a ** b =  1000\n"
     ]
    }
   ],
   "source": [
    "# Exemplo de Operadores em Python\n",
    "\n",
    "a = 10 \n",
    "b = 3\n",
    "\n",
    "print('Operadores Aritméticos.')\n",
    "print('a + b = ', a + b)    # soma\n",
    "print('a - b = ', a - b)    # subtração\n",
    "print('a * b = ', a * b)    # multiplicação\n",
    "print('a / b = ', a / b)    # divisão real\n",
    "print('a // b = ', a // b)  # resto da divisão\n",
    "print('a ** b = ', a ** b)  # potência"
   ]
  },
  {
   "cell_type": "code",
   "execution_count": 12,
   "id": "fa120c8f",
   "metadata": {},
   "outputs": [
    {
     "name": "stdout",
     "output_type": "stream",
     "text": [
      "Operadores de comparação:\n",
      "a == b:  False\n",
      "a != b:  True\n",
      "a > b:  True\n",
      "a < b:  False\n",
      "a >= b:  True\n",
      "a <= b:  False\n"
     ]
    }
   ],
   "source": [
    "# 2) Operadores de comparação.\n",
    "print('Operadores de comparação:')\n",
    "print('a == b: ', a == b)  # verifica igualdade\n",
    "print('a != b: ', a != b)  # verifica diferença\n",
    "print('a > b: ', a > b)    # maior que\n",
    "print('a < b: ', a < b)    # menor que\n",
    "print('a >= b: ', a >= b)  # maior ou igual\n",
    "print('a <= b: ', a <= b)  # menor ou igual"
   ]
  },
  {
   "cell_type": "code",
   "execution_count": 13,
   "id": "575a326a",
   "metadata": {},
   "outputs": [
    {
     "name": "stdout",
     "output_type": "stream",
     "text": [
      "x and y:  False\n",
      "x and y:  True\n",
      "not x:  False\n"
     ]
    }
   ],
   "source": [
    "# 3) Operadores Lógicos.\n",
    "x = True\n",
    "y = False\n",
    "\n",
    "print('x and y: ', x and y)   # True se ambos forem True\n",
    "print('x and y: ', x or y)    # True se pelo menos um for True\n",
    "print('not x: ', not x)       # inverte o valor lógico"
   ]
  },
  {
   "cell_type": "markdown",
   "id": "2bb259ac",
   "metadata": {},
   "source": [
    "Aplicação de _Operadores_ diretamente em _arrays_ do _NumPy_, muito útil em Engenharia para cálculos vetorizados e manipulação de sequências de dados:"
   ]
  },
  {
   "cell_type": "code",
   "execution_count": 14,
   "id": "75e5a582",
   "metadata": {},
   "outputs": [
    {
     "name": "stdout",
     "output_type": "stream",
     "text": [
      "Tempo:  [ 0.  2.  4.  6.  8. 10.]\n",
      "Concentração: [ 1  2  4  8 16 32]\n"
     ]
    }
   ],
   "source": [
    "import numpy as np\n",
    "\n",
    "# ========================================\n",
    "# Operadores aplicados a Arrays Numpy\n",
    "# ========================================\n",
    "\n",
    "# Criando arrays com numpy\n",
    "tempo = np.linspace(0, 10, 6)  # tempo de 0 a 10 dividido em 6 pontos.\n",
    "concentracao = np.array([1, 2, 4, 8, 16, 32]) # exemplo de concentração em função do tempo\n",
    "\n",
    "print('Tempo: ', tempo)\n",
    "print('Concentração:', concentracao)"
   ]
  },
  {
   "cell_type": "code",
   "execution_count": 15,
   "id": "23e2fab6",
   "metadata": {},
   "outputs": [
    {
     "name": "stdout",
     "output_type": "stream",
     "text": [
      "\n",
      "Operadores Aritméticos em Arrays:\n",
      "Concentração + 2:  [ 3  4  6 10 18 34]\n",
      "Concentração * 2:  [ 2  4  8 16 32 64]\n",
      "Concentração ** 2:  [   1    4   16   64  256 1024]\n",
      "Concentração / (tempo + 1):  [1.         0.66666667 0.8        1.14285714 1.77777778 2.90909091]\n"
     ]
    }
   ],
   "source": [
    "# 1) Operadores Aritméticos.\n",
    "print('\\nOperadores Aritméticos em Arrays:')\n",
    "print('Concentração + 2: ', concentracao + 2)   # soma escalar\n",
    "print('Concentração * 2: ', concentracao * 2)   # multiplicação escalar\n",
    "print('Concentração ** 2: ', concentracao ** 2) # potência escalar\n",
    "\n",
    "# Operação entre arrays (mesmo tamanho)\n",
    "print('Concentração / (tempo + 1): ', concentracao / (tempo + 1)) # divisão"
   ]
  },
  {
   "cell_type": "code",
   "execution_count": 16,
   "id": "a135ece7",
   "metadata": {},
   "outputs": [
    {
     "name": "stdout",
     "output_type": "stream",
     "text": [
      "\n",
      "Operadores de Comparação em Arrays: \n",
      "Concentracao > 10: [False False False False  True  True]\n",
      "Tempo <= 5:  [ True  True  True False False False]\n"
     ]
    }
   ],
   "source": [
    "# 2) Operadores de Comparação.\n",
    "print('\\nOperadores de Comparação em Arrays: ')\n",
    "print('Concentracao > 10:', concentracao > 10) # retorna um array de True\n",
    "print('Tempo <= 5: ', tempo <= 5)"
   ]
  },
  {
   "cell_type": "code",
   "execution_count": 17,
   "id": "85a8dac5",
   "metadata": {},
   "outputs": [
    {
     "name": "stdout",
     "output_type": "stream",
     "text": [
      "\n",
      "Operadores Lógicos em Arrays: \n",
      "Concentracao > 5 AND Tempo < 8:  [False False False  True False False]\n",
      "Concentracao < 5 OR Tempo > 5:  [False False False False False False]\n"
     ]
    }
   ],
   "source": [
    "# 3) Operadores Lógicos (elementos a elementos usando numpy)\n",
    "print('\\nOperadores Lógicos em Arrays: ')\n",
    "print('Concentracao > 5 AND Tempo < 8: ', (concentracao > 5) & (tempo < 8))\n",
    "print('Concentracao < 5 OR Tempo > 5: ', (concentracao < 5) & (tempo > 5))\n"
   ]
  },
  {
   "cell_type": "markdown",
   "id": "6d52f2f4",
   "metadata": {},
   "source": [
    "__Exemplo: Operadores em Arrays com Visualização Gráfica__\n",
    "\n",
    "Considere um experimento em que a __concentração de um reagente__ varia em função do __tempo__.\n",
    "Queremos analisar os pontos onde a concentração ultrapassa um determinado limite (neste caso, valores __maiores que 10__). Utilizando arrays do NumPy e Operadores de comparação, podemos identificar automáticamente esses pontos e destacá-los em um gráfico."
   ]
  },
  {
   "cell_type": "code",
   "execution_count": 18,
   "id": "bd8e195c",
   "metadata": {},
   "outputs": [],
   "source": [
    "import numpy as np\n",
    "import matplotlib.pyplot as plt"
   ]
  },
  {
   "cell_type": "code",
   "execution_count": null,
   "id": "76dbfc81",
   "metadata": {},
   "outputs": [
    {
     "data": {
      "text/plain": [
       "array([ 0.,  2.,  4.,  6.,  8., 10.])"
      ]
     },
     "execution_count": 33,
     "metadata": {},
     "output_type": "execute_result"
    }
   ],
   "source": [
    "# Dados simulados.\n",
    "tempo = np.linspace(0, 10, 6)\n",
    "concentracao = np.array([1, 2, 4, 8, 16, 32])\n",
    "\n",
    "# Condições: concentração maior que 10.\n",
    "condicao = concentracao > 10\n"
   ]
  },
  {
   "cell_type": "code",
   "execution_count": 20,
   "id": "2fe15767",
   "metadata": {},
   "outputs": [
    {
     "data": {
      "image/png": "[encoded data removed]",
      "text/plain": [
       "<Figure size 800x500 with 1 Axes>"
      ]
     },
     "metadata": {},
     "output_type": "display_data"
    }
   ],
   "source": [
    "# Plotando os dados.\n",
    "plt.figure(figsize = (8, 5))\n",
    "plt.plot(tempo, concentracao, 'o-', label='Concentração')\n",
    "\n",
    "# Destacanco os pontos que satisfazem a condição.\n",
    "plt.scatter(tempo[condicao], concentracao[condicao], color='red', s=100, label='Concentracao > 10')\n",
    "\n",
    "# Estilo do gráfico.\n",
    "plt.title('Concentração em função do Tempo')\n",
    "plt.xlabel('Tempo (s)')\n",
    "plt.ylabel('Concentração (unid.)')\n",
    "plt.legend()\n",
    "plt.grid(True)\n",
    "plt.show()"
   ]
  },
  {
   "cell_type": "markdown",
   "id": "302b184b",
   "metadata": {},
   "source": [
    "__Exemplo: Combinação de Condições Lógicas em Arrays.__\n",
    "\n",
    "Além de analisar uma condição simples, também podemos combinar condições utilizando operadores lógicos. Neste exemplo, queremos identificar os pontos em que:\n",
    "\n",
    "- A concentração é __maior que 5__ e;\n",
    "- O tempo é __menor que 8__\n",
    "\n",
    "Essa análise é útil em Engenharia quando precisamos filtrar dados que atendem a múltiplos critérios, como limites de segurança, condições de operação ou faixas de interesse em experimentos ."
   ]
  },
  {
   "cell_type": "code",
   "execution_count": 21,
   "id": "4e271032",
   "metadata": {},
   "outputs": [],
   "source": [
    "import numpy as np\n",
    "import matplotlib.pyplot as plt"
   ]
  },
  {
   "cell_type": "code",
   "execution_count": 22,
   "id": "97d58a13",
   "metadata": {},
   "outputs": [],
   "source": [
    "# Dados simulados\n",
    "tempo = np.linspace(0, 10, 6) # start, stop, step\n",
    "concentracao = np.array([1, 2, 4, 8, 26, 32])\n",
    "\n",
    "# Duas condições combinadas: concentração > 5 e tempo < 8\n",
    "condicao = (concentracao > 5) & (tempo < 8)"
   ]
  },
  {
   "cell_type": "code",
   "execution_count": 23,
   "id": "40733c5e",
   "metadata": {},
   "outputs": [
    {
     "data": {
      "image/png": "[encoded data removed]",
      "text/plain": [
       "<Figure size 800x500 with 1 Axes>"
      ]
     },
     "metadata": {},
     "output_type": "display_data"
    }
   ],
   "source": [
    "# Plotando os dados.\n",
    "plt.figure(figsize = (8, 5))\n",
    "plt.plot(tempo, concentracao, 'o-', label='Concentração')\n",
    "\n",
    "# Destacando os pontos que satisfazem ambas as condições.\n",
    "plt.scatter(tempo[condicao], concentracao[condicao], color='green', s=100, label='Conc. > 5 e Tempo < 8')\n",
    "\n",
    "# Estilo do gráfico.\n",
    "plt.title('Filtrando Dados com Condições Lógicas')\n",
    "plt.xlabel('Tempo (s)')\n",
    "plt.ylabel('Concentração (unid.)')\n",
    "plt.legend()\n",
    "plt.grid(True)\n",
    "plt.show()"
   ]
  },
  {
   "cell_type": "markdown",
   "id": "f7a1d9f7",
   "metadata": {},
   "source": [
    "__Outros comandos de arrays úteis__\n",
    "\n",
    "O NumPy fornece diversos comandos que ajudam a **explorar** e **manipular arrays** de forma rápida e prática.  \n",
    "Abaixo estão alguns exemplos úteis:\n",
    "\n",
    "- `len(x_n)` → retorna o número de elementos do array.  \n",
    "- `x_n.shape` → mostra o formato (dimensão) do array.  \n",
    "- `x_n[0]` → acessa o **primeiro elemento** do array.  \n",
    "- `x_n[4]` → acessa o **quinto elemento** (índice começa em 0).  \n",
    "- `x_n[-1]` → acessa o **último elemento** do array.  \n",
    "- `x_n[0:9]` → acessa os elementos do índice 0 até o 8 (intervalo).  \n",
    "- `np.zeros_like(x_n)` → cria um array de mesmo formato que `x_n`, mas preenchido com zeros.  \n",
    "- `np.full_like(x_n, valor)` → cria um array de mesmo formato que `x_n`, preenchido com o valor indicado.  \n",
    "\n",
    "Esses comandos são importantes para analisar arrays e criar rapidamente novas versões de dados com o mesmo formato.\n"
   ]
  },
  {
   "cell_type": "markdown",
   "id": "abf48fc7",
   "metadata": {},
   "source": [
    "<img src=\"img/comandos_uteis.png\" alt=\"UESC\" style=\"width: 800px; display: block; margin: 0 auto 5px auto;\">\n",
    "<p style=\"text-align: center;\"><strong>Figura: Comandos úteis.</strong></p>\n",
    "\n",
    "__Fonte__: Siri Changchitnan \"Exploring University Mathematicas with Python\" Ed. Springer"
   ]
  },
  {
   "cell_type": "code",
   "execution_count": 42,
   "id": "03284316",
   "metadata": {},
   "outputs": [
    {
     "name": "stdout",
     "output_type": "stream",
     "text": [
      "Array original (x_n): [0.         0.11111111 0.22222222 0.33333333 0.44444444 0.55555556\n",
      " 0.66666667 0.77777778 0.88888889 1.        ]\n",
      "\n",
      "Número de elementos: 10\n"
     ]
    }
   ],
   "source": [
    "import numpy as np\n",
    "\n",
    "# Criando um array de exemplo (10 elementos igualmente espaçados entre 0 e 1)\n",
    "x_n = np.linspace(0, 1, 10)\n",
    "print(\"Array original (x_n):\", x_n)\n",
    "\n",
    "# 1) len(x_n) → quantidade de elementos\n",
    "print(\"\\nNúmero de elementos:\", len(x_n))"
   ]
  },
  {
   "cell_type": "code",
   "execution_count": null,
   "id": "b4ba8b9a",
   "metadata": {},
   "outputs": [],
   "source": [
    "# 2) x_n.shape → formato do array\n",
    "print(\"Formato do array:\", x_n.shape)"
   ]
  },
  {
   "cell_type": "code",
   "execution_count": 43,
   "id": "84741c0b",
   "metadata": {},
   "outputs": [
    {
     "name": "stdout",
     "output_type": "stream",
     "text": [
      "Primeiro elemento: 0.0\n"
     ]
    }
   ],
   "source": [
    "# 3) x_n[0] → primeiro elemento\n",
    "print(\"Primeiro elemento:\", x_n[0])"
   ]
  },
  {
   "cell_type": "code",
   "execution_count": 44,
   "id": "0f1e5f63",
   "metadata": {},
   "outputs": [
    {
     "name": "stdout",
     "output_type": "stream",
     "text": [
      "Quinto elemento: 0.4444444444444444\n"
     ]
    }
   ],
   "source": [
    "# 4) x_n[4] → quinto elemento (índice 4)\n",
    "print(\"Quinto elemento:\", x_n[4])"
   ]
  },
  {
   "cell_type": "code",
   "execution_count": 45,
   "id": "3ea27716",
   "metadata": {},
   "outputs": [
    {
     "name": "stdout",
     "output_type": "stream",
     "text": [
      "Último elemento: 1.0\n"
     ]
    }
   ],
   "source": [
    "# 5) x_n[-1] → último elemento\n",
    "print(\"Último elemento:\", x_n[-1])"
   ]
  },
  {
   "cell_type": "code",
   "execution_count": 46,
   "id": "14db2825",
   "metadata": {},
   "outputs": [
    {
     "name": "stdout",
     "output_type": "stream",
     "text": [
      "Primeiros 9 elementos: [0.         0.11111111 0.22222222 0.33333333 0.44444444 0.55555556\n",
      " 0.66666667 0.77777778 0.88888889]\n"
     ]
    }
   ],
   "source": [
    "# 6) x_n[0:9] → elementos do índice 0 até 8\n",
    "print(\"Primeiros 9 elementos:\", x_n[0:9])"
   ]
  },
  {
   "cell_type": "code",
   "execution_count": null,
   "id": "18bdf6f3",
   "metadata": {},
   "outputs": [
    {
     "name": "stdout",
     "output_type": "stream",
     "text": [
      "Array de zeros: [0. 0. 0. 0. 0. 0. 0. 0. 0. 0.]\n"
     ]
    }
   ],
   "source": [
    "# 7) np.zeros_like(x_n) → array de zeros do mesmo tamanho que x_n\n",
    "z_n = np.zeros_like(x_n)\n",
    "print(\"Array de zeros:\", z_n)"
   ]
  },
  {
   "cell_type": "code",
   "execution_count": 48,
   "id": "e0c187ca",
   "metadata": {},
   "outputs": [
    {
     "name": "stdout",
     "output_type": "stream",
     "text": [
      "Array preenchido com 0.7: [0.7 0.7 0.7 0.7 0.7 0.7 0.7 0.7 0.7 0.7]\n"
     ]
    }
   ],
   "source": [
    "# 8) np.full_like(x_n, 0.7) → array cheio com o valor 0.7\n",
    "w_n = np.full_like(x_n, 0.7)\n",
    "print(\"Array preenchido com 0.7:\", w_n)"
   ]
  },
  {
   "cell_type": "markdown",
   "id": "aed6a587",
   "metadata": {},
   "source": [
    "<div style=\"text-align: center; font-size: 12px; color: gray; margin-top: 40px;\">\n",
    "  Este notebook foi desenvolvido no âmbito do Grupo de Pesquisas em Modelagem Computacional da UESC.<br>\n",
    "  Todos os direitos reservados © 2025\n",
    "</div>"
   ]
  }
 ],
 "metadata": {
  "kernelspec": {
   "display_name": "base",
   "language": "python",
   "name": "python3"
  },
  "language_info": {
   "codemirror_mode": {
    "name": "ipython",
    "version": 3
   },
   "file_extension": ".py",
   "mimetype": "text/x-python",
   "name": "python",
   "nbconvert_exporter": "python",
   "pygments_lexer": "ipython3",
   "version": "3.11.7"
  }
 },
 "nbformat": 4,
 "nbformat_minor": 5
}
