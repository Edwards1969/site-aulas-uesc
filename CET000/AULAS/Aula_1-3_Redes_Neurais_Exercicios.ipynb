{
 "cells": [
  {
   "cell_type": "markdown",
   "id": "6af3486a-b98e-4e3a-a8dc-eb46913b142f",
   "metadata": {},
   "source": [
    "<div style=\"text-align: center;\">\n",
    "\n",
    "  <img src=\"img/LogoUesc.png\" alt=\"UESC\" style=\"width: 60px; display: block; margin: 0 auto 5px auto;\">\n",
    "\n",
    "  <div style=\"font-size: 20px;\"><strong>UNIVERSIDADE ESTADUAL DE SANTA CRUZ - UESC</strong></div>\n",
    "  <div style=\"font-size: 18px;\">DEPARTAMENTO DE ENGENHARIAS E COMPUTAÇÃO - DEC</div>\n",
    "  <div style=\"font-size: 18px;\">Grupo de Pesquisas em Simulações e Controle de Processos</div>\n",
    "\n",
    "  <hr style=\"margin: 20px 0; border: 1px solid #0074B7;\">\n",
    "\n",
    "  <div style=\"font-size: 22px; font-weight: bold; margin-bottom: 10px;\">PROGRAMAÇÃO EM PYTHON PARA AS ENGENHARIAS</div>\n",
    "\n",
    "  <div style=\"font-size: 18px; margin-top: 10px;\"><strong>Tema</strong>: Previsão da Composição em uma Corrente de Destilação com Redes Neurais</div>\n",
    "  <div style=\"font-size: 18px;\"><strong>Prof. Dr. E.R.Edwards</strong></div>\n",
    "\n",
    "  <div style=\"font-size: 16px; margin-top: 15px;\">Ilhéus - BA, Abril de 2025</div>\n",
    "  \n",
    "  <hr style=\"margin: 20px 0; border: 1px solid #0074B7;\">\n",
    "\n",
    "</div>"
   ]
  },
  {
   "cell_type": "markdown",
   "id": "be3fd291-c498-47e4-9506-cc8b89d4aeea",
   "metadata": {},
   "source": [
    "#### Exercício – Previsão da Composição em uma Corrente de Destilação com Redes Neurais.\n",
    "\n",
    "__Enunciado__:\n",
    "\n",
    "Uma planta de destilação de etanol coleta dados operacionais de várias correntes do processo para controlar a qualidade do produto. Os engenheiros estão interessados em prever a fração mássica de etanol em diferentes correntes, com base em variáveis de processo como temperatura e vazão mássica.\n",
    "\n",
    "A tabela abaixo mostra dados de 4 correntes retiradas da coluna de destilação:"
   ]
  },
  {
   "cell_type": "markdown",
   "id": "d95ec54b-77a9-4b22-b65b-ede0192db804",
   "metadata": {},
   "source": [
    "<img src=\"img/Tab_06.png\" alt=\"UESC\" style=\"width: 550px; display: block; margin: 0 auto 5px auto;\">\n",
    "<p style=\"text-align: center;\"><strong>Figura: Tabela de Coleta de Dados em uma Planta de Destilação de etanol.</strong></p>"
   ]
  },
  {
   "cell_type": "markdown",
   "id": "ef1ee0cd-e765-49c7-a844-fe5a914f83fd",
   "metadata": {},
   "source": [
    "__Objetivo__:\n",
    "\n",
    "Utilize uma __rede neural__ simples para prever a __fração de etanol__ com base na __temperatura__ e na __vazão__.\n",
    "\n",
    "__Instruções__:\n",
    "1. Construa uma rede neural do zero (sem bibliotecas prontas), com:\n",
    "- Duas entradas: temperatura e vazão\n",
    "- Uma camada oculta com neurônios à sua escolha\n",
    "- Uma saída: fração de etanol (normalizada entre 0 e 1)\n",
    "\n",
    "2. Normalize os dados de entrada e saída, se necessário.\n",
    "   \n",
    "3. Faça previsões para novas correntes, por exemplo:\n",
    "\n"
   ]
  },
  {
   "cell_type": "markdown",
   "id": "d62303b2-7bd8-4fbc-a1a8-9102cf273f9d",
   "metadata": {},
   "source": [
    "<img src=\"img/Tab_07.png\" alt=\"UESC\" style=\"width: 300px; display: block; margin: 0 auto 5px auto;\">\n",
    "<p style=\"text-align: center;\"><strong>Figura: Tabela de dados para previsão de novas correntes.</strong></p>"
   ]
  },
  {
   "cell_type": "markdown",
   "id": "5e9c7287-34d9-4001-bd37-c5954f2a4841",
   "metadata": {},
   "source": [
    "4. Interprete os resultados: a rede neural consegue generalizar a partir dos dados fornecidos?"
   ]
  },
  {
   "cell_type": "markdown",
   "id": "f2b3c259-c198-4f85-98ac-58cf17bcebe6",
   "metadata": {},
   "source": [
    "__Implementada do zero, sem bibliotecas prontas como Keras.__\n",
    "\n",
    "1. __Dados brutos__\n",
    "2. __Normalização dos dados (mín-máx)__"
   ]
  },
  {
   "cell_type": "code",
   "execution_count": 1,
   "id": "ddd70e36-430d-4a9a-ba8c-7ef27f9225a0",
   "metadata": {},
   "outputs": [],
   "source": [
    "import numpy as np\n",
    "\n",
    "# Função de normalização mín-máx\n",
    "def normalizar(dados):\n",
    "    minimo = dados.min(axis=0)\n",
    "    maximo = dados.max(axis=0)\n",
    "    return (dados - minimo) / (maximo - minimo), minimo, maximo\n",
    "\n",
    "# Dados de entrada: Temperatura (°C), Vazão (kg/h)\n",
    "entradas = np.array([\n",
    "    [78, 1200],  # Corrente A\n",
    "    [72, 1350],  # Corrente B\n",
    "    [80, 1100],  # Corrente C\n",
    "    [70, 1250],  # Corrente D\n",
    "], dtype=np.float32)\n",
    "\n",
    "# Dados de saída: Fração de etanol (%)\n",
    "saidas = np.array([\n",
    "    [95],\n",
    "    [88],\n",
    "    [97],\n",
    "    [85],\n",
    "], dtype=np.float32)\n",
    "\n",
    "# Normalizando entradas e saídas\n",
    "entradas_norm, entradas_min, entradas_max = normalizar(entradas)\n",
    "saidas_norm, saidas_min, saidas_max = normalizar(saidas)\n"
   ]
  },
  {
   "cell_type": "markdown",
   "id": "662ba068-e3e4-48ea-931e-27fb43fce7a7",
   "metadata": {},
   "source": [
    "3. Funções de ativação e suas derivadas."
   ]
  },
  {
   "cell_type": "code",
   "execution_count": 2,
   "id": "bfcb8e04-ed67-4169-845a-736d6d928536",
   "metadata": {},
   "outputs": [],
   "source": [
    "# Função ReLU e derivada\n",
    "def relu(x):\n",
    "    return np.maximum(0, x)\n",
    "\n",
    "def relu_derivada(x):\n",
    "    return (x> 0).astype(float)    "
   ]
  },
  {
   "cell_type": "markdown",
   "id": "bfab1876-fcf7-4ead-9f08-1aa23f43969d",
   "metadata": {},
   "source": [
    "4. Inicialização da rede neural"
   ]
  },
  {
   "cell_type": "code",
   "execution_count": 3,
   "id": "22e37acf-ec66-4bd5-bc1f-fd33f8ac2a33",
   "metadata": {},
   "outputs": [],
   "source": [
    "# Inicialização dos pesos.\n",
    "np.random.seed(42)\n",
    "\n",
    "# 2 entradas, 3 neurônios na camada oculta, 1 saída.\n",
    "pesos_entrada_oculta = np.random.randn(2,3)\n",
    "bias_oculta = np.zeros((1,3))\n",
    "\n",
    "pesos_oculta_saida = np.random.randn(3, 1)\n",
    "bias_saida = np.zeros((1,1))\n",
    "\n",
    "#Hiperparâmetros\n",
    "taxa_aprendizado = 0.1\n",
    "epochs = 1000"
   ]
  },
  {
   "cell_type": "markdown",
   "id": "5efc30c0-78c3-4bd1-8161-5a0700f492aa",
   "metadata": {},
   "source": [
    "5. Treinamento da rede neural"
   ]
  },
  {
   "cell_type": "code",
   "execution_count": 4,
   "id": "dc8bcab7-0979-49c1-bc5a-b0986ffe3690",
   "metadata": {},
   "outputs": [
    {
     "name": "stdout",
     "output_type": "stream",
     "text": [
      "Época 0, Erro quadrático médio: 2.0021\n",
      "Época 200, Erro quadrático médio: 0.1680\n",
      "Época 400, Erro quadrático médio: 0.1680\n",
      "Época 600, Erro quadrático médio: 0.1680\n",
      "Época 800, Erro quadrático médio: 0.1680\n"
     ]
    }
   ],
   "source": [
    "for epoca in range(epochs):\n",
    "    # FORWARD\n",
    "    camada_oculta_input = np.dot(entradas_norm, pesos_entrada_oculta) + bias_oculta\n",
    "    camada_oculta_saida = relu(camada_oculta_input)\n",
    "\n",
    "    saida_input = np.dot(camada_oculta_saida, pesos_oculta_saida) + bias_saida\n",
    "    saida_predita = saida_input  # Sem função de ativação final (regressão)\n",
    "\n",
    "    # ERRO\n",
    "    erro = saidas_norm - saida_predita\n",
    "\n",
    "    # BACKPROPAGATION\n",
    "    d_saida = -2 * erro  # derivada MSE\n",
    "\n",
    "    d_pesos_oculta_saida = np.dot(camada_oculta_saida.T, d_saida)\n",
    "    d_bias_saida = d_saida.sum(axis=0, keepdims=True)\n",
    "\n",
    "    d_oculta = np.dot(d_saida, pesos_oculta_saida.T) * relu_derivada(camada_oculta_input)\n",
    "    d_pesos_entrada_oculta = np.dot(entradas_norm.T, d_oculta)\n",
    "    d_bias_oculta = d_oculta.sum(axis=0, keepdims=True)\n",
    "\n",
    "    # ATUALIZAÇÃO\n",
    "    pesos_oculta_saida -= taxa_aprendizado * d_pesos_oculta_saida\n",
    "    bias_saida -= taxa_aprendizado * d_bias_saida\n",
    "\n",
    "    pesos_entrada_oculta -= taxa_aprendizado * d_pesos_entrada_oculta\n",
    "    bias_oculta -= taxa_aprendizado * d_bias_oculta\n",
    "\n",
    "    # Exibir erro médio a cada 200 épocas\n",
    "    if epoca % 200 == 0:\n",
    "        mse = np.mean(erro**2)\n",
    "        print(f'Época {epoca}, Erro quadrático médio: {mse:.4f}')"
   ]
  },
  {
   "cell_type": "markdown",
   "id": "82fa1af5-96d6-4855-ba05-39713e8bf958",
   "metadata": {},
   "source": [
    "6. Previsão com novos dados"
   ]
  },
  {
   "cell_type": "code",
   "execution_count": 5,
   "id": "3d69e9c6-496b-4bad-a189-88ed8e33cf89",
   "metadata": {},
   "outputs": [
    {
     "name": "stdout",
     "output_type": "stream",
     "text": [
      "\n",
      "Previsões para novas correntes:\n",
      "Corrente 1: Fração de etanol estimada = 91.25%\n",
      "Corrente 2: Fração de etanol estimada = 91.25%\n"
     ]
    }
   ],
   "source": [
    "# Novas entradas\n",
    "novas_entradas = np.array([\n",
    "    [75, 1300],\n",
    "    [73, 1180]\n",
    "], dtype=np.float32)\n",
    "\n",
    "# Normalizar novas entradas com base nos dados originais\n",
    "novas_entradas_norm = (novas_entradas - entradas_min) / (entradas_max - entradas_min)\n",
    "\n",
    "# Forward para previsão\n",
    "camada_oculta_nova = relu(np.dot(novas_entradas_norm, pesos_entrada_oculta) + bias_oculta)\n",
    "saida_nova_norm = np.dot(camada_oculta_nova, pesos_oculta_saida) + bias_saida\n",
    "\n",
    "# Desnormalizar saída\n",
    "saida_nova = saida_nova_norm * (saidas_max - saidas_min) + saidas_min\n",
    "print(\"\\nPrevisões para novas correntes:\")\n",
    "for i, pred in enumerate(saida_nova):\n",
    "    print(f\"Corrente {i+1}: Fração de etanol estimada = {pred[0]:.2f}%\")\n"
   ]
  },
  {
   "cell_type": "markdown",
   "id": "b1f88b77-0375-4b30-a888-527e3bb4d236",
   "metadata": {},
   "source": [
    "#### Conclusão sobre os resultados da Rede Neural.\n",
    "\n",
    "A rede neural foi treinada com quatro amostras de dados referentes a correntes de uma coluna de destilação, utilizando temperatura e vazão mássica como entradas para prever a fração de etanol (%).\n",
    "\n",
    "Após o treinamento, a rede foi utilizada para prever a fração de etanol em duas novas correntes com condições intermediárias. O modelo previu aproximadamente:\n",
    "\n",
    "- Corrente 1: $91,25 \\%$\n",
    "- Corrente 2: $91,25 \\%$"
   ]
  },
  {
   "cell_type": "markdown",
   "id": "8bbdb36b-3633-4889-bdbd-dd63ab6a5994",
   "metadata": {},
   "source": [
    "#### Conclusão didática:\n",
    "\n",
    "O modelo treinado conseguiu aprender uma relação coerente entre variáveis operacionais (temperatura e vazão) e a fração de etanol. Mesmo com uma base de dados pequena, ele foi capaz de prever valores razoáveis para novas condições. Isso demonstra o potencial das redes neurais como ferramenta de modelagem e previsão de variáveis de processo na Engenharia Química."
   ]
  },
  {
   "cell_type": "markdown",
   "id": "c2f32457-b473-41ec-8695-b50c14f494f8",
   "metadata": {},
   "source": [
    "<div style=\"text-align: center; font-size: 12px; color: gray; margin-top: 40px;\">\n",
    "  Este notebook foi desenvolvido no âmbito do Grupo de Pesquisas em Modelagem Computacional da UESC.<br>\n",
    "  Todos os direitos reservados © 2025\n",
    "</div>"
   ]
  }
 ],
 "metadata": {
  "kernelspec": {
   "display_name": "base",
   "language": "python",
   "name": "python3"
  },
  "language_info": {
   "codemirror_mode": {
    "name": "ipython",
    "version": 3
   },
   "file_extension": ".py",
   "mimetype": "text/x-python",
   "name": "python",
   "nbconvert_exporter": "python",
   "pygments_lexer": "ipython3",
   "version": "3.11.7"
  }
 },
 "nbformat": 4,
 "nbformat_minor": 5
}
