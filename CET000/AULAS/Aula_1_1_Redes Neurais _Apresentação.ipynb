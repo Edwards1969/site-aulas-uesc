{
 "cells": [
  {
   "cell_type": "markdown",
   "id": "8a074126",
   "metadata": {},
   "source": [
    "<div style=\"text-align: center;\">\n",
    "\n",
    "  <img src=\"img/LogoUesc.png\" alt=\"UESC\" style=\"width: 60px; display: block; margin: 0 auto 5px auto;\">\n",
    "\n",
    "  <div style=\"font-size: 20px;\"><strong>UNIVERSIDADE ESTADUAL DE SANTA CRUZ - UESC</strong></div>\n",
    "  <div style=\"font-size: 18px;\">DEPARTAMENTO DE ENGENHARIAS E COMPUTAÇÃO - DEC</div>\n",
    "  <div style=\"font-size: 18px;\">Grupo de Pesquisas em Simulações e Controle de Processos</div>\n",
    "\n",
    "  <hr style=\"margin: 20px 0; border: 1px solid #0074B7;\">\n",
    "\n",
    "  <div style=\"font-size: 22px; font-weight: bold; margin-bottom: 10px;\">PROGRAMAÇÃO EM PYTHON PARA AS ENGENHARIAS</div>\n",
    "\n",
    "  <div style=\"font-size: 18px; margin-top: 10px;\"><strong>Tema</strong>: Uma introdução as Redes Neurais Artificiais</div>\n",
    "  <div style=\"font-size: 18px;\"><strong>Prof. Dr. E.R.Edwards</strong></div>\n",
    "\n",
    "  <div style=\"font-size: 16px; margin-top: 15px;\">Ilhéus - BA, Abril de 2025</div>\n",
    "  \n",
    "  <hr style=\"margin: 20px 0; border: 1px solid #0074B7;\">\n",
    "\n",
    "</div>"
   ]
  },
  {
   "cell_type": "markdown",
   "id": "47bb097e",
   "metadata": {},
   "source": [
    "<div style=\"background-color: #e6f2ff; border-left: 6px solid #0074B7; padding: 10px; font-size: 16px;\">\n",
    "  <strong>Exemplo de Cálculos usando Inputs  e Weight.</strong> \n",
    "</div>"
   ]
  },
  {
   "cell_type": "markdown",
   "id": "65aef508",
   "metadata": {},
   "source": [
    "__Exemplo de cálculo de neurônio__:\n",
    "\n",
    "Suponha que temos um neurônio com 2 entradas que utiliza a __função de ativação sigmóide__ e possui os seguintes parâmetros:\n",
    "\n",
    "$$ w = [2, -1] $$\n",
    "\n",
    "$$ b = 1 $$\n",
    "\n",
    "Aqui, $w=[2,-1]$ significa $w_1=2$ e $w_2=-1$ de forma vetorial.  \n",
    "Vamos fornecer ao neurônio a entrada:\n",
    "\n",
    "$$ x = [1, 4] $$\n",
    "\n",
    "Usando o __produto escalar__, calculamos a soma ponderada:\n",
    "\n",
    "\\begin{align*}\n",
    "(w \\cdot x) + b &= (w_1 \\cdot x_1) + (w_2 \\cdot x_2) + b \\\\\n",
    "&= 2 \\cdot 1 + (-1) \\cdot 4 + 1 \\\\\n",
    "&= -1\n",
    "\\end{align*}\n",
    "\n",
    "Agora, substituímos este valor na função sigmóide:\n",
    "\n",
    "\\begin{equation}\n",
    "y = f(w \\cdot x + b) = f(-1)\n",
    "\\end{equation}\n",
    "\n",
    "Substituindo na sigmóide:\n",
    "\n",
    "\\begin{align*}\n",
    "S &= \\frac{1}{1 + \\exp^{-z}} \\\\\n",
    "S &= \\frac{1}{1 + \\exp^{-(-1)}} \\\\\n",
    "S &= \\frac{1}{1 + e^1} \\\\\n",
    "S &\\approx 0.269\n",
    "\\end{align*}"
   ]
  },
  {
   "cell_type": "markdown",
   "id": "b15b57f5",
   "metadata": {},
   "source": [
    "As saídas do neurônio 0.999 dados os insumos $x=[2,3]$. Esse processo de passar a entrada para obter a saída é conhecimdo como __feedforward__.\n",
    "\n",
    "Agora vamos resolver esse problema de forma computacional, declarando as variáveis."
   ]
  },
  {
   "cell_type": "code",
   "execution_count": 1,
   "id": "52801750",
   "metadata": {},
   "outputs": [
    {
     "name": "stdout",
     "output_type": "stream",
     "text": [
      "O valor da sigmoide: 0.269\n"
     ]
    }
   ],
   "source": [
    "import numpy as np\n",
    "\n",
    "# ----------------------------\n",
    "# Declarando as variáveis\n",
    "# ----------------------------\n",
    "\n",
    "# Entradas do neurônio\n",
    "x1, x2 = 1, 4\n",
    "\n",
    "# Bias\n",
    "b = 1\n",
    "\n",
    "# Pesos\n",
    "w1, w2 = 2, -1\n",
    "\n",
    "# ----------------------------\n",
    "# Cálculo da soma ponderada\n",
    "# ----------------------------\n",
    "soma = w1 * x1 + w2 * x2 + b\n",
    "\n",
    "# ----------------------------\n",
    "# Aplicando a função sigmóide\n",
    "# ----------------------------\n",
    "sigmoid = 1 / (1 + np.exp(-soma))\n",
    "\n",
    "# ----------------------------\n",
    "# Mostrando o resultado\n",
    "# ----------------------------\n",
    "print('O valor da sigmoide: {:.3f}'.format(sigmoid))"
   ]
  },
  {
   "cell_type": "markdown",
   "id": "dbe05e9a",
   "metadata": {},
   "source": [
    "Agora vamos fazer uma implementação mais elaborada."
   ]
  },
  {
   "cell_type": "code",
   "execution_count": 2,
   "id": "c099962c",
   "metadata": {},
   "outputs": [
    {
     "name": "stdout",
     "output_type": "stream",
     "text": [
      "O valor da sigmoide: 0.269\n"
     ]
    }
   ],
   "source": [
    "import numpy as np\n",
    "\n",
    "def sigmoid(x):\n",
    "    # Função de ativação sigmóide\n",
    "    return 1 / (1 + np.exp(-x))\n",
    "\n",
    "class Neuron:\n",
    "    def __init__(self, weights, bias):\n",
    "        self.weights = weights\n",
    "        self.bias = bias\n",
    "\n",
    "    def feedforward(self, inputs): \n",
    "        # Produto escalar dos pesos com a entrada + bias, aplicado na sigmóide\n",
    "        total = np.dot(self.weights, inputs) + self.bias\n",
    "        return sigmoid(total)\n",
    "\n",
    "# ----------------------------\n",
    "# Valores do neurônio\n",
    "# ----------------------------\n",
    "weights = np.array([2, -1])  # w1 = 2, w2 = -1\n",
    "bias = 1                     # b = 1\n",
    "n = Neuron(weights, bias)\n",
    "\n",
    "# Entrada\n",
    "x = np.array([1, 4])         # x1 = 1, x2 = 4\n",
    "\n",
    "# Resultado\n",
    "print('O valor da sigmoide: {:.3f}'.format(n.feedforward(x)))"
   ]
  },
  {
   "cell_type": "markdown",
   "id": "62117edd",
   "metadata": {},
   "source": [
    "Observe que o resultado é o mesmo dos cálculo anterior."
   ]
  },
  {
   "cell_type": "markdown",
   "id": "f873ba4c",
   "metadata": {},
   "source": [
    "__Explicação do código acima__.\n",
    "\n",
    "1. O que é uma __classe__ em Python?\n",
    "\n",
    "Uma classe é como um molde ou \"modelo\" para criar objetos. No exemplo acima, temos:\n",
    "\n",
    "```python\n",
    "class Neuron:\n",
    "\n",
    "```\n",
    "Você está criando um molde para representar um neurônio artificial.\n",
    "\n",
    "2. O que é o `__init__`?\n",
    "\n",
    " O  `__init_` é um método especial chamado de __construtor__. Ele é automaticamente chamado quando você cria um novo __objeto__ a partir da __classe__.  \n",
    "\n",
    " ```python\n",
    "def __init__(self, weights, bias):\n",
    "```\n",
    "Esse método inicializa os atributos do __objeto__ — ou seja, define os valores que ele vai ter.\n",
    "\n",
    "3. O que é `self`?\n",
    "\n",
    "O `self` representa o próprio __objeto__ que está sendo criado. Com ele, você guarda valores dentro do objeto, para usá-los depois.\n",
    "\n",
    "4. Explicando a expressão completa:\n",
    "\n",
    " ```python\n",
    "class Neuron:\n",
    "    def __init__(self, weights, bias):\n",
    "        self.weights = weights\n",
    "        self.bias = bias\n",
    "```\n",
    "\n",
    " - `weight` e `bias` são parâmetros passados ao criar o neurônio.\n",
    " - `self.weights` e `self.bias` são atributos internos do objeto que armazenam esses valores\n",
    "\n",
    "__Exemplo básico de uso__:"
   ]
  },
  {
   "cell_type": "markdown",
   "id": "bf36895b",
   "metadata": {},
   "source": [
    "<div style=\"background-color: #fff9e6; border-left: 6px solid #e6ac00; padding: 10px; font-size: 16px;\">\n",
    "  <strong>Atenção:</strong> Veja abaixo um exemplo de classe com método <code>__init__</code> e uso de <code>self</code>:\n",
    "</div>\n",
    "\n",
    "```python\n",
    "class Neuron:\n",
    "    def __init__(self, weights, bias):\n",
    "        self.weights = weights\n",
    "        self.bias = bias\n",
    "\n",
    "    def feedforward(self, inputs):\n",
    "        total = sum(w * i for w, i in zip(self.weights, inputs)) + self.bias\n",
    "        return total\n",
    "\n",
    "n = Neuron(weights=[0.5, -1.5], bias=2.0)\n",
    "output = n.feedforward([1.0, 2.0])\n",
    "print(\"Saída:\", output)"
   ]
  },
  {
   "cell_type": "markdown",
   "id": "f7b7a91f",
   "metadata": {},
   "source": [
    "Vamos rodar esse código em uma clélula de códigos com a impressão dos valores armazenados em __total__."
   ]
  },
  {
   "cell_type": "code",
   "execution_count": 3,
   "id": "9ca53935",
   "metadata": {},
   "outputs": [
    {
     "name": "stdout",
     "output_type": "stream",
     "text": [
      "Total dentro da função: -0.5\n",
      "Saída: -0.5\n"
     ]
    }
   ],
   "source": [
    "class Neuron:\n",
    "    def __init__(self, weights, bias):\n",
    "        self.weights = weights\n",
    "        self.bias = bias\n",
    "\n",
    "    def feedforward(self, inputs):\n",
    "        total = sum(w * i for w, i in zip(self.weights, inputs)) + self.bias\n",
    "        print(\"Total dentro da função:\", total)  # Apenas para depuração\n",
    "        return total\n",
    "\n",
    "n = Neuron(weights=[0.5, -1.5], bias=2.0)\n",
    "output = n.feedforward([1.0, 2.0])\n",
    "print(\"Saída:\", output)"
   ]
  },
  {
   "cell_type": "markdown",
   "id": "d888cee0",
   "metadata": {},
   "source": [
    "__2. Combinando neurônios em uma rede neural__.\n",
    "\n",
    "Uma Rede Neural, nada mais é do que um monte de neurônios conectados entre si, vejamos como uma rede neural simples pode ser apresentada."
   ]
  },
  {
   "cell_type": "markdown",
   "id": "df3dba40",
   "metadata": {},
   "source": [
    "<img src=\"img/Fig_03.png\" alt=\"UESC\" style=\"width: 500px; display: block; margin: 0 auto 5px auto;\">\n",
    "<p style=\"text-align: center;\"><strong>Figura: Rede feedforward com 2 camadas de entrada, 2 camadas ocultas e 1 saída.</strong></p>"
   ]
  },
  {
   "cell_type": "markdown",
   "id": "dae52550",
   "metadata": {},
   "source": [
    "Esta rede neural possui 2 entradas (inputs), uma camada oculta com 2 neurônios ($h_1$ e $h_2$) e uma camada de saída com 1 neurônio ($o_1$).\n",
    "As saídas dos neurônios da camada oculta ($h_1$ e $h_2$) são utilizadas como entradas para o neurônio de saída ($o_1$), o que caracteriza a interconexão típica de uma rede neural.\n",
    "\n",
    "A camada oculta é qualquer camada situada entre a camada de entrada e a camada de saída.\n",
    "Ela é chamada de \"_oculta_\" porque seus neurônios não se conectam diretamente à entrada ou à saída visível do sistema.\n",
    "Redes neurais podem conter uma ou mais camadas ocultas, e quanto maior o número de camadas, mais complexos e abstratos podem ser os padrões que a rede é capaz de aprender."
   ]
  },
  {
   "cell_type": "markdown",
   "id": "a89082b2",
   "metadata": {},
   "source": [
    "__Exemplo: Feedforward em uma pequena rede neural__.\n",
    "\n",
    "Considere uma rede neural com duas entradas $x_1$ e $x_2$, dois neurônios na camada oculta ($h_1$ e $h_2$), e um neurônio de saída ($y$).  \n",
    "Suponha que todos os neurônios utilizem pesos $\\omega = [1, -1]$, bias $b = 2$, e a função de ativação sigmoide.  \n",
    "\n",
    "As saídas da camada oculta são $h_1$ e $h_2$, e a saída final da rede é $y$.\n",
    "\n",
    "Se fornecermos a entrada:\n",
    "\n",
    "$$ x = [3, 2] $$\n",
    "\n",
    "temos:\n",
    "\n",
    "\\begin{align*}\n",
    "h_1 = h_2 &= f(\\omega \\cdot x + b) \\\\\n",
    "&= f((1 \\cdot 3) + (-1 \\cdot 2) + 2) \\\\\n",
    "&= f(3) \\\\\n",
    "&\\approx 0.9526\n",
    "\\end{align*}\n",
    "\n",
    "Em seguida, a saída do neurônio de saída é calculada usando os valores dos neurônios ocultos:\n",
    "\n",
    "\\begin{align*}\n",
    "y &= f(\\omega \\cdot [h_1, h_2] + b) \\\\\n",
    "&= f((1 \\cdot h_1) + (-1 \\cdot h_2) + 2) \\\\\n",
    "&= f((1 \\cdot 0.9526) + (-1 \\cdot 0.9526) + 2) \\\\\n",
    "&= f(2) \\\\\n",
    "&\\approx 0.881\n",
    "\\end{align*}\n",
    "\n",
    "Portanto, a saída da rede neural para a entrada $x=[3,2]$ é $0.881$.\n",
    "\n",
    "> Observação: uma rede neural pode ter __qualquer número de camadas__ e __qualquer número de neurônios__ em cada camada. O conceito básico permanece: passar as entradas pelos neurônios, aplicando pesos, bias e funções de ativação, até obter a saída final."
   ]
  },
  {
   "cell_type": "markdown",
   "id": "92b96d06",
   "metadata": {},
   "source": [
    "__Codificando uma rede neural: Feedforward__\n",
    "\n",
    "Vamos implementar feedforward para nossa rede neural."
   ]
  },
  {
   "cell_type": "code",
   "execution_count": 4,
   "id": "5f2978bc",
   "metadata": {},
   "outputs": [
    {
     "name": "stdout",
     "output_type": "stream",
     "text": [
      "O valor da saída da rede neural (sigmoide): 0.881\n"
     ]
    }
   ],
   "source": [
    "import numpy as np\n",
    "\n",
    "def sigmoid(x):\n",
    "    # Nossa função de ativaçõ: f(x) = 1/(1+e^(-x))\n",
    "    return 1 / (1 + np.exp(-x))\n",
    "\n",
    "def sigmoid(x):\n",
    "    # Função de ativação sigmoide\n",
    "    return 1 / (1 + np.exp(-x))\n",
    "\n",
    "# ----------------------------\n",
    "# Classe Neurônio\n",
    "# ----------------------------\n",
    "class Neuron:\n",
    "    def __init__(self, weights, bias):\n",
    "        self.weights = weights\n",
    "        self.bias = bias\n",
    "\n",
    "    def feedforward(self, inputs):    \n",
    "        total = np.dot(self.weights, inputs) + self.bias\n",
    "        return sigmoid(total)\n",
    "\n",
    "# ----------------------------\n",
    "# Classe Rede Neural\n",
    "# ----------------------------\n",
    "class OurNeuralNetwork:\n",
    "    \"\"\"\n",
    "    Rede Neural com:\n",
    "    - 2 inputs\n",
    "    - uma camada oculta com 2 neurônios (h1, h2)\n",
    "    - uma camada de saída com 1 neurônio (y)\n",
    "\n",
    "    Cada neurônio tem pesos e bias definidos abaixo.\n",
    "    \"\"\"\n",
    "    def __init__(self):\n",
    "        weights_hidden = np.array([1, -1])\n",
    "        bias_hidden = 2\n",
    "        weights_output = np.array([1, -1])\n",
    "        bias_output = 2\n",
    "\n",
    "        # Neurônios ocultos\n",
    "        self.h1 = Neuron(weights_hidden, bias_hidden)\n",
    "        self.h2 = Neuron(weights_hidden, bias_hidden)\n",
    "\n",
    "        # Neurônio de saída\n",
    "        self.y = Neuron(weights_output, bias_output)\n",
    "\n",
    "    def feedforward(self, x):\n",
    "        # Saídas da camada oculta\n",
    "        out_h1 = self.h1.feedforward(x)\n",
    "        out_h2 = self.h2.feedforward(x)\n",
    "\n",
    "        # Saída da camada de saída\n",
    "        out_y = self.y.feedforward(np.array([out_h1, out_h2]))\n",
    "        return out_y\n",
    "\n",
    "# ----------------------------\n",
    "# Testando a rede\n",
    "# ----------------------------\n",
    "network = OurNeuralNetwork()\n",
    "x = np.array([3, 2])\n",
    "\n",
    "print('O valor da saída da rede neural (sigmoide): {:.3f}'.format(network.feedforward(x)))"
   ]
  },
  {
   "cell_type": "markdown",
   "id": "b71d1e56",
   "metadata": {},
   "source": [
    "O valor da saída da rede neural (sigmoide): 0.881"
   ]
  },
  {
   "cell_type": "markdown",
   "id": "32f72d79",
   "metadata": {},
   "source": [
    "__Treinamento de uma Rede Neural - Parte 1__\n",
    "\n",
    "__Conjunto de Dados de Engenharia Química__\n",
    "\n",
    "Suponha que temos algumas medidas de **equipamentos industriais** em uma planta química.  \n",
    "Nosso objetivo será **treinar uma rede neural para prever se um equipamento pertence a um tipo A (ex.: colunas de destilação) ou tipo B (ex.: trocadores de calor)** com base em duas variáveis: **capacidade térmica** e **altura**.\n",
    "\n",
    "\n",
    "| Equipamento        | Capacidade (kW) | Altura (m) | Classe |\n",
    "|--------------------|-----------------|------------|--------|\n",
    "| Trocador_X         | 130             | 8          | A      |\n",
    "| Coluna_Y           | 210             | 25         | B      |\n",
    "| Reator_Z           | 180             | 22         | B      |\n",
    "| Caldeira_W         | 110             | 6          | A      |\n",
    "\n",
    "**Figura 1**: Tabela de dados de equipamentos."
   ]
  },
  {
   "cell_type": "markdown",
   "id": "44c3d445",
   "metadata": {},
   "source": [
    "__Normalização dos Dados__\n",
    "\n",
    "Para facilitar o uso em redes neurais, geralmente normalizamos os valores.  \n",
    "Aqui, fizemos uma transformação linear simples para que os números fiquem menores e comparáveis.\n",
    "\n",
    "| Equipamento        | Capacidade (kW) | Altura (m) | Classe |\n",
    "|--------------------|-----------------|------------|--------|\n",
    "| Trocador_X         | -1              | -1         | 1      |\n",
    "| Coluna_Y           |  2              |  3         | 0      |\n",
    "| Reator_Z           |  1              |  2         | 0      |\n",
    "| Caldeira_W         | -2              | -2         | 1      |\n",
    "\n",
    "**Figura 2**: Dados normalizados.\n",
    "  \n",
    "Aqui representamos **Classe A = 1** e **Classe B = 0**."
   ]
  },
  {
   "cell_type": "markdown",
   "id": "12167b2c",
   "metadata": {},
   "source": [
    "__Função de Perda__\n",
    "\n",
    "Para medir o desempenho da rede, precisamos de uma **função de perda**.  \n",
    "Usaremos o **Erro Quadrático Médio (MSE)**:\n",
    "\n",
    "$$\n",
    "MSE = \\frac{1}{n} \\sum_{i=1}^n (y_{real} - y_{pred})^2\n",
    "$$\n",
    "\n",
    "Onde:\n",
    "- $n$ = número de amostras (4 equipamentos).\n",
    "- $y_{real}$ = valor verdadeiro da variável de saída (a classe correta do equipamento).\n",
    "- $y_{pred}$ = valor previsto pela rede neural.\n",
    "- $(y_{real} - y_{pred})^2$ = erro quadrado para cada amostra.\n",
    "\n",
    "=> Quanto melhores as previsões, menor será o valor de MSE.  \n",
    "\n",
    "=> Treinar uma rede neural = tentar **minimizar a função de perda**."
   ]
  },
  {
   "cell_type": "markdown",
   "id": "b853596b",
   "metadata": {},
   "source": [
    "__Exemplo de Cálculo de Perda__\n",
    "\n",
    "Imagine que nossa rede seja bem \"teimosa\" e sempre classifique **todos os equipamentos como Classe B (0)**.  \n",
    "Qual seria a perda nesse caso?\n",
    "\n",
    "| Equipamento        | y_real | y_pred | (y_real - y_pred)$^2$ |\n",
    "|--------------------|--------|--------|-----------------------|\n",
    "| Trocador_X         | 1      | 0      | 1                     |\n",
    "| Coluna_Y           | 0      | 0      | 0                     |\n",
    "| Reator_Z           | 0      | 0      | 0                     |\n",
    "| Caldeira_W         | 1      | 0      | 1                     |\n",
    "\n",
    "**Figura 3**: Exemplo de cálculo do erro.\n",
    "\n",
    "$$\n",
    "MSE = \\frac{1}{4}(1 + 0 + 0 + 1) = 0.5\n",
    "$$\n",
    "\n",
    "Portanto, a perda da rede neste caso é **0.5**."
   ]
  },
  {
   "cell_type": "code",
   "execution_count": 5,
   "id": "1edde580",
   "metadata": {},
   "outputs": [
    {
     "name": "stdout",
     "output_type": "stream",
     "text": [
      "Erro Quadrático Médio: 0.5\n"
     ]
    }
   ],
   "source": [
    "import numpy as np\n",
    "\n",
    "def mse_loss(y_true, y_pred):\n",
    "    \"\"\"\n",
    "    Calcula o Erro Quadrático Médio (MSE) entre os valores reais e os preditos.\n",
    "    \"\"\"\n",
    "    return ((y_true - y_pred)**2).mean()\n",
    "\n",
    "# Situação real dos trocadores de calor (1 = operação adequada, 0 = fora da faixa)\n",
    "y_true = np.array([1, 0, 1, 1])\n",
    "\n",
    "# Predição de um modelo (ex: rede neural inicial em treinamento)\n",
    "y_pred = np.array([0, 0, 0, 1])\n",
    "\n",
    "print(\"Erro Quadrático Médio:\", mse_loss(y_true, y_pred))\n"
   ]
  },
  {
   "cell_type": "markdown",
   "id": "d14cc173",
   "metadata": {},
   "source": [
    "__Treinando uma Rede Neural — Parte 2 (Engenharia Química)__\n",
    "\n",
    "Agora que temos um objetivo claro — **minimizar a perda** da rede neural — precisamos entender **como** alterar pesos e bias para reduzir essa perda.\n",
    "\n",
    "Para simplificar, vamos considerar **apenas um equipamento** do nosso conjunto de dados (como se o lote de treinamento tivesse 1 amostra).  \n",
    "Suponha o **Trocador_X**, já normalizado:\n",
    "\n",
    "| Equipamento  | \\($x_1$\\) (capacidade norm.) | \\($x_2$\\) (altura norm.) | ($y_{\\text{real}}$) (classe) |\n",
    "|--------------|----------------------------|------------------------|-------------------------------|\n",
    "| Trocador\\_X  | \\(-1\\)                     | \\(-1\\)                 | \\(1\\)                         |\n",
    "\n",
    "Com apenas uma amostra, a **perda MSE** se reduz ao **erro quadrático** dessa amostra:\n",
    "\n",
    "\\begin{equation}\n",
    "\\begin{aligned}\n",
    "\\text{MSE} &= \\frac{1}{1}\\sum_{i=1}^{1}\\big(y_{\\text{real}} - y_{\\text{pred}}\\big)^2 \\\\\n",
    "&= \\big(y_{\\text{real}} - y_{\\text{pred}}\\big)^2 \\\\\n",
    "&= (1 - y_{\\text{pred}})^2\n",
    "\\end{aligned}\n",
    "\\end{equation}"
   ]
  },
  {
   "cell_type": "markdown",
   "id": "05bd09fb",
   "metadata": {},
   "source": [
    "__Rede e notação__\n",
    "\n",
    "Considere uma rede com duas entradas \\(x_1, x_2\\) (por exemplo, **capacidade térmica normalizada** e **altura normalizada**), **dois neurônios na camada oculta** \\(h_1, h_2\\), e **um neurônio de saída** \\(o_1\\) (probabilidade de pertencer à Classe A).  \n",
    "A função de ativação em todas as unidades é a **sigmóide** \\(f\\).\n",
    "\n",
    "Rotulando pesos e vieses:\n",
    "\n",
    "- Camada oculta:\n",
    "\\begin{equation}\n",
    "\\begin{aligned}\n",
    "  h_1 = f(\\omega_1 x_1 + \\omega_2 x_2 + b_1) \\\\\n",
    "  h_2 = f(\\omega_3 x_1 + \\omega_4 x_2 + b_2)\n",
    "\\end{aligned}\n",
    "\\end{equation}\n",
    "\n",
    "- Saída:\n",
    " \n",
    "$$\n",
    "y_{\\text{pred}} = o_1 = f(\\omega_5 h_1 + \\omega_6 h_2 + b_3)\n",
    "$$\n",
    " \n",
    "A **função de perda** \\(L\\) depende de todos os parâmetros:\n",
    "\n",
    "$$\n",
    "L(\\omega_1,\\omega_2,\\omega_3,\\omega_4,\\omega_5,\\omega_6,\\, b_1,b_2,b_3).\n",
    "$$"
   ]
  },
  {
   "cell_type": "markdown",
   "id": "c936432f",
   "metadata": {},
   "source": [
    "__Derivada parcial e regra da cadeia__\n",
    "\n",
    "Queremos entender como a perda muda ao **ajustar apenas um parâmetro**, por exemplo ($\\omega_1$).  \n",
    "\n",
    "A **derivada parcial** de \\(L\\) em relação a ($\\omega_1$) é:\n",
    "\n",
    "$$\n",
    "\\frac{\\partial L}{\\partial \\omega_1}.\n",
    "$$\n",
    "\n",
    "Pela __regra da cadeia__:\n",
    "\n",
    "\\begin{equation}\n",
    "\\begin{aligned}\n",
    "\\frac{\\partial L}{\\partial \\omega_1}\n",
    "= \\frac{\\partial L}{\\partial y_{\\text{pred}}}\n",
    "\\cdot \\frac{\\partial y_{\\text{pred}}}{\\partial h_1}\n",
    "\\cdot \\frac{\\partial h_1}{\\partial \\omega_1}.\n",
    "\\end{aligned}\n",
    "\\end{equation}\n"
   ]
  },
  {
   "cell_type": "markdown",
   "id": "d0265520",
   "metadata": {},
   "source": [
    "1) __Derivada da perda em relação à saída__ (para ($L=(y_{\\text{real}}-y_{\\text{pred}})^2$)):\n",
    "\n",
    "\\begin{equation}\n",
    "\\begin{aligned}\n",
    "\\frac{\\partial L}{\\partial y_{\\text{pred}}}\n",
    "= \\frac{\\partial (y_{\\text{real}}-y_{\\text{pred}})^2}{\\partial y_{\\text{pred}}}\n",
    "= -2\\,(y_{\\text{real}} - y_{\\text{pred}}).\n",
    "\\end{aligned}\n",
    "\\end{equation}\n",
    "\n",
    "(Como ($y_{\\text{real}}=1$) neste exemplo, isso vira ($-2\\,(1-y_{\\text{pred}})))$"
   ]
  },
  {
   "cell_type": "markdown",
   "id": "181dd4cc",
   "metadata": {},
   "source": [
    "2) __Derivada da saída em relação a ($h_1$)__:\n",
    "\n",
    "Denote $(z_3 = \\omega_5 h_1 + \\omega_6 h_2 + b_3)$ e $(y_{\\text{pred}}=f(z_3))$.  \n",
    "Como $(f'(z)=f(z)\\big(1-f(z)\\big))$ para a sigmóide:\n",
    "\n",
    "\\begin{equation}\n",
    "\\begin{aligned}\n",
    "\\frac{\\partial y_{\\text{pred}}}{\\partial h_1}\n",
    "= f'(z_3)\\cdot \\omega_5\n",
    "= y_{\\text{pred}}\\,(1-y_{\\text{pred}})\\,\\omega_5.\n",
    "\\end{aligned}\n",
    "\\end{equation}"
   ]
  },
  {
   "cell_type": "markdown",
   "id": "c9366d21",
   "metadata": {},
   "source": [
    "3) __Derivada de \\(h_1\\) em relação a \\(\\omega_1\\)__:\n",
    "\n",
    "Denote $(z_1 = \\omega_1 x_1 + \\omega_2 x_2 + b_1) \\ e \\ (h_1=f(z_1))$. Então:\n",
    "\n",
    "\\begin{equation}\n",
    "\\begin{aligned}\n",
    "\\frac{\\partial h_1}{\\partial \\omega_1}\n",
    "= f'(z_1)\\cdot x_1\n",
    "= h_1,(1-h_1),x_1.\n",
    "\\end{aligned}\n",
    "\\end{equation}"
   ]
  },
  {
   "cell_type": "markdown",
   "id": "6eebddf1",
   "metadata": {},
   "source": [
    "Juntando tudo:\n",
    "\n",
    "\n",
    "\\begin{equation}\n",
    "\\begin{aligned}\n",
    "\\boxed{\n",
    "\\frac{\\partial L}{\\partial \\omega_1}\n",
    "= \\Big[-2\\,(y_{\\text{real}} - y_{\\text{pred}})\\Big]\\;\n",
    "\\Big[y_{\\text{pred}}\\,(1-y_{\\text{pred}})\\,\\omega_5\\Big]\\;\n",
    "\\Big[h_1\\,(1-h_1)\\,x_1\\Big].\n",
    "}\n",
    "\\end{aligned}\n",
    "\\end{equation}"
   ]
  },
  {
   "cell_type": "markdown",
   "id": "89852e2b",
   "metadata": {},
   "source": [
    "> Interpretação de processo: ($x_1$) (capacidade térmica normalizada) influencia ($h_1$) via ($\\omega_1$); ($h_1$) afeta a saída via ($\\omega_5$). A regra da cadeia “propaga” a sensibilidade da saída até o peso de entrada, o que é exatamente o mecanismo da __retropropagação (backpropagation)__.\n",
    "\n",
    "O mesmo raciocínio vale para ($\\omega_2,\\ldots,\\omega_6$) e para os vieses $(b_1,b_2,b_3)$, apenas mudando o elo correspondente na cadeia."
   ]
  },
  {
   "cell_type": "code",
   "execution_count": 6,
   "id": "06effbb8",
   "metadata": {},
   "outputs": [
    {
     "name": "stdout",
     "output_type": "stream",
     "text": [
      "y_pred = 0.592227  |  L = 0.166278\n",
      "dL/dw1 (analítico) = 5.849786e-02\n",
      "dL/dw1 (numérico)  = 5.849787e-02\n"
     ]
    }
   ],
   "source": [
    "import numpy as np\n",
    "\n",
    "def sigmoid(z):\n",
    "    return 1 / (1 + np.exp(-z))\n",
    "\n",
    "# Amostra única (Trocador_X)\n",
    "x1, x2 = -1.0, -1.0\n",
    "y_real = 1.0\n",
    "x = np.array([x1, x2])\n",
    "\n",
    "# Parâmetros (escolha quaisquer valores para testar)\n",
    "w1, w2, b1 = 0.8, -0.5, 0.10   # h1\n",
    "w3, w4, b2 = -0.3, 0.9, -0.20  # h2\n",
    "w5, w6, b3 = 1.2, -0.7, 0.05   # saída\n",
    "\n",
    "# Forward pass\n",
    "z1 = w1*x1 + w2*x2 + b1\n",
    "h1 = sigmoid(z1)\n",
    "\n",
    "z2 = w3*x1 + w4*x2 + b2\n",
    "h2 = sigmoid(z2)\n",
    "\n",
    "z3 = w5*h1 + w6*h2 + b3\n",
    "y_pred = sigmoid(z3)\n",
    "\n",
    "# Perda (MSE com 1 amostra)\n",
    "L = (y_real - y_pred)**2\n",
    "\n",
    "# Derivada analítica dL/dw1 (resultado da dedução)\n",
    "dL_dy = -2 * (y_real - y_pred)                             # ∂L/∂y_pred\n",
    "dy_dh1 = y_pred * (1 - y_pred) * w5                        # ∂y_pred/∂h1\n",
    "dh1_dw1 = h1 * (1 - h1) * x1                               # ∂h1/∂w1\n",
    "dL_dw1_analitico = dL_dy * dy_dh1 * dh1_dw1\n",
    "\n",
    "# Derivada numérica por diferença finita\n",
    "eps = 1e-6\n",
    "w1_pert = w1 + eps\n",
    "z1_pert = w1_pert*x1 + w2*x2 + b1\n",
    "h1_pert = sigmoid(z1_pert)\n",
    "z3_pert = w5*h1_pert + w6*h2 + b3\n",
    "y_pred_pert = sigmoid(z3_pert)\n",
    "L_pert = (y_real - y_pred_pert)**2\n",
    "\n",
    "dL_dw1_numerico = (L_pert - L) / eps\n",
    "\n",
    "print(f\"y_pred = {y_pred:.6f}  |  L = {L:.6f}\")\n",
    "print(f\"dL/dw1 (analítico) = {dL_dw1_analitico:.6e}\")\n",
    "print(f\"dL/dw1 (numérico)  = {dL_dw1_numerico:.6e}\")\n"
   ]
  },
  {
   "cell_type": "markdown",
   "id": "c981f983",
   "metadata": {},
   "source": [
    "__Função de Custo: Erro Quadrático Médio (MSE)__\n",
    "\n",
    "O **Mean Squared Error (MSE)** é uma das funções de custo mais utilizadas em aprendizado de máquina e redes neurais.  \n",
    "Ele mede a diferença entre os valores reais (**$y_{true}$**) e os valores previstos pelo modelo (**$y_{pred}$**).\n",
    "\n",
    "A fórmula é:\n",
    "\n",
    "$$\n",
    "MSE = \\frac{1}{n} \\sum_{i=1}^{n} (y_i^{true} - y_i^{pred})^2\n",
    "$$\n",
    "\n",
    "Onde:  \n",
    "- $n$ = número de amostras  \n",
    "- $y_i^{true}$ = valor real da amostra $i$  \n",
    "- $y_i^{pred}$ = valor previsto pelo modelo  \n"
   ]
  },
  {
   "cell_type": "markdown",
   "id": "46135e3a",
   "metadata": {},
   "source": [
    "\n",
    "__Exemplo 1: Cálculo Simples em Python__\n",
    "\n",
    "```python\n",
    "import numpy as np\n",
    "\n",
    "def mse_loss(y_true, y_pred):\n",
    "    return ((y_true - y_pred)**2).mean()\n",
    "\n",
    "# Valores reais (y_true) e previstos (y_pred)\n",
    "y_true = np.array([1, 0, 0, 1])\n",
    "y_pred = np.array([0, 0, 0, 0])\n",
    "\n",
    "print(\"MSE:\", mse_loss(y_true, y_pred))"
   ]
  },
  {
   "cell_type": "markdown",
   "id": "748b745a",
   "metadata": {},
   "source": [
    "__Exemplo 2: Aplicação em Engenharia Química__\n",
    "\n",
    "Imagine que um engenheiro químico está testando um modelo de previsão da eficiência de um trocador de calor. Os valores reais de eficiência (%) medidos em laboratório foram:\n",
    "\n",
    "$$0.85, 0.90, 0.78, 0.88$$\n",
    "\n",
    "O modelo previu:\n",
    "\n",
    "$$0.80, 0.88, 0.75, 0.86$$\n",
    "\n",
    "Vamos calcular o __MSE__ entre os valores reais e previstos.\n"
   ]
  },
  {
   "cell_type": "code",
   "execution_count": 7,
   "id": "4749f83e",
   "metadata": {},
   "outputs": [
    {
     "name": "stdout",
     "output_type": "stream",
     "text": [
      "MSE - Trocador de Calor: 0.001049999999999999\n"
     ]
    }
   ],
   "source": [
    "# Valores reais de eficiência (y_true)\n",
    "y_true = np.array([0.85, 0.90, 0.78, 0.88])\n",
    "\n",
    "# Valores previstos pelo modelo (y_pred)\n",
    "y_pred = np.array([0.80, 0.88, 0.75, 0.86])\n",
    "\n",
    "print(\"MSE - Trocador de Calor:\", mse_loss(y_true, y_pred))\n"
   ]
  },
  {
   "cell_type": "markdown",
   "id": "0534ebdc",
   "metadata": {},
   "source": [
    "__Exemplo 3: Visualização Gráfica__\n",
    "\n",
    "Para visualizar o erro, podemos plotar os valores reais e previstos:"
   ]
  },
  {
   "cell_type": "code",
   "execution_count": 8,
   "id": "98dfbf7e",
   "metadata": {},
   "outputs": [
    {
     "data": {
      "image/png": "[encoded data removed]",
      "text/plain": [
       "<Figure size 640x480 with 1 Axes>"
      ]
     },
     "metadata": {},
     "output_type": "display_data"
    }
   ],
   "source": [
    "import matplotlib.pyplot as plt\n",
    "\n",
    "indices = np.arange(len(y_true))\n",
    "\n",
    "plt.plot(indices, y_true, marker='o', label=\"Valores Reais\")\n",
    "plt.plot(indices, y_pred, marker='x', label=\"Valores Previsto\")\n",
    "plt.title(\"Eficiência de um Trocador de Calor\")\n",
    "plt.xlabel(\"Experimentos\")\n",
    "plt.ylabel(\"Eficiência (%)\")\n",
    "plt.legend()\n",
    "plt.show()\n"
   ]
  },
  {
   "cell_type": "markdown",
   "id": "d297ac3c",
   "metadata": {},
   "source": [
    "__Reflexão sobre os resultados__\n",
    "\n",
    "- Quanto menor o MSE, mais próximo o modelo está dos valores reais.\n",
    "\n",
    "- Em Engenharia Química, isso significa modelos mais confiáveis para prever desempenho de equipamentos (ex: colunas de destilação, trocadores de calor, reatores).\n",
    "\n",
    "- O mesmo raciocínio pode ser aplicado em controle de processos, simulação de propriedades termodinâmicas, etc."
   ]
  },
  {
   "cell_type": "markdown",
   "id": "523d59c2",
   "metadata": {},
   "source": [
    "__Exercício de Aplicação__\n",
    "\n",
    "__Previsão de Tipo de Unidade com Redes Neurais__.\n",
    "\n",
    "Considere os dados experimentais apresentados na tabela a seguir, que descrevem algumas unidades operacionais em uma planta química. Para cada unidade, foram registrados seu peso (em libras), sua altura (em polegadas) e o tipo da unidade (Reator ou Destilador).\n",
    "\n",
    "<img src=\"img/Tab_10.png\" alt=\"UESC\" style=\"width: 700px; display: block; margin: 0 auto 5px auto;\">\n",
    "<p style=\"text-align: center;\"><strong>Figura: Previsão de tipo de unidade com redes neurais.</strong></p>"
   ]
  },
  {
   "cell_type": "markdown",
   "id": "636f99a5",
   "metadata": {},
   "source": [
    "__Cálculo feedforward:__\n",
    "\n",
    "Etapas:\n",
    "\n",
    "- Entrada ($x_1$, $x_2$) → Camada Oculta ($h_1$, $h_2$) → Saída ($o_1$)\n",
    "\n",
    "__Função de Ativação a ser usada__: Sigmoid\n",
    "\n",
    "$$ sigmoid = \\frac{1}{(1 + exp^{-x})} $$"
   ]
  },
  {
   "cell_type": "markdown",
   "id": "b0af7622",
   "metadata": {},
   "source": [
    "__Código em Python da resolução do problema__"
   ]
  },
  {
   "cell_type": "code",
   "execution_count": 9,
   "id": "d850621b",
   "metadata": {},
   "outputs": [
    {
     "name": "stdout",
     "output_type": "stream",
     "text": [
      "Época 0 - Erro quadrático médio: 0.1853\n",
      "Época 100 - Erro quadrático médio: 0.1322\n",
      "Época 200 - Erro quadrático médio: 0.1108\n",
      "Época 300 - Erro quadrático médio: 0.0987\n",
      "Época 400 - Erro quadrático médio: 0.0897\n",
      "Época 500 - Erro quadrático médio: 0.0823\n",
      "Época 600 - Erro quadrático médio: 0.0761\n",
      "Época 700 - Erro quadrático médio: 0.0709\n",
      "Época 800 - Erro quadrático médio: 0.0664\n",
      "Época 900 - Erro quadrático médio: 0.0625\n",
      "\n",
      "Pesos finais:\n",
      "[[2.57383293]\n",
      " [1.01137484]]\n",
      "Bias final: -1.8248311641301398\n",
      "Entrada [0.5 0.5] → Probabilidade: 0.49 → Classe prevista: Reator\n",
      "Entrada [0.95       0.91666667] → Probabilidade: 0.82 → Classe prevista: Destilador\n"
     ]
    },
    {
     "data": {
      "image/png": "[encoded data removed]",
      "text/plain": [
       "<Figure size 640x480 with 1 Axes>"
      ]
     },
     "metadata": {},
     "output_type": "display_data"
    }
   ],
   "source": [
    "import numpy as np\n",
    "import matplotlib.pyplot as plt\n",
    "\n",
    "# Dados de entrada (peso e altura)\n",
    "X = np.array([\n",
    "    [133, 65],\n",
    "    [160, 72],\n",
    "    [152, 70],\n",
    "    [120, 60]\n",
    "], dtype=np.float64)\n",
    "\n",
    "# Normalização min-max\n",
    "X_min = X.min(axis=0)\n",
    "X_max = X.max(axis=0)\n",
    "X_norm = (X - X_min) / (X_max - X_min)\n",
    "\n",
    "# Saída desejada: 0 = Reator, 1 = Destilador\n",
    "y = np.array([[0], [1], [1], [0]])\n",
    "\n",
    "# Função sigmoide e sua derivada\n",
    "def sigmoid(z):\n",
    "    return 1 / (1 + np.exp(-z))\n",
    "\n",
    "def sigmoid_derivada(z):\n",
    "    s = sigmoid(z)\n",
    "    return s * (1 - s)\n",
    "\n",
    "# Inicialização de pesos e bias\n",
    "np.random.seed(0)\n",
    "w = np.random.randn(2, 1)\n",
    "b = 0.0\n",
    "\n",
    "# Hiperparâmetros\n",
    "alpha = 0.1\n",
    "epocas = 1000\n",
    "erros = []\n",
    "\n",
    "# Treinamento\n",
    "for epoca in range(epocas):\n",
    "    z = np.dot(X_norm, w) + b\n",
    "    y_pred = sigmoid(z)\n",
    "\n",
    "    erro = y_pred - y\n",
    "    custo = np.mean(erro ** 2)\n",
    "    erros.append(custo)\n",
    "\n",
    "    grad_w = np.dot(X_norm.T, erro * sigmoid_derivada(z)) / len(X_norm)\n",
    "    grad_b = np.mean(erro * sigmoid_derivada(z))\n",
    "\n",
    "    w -= alpha * grad_w\n",
    "    b -= alpha * grad_b\n",
    "\n",
    "    if epoca % 100 == 0:\n",
    "        print(f\"Época {epoca} - Erro quadrático médio: {custo:.4f}\")\n",
    "\n",
    "# Pesos e bias finais\n",
    "print(\"\\nPesos finais:\")\n",
    "print(w)\n",
    "print(\"Bias final:\", b)\n",
    "\n",
    "# Teste com novas entradas\n",
    "novas_entradas = np.array([\n",
    "    [140, 66],\n",
    "    [158, 71]\n",
    "], dtype=np.float64)\n",
    "\n",
    "novas_entradas_norm = (novas_entradas - X_min) / (X_max - X_min)\n",
    "\n",
    "for entrada in novas_entradas_norm:\n",
    "    z = np.dot(entrada, w) + b\n",
    "    prob = sigmoid(z)\n",
    "    classe = \"Destilador\" if prob >= 0.5 else \"Reator\"\n",
    "    print(f\"Entrada {entrada} → Probabilidade: {prob[0]:.2f} → Classe prevista: {classe}\")\n",
    "\n",
    "# Gráfico do erro quadrático médio\n",
    "plt.plot(erros)\n",
    "plt.title(\"Erro Quadrático Médio durante o Treinamento\")\n",
    "plt.xlabel(\"Épocas\")\n",
    "plt.ylabel(\"Erro\")\n",
    "plt.grid(True)\n",
    "plt.show()"
   ]
  },
  {
   "cell_type": "markdown",
   "id": "af1d0b2c",
   "metadata": {},
   "source": [
    "__Como interpretar o gráfico de erro__.\n",
    "\n",
    "1. Tendência decrescente: Se o erro vai diminuindo ao longo das épocas, significa que a rede neural está aprendendo.\n",
    "2. Estabilização do erro: Quando o gráfico começa a se estabilizar, é um indicativo de que o modelo convergiu.\n",
    "3. __Oscilações__:\n",
    "   - Se o gráfico oscila demais, pode ser que a taxa de aprendizado (alpha) esteja alta.\n",
    "   - Se o erro não diminui muito ou fica quase constante desde o início, talvez seja necessário ajustar os pesos iniciais ou rever a normalização dos dados.\n",
    "4. __Possíveis melhorias__:\n",
    "   - Testar com mais dados.\n",
    "   - Aumentar o número de neurônios (caso avance para modelos com camadas ocultas).\n",
    "   - Aumentar o número de neurônios (caso avance para modelos com camadas ocultas)."
   ]
  },
  {
   "cell_type": "markdown",
   "id": "e7cc610d",
   "metadata": {},
   "source": [
    "__Usando bibliotecas específicas__\n",
    "\n",
    "Podemos usar bibliotecas específica tais como __Sklearn__,__tensorfow__  e __keras__ para resolver o mesmo problema. E observe que as linhas de código diminuem muito com o uso dessas biblitecas prontas o que possibilita a obtenção rápida e segura dos resultados."
   ]
  },
  {
   "cell_type": "code",
   "execution_count": 10,
   "id": "f0d71e68",
   "metadata": {},
   "outputs": [
    {
     "name": "stdout",
     "output_type": "stream",
     "text": [
      "Entradas normalizadas:\n",
      " [[0.325      0.41666667]\n",
      " [1.         1.        ]\n",
      " [0.8        0.83333333]\n",
      " [0.         0.        ]]\n",
      "\u001b[1m1/1\u001b[0m \u001b[32m━━━━━━━━━━━━━━━━━━━━\u001b[0m\u001b[37m\u001b[0m \u001b[1m0s\u001b[0m 140ms/step\n",
      "Unidade A: Probabilidade de ser Destilador = 0.5474\n",
      "Unidade B: Probabilidade de ser Destilador = 0.5472\n",
      "Unidade C: Probabilidade de ser Destilador = 0.5469\n",
      "Unidade D: Probabilidade de ser Destilador = 0.5572\n"
     ]
    }
   ],
   "source": [
    "import numpy as np\n",
    "from sklearn.preprocessing import MinMaxScaler\n",
    "from tensorflow.keras.models import Sequential\n",
    "from tensorflow.keras.layers import Dense, Input\n",
    "import matplotlib.pyplot as plt\n",
    "\n",
    "# Dados brutos: Peso (lb), Altura (pol)\n",
    "dados = np.array([\n",
    "    [133, 65],  # Reator\n",
    "    [160, 72],  # Destilador\n",
    "    [152, 70],  # Destilador\n",
    "    [120, 60]   # Reator\n",
    "])\n",
    "\n",
    "# Saída desejada: 0 para Reator, 1 para Destilador\n",
    "saidas = np.array([0, 1, 1, 0])\n",
    "\n",
    "# Normalização dos dados de entrada com MinMaxScaler\n",
    "scaler = MinMaxScaler()\n",
    "entradas_normalizadas = scaler.fit_transform(dados)\n",
    "\n",
    "# Visualizando os dados normalizados\n",
    "print(\"Entradas normalizadas:\\n\", entradas_normalizadas)\n",
    "\n",
    "# Criação da rede neural (sem treinamento)\n",
    "modelo = Sequential([\n",
    "    Input(shape=(2,)),\n",
    "    Dense(2, activation='sigmoid', name='camada_oculta'),\n",
    "    Dense(1, activation='sigmoid', name='camada_saida')\n",
    "])\n",
    "\n",
    "# Fornecimento manual dos pesos e bias (didático)\n",
    "pesos_ocultos = np.array([[0.5, -0.4], [-0.3, 0.8]])  # shape: (2, 2)\n",
    "bias_ocultos = np.array([0.1, -0.2])                 # shape: (2,)\n",
    "\n",
    "pesos_saida = np.array([[1.2], [-1.0]])              # shape: (2, 1)\n",
    "bias_saida = np.array([0.05])                        # shape: (1,)\n",
    "\n",
    "# Atribuir os pesos manualmente às camadas\n",
    "modelo.get_layer('camada_oculta').set_weights([pesos_ocultos, bias_ocultos])\n",
    "modelo.get_layer('camada_saida').set_weights([pesos_saida, bias_saida])\n",
    "\n",
    "# Realizando as previsões (feedforward)\n",
    "saidas_preditas = modelo.predict(entradas_normalizadas)\n",
    "\n",
    "# Mostrar os resultados\n",
    "for i, saida in enumerate(saidas_preditas):\n",
    "    print(f\"Unidade {chr(65+i)}: Probabilidade de ser Destilador = {saida[0]:.4f}\")"
   ]
  },
  {
   "cell_type": "markdown",
   "id": "0e84068b",
   "metadata": {},
   "source": [
    "__Gráfico de visualização (opcional)__"
   ]
  },
  {
   "cell_type": "code",
   "execution_count": 11,
   "id": "169d754b",
   "metadata": {},
   "outputs": [
    {
     "data": {
      "image/png": "[encoded data removed]",
      "text/plain": [
       "<Figure size 800x500 with 1 Axes>"
      ]
     },
     "metadata": {},
     "output_type": "display_data"
    }
   ],
   "source": [
    "plt.figure(figsize=(8, 5))\n",
    "x_labels = ['Unidade A', 'Unidade B', 'Unidade C', 'Unidade D']\n",
    "valores_saida = saidas_preditas.flatten()\n",
    "\n",
    "# Gráfico de dispersão (pontos)\n",
    "plt.scatter(x_labels, valores_saida, color='blue', s=100, label='Probabilidade de ser Destilador')\n",
    "\n",
    "# Linha de decisão em 0.5\n",
    "plt.axhline(y=0.5, color='red', linestyle='--', label='Limiar de decisão (0.5)')\n",
    "\n",
    "# Adiciona valores numéricos acima dos pontos\n",
    "for i, valor in enumerate(valores_saida):\n",
    "    plt.text(i, valor + 0.02, f'{valor:.3f}', ha='center', fontsize=10)\n",
    "\n",
    "plt.ylim(0, 1)\n",
    "plt.title('Saída da Rede Neural para cada Unidade')\n",
    "plt.ylabel('Probabilidade (Destilador)')\n",
    "plt.legend()\n",
    "plt.grid(True)\n",
    "plt.tight_layout()\n",
    "plt.show()"
   ]
  },
  {
   "cell_type": "markdown",
   "id": "d20f4750",
   "metadata": {},
   "source": [
    "<div style=\"text-align: center; font-size: 12px; color: gray; margin-top: 40px;\">\n",
    "  Este notebook foi desenvolvido no âmbito do Grupo de Pesquisa em Modelagem Computacional da UESC.<br>\n",
    "  Todos os direitos reservados © 2025\n",
    "</div>"
   ]
  }
 ],
 "metadata": {
  "kernelspec": {
   "display_name": "base",
   "language": "python",
   "name": "python3"
  },
  "language_info": {
   "codemirror_mode": {
    "name": "ipython",
    "version": 3
   },
   "file_extension": ".py",
   "mimetype": "text/x-python",
   "name": "python",
   "nbconvert_exporter": "python",
   "pygments_lexer": "ipython3",
   "version": "3.11.7"
  }
 },
 "nbformat": 4,
 "nbformat_minor": 5
}
