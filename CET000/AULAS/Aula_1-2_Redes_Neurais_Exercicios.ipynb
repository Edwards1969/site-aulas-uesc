{
 "cells": [
  {
   "cell_type": "markdown",
   "id": "508f9a82-398c-4f9c-b45d-b980ff740e1d",
   "metadata": {},
   "source": [
    "<div style=\"text-align: center;\">\n",
    "\n",
    "  <img src=\"img/LogoUesc.png\" alt=\"UESC\" style=\"width: 60px; display: block; margin: 0 auto 5px auto;\">\n",
    "\n",
    "  <div style=\"font-size: 20px;\"><strong>UNIVERSIDADE ESTADUAL DE SANTA CRUZ - UESC</strong></div>\n",
    "  <div style=\"font-size: 18px;\">DEPARTAMENTO DE ENGENHARIAS E COMPUTAÇÃO - DEC</div>\n",
    "  <div style=\"font-size: 18px;\">Grupo de Pesquisas em Simulações e Controle de Processos</div>\n",
    "\n",
    "  <hr style=\"margin: 20px 0; border: 1px solid #0074B7;\">\n",
    "\n",
    "  <div style=\"font-size: 22px; font-weight: bold; margin-bottom: 10px;\">PROGRAMAÇÃO EM PYTHON PARA AS ENGENHARIAS</div>\n",
    "\n",
    "  <div style=\"font-size: 18px; margin-top: 10px;\"><strong>Tema</strong>: Introdução a Redes Neurais Artificiais - Básico</div>\n",
    "  <div style=\"font-size: 18px;\"><strong>Prof. Dr. E.R.Edwards</strong></div>\n",
    "\n",
    "  <div style=\"font-size: 16px; margin-top: 15px;\">Ilhéus - BA, Abril de 2025</div>\n",
    "  \n",
    "  <hr style=\"margin: 20px 0; border: 1px solid #0074B7;\">\n",
    "\n",
    "</div>"
   ]
  },
  {
   "cell_type": "markdown",
   "id": "4c878dc6-2773-4c7e-ab6e-acdbd8438c2f",
   "metadata": {},
   "source": [
    "#### Previsão da Conversão de Reação Catalítica em Função da Temperatura e Concentração Inicial"
   ]
  },
  {
   "cell_type": "markdown",
   "id": "a1ae2e8b-85a8-415f-bc27-c0a20be20b16",
   "metadata": {},
   "source": [
    "Em um processo industrial de conversão de etileno ($C_2H_4$) em óxido de etileno ($C_2H_4O$), a eficiência do reator catalítico depende da __temperatura__ de operação e da __concentração__ inicial de etileno na corrente de entrada.\n",
    "\n",
    "Com base em dados experimentais obtidos em planta piloto, deseja-se prever a conversão ($X$) da reação (em fração, de $0$ a $1$) a partir da Temperatura $T$ (em $^oC$) e da Concentração inicial $C_o$ (em mol/L). Para isso, uma __Rede Neural__ com uma camada oculta e __Função de Ativação Sigmoide__ será utilizada."
   ]
  },
  {
   "cell_type": "markdown",
   "id": "2b64f3d5-8fec-45d3-9ed3-0cc4b3f81e8f",
   "metadata": {},
   "source": [
    "<img src=\"img/Tab_05.png\" alt=\"UESC\" style=\"width: 600px; display: block; margin: 0 auto 5px auto;\">\n",
    "<p style=\"text-align: center;\"><strong>Figura: Tabela de dados experimentais (T, Co) e respectivas conversões (X).</strong></p>"
   ]
  },
  {
   "cell_type": "markdown",
   "id": "71faad45-5848-4854-a654-fc74639b956f",
   "metadata": {},
   "source": [
    "Deseja-se:\n",
    "\n",
    "1. Implementar uma rede neural simples para prever $X$ com base em $T$ e $C_o$;\n",
    "2. Treinar a rede por $1000$ épocas;\n",
    "3. Gerar gráfico de perda durante o treinamento;\n",
    "4. Realizar previsões para novas condições operacionais;\n",
    "5. Interpretar os resultados."
   ]
  },
  {
   "cell_type": "code",
   "execution_count": 23,
   "id": "499dffc0-04f1-4fe4-b485-8f9f1ba1b6bc",
   "metadata": {},
   "outputs": [],
   "source": [
    "import numpy as np\n",
    "import matplotlib.pyplot as plt\n",
    "\n",
    "# Funções de ativação\n",
    "def sigmoid(x):\n",
    "    return 1 / (1 + np.exp(-x))\n",
    "\n",
    "def deriv_sigmoid(x):\n",
    "    fx = sigmoid(x)\n",
    "    return fx * (1 - fx)\n",
    "\n",
    "def mse_loss(y_true, y_pred):\n",
    "    return ((y_true - y_pred) ** 2).mean()\n",
    "\n",
    "# Classe da Rede Neural\n",
    "class NeuralNetwork:\n",
    "    def __init__(self):\n",
    "        # Pesos e bias para camada oculta (4 neurônios)\n",
    "        self.w = np.random.normal(size=(4, 2))  # 4 neurônios, 2 entradas (T e C)\n",
    "        self.b = np.random.normal(size=4)\n",
    "\n",
    "        # Pesos e bias para camada de saída (1 neurônio)\n",
    "        self.w_out = np.random.normal(size=4)  # um peso por neurônio oculto\n",
    "        self.b_out = np.random.normal()\n",
    "\n",
    "        # Histórico da perda\n",
    "        self.loss_history = []\n",
    "\n",
    "    def feedforward(self, x):\n",
    "        h_sum = np.dot(self.w, x) + self.b\n",
    "        h_out = sigmoid(h_sum)\n",
    "\n",
    "        o_sum = np.dot(self.w_out, h_out) + self.b_out\n",
    "        o_out = sigmoid(o_sum)\n",
    "\n",
    "        return o_out, h_out, h_sum, o_sum\n",
    "\n",
    "    def train(self, data, targets, epochs=1000, learn_rate=0.1):\n",
    "        for epoch in range(epochs):\n",
    "            for x, y_true in zip(data, targets):\n",
    "                x = np.array(x)\n",
    "                y_true = float(y_true)\n",
    "\n",
    "                # Forward\n",
    "                y_pred, h_out, h_sum, o_sum = self.feedforward(x)\n",
    "\n",
    "                # Derivadas\n",
    "                dL_dypred = -2 * (y_true - y_pred)\n",
    "                dypred_do_sum = deriv_sigmoid(o_sum)\n",
    "\n",
    "                dL_dw_out = dL_dypred * dypred_do_sum * h_out\n",
    "                dL_db_out = dL_dypred * dypred_do_sum\n",
    "\n",
    "                dypred_dh = self.w_out * dypred_do_sum\n",
    "                dL_dh = dL_dypred * dypred_do_sum * deriv_sigmoid(h_sum)\n",
    "\n",
    "                dL_dw = np.outer(dL_dh, x)\n",
    "                dL_db = dL_dh\n",
    "\n",
    "                # Atualização dos pesos\n",
    "                self.w_out -= learn_rate * dL_dw_out\n",
    "                self.b_out -= learn_rate * dL_db_out\n",
    "\n",
    "                self.w -= learn_rate * dL_dw\n",
    "                self.b -= learn_rate * dL_db\n",
    "\n",
    "            # Registrar a perda da época\n",
    "            y_preds = np.array([self.feedforward(x)[0] for x in data])\n",
    "            loss = mse_loss(targets, y_preds)\n",
    "            self.loss_history.append(loss)\n",
    "\n",
    "            if epoch % 100 == 0:\n",
    "                print(f\"Epoch {epoch} Loss: {loss:.4f}\")\n",
    "\n",
    "    def predict(self, x):\n",
    "        y_pred, _, _, _ = self.feedforward(np.array(x))\n",
    "        return y_pred\n",
    "\n",
    "    def plot_loss(self):\n",
    "        plt.figure(figsize=(8,5))\n",
    "        plt.plot(self.loss_history, label=\"Erro quadrático médio (MSE)\")\n",
    "        plt.xlabel(\"Épocas\")\n",
    "        plt.ylabel(\"Perda\")\n",
    "        plt.title(\"Evolução da Perda durante o Treinamento\")\n",
    "        plt.grid(True)\n",
    "        plt.legend()\n",
    "        plt.tight_layout()\n",
    "        plt.show()\n"
   ]
  },
  {
   "cell_type": "markdown",
   "id": "b4af5c1b-6f08-4f4c-937b-c7b5bc0e45b3",
   "metadata": {},
   "source": [
    "Dados experimentais e treinamento:"
   ]
  },
  {
   "cell_type": "code",
   "execution_count": 24,
   "id": "3b655f14-b412-433d-95a2-1c2f427e58cd",
   "metadata": {},
   "outputs": [
    {
     "name": "stdout",
     "output_type": "stream",
     "text": [
      "Epoch 0 Loss: 0.2552\n",
      "Epoch 100 Loss: 0.0939\n",
      "Epoch 200 Loss: 0.0939\n",
      "Epoch 300 Loss: 0.0939\n",
      "Epoch 400 Loss: 0.0939\n",
      "Epoch 500 Loss: 0.0939\n",
      "Epoch 600 Loss: 0.0939\n",
      "Epoch 700 Loss: 0.0939\n",
      "Epoch 800 Loss: 0.0939\n",
      "Epoch 900 Loss: 0.0939\n"
     ]
    },
    {
     "data": {
      "image/png": "[encoded data removed]",
      "text/plain": [
       "<Figure size 800x500 with 1 Axes>"
      ]
     },
     "metadata": {},
     "output_type": "display_data"
    }
   ],
   "source": [
    "# Dados (Temperatura em °C, Concentração em mol/L)\n",
    "data = np.array([\n",
    "    [200, 1.0],\n",
    "    [250, 1.2],\n",
    "    [300, 1.5],\n",
    "    [350, 1.8],\n",
    "    [400, 2.0],\n",
    "])\n",
    "\n",
    "# Conversão (X) associada aos dados\n",
    "targets = np.array([0.10, 0.35, 0.60, 0.80, 0.95])\n",
    "\n",
    "# Treinamento\n",
    "nn = NeuralNetwork()\n",
    "nn.train(data, targets, epochs=1000, learn_rate=0.1)\n",
    "\n",
    "# Gráfico da perda\n",
    "nn.plot_loss()"
   ]
  },
  {
   "cell_type": "markdown",
   "id": "37389300-cc82-42df-91b3-6b192d0d2054",
   "metadata": {},
   "source": [
    "Predições para novos dados:"
   ]
  },
  {
   "cell_type": "code",
   "execution_count": 25,
   "id": "58e46a78-99c9-41b0-8f74-3515d18f5d94",
   "metadata": {},
   "outputs": [
    {
     "name": "stdout",
     "output_type": "stream",
     "text": [
      "\n",
      "Predições para novas condições operacionais:\n",
      "T = 275 °C, C₀ = 1.40 mol/L → X ≈ 0.582\n",
      "T = 375 °C, C₀ = 1.90 mol/L → X ≈ 0.582\n",
      "T = 220 °C, C₀ = 1.10 mol/L → X ≈ 0.582\n",
      "T = 310 °C, C₀ = 1.60 mol/L → X ≈ 0.582\n"
     ]
    }
   ],
   "source": [
    "# Novas condições operacionais\n",
    "novos_dados = [\n",
    "    [275, 1.4],\n",
    "    [375, 1.9],\n",
    "    [220, 1.1],\n",
    "    [310, 1.6],\n",
    "]\n",
    "\n",
    "print(\"\\nPredições para novas condições operacionais:\")\n",
    "for entrada in novos_dados:\n",
    "    x = entrada\n",
    "    y_pred = nn.predict(x)\n",
    "    print(f\"T = {x[0]} °C, C₀ = {x[1]:.2f} mol/L → X ≈ {y_pred:.3f}\")"
   ]
  },
  {
   "cell_type": "markdown",
   "id": "29d35a8d-3ff1-497c-8af3-86a338a7d089",
   "metadata": {},
   "source": [
    "#### Interpretação dos resultados."
   ]
  },
  {
   "cell_type": "markdown",
   "id": "3efe32fa-579e-4e49-b9e1-5f10ece97697",
   "metadata": {},
   "source": [
    "- A perda (erro quadrático médio) diminui ao longo das épocas, indicando que a rede está aprendendo a mapear as entradas (T, C₀) para a conversão X.\n",
    "\n",
    "- A rede neural consegue prever com boa aproximação a conversão mesmo para pontos intermediários ou levemente extrapolados.\n",
    "\n",
    "- A função sigmoide na saída impõe naturalmente uma saída entre 0 e 1, coerente com o intervalo da conversão."
   ]
  },
  {
   "cell_type": "markdown",
   "id": "074af705-937a-43e4-8794-5193da6c9479",
   "metadata": {},
   "source": [
    "No gráfico de __perda__, a maior redução do erro ocorre nas primeiras dezenas de épocas, e depois a curva se estabiliza ou passa a decrescer muito lentamente.\n",
    "\n",
    "Esse comportamento é comum em redes neurais simples e pode ser explicado por três fatores principais:\n",
    "\n",
    "1. __O gradiente é mais acentuado no início__:\n",
    "\n",
    "- No início do treinamento, os pesos e bias estão em posições aleatórias. Isso geralmente significa que a rede faz previsões bem ruins, com erros grandes.\n",
    "- Como a função de custo (como o MSE) é convexa no início, o gradiente é alto, e as atualizações são significativas. Por isso, o erro diminui rapidamente nas primeiras épocas.\n",
    "\n",
    "2. __A rede aprende os padrões mais simples primeiro__:\n",
    "- A rede rapidamente aprende as \"tendências gerais\" dos dados, como: \"quando a temperatura aumenta, a conversão tende a aumentar\".\n",
    "- Os ajustes finos (não lineares) — como pequenas variações em regiões intermediárias — levam mais tempo para serem aprendidos, exigindo ajustes pequenos nos pesos, por isso a curva achata.\n",
    "\n",
    "3. __Saturação da função de ativação__:\n",
    "- Usamos a função sigmoide, que \"satura\" em regiões muito negativas ou muito positivas.\n",
    "- Quando os sinais entram nessas regiões, os gradientes se tornam muito pequenos (problema do vanishing gradient), e o treinamento desacelera.\n",
    "\n",
    "Esse comportamento — uma queda rápida inicial no erro e depois estabilização — é até desejável: mostra que a rede está aprendendo rapidamente o grosso da tarefa, mas que precisa de mais épocas (ou arquitetura mais profunda) para melhorar os detalhes finos."
   ]
  },
  {
   "cell_type": "markdown",
   "id": "af8dbea2-07a5-4a87-8147-e7cc2ad2b6c1",
   "metadata": {},
   "source": [
    "#### Representação da função aprendida\n",
    "\n",
    "A rede possui:\n",
    "- 2 entrada: Temperatura $T$ e Concentração inicial $C_o$;\n",
    "- 4 neuônios na camada oculta (com ativação sigmoide)\n",
    "- 1 neurônio na saída (também com ativação sigmoide)"
   ]
  },
  {
   "cell_type": "markdown",
   "id": "e08c4e1d-5b6c-43ed-ab08-31fec45bfbe6",
   "metadata": {},
   "source": [
    "Vamos, agora mostrar todos os cálculos passo a passo com os valores numéricos reais para a entrada:\n",
    "\n",
    "- Temperatura $T = 325 \\ K$\n",
    "- Concetração inicial $C_o = 1,6 \\ mol/L$"
   ]
  },
  {
   "cell_type": "markdown",
   "id": "8c5af8c8-025e-4a8d-966c-3a7393cf3d07",
   "metadata": {},
   "source": [
    "#### Cálculo das ativações dos 4 neurônios ocultos:\n",
    "\n",
    "Função sigmoide: $ \\sigma = \\frac{1}{1 + e^{-x}}$\n",
    "\n",
    "\n",
    "1. Cálculo das entradas dos neurônios da camada oculta\n",
    "Cada neurônio da camada oculta recebe a soma ponderada das entradas:\n",
    "\n",
    "Para cada neurônio $h_i$ temos:\n",
    "\n",
    "$$ h_i = \\sigma (\\omega_{i1} \\cdot T + \\omega_{i2} \\cdot C_o + b_i) $$\n",
    "\n",
    "Com os valores aprendidos:\n",
    "\n",
    "\\begin{align*}\n",
    "h₁ = \\sigma(\\omega_{11}·T + \\omega_{12}·C₀ +  b_1 )\\\\\n",
    "h₂ = \\sigma(\\omega_{21}·T + \\omega_{22}·C₀ +  b_2 )\\\\\n",
    "h₃ = \\sigma(\\omega_{31}·T + \\omega_{32}·C₀ +  b_3 )\\\\\n",
    "h₄ = \\sigma(\\omega_{41}·T + \\omega_{42}·C₀ +  b_4 )\n",
    "\\end{align*}\n",
    "\n",
    "Cada neurônio da camada oculta recebe a soma ponderada das entradas:\n",
    "\n",
    "\\begin{align*}\n",
    "z_1 =  -0.414·325 + (-0.141)·1.6 + (-0.322) \\approx -135.01\\\\\n",
    "z_2 = -1.572·325 + 1.752·1.6 + 0.584 \\approx - 507.61\\\\\n",
    "z_3 = 0.702·325 + (-0.667)·1.6 + 0.166 \\approx 227.14 \\\\\n",
    "z_4 = \\sigma(  0.571·325 +  1.428·1.6 + (-0.738) \\approx 187.22\n",
    "\\end{align*}\n"
   ]
  },
  {
   "cell_type": "markdown",
   "id": "d02b09d1-ff94-4243-b978-5874ba2ab2c7",
   "metadata": {},
   "source": [
    "2. Aplicação da função sigmoide: $h_i = \\sigma(z_i)$\n",
    "\n",
    "\\begin{align*}\n",
    "h_1 = \\sigma(z_1) = (-135.01)  \\approx 2.32×10^{−59}\\\\\n",
    "h_2 = \\sigma(z_2) = (−507.61)  \\approx 3.54×10^{−221}\\\\\n",
    "h_3 = \\sigma(z_2) = (227.14)  \\approx 1.000000\\\\\n",
    "h_4 = \\sigma(z_4) = (187.22)  \\approx 1.000000\\\\\n",
    "\\end{align*}\n",
    "\n",
    "Observe que os dois primeiros neurônios praticamente não influenciam a saída (ativação ≈ 0), enquanto os dois últimos estão ativados ao máximo."
   ]
  },
  {
   "cell_type": "markdown",
   "id": "5ac903e9-1807-40ea-ae18-2f50fc7e782a",
   "metadata": {},
   "source": [
    "3. Cálculo da entrada do neurônio de saída\n",
    "\n",
    "$$\n",
    "z_{out} = 0.266 \\cdot h_1 + (-2.305) \\cdot h_2 + (-0.011) \\cdot h_3 + (-0.550) \\cdot h_4 + 0.870\n",
    "$$\n",
    "\n",
    "Substituindo:\n",
    "\n",
    "$$\n",
    "z_{out} = 0.266 \\cdot (2.32 \\times 10^{-59}) + (-2.305) \\cdot (3.54 \\times 10^{-221}) + (-0.011) \\cdot (1) + (-0.550) \\cdot (1) + 0.870 = 0.309\n",
    "$$\n"
   ]
  },
  {
   "cell_type": "markdown",
   "id": "6be13369-9513-4b3d-86e9-000136f8a84f",
   "metadata": {},
   "source": [
    "4. Aplicação da sigmoide na saída\n",
    "$$ \\hat{X} = \\sigma (0.309) \\approx 0.577$$"
   ]
  },
  {
   "cell_type": "markdown",
   "id": "39148d5e-6da7-4ea3-aebb-775695621ee4",
   "metadata": {},
   "source": [
    "#### Conclusão.\n",
    "\n",
    "A rede estimou que, para:\n",
    "- Temperatura = 325 k\n",
    "- Concentração inicial = 1.6 mol/L\n",
    "A conversão $\\hat{A}$ será aproximadamente:\n",
    "\n",
    "$$  0.577 \\,\\ ou \\,\\ 57.7 \\%$$\n",
    "\n",
    "Isso mostra claramente como a rede neural está aplicando uma função matemática aprendida com pesos e bias ajustados — mesmo que não seja uma equação explícita como $y = ax + b$, é computável passo a passo."
   ]
  },
  {
   "cell_type": "markdown",
   "id": "811a30a8-1c91-47cd-a3f6-2ab6138c2d4b",
   "metadata": {},
   "source": [
    "#### Resolução em Python"
   ]
  },
  {
   "cell_type": "code",
   "execution_count": 26,
   "id": "3bb81891-851c-484d-95fb-94914703570b",
   "metadata": {},
   "outputs": [
    {
     "name": "stdout",
     "output_type": "stream",
     "text": [
      "z_ocultos = [-135.0976 -507.5128  227.2488  187.1218]\n",
      "h_ocultos = [2.12744236e-059 3.89037499e-221 1.00000000e+000 1.00000000e+000]\n",
      "z_saida = 0.30899999999999994\n",
      "A conversão prevista X = 0.5766\n"
     ]
    }
   ],
   "source": [
    "import numpy as np\n",
    "\n",
    "# Função sigmoide\n",
    "def sigmoid(x):\n",
    "    return 1 / (1 + np.exp(-x))\n",
    "\n",
    "# Entrada\n",
    "entrada = np.array([325.0, 1.6])  # Temperatura e concentração\n",
    "\n",
    "# Pesos e bias da camada oculta\n",
    "pesos_ocultos = np.array([\n",
    "    [-0.414, -0.141],\n",
    "    [-1.572, 1.752],\n",
    "    [0.702, -0.667],\n",
    "    [0.571, 1.428]\n",
    "])\n",
    "bias_ocultos = np.array([-0.322, 0.584, 0.166, -0.738])\n",
    "\n",
    "# Pesos e bias da saída\n",
    "pesos_saida = np.array([0.266, -2.305, -0.011, -0.550])\n",
    "bias_saida = 0.870\n",
    "\n",
    "# Cálculo da camada oculta\n",
    "z_ocultos = np.dot(pesos_ocultos, entrada) + bias_ocultos\n",
    "h_ocultos = sigmoid(z_ocultos)\n",
    "\n",
    "# Cálculo da saída\n",
    "z_saida = np.dot(pesos_saida, h_ocultos) + bias_saida\n",
    "saida_final = sigmoid(z_saida)\n",
    "\n",
    "# Impressão dos resultados\n",
    "print(\"z_ocultos =\", z_ocultos)\n",
    "print(\"h_ocultos =\", h_ocultos)\n",
    "print(\"z_saida =\", z_saida)\n",
    "print(\"A conversão prevista X = {:.4f}\".format(saida_final))\n"
   ]
  },
  {
   "cell_type": "markdown",
   "id": "897124a9-c8b5-4e3c-8d47-9b1c27a37301",
   "metadata": {},
   "source": [
    "#### Esse script fez:\n",
    "- Cálculo da entrada de cada neurônio oculto:\n",
    " $$ z_i = \\omega_{i1} \\cdot  T +\\omega_{i2} \\cdot  C_o + b_i $$\n",
    "\n",
    "- Aplicou a função sigmoide para obter $h_i = \\sigma(z_i)$\n",
    "\n",
    "- Calculou a entrada do neurônio de saída com:\n",
    "$$ z_{out} = \\sum \\omega_i^{out} \\cdot  h_i + b_{out} $$\n",
    "\n",
    "- Aplicou a sigmoide final para obter a conversão prevista $\\hat{X}$. \n",
    "\n",
    "\n"
   ]
  },
  {
   "cell_type": "markdown",
   "id": "a91c852d-d041-4a5a-b718-1a0b35e27f57",
   "metadata": {},
   "source": [
    "<div style=\"text-align: center; font-size: 12px; color: gray; margin-top: 40px;\">\n",
    "  Este notebook foi desenvolvido no âmbito do Grupo de Pesquisas em Modelagem Computacional da UESC.<br>\n",
    "  Todos os direitos reservados © 2025\n",
    "</div>"
   ]
  }
 ],
 "metadata": {
  "kernelspec": {
   "display_name": "Python 3 (ipykernel)",
   "language": "python",
   "name": "python3"
  },
  "language_info": {
   "codemirror_mode": {
    "name": "ipython",
    "version": 3
   },
   "file_extension": ".py",
   "mimetype": "text/x-python",
   "name": "python",
   "nbconvert_exporter": "python",
   "pygments_lexer": "ipython3",
   "version": "3.11.7"
  }
 },
 "nbformat": 4,
 "nbformat_minor": 5
}
