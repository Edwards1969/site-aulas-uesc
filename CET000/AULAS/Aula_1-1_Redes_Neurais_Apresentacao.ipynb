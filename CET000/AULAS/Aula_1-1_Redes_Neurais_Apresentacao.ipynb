{
 "cells": [
  {
   "cell_type": "markdown",
   "id": "1a0e06b4-6baf-4261-ba55-d6f8e4411a9f",
   "metadata": {},
   "source": [
    "<div style=\"text-align: center;\">\n",
    "\n",
    "  <img src=\"img/LogoUesc.png\" alt=\"UESC\" style=\"width: 60px; display: block; margin: 0 auto 5px auto;\">\n",
    "\n",
    "  <div style=\"font-size: 20px;\"><strong>UNIVERSIDADE ESTADUAL DE SANTA CRUZ - UESC</strong></div>\n",
    "  <div style=\"font-size: 18px;\">DEPARTAMENTO DE ENGENHARIAS E COMPUTAÇÃO - DEC</div>\n",
    "  <div style=\"font-size: 18px;\">Grupo de Pesquisas em Simulações e Controle de Processos</div>\n",
    "\n",
    "  <hr style=\"margin: 20px 0; border: 1px solid #0074B7;\">\n",
    "\n",
    "  <div style=\"font-size: 22px; font-weight: bold; margin-bottom: 10px;\">PROGRAMAÇÃO EM PYTHON PARA AS ENGENHARIAS</div>\n",
    "\n",
    "  <div style=\"font-size: 18px; margin-top: 10px;\"><strong>Tema</strong>: Uma introdução as Redes Neurais Artificiais</div>\n",
    "  <div style=\"font-size: 18px;\"><strong>Prof. Dr. E.R.Edwards</strong></div>\n",
    "\n",
    "  <div style=\"font-size: 16px; margin-top: 15px;\">Ilhéus - BA, Abril de 2025</div>\n",
    "  \n",
    "  <hr style=\"margin: 20px 0; border: 1px solid #0074B7;\">\n",
    "\n",
    "</div>"
   ]
  },
  {
   "cell_type": "markdown",
   "id": "7fdf5963-c950-4441-a0cb-209e809dfa76",
   "metadata": {},
   "source": [
    "<div style=\"background-color: #e6f2ff; border-left: 6px solid #0074B7; padding: 10px; font-size: 16px;\">\n",
    "  <strong>Exemplo de Cálculos usando Inputs  e Weight.</strong> \n",
    "</div>"
   ]
  },
  {
   "cell_type": "markdown",
   "id": "d22a12b4-7ba1-4997-bc0e-582cef0c3abd",
   "metadata": {},
   "source": [
    "__Um exemplo simples__:\n",
    "\n",
    "Suponha que temos um neurônio de 2 entradas que usa a __função de ativação sigmóide__ e tem os seguintes parâmetros:\n",
    "\n",
    "$$  w=[0,1] $$\n",
    "\n",
    "$$ b = 4 $$\n",
    "\n",
    "$w=[0,1]$ é apenas uma maneira de escrever $w_1=0$, $w_2=1$ em forma vetorial. Agora, vamos dar ao neurônio uma entrada de $x=[2,3]$. Usaremos o __produto escalar__ para escrever as coisas de forma mais concisa:\n",
    "\n",
    "\\begin{align*}\n",
    "    (w \\cdot x)+b = (w_1 \\cdot x_1) + (w_2 \\cdot  x_2) + b \\\\\n",
    "    = 0 \\cdot  2+1 \\cdot 3+4 \\\\\n",
    "    = 7\n",
    "\\end{align*}\n",
    "\n",
    "Agora, vamos substituir a soma na função de ativação.\n",
    "\n",
    "\\begin{equation}\n",
    "y = f(w \\cdot  x + b) = f(7) \n",
    "\\end{equation}\n",
    "\n",
    "Agora vamos substituir esse valor dentro da sigmoide.\n",
    "\n",
    "\\begin{align*}\n",
    "S = \\frac{1}{1 + exp^{-x}} \\\\\n",
    "S = \\frac{1}{1 + exp^{-7}} \\\\\n",
    "S = 0.999\n",
    "\\end{align*}"
   ]
  },
  {
   "cell_type": "markdown",
   "id": "77b78a2d-2421-41ed-932a-940554184463",
   "metadata": {},
   "source": [
    "As saídas do neurônio 0.999 dados os insumos $x=[2,3]$. Esse processo de passar a entrada para obter a saída é conhecimdo como __feedforward__.\n",
    "\n",
    "Agora vamos resolver esse problema de forma computacional, declarando as variáveis."
   ]
  },
  {
   "cell_type": "code",
   "execution_count": 20,
   "id": "49e2672d-e621-4fae-9b25-850eb7a0bb3d",
   "metadata": {},
   "outputs": [
    {
     "name": "stdout",
     "output_type": "stream",
     "text": [
      "O valor da Sigmoid: 0.999 \n"
     ]
    }
   ],
   "source": [
    "import numpy as np\n",
    "\n",
    "# Declarando as variáveis, temos:\n",
    "\n",
    "# Declarando os Inputs\n",
    "x1, x2 = 2, 3\n",
    "\n",
    "# Declarando o bias.\n",
    "b = 4\n",
    "\n",
    "# Declarando os weights\n",
    "w1, w2 = 0, 1\n",
    "\n",
    "# Cálculo da soma:\n",
    "soma = w1*x1 + w2*x2 + b\n",
    "\n",
    "# Substituindo a soma na função de Sigmoid.\n",
    "\n",
    "Sigmoid = 1/(1 + np.exp(-soma))\n",
    "\n",
    "print('O valor da Sigmoid: {:.3f} '.format(Sigmoid))"
   ]
  },
  {
   "cell_type": "markdown",
   "id": "1e74c5cb-78fb-44b0-843d-35bfadb9ae9a",
   "metadata": {},
   "source": [
    "Agora vamos fazer uma implementação mais elaborada."
   ]
  },
  {
   "cell_type": "code",
   "execution_count": 21,
   "id": "aa581182-eba1-4e2c-a6f1-7208ff69e37f",
   "metadata": {},
   "outputs": [
    {
     "name": "stdout",
     "output_type": "stream",
     "text": [
      "O valor da Sigmoid: 0.999 \n"
     ]
    }
   ],
   "source": [
    "import numpy as np\n",
    "\n",
    "def sigmoid(x):\n",
    "    # Nossa função de ativação: f(x) = 1/(1+e^(-x))\n",
    "    return 1 / (1 + np.exp(-x))\n",
    "\n",
    "class Neuron:\n",
    "    def __init__(self, weights, bias):\n",
    "        self.weights = weights\n",
    "        self.bias = bias\n",
    "\n",
    "    def feedforward(self, inputs): \n",
    "        \n",
    "         # Insira pesos, adicione bias e use a função de ativação.\n",
    "         total = np.dot(self.weights, inputs) + self.bias\n",
    "         return sigmoid(total)\n",
    "\n",
    "weights = np.array([0, 1])  # w1 = 0, w2 = 1\n",
    "bias = 4                   # b = 4\n",
    "n = Neuron(weights, bias)\n",
    "\n",
    "x = np.array([2, 3])       # x1 = 2, x2 = 3 \n",
    "\n",
    "print('O valor da Sigmoid: {:.3f} '.format(n.feedforward(x)))"
   ]
  },
  {
   "cell_type": "markdown",
   "id": "ff11c4bf-4553-4a79-a9f4-82b20cccd9e4",
   "metadata": {},
   "source": [
    "Observe que o resultado é o mesmo dos cálculo anterior."
   ]
  },
  {
   "cell_type": "markdown",
   "id": "ace3de31-6f53-49b1-b2aa-773d0755f842",
   "metadata": {},
   "source": [
    "#### Explicação do código acima.\n",
    "\n",
    "1. O que é uma __classe__ em Python?\n",
    "\n",
    "Uma classe é como um molde ou \"modelo\" para criar objetos. No exemplo acima, temos:\n",
    "\n",
    "```python\n",
    "class Neuron:\n",
    "\n",
    "```\n",
    "Você está criando um molde para representar um neurônio artificial.\n",
    "\n",
    "2. O que é o `__init__`?\n",
    "\n",
    " O  `__init_` é um método especial chamado de __construtor__. Ele é automaticamente chamado quando você cria um novo __objeto__ a partir da __classe__.  \n",
    "\n",
    " ```python\n",
    "def __init__(self, weights, bias):\n",
    "```\n",
    "Esse método inicializa os atributos do __objeto__ — ou seja, define os valores que ele vai ter.\n",
    "\n",
    "3. O que é `self`?\n",
    "\n",
    "O `self` representa o próprio __objeto__ que está sendo criado. Com ele, você guarda valores dentro do objeto, para usá-los depois.\n",
    "\n",
    "4. Explicando a expressão completa:\n",
    "\n",
    " ```python\n",
    "class Neuron:\n",
    "    def __init__(self, weights, bias):\n",
    "        self.weights = weights\n",
    "        self.bias = bias\n",
    "```\n",
    "\n",
    " - `weight` e `bias` são parâmetros passados ao criar o neurônio.\n",
    " - `self.weights` e `self.bias` são atributos internos do objeto que armazenam esses valores\n",
    "\n",
    "#### Exemplo básico de uso:"
   ]
  },
  {
   "cell_type": "markdown",
   "id": "b39f36af-170a-49ae-929d-f8c0cf92ba8c",
   "metadata": {},
   "source": [
    "<div style=\"background-color: #fff9e6; border-left: 6px solid #e6ac00; padding: 10px; font-size: 16px;\">\n",
    "  <strong>Atenção:</strong> Veja abaixo um exemplo de classe com método <code>__init__</code> e uso de <code>self</code>:\n",
    "</div>\n",
    "\n",
    "```python\n",
    "class Neuron:\n",
    "    def __init__(self, weights, bias):\n",
    "        self.weights = weights\n",
    "        self.bias = bias\n",
    "\n",
    "    def feedforward(self, inputs):\n",
    "        total = sum(w * i for w, i in zip(self.weights, inputs)) + self.bias\n",
    "        return total\n",
    "\n",
    "n = Neuron(weights=[0.5, -1.5], bias=2.0)\n",
    "output = n.feedforward([1.0, 2.0])\n",
    "print(\"Saída:\", output)\n"
   ]
  },
  {
   "cell_type": "markdown",
   "id": "5dfc9e61-7655-453c-b89e-984e2c743b5e",
   "metadata": {},
   "source": [
    "Vamos rodar esse código em uma clélula de códigos com a impressão dos valores armazenados em __total__."
   ]
  },
  {
   "cell_type": "code",
   "execution_count": 22,
   "id": "4152d652-0481-477e-8ae7-f1f9aae783e0",
   "metadata": {},
   "outputs": [
    {
     "name": "stdout",
     "output_type": "stream",
     "text": [
      "Total dentro da função: -0.5\n",
      "Saída: -0.5\n"
     ]
    }
   ],
   "source": [
    "class Neuron:\n",
    "    def __init__(self, weights, bias):\n",
    "        self.weights = weights\n",
    "        self.bias = bias\n",
    "\n",
    "    def feedforward(self, inputs):\n",
    "        total = sum(w * i for w, i in zip(self.weights, inputs)) + self.bias\n",
    "        print(\"Total dentro da função:\", total)  # Apenas para depuração\n",
    "        return total\n",
    "\n",
    "n = Neuron(weights=[0.5, -1.5], bias=2.0)\n",
    "output = n.feedforward([1.0, 2.0])\n",
    "print(\"Saída:\", output)"
   ]
  },
  {
   "cell_type": "markdown",
   "id": "eb0cca22-0725-48ea-8b36-0dba68132935",
   "metadata": {},
   "source": [
    "#### 2. Combinando neurônios em uma rede neural.\n",
    "\n",
    "Uma Rede Neural, nada mais é do que um monte de neurônios conectados entre si, vejamos como uma rede neural simples pode ser apresentada."
   ]
  },
  {
   "cell_type": "markdown",
   "id": "2ea98fd2-f1fa-4b2f-8a0f-5b394788b31e",
   "metadata": {},
   "source": [
    "<img src=\"img/Fig_03.png\" alt=\"UESC\" style=\"width: 500px; display: block; margin: 0 auto 5px auto;\">\n",
    "<p style=\"text-align: center;\"><strong>Figura: Rede feedforward com 2 camadas de entrada, 2 camadas ocultas e 1 saída.</strong></p>"
   ]
  },
  {
   "cell_type": "markdown",
   "id": "ccf7b572-125e-40ff-a0b2-5689fe66b841",
   "metadata": {},
   "source": [
    "Esta rede neural possui 2 entradas (inputs), uma camada oculta com 2 neurônios ($h_1$ e $h_2$) e uma camada de saída com 1 neurônio ($O_1$).\n",
    "As saídas dos neurônios da camada oculta ($h_1$ e $h_2$) são utilizadas como entradas para o neurônio de saída ($O_1$), o que caracteriza a interconexão típica de uma rede neural.\n",
    "\n",
    "A camada oculta é qualquer camada situada entre a camada de entrada e a camada de saída.\n",
    "Ela é chamada de \"oculta\" porque seus neurônios não se conectam diretamente à entrada ou à saída visível do sistema.\n",
    "Redes neurais podem conter uma ou mais camadas ocultas, e quanto maior o número de camadas, mais complexos e abstratos podem ser os padrões que a rede é capaz de aprender."
   ]
  },
  {
   "cell_type": "markdown",
   "id": "dcd3fcf4-5e15-47dd-8bfd-c1ac79492a30",
   "metadata": {},
   "source": [
    "#### Um exemplo: Feedforward.\n",
    "\n",
    "Considere uma rede neural com duas entradas $x_1$ e $x_2$, dois neurônios na camada oculta ($h_1$ e $h_2$), e um neurônio na camada de saída ($0_1$). Suponha que todos os neurônios tenham pesos $\\omega = [0, 1]$, bias $b=0$, e a função de ativação sigmoide, As saídas dos neurônios ocultos são representadas por $h_1$ e $h_2$, e a saída final da rede é $o_1$.\n",
    "\n",
    "O que acontece se passarmos  entrada $x=[2,3]$?\n",
    "\n",
    "\\begin{align*}\n",
    "    h_1 = h_2 = f(w \\cdot  x + b) \\\\\n",
    "    = f((0 \\cdot  2) + (1 \\cdot  3) + 0) \\\\\n",
    "    = f(3) \\\\\n",
    "    = 0.9526\n",
    "\\end{align*}\n",
    "\n",
    "e \n",
    "\n",
    "\\begin{align*}\n",
    "O_1 = f(w \\cdot  [h_1, h_2] + b) \\\\\n",
    "    = f((0 \\cdot  h_1) + (1 \\cdot  h_2) + 0) \\\\\n",
    "    = f(0.9526) \\\\\n",
    "    = 0.7216\n",
    "\\end{align*}\n",
    "\n",
    "A saída da rede neural para entrada $x=[2,3]$ é $0.7216$. \n",
    "\n",
    "Uma rede neural pode ter __qualquer número de camadas__ com __qualquer número de neurônios__ nessas camadas. A ideia básica permanece a mesma: alimentar a(s) entrada(s) através dos neurônios na rede para obter a(s) saída(s) no final. Para simplificar, continuaremos usando a rede da figura acima para o restante dos cálculos."
   ]
  },
  {
   "cell_type": "markdown",
   "id": "3ffd0449-9a95-489a-afb6-a3da597ad657",
   "metadata": {},
   "source": [
    "#### Codificando uma rede neural: Feedforward\n",
    "\n",
    "Vamos implementar feedforward para nossa rede neural."
   ]
  },
  {
   "cell_type": "code",
   "execution_count": 23,
   "id": "df5b87f9-4738-4297-b5b4-a020f794200e",
   "metadata": {},
   "outputs": [
    {
     "name": "stdout",
     "output_type": "stream",
     "text": [
      "O valor da Sigmoid: 0.7216 \n"
     ]
    }
   ],
   "source": [
    "import numpy as np\n",
    "\n",
    "def sigmoid(x):\n",
    "    # Nossa função de ativaçõ: f(x) = 1/(1+e^(-x))\n",
    "    return 1 / (1 + np.exp(-x))\n",
    "\n",
    "class Neuron:\n",
    "    def __init__(self, weights, bias):\n",
    "        self.weights = weights\n",
    "        self.bias = bias\n",
    "\n",
    "    def feedforward(self, inputs):    \n",
    "        # Insira pesos, adicione bias e use a função de ativação.\n",
    "        total = np.dot(self.weights, inputs) + self.bias\n",
    "        return sigmoid(total)\n",
    "\n",
    "weights = np.array([0, 1])  # w1 = 0, w2 = 1\n",
    "bias = 4                   # b = 4\n",
    "n = Neuron(weights, bias)\n",
    "\n",
    "x = np.array([2, 3])       # x1 = 2, x2 = 3 \n",
    "\n",
    "class OurNeuralNetwork:\n",
    "\n",
    "    '''\n",
    "    Rede Neural com:\n",
    "    - 2 inputs\n",
    "    - uma camada oculta com 2 neurônios (h1, h2)\n",
    "    - uma camada de saída com 1 neurônio (o1)\n",
    "\n",
    "    Cada neurônio tem os mesmos pesos e bias:\n",
    "    - w = [0, 1]\n",
    "    - b = 0\n",
    "    '''\n",
    "\n",
    "    def __init__(self):\n",
    "        weights = np.array([0,1])\n",
    "        bias = 0\n",
    "\n",
    "        # A classe Neuron aqui é da seção anterior\n",
    "        self.h1 = Neuron(weights, bias)\n",
    "        self.h2 = Neuron(weights, bias)\n",
    "        self.O1 = Neuron(weights, bias)\n",
    "\n",
    "    def feedforward(self, x):\n",
    "        out_h1 = self.h1.feedforward(x)\n",
    "        out_h2 = self.h2.feedforward(x)\n",
    "\n",
    "        # As entradas para O1 são as saídas de h1 e h2.\n",
    "        out_O1 = self.O1.feedforward(np.array([out_h1, out_h2]))\n",
    "\n",
    "        return out_O1\n",
    "\n",
    "network = OurNeuralNetwork()\n",
    "\n",
    "x = np.array([2, 3])\n",
    "\n",
    "\n",
    "print('O valor da Sigmoid: {:.4f} '.format(network.feedforward(x)))   "
   ]
  },
  {
   "cell_type": "markdown",
   "id": "d58a6b5c-43a5-4664-a6bf-e6fdec488bf3",
   "metadata": {},
   "source": [
    "Compare o resultado da saída da rede neural para $x=[2, 3]$ calculado anteriormente, que foi $0.7216$ com o resultado codificado. Isso mostra que os códigos estão corretos."
   ]
  },
  {
   "cell_type": "markdown",
   "id": "4044cb37-09ed-4ad2-bcf9-8ce2d32142ac",
   "metadata": {},
   "source": [
    "#### 3. Treinando uma Rede Neural, Parte 1"
   ]
  },
  {
   "cell_type": "markdown",
   "id": "dd355d65-cf07-4d10-8b82-d11c7e3c4313",
   "metadata": {},
   "source": [
    "Digamos que temos a seguinte medida."
   ]
  },
  {
   "cell_type": "markdown",
   "id": "da305b50-7334-4b96-8dda-db772c3c13d7",
   "metadata": {},
   "source": [
    "<img src=\"img/Tab_01.png\" alt=\"UESC\" style=\"width: 500px; display: block; margin: 0 auto 5px auto;\">\n",
    "<p style=\"text-align: center;\"><strong>Figura: Tabela de dados.</strong></p>"
   ]
  },
  {
   "cell_type": "markdown",
   "id": "e2666876-c0cc-42e6-9495-358e0294a9d2",
   "metadata": {},
   "source": [
    "Vamos treinar nossa rede para prever o sexo de alguém dado seu peso e altura."
   ]
  },
  {
   "cell_type": "markdown",
   "id": "e682992d-e918-4d2d-b219-00e8f673bc55",
   "metadata": {},
   "source": [
    "Vamos representar __Masculino__ com o $0$ e o __Feminino__ com o $1$ e também mudaremos os dados para facilitar o uso."
   ]
  },
  {
   "cell_type": "markdown",
   "id": "f4ddfce8-d71a-45ad-a18d-4297847e2c60",
   "metadata": {},
   "source": [
    "<img src=\"img/Tab_02.png\" alt=\"UESC\" style=\"width: 500px; display: block; margin: 0 auto 5px auto;\">\n",
    "<p style=\"text-align: center;\"><strong>Figura: Tabela de dados modificada.</strong></p>"
   ]
  },
  {
   "cell_type": "markdown",
   "id": "5fee3db0-b2dc-448f-b6df-490aae0140d9",
   "metadata": {},
   "source": [
    "Foi escolhido, arbitrariamente, os valores das colunas __Peso__ e __Altura__ (__135__ e __66__) para fazer com que os números pareçam bons. Normalmente, eles são modificados pela média."
   ]
  },
  {
   "cell_type": "markdown",
   "id": "6f2f55de-0b99-441c-95d3-4c2386eafdb6",
   "metadata": {},
   "source": [
    "#### Perdas\n",
    "\n",
    "Antes de treinarmos nossa rede, primeiro precisamos de uma maneira de quantificar o quão \"bom\" ela está indo para que possa tentar fazer \"melhor\". Isso é o que chamamos de __perda__."
   ]
  },
  {
   "cell_type": "markdown",
   "id": "3a9a3e47-5909-4ac2-b39a-a0ed896c23d4",
   "metadata": {},
   "source": [
    "#### Usaremos a perda __de erro quadrático médio__ (MSE):\n",
    "\n",
    "$$ MSE = \\frac{1}{n} \\sum_{i=1}^n (y_{voce é o} - y_{pred})^2 $$\n",
    "\n",
    "Detalhando essa expressão:\n",
    "\n",
    "- $n$ é o número de amostras, que é 4 (Alice, Bob, Charlie, Diana);\n",
    "- $y$ representa a variável que está sendo prevista, que é o sexo.\n",
    "- $y_{voce é o }$ é o valor previsto da variável (a \"resposta correta\"). Por exemplo $y_{você é o}$ pois Alice seria 1 (Feminino). \n",
    "- $y_{pred}$ é o valor previsto da variável. É o que queremos que nossa rede produza.\n",
    "\n",
    "$(y_{você é o} - y_{pred})^2$ é conhecido como erro quadrado. Nossa função de perda é simplesmente tomar a média de todos os erros quadrados (daí o nome erro quadrático médio). Quanto melhores forem nossas previsões, menor será nossa perda.\n",
    "\n",
    "=> Melhores previsões = Menores perdas.\n",
    "\n",
    "=> Treinar uma rede = tentar minimizar sua perda."
   ]
  },
  {
   "cell_type": "markdown",
   "id": "927ee3c2-a5ea-4287-8319-64a684a653a9",
   "metadata": {},
   "source": [
    "#### Vamos para um exemplo de cálculo de perda.\n",
    "\n",
    "Digamos que nossa rede sempre produza $0$ - em outras palavras, está confiante de que todos os humanos são do sexo masculino. Qual seria nossa perda?"
   ]
  },
  {
   "cell_type": "markdown",
   "id": "9f103b5d-7645-4b60-b712-f46351c59755",
   "metadata": {},
   "source": [
    "<img src=\"img/Tab_03.png\" alt=\"UESC\" style=\"width: 500px; display: block; margin: 0 auto 5px auto;\">\n",
    "<p style=\"text-align: center;\"><strong>Figura: Tabela de dados modificada.</strong></p>\n",
    "\n",
    "$$  MSE = \\frac{1}{4}(1 + 0 + 0 + 1) = 0.5$$"
   ]
  },
  {
   "cell_type": "markdown",
   "id": "80d882f9-d656-49a0-8175-c4297e9c8416",
   "metadata": {},
   "source": [
    "#### Código  de Perda de MSE.\n",
    "\n",
    "Vamos criar um código para calcular a __Perda__."
   ]
  },
  {
   "cell_type": "code",
   "execution_count": 24,
   "id": "643a0afd-446c-48fa-bdd5-925020c9f7fd",
   "metadata": {},
   "outputs": [
    {
     "name": "stdout",
     "output_type": "stream",
     "text": [
      "0.5\n"
     ]
    }
   ],
   "source": [
    "import numpy as np\n",
    "\n",
    "def mse_loss(y_true, y_pred):\n",
    "    # y_true e y_pred são matrizes numpy do mesmo comprimento.\n",
    "    return ((y_true - y_pred)**2).mean()\n",
    "\n",
    "y_true = np.array([1, 0, 0, 1])\n",
    "y_pred = np.array([0, 0, 0, 0])\n",
    "\n",
    "print(mse_loss(y_true, y_pred))"
   ]
  },
  {
   "cell_type": "markdown",
   "id": "9326eb26-fde8-419e-beb8-c966f4dfa9d3",
   "metadata": {},
   "source": [
    "#### 4. Treinando uma Rede Neural, Parte 2\n",
    "\n",
    "Agora temos um objetivo claro: __minimizar a perda__ da rede neural. Sabemos que podemos mudar os pesos e vieses da rede para influenciar suas previsões, mas como fazemos isso de uma forma que diminua a perda?\n",
    "\n",
    "Para simplificar, vamos fingir que só temos Alice em nosso conjunto de dados:"
   ]
  },
  {
   "cell_type": "markdown",
   "id": "9068626f-1b75-4bc3-9821-9e0a192f35e6",
   "metadata": {},
   "source": [
    "<img src=\"img/Tab_04.png\" alt=\"UESC\" style=\"width: 500px; display: block; margin: 0 auto 5px auto;\">\n",
    "<p style=\"text-align: center;\"><strong>Figura: Tabela simplificada, apenas com dados de Alice.</strong></p>"
   ]
  },
  {
   "cell_type": "markdown",
   "id": "cba51cae-1b7b-46d2-8adf-5a840e7a58ff",
   "metadata": {},
   "source": [
    "Então a perda média de erro quadrático é apenas o erro quadrado de Alice:\n",
    "\n",
    "\\begin{align*}\n",
    "MSE = \\frac{1}{1} \\sum_{i=1}^1 (y_{voce é o} - y_{pred})^2 \\\\\n",
    "    = (y_{voce é o} - y_{pred})^2 \\\\\n",
    "     = (1 - y_{pred})^2\n",
    "\\end{align*}\n"
   ]
  },
  {
   "cell_type": "markdown",
   "id": "2a73e949-b013-44b4-8ef0-ed329df68d45",
   "metadata": {},
   "source": [
    "Outra maneira de pensar sobre a perda é em função de pesos e bias. Vamos rotular cada peso e bias em nossa rede:"
   ]
  },
  {
   "cell_type": "markdown",
   "id": "4424628d-3993-4956-8a2e-bb5064bc2789",
   "metadata": {},
   "source": [
    "<img src=\"img/Fig_04.png\" alt=\"UESC\" style=\"width: 500px; display: block; margin: 0 auto 5px auto;\">\n",
    "<p style=\"text-align: center;\"><strong>Figura: Rede com duas camadas ocultas.</strong></p>"
   ]
  },
  {
   "cell_type": "markdown",
   "id": "4a87cf48-8fcb-4257-898f-064d69ba5624",
   "metadata": {},
   "source": [
    "Em redes neurais, a função perda $L$ depende de vários parâmetros - os pesos $\\omega$ e os bias $b$. Podemos, portanto, representar a perda como uma função multivariável:\n",
    "\n",
    "$$ L(\\omega_1, \\omega_2, \\omega_3, \\omega_4, \\omega_5, \\omega_6, b_1, b_2, b_3) $$\n",
    "\n",
    "Agora, imagine que queremos entender o que acontece com a perda $L$ quando modficamos apenas um dos parâmetros, por exemplo $\\omega_1$. Como a função $L$ mudaria nesse caso?\n",
    "\n",
    "Essa é justamente a idea de __derivada_parcial__ da perda em relação a $\\omega_1$, denotada por:\n",
    "\n",
    "$$ \\frac{\\partial L}{\\partial \\omega_1} $$\n",
    "\n",
    "Essa expressão nos diz como pequenas variações de $\\omega_1$ afetam a função de perda, mantendo os outros parâmetros constantes. Mas como podemos calcular essa derivada?"
   ]
  },
  {
   "cell_type": "markdown",
   "id": "6ecae1e8-0bc4-49d9-9b41-860813aa10a4",
   "metadata": {},
   "source": [
    "### Desenvolvimento Matemático\n",
    "\n",
    "Para calcular a derivada parcial da função de perda \\( L \\) em relação ao peso \\( $\\omega_1$\\), usamos a **regra da cadeia**:\n",
    "\n",
    "$$\n",
    "\\frac{\\partial L}{\\partial \\omega_1} = \\frac{\\partial L}{\\partial y_{pred}} . \\frac{\\partial y_{pred}}{\\partial \\omega_1}\n",
    "$$\n",
    "\n",
    "Vamos começar analisando o termo $ \\frac{\\partial L}{\\partial y_{pred}}$.\n",
    "\n",
    "Suponha que a função de perda utilizada seja o **erro quadrático**:\n",
    "\n",
    "\n",
    "$$\n",
    "L = (1 - y_{pred})^2\n",
    "$$\n",
    "\n",
    "A derivada dessa expressão em relação a $ y_{pred}$ é:\n",
    "\n",
    "$$\n",
    "\\frac{\\partial L}{\\partial y_{\\text{pred}}} = \\frac{\\partial (1 - y_{\\text{pred}})^2}{\\partial y_{\\text{pred}}} = -2(1 - y_{\\text{pred}})\n",
    "$$\n",
    "\n",
    "Agora, precisamos calcular o termo $\\frac{\\partial y_{pred}}{\\partial \\omega_1} $. \n",
    "\n",
    "Suponha que a saída da rede seja dada por:\n",
    "\n",
    "$$\n",
    "y_{\\text{pred}} = o_1 = f(\\omega_5 h_1 + \\omega_6 h_2 + b_3)\n",
    "$$\n",
    "\n",
    "onde:\n",
    "- ($f$ ) é a função de ativação **sigmoide**;\n",
    "- ( $h_1$ ) e ( $h_2$) são as ativações da camada oculta;\n",
    "- ($b_3$) é o bias\n",
    "- ( $o_1$) é a saída final da rede.\n",
    "\n",
    "Como $ \\omega_1 $ afeta apenas o neurônio ( $h_1$ ), e não ( $h_2$), aplicamos novamente a regra da cadeia:\n",
    "\n",
    "$$\n",
    "\\frac{\\partial y_{\\text{pred}}}{\\partial \\omega_1} = \\frac{\\partial y_{\\text{pred}}}{\\partial h_1} \\cdot \\frac{\\partial h_1}{\\partial \\omega_1}\n",
    "$$\n",
    "\n",
    "A ativação de ( $h_1$) é:\n",
    "\n",
    "$$\n",
    "h_1 = f(\\omega_1 x_1 + \\omega_2 x_2 + b_1)\n",
    "$$\n",
    "\n",
    "Portanto:\n",
    "\n",
    "$$\n",
    "\\frac{\\partial h_1}{\\partial \\omega_1} = x_1 \\cdot f'(\\omega_1 x_1 + \\omega_2 x_2 + b_1)\n",
    "$$\n",
    "\n",
    "> Aqui, ( $x_1$ ) pode representar, por exemplo, o **peso** de uma pessoa, e ( $x_2$), a **altura**.\n",
    "\n",
    "A função de ativação sigmoide é dada por:\n",
    "\n",
    "$$\n",
    "f(x) = \\frac{1}{1 + e^{-x}}\n",
    "$$\n",
    "\n",
    "E sua derivada é:\n",
    "\n",
    "$$\n",
    "f'(x) = \\frac{e^{-x}}{(1 + e^{-x})^2} = f(x) \\cdot (1 - f(x))\n",
    "$$\n",
    "\n",
    "Esse resultado é bastante útil, pois evita recalcular exponenciais durante a retropropagação.\n",
    "\n",
    "Com isso, podemos reescrever a derivada da função de perda em relação a ( $\\omega_1$ ) como:\n",
    "\n",
    "$$\n",
    "\\frac{\\partial L}{\\partial \\omega_1} = \\frac{\\partial L}{\\partial y_{\\text{pred}}} \\cdot \\frac{\\partial y_{\\text{pred}}}{\\partial h_1} \\cdot \\frac{\\partial h_1}{\\partial \\omega_1}\n",
    "$$\n",
    "\n",
    "Esse processo de cálculo de derivadas parciais, feito da saída para as camadas anteriores, é chamado de **retropropagação** (ou *backpropagation*), e é a base do treinamento de redes neurais.\n"
   ]
  },
  {
   "cell_type": "markdown",
   "id": "793ed111-d682-4b35-a8fb-650aaaa0c37c",
   "metadata": {},
   "source": [
    "__Exemplo de aplicação: Cálculo da derivada parcial__\n",
    "\n",
    "Vamos continuar fingindo que apanas Alice está em nosso conjuto de dados:\n",
    "\n",
    "<img src=\"img/Tab_04.png\" alt=\"UESC\" style=\"width: 500px; display: block; margin: 0 auto 5px auto;\">\n",
    "<p style=\"text-align: center;\"><strong>Figura: Tabela simplificada, apenas com dados de Alice.</strong></p>\n",
    "\n",
    "Vamos inicializar todos os pesos para 1 e todos os preconceitos para 0. Se fizermos uma passagem __feedforward__ pela rede, obtemos:\n",
    "\n",
    "\\begin{align*}\n",
    "    h_1 = f(\\omega_1 \\cdot x_1 + \\omega_2 \\cdot  x_2 + b_1) \\\\\n",
    "    = f(-2 -1 + 0) \\\\\n",
    "    = f(-3) \\\\\n",
    "    = 0.0474\n",
    "\\end{align*}\n",
    "\n",
    "e \n",
    "\n",
    "\\begin{align*}\n",
    "h_2 = f(\\omega_3 \\cdot x_1 + \\omega_4 \\cdot x_2 + b_2) = 0.0474 \\\\\n",
    "0_2  = f(\\omega_5 \\cdot h_1 + \\omega_6 h_2 + b_3) \\\\\n",
    "    = f(0.04747 + 0.0474 + 0) = f(0.09487) \\\\\n",
    "    = 0.524\n",
    "\\end{align*} \n"
   ]
  },
  {
   "cell_type": "markdown",
   "id": "60ce32cb-163e-49be-b352-5edde9c1a1f0",
   "metadata": {},
   "source": [
    "As saídas da rede $y_{pred}=0.524$, o que não favorece fortemente o sexo masculino (1) ou feminino (0). \n",
    "\n",
    "Vamos calcular $\\frac{\\partial L}{\\partial \\omega_1}$:\n",
    "\n",
    "\\begin{align*}\n",
    "\\frac{\\partial L}{\\partial \\omega_1} = \\frac{\\partial L}{\\partial y_{\\text{pred}}} \\cdot \\frac{\\partial y_{\\text{pred}}}{\\partial h_1} \\cdot \\frac{\\partial h_1}{\\partial \\omega_1} \\\\\n",
    "\\frac{\\partial L}{\\partial y_{pred}} = -2(1 - y_{pred}) \\\\\n",
    "    =  -2(1 - 0.524) \\\\\n",
    "    = -0.952\n",
    "\\end{align*} \n",
    "\n",
    "\\begin{align*}\n",
    "\\frac{\\partial y_{pred}}{\\partial h_1} = \\omega_5 \\cdot f^{'}(\\omega_5 \\cdot h_1 + \\omega_6 h_2 + b_3)\\\\\n",
    "    =  1 \\cdot f^{'}(0.0474 + 0.0474 + 0) \\\\\n",
    "    = 0.249\n",
    "\\end{align*} \n",
    "\n",
    "\\begin{align*}\n",
    "\\frac{\\partial h_{1}}{\\partial \\omega_1} = x_1 \\cdot  f^{'}(\\omega_1 x_1 + \\omega_2 \\cdot x_2 + b_1)\\\\\n",
    "    =  -2 \\cdot f^{'}(-2 -1 + 0) \\\\\n",
    "    =  -2 \\cdot f^{'}(-3) \\cdot (1 - f(-3)) \\\\\n",
    "    = -0.0904\n",
    "\\end{align*} \n",
    "\n",
    "\n",
    "\\begin{align*}\n",
    "\\frac{\\partial L}{\\partial \\omega_1} = -0.952 \\cdot 0.249 \\cdot -0.0904 \\\\\n",
    "    = 0.0214\n",
    "\\end{align*} \n"
   ]
  },
  {
   "cell_type": "markdown",
   "id": "8e29c043-b796-4e6f-81b5-3c29f10ebda2",
   "metadata": {},
   "source": [
    "__Lembrete__: derivamos $ f^{'}(x)(1 - f(x))$ para a função de ativação sigmoide anterior.\n",
    "\n",
    "O resultado nos diz que se fossemos aumentar $\\omega_1$ o valor de $L$ aumentaria um pouco como resultado."
   ]
  },
  {
   "cell_type": "markdown",
   "id": "dc6c9e62-8c4c-4049-9a24-daaa283aeaae",
   "metadata": {},
   "source": [
    "__Treinamento: Gradiente Descendente Estocástico__\n",
    "\n",
    "Temos todas as ferramentas necessárias para treinar uma rede neural. Agora usaremos um algoritmo de otimizaçã chamado __gradiente descendente estocástico__ (SGD) que nos diz como alterar nossos pesos e desvios para minimizar a perda. É basicamente esta equação de atualização:\n",
    "\n",
    "$$\n",
    "\\omega_1 \\leftarrow  \\omega_1 - \\eta \\frac{\\partial L}{\\partial \\omega_1}\n",
    "$$\n",
    "\n",
    "onde $\\eta$ é uma constante chamada __taxa de aprendizado__ que controla a rapidez com que treinamos. Tudo o que estamos fazendo é subtrair $ \\eta \\frac{\\partial L}{\\partial \\omega_1} $ de $\\omega_1$:\n",
    "\n",
    "- Se $ \\frac{\\partial L}{\\partial \\omega_1}$ é __positivo__, $\\omega_1$ __diminuirá__, o que torna $L$ diminuir.\n",
    "- Se $ \\frac{\\partial L}{\\partial \\omega_1}$ é __positivo__, $\\omega_1$ __aumentará__, o que torna $L$ diminuir.\n",
    "\n",
    "Se fizermos isso para cada peso ou bias na rede, a perda diminuirá lentamente e nossa rede melhorará.\n",
    "\n",
    "Nosso process de treinamento será assim:\n",
    "\n",
    "1. Escolha uma amostra do nosso conjunto de dados. Isso é o que o torna descentende de gradiente estocástico - operamos apenas em uma amostra de cada vez.\n",
    "2. Calcule todas as derivadas parciais da perda em relação a pesos ou desvios (por exemplo: $\\frac{\\partial L}{\\partial \\omega_1}$, $ \\frac{\\partial L}{\\partial \\omega_2}$, etc.)\n",
    "3. Use a equação de atualização par atualizar cada peso e desvio.\n",
    "4. Volte para a etapa 1.\n",
    "\n",
    "Vamos fazer um exemplo.\n"
   ]
  },
  {
   "cell_type": "markdown",
   "id": "988cee5b-db6d-4210-8701-4ed973d08cf4",
   "metadata": {},
   "source": [
    "### Treinamento: Gradiente Descendente Estocástico\n",
    "\n",
    "Agora que temos todas as ferramentas necessárias, podemos treinar uma rede neural usando um algoritmo de otimização chamado **gradiente descendente estocástico** (SGD – *Stochastic Gradient Descent*).\n",
    "\n",
    "Esse algoritmo nos diz como atualizar os pesos e bias da rede para minimizar a função de perda. A regra de atualização para um peso qualquer, como ( $\\omega_1$), é dada por:\n",
    "\n",
    "$$\n",
    "\\omega_1 \\leftarrow \\omega_1 - \\eta \\frac{\\partial L}{\\partial \\omega_1}\n",
    "$$\n",
    "\n",
    "onde:\n",
    "- ( $\\eta $) é a **taxa de aprendizado** (*learning rate*), um hiperparâmetro que controla a velocidade do treinamento;\n",
    "- ( $\\frac{\\partial L}{\\partial \\omega_1}$) é a **derivada da perda** em relação ao peso ( $\\omega_1$).\n",
    "\n",
    "Tudo o que estamos fazendo é subtrair um pequeno valor proporcional à inclinação da função de perda com relação ao peso. O objetivo é mover ( $\\omega_1$) na direção que **faz ( $L$) diminuir**:\n",
    "\n",
    "- Se ( $\\frac{\\partial L}{\\partial \\omega_1} $) for **positivo**, então ( $\\omega_1 $) será **diminuído**, fazendo ( $L $) tender a diminuir.\n",
    "- Se ( $\\frac{\\partial L}{\\partial \\omega_1} $) for **negativo**, então ( $\\omega_1 $) será **aumentado**, também no sentido de diminuir ($ L$ ).\n",
    "\n",
    "Repetindo esse processo para **todos os pesos e bias** da rede, conseguimos reduzir gradualmente a função de perda e melhorar o desempenho da rede.\n",
    "\n",
    "---\n",
    "__Esclarecimento__:\n",
    "\n",
    "A ideia central do gradiente descendente é sempre ajustar os pesos na direção oposta à inclinação da função d eperda - ou seja, diminuir $L$. O valor da derivada $\\frac{\\partial L}{\\partial \\omega_1}$ nos informa em que direção $L$ está aumentando com relação a $\\omega_1$.\n",
    "\n",
    "Tudo o que estamos fazendo é mover o peso na direção contrária à inclinação da função de perda:\n",
    "\n",
    "- Se ( $\\frac{\\partial L}{\\partial \\omega_1}$ ) for **positivo**, isso significa que aumentar ( $\\omega_1$) faria ( $L$) crescer.  \n",
    "  Logo, diminuímos ( $\\omega_1$) para reduzir ( $L$).\n",
    "\n",
    "- Se ( $\\frac{\\partial L}{\\partial \\omega_1}$) for **negativo**, então aumentar ( $\\omega_1$) faz ( $L$) diminuir.  \n",
    "  Assim, aumentamos ( $\\omega_1$) para continuar diminuindo ( $L$).\n",
    "\n",
    "Ou seja, **em ambos os casos, ajustamos ( $\\omega_1$) na direção que faz ( $L$) diminuir**, seguindo a regra:\n",
    "\n",
    "$$\n",
    "\\omega_1 \\leftarrow \\omega_1 - \\eta \\frac{\\partial L}{\\partial \\omega_1}\n",
    "$$\n",
    "\n",
    "Ou seja:\n",
    "\n",
    "Não é o sinal da derivada que importa e sim a direção contrária a ela - essa é a essência do __descendente__ em _gradiente descendente_.\n"
   ]
  },
  {
   "cell_type": "markdown",
   "id": "a12df065-4592-44d9-8bab-89c41dcc142b",
   "metadata": {},
   "source": [
    "### Etapas do treinamento com SGD\n",
    "\n",
    "Nosso processo de treinamento segue o seguinte ciclo:\n",
    "\n",
    "1. **Escolher uma amostra** (ou um pequeno lote) do conjunto de dados.  \n",
    "   Isso torna o método *estocástico*, pois cada atualização considera apenas uma pequena parte dos dados.\n",
    "\n",
    "2. **Calcular as derivadas parciais** da função de perda em relação a cada peso e bias, por exemplo:  \n",
    "   $$\n",
    "   \\frac{\\partial L}{\\partial \\omega_1}, \\quad \\frac{\\partial L}{\\partial \\omega_2}, \\quad \\frac{\\partial L}{\\partial b_1}, \\quad \\text{etc.}\n",
    "   $$\n",
    "\n",
    "3. **Atualizar os parâmetros** (pesos e bias) utilizando a regra de atualização do gradiente descendente.\n",
    "\n",
    "4. **Repetir o processo** a partir da etapa 1 para novas amostras, até que a perda total esteja suficientemente pequena.\n",
    "\n",
    "---\n",
    "\n",
    "Vamos agora aplicar esse processo em um exemplo prático."
   ]
  },
  {
   "cell_type": "markdown",
   "id": "4a05367c-ff59-451b-9761-8109c307b158",
   "metadata": {},
   "source": [
    "#### Código: Uma Rede Neural completa.\n",
    "\n",
    "Agora vamos implementar uma rede neural completa.\n",
    "\n",
    "<img src=\"img/Tab_02.png\" alt=\"UESC\" style=\"width: 500px; display: block; margin: 0 auto 5px auto;\">\n",
    "<p style=\"text-align: center;\"><strong>Figura: Tabela de dados modificada.</strong></p>"
   ]
  },
  {
   "cell_type": "markdown",
   "id": "5c5620df-2e77-423b-84e3-7625dc45442e",
   "metadata": {},
   "source": [
    "<img src=\"img/Fig_04.png\" alt=\"UESC\" style=\"width: 500px; display: block; margin: 0 auto 5px auto;\">\n",
    "<p style=\"text-align: center;\"><strong>Figura: Rede com duas camadas ocultas.</strong></p>"
   ]
  },
  {
   "cell_type": "code",
   "execution_count": 25,
   "id": "efbe468d-973d-4d26-891e-6391e5623cdc",
   "metadata": {},
   "outputs": [
    {
     "name": "stdout",
     "output_type": "stream",
     "text": [
      "Epoch 0 loss: 0.2606\n",
      "Epoch 100 loss: 0.0461\n",
      "Epoch 200 loss: 0.0178\n",
      "Epoch 300 loss: 0.0103\n",
      "Epoch 400 loss: 0.0072\n",
      "Epoch 500 loss: 0.0054\n",
      "Epoch 600 loss: 0.0043\n",
      "Epoch 700 loss: 0.0036\n",
      "Epoch 800 loss: 0.0031\n",
      "Epoch 900 loss: 0.0027\n"
     ]
    },
    {
     "data": {
      "image/png": "[encoded data removed]",
      "text/plain": [
       "<Figure size 800x500 with 1 Axes>"
      ]
     },
     "metadata": {},
     "output_type": "display_data"
    },
    {
     "name": "stdout",
     "output_type": "stream",
     "text": [
      "\n",
      "Previsões após o treinamento:\n",
      "Alice: 0.954 → Classe 1\n",
      "Bob: 0.057 → Classe 0\n",
      "Charlie: 0.057 → Classe 0\n",
      "Diana: 0.968 → Classe 1\n",
      "\n",
      "Predições para novos dados:\n",
      "Novo Exemplo 1: 0.057 → Classe 0\n",
      "Novo Exemplo 2: 0.586 → Classe 1\n",
      "Novo Exemplo 3: 0.968 → Classe 1\n"
     ]
    }
   ],
   "source": [
    "import numpy as np\n",
    "import matplotlib.pyplot as plt\n",
    "\n",
    "def sigmoid(x):\n",
    "    return 1 / (1 + np.exp(-x))\n",
    "\n",
    "def deriv_sigmoid(x):\n",
    "    fx = sigmoid(x)\n",
    "    return fx * (1 - fx)\n",
    "\n",
    "def mse_loss(y_true, y_pred):\n",
    "    return ((y_true - y_pred) ** 2).mean()\n",
    "\n",
    "class OurNeuralNetwork:\n",
    "    def __init__(self):\n",
    "        # Pesos\n",
    "        self.w1 = np.random.normal()\n",
    "        self.w2 = np.random.normal()\n",
    "        self.w3 = np.random.normal()\n",
    "        self.w4 = np.random.normal()\n",
    "        self.w5 = np.random.normal()\n",
    "        self.w6 = np.random.normal()\n",
    "\n",
    "        # Bias\n",
    "        self.b1 = np.random.normal()\n",
    "        self.b2 = np.random.normal()\n",
    "        self.b3 = np.random.normal()\n",
    "\n",
    "        # Histórico da perda\n",
    "        self.loss_history = []\n",
    "\n",
    "    def feedforward(self, x):\n",
    "        h1 = sigmoid(self.w1 * x[0] + self.w2 * x[1] + self.b1)\n",
    "        h2 = sigmoid(self.w3 * x[0] + self.w4 * x[1] + self.b2)\n",
    "        o1 = sigmoid(self.w5 * h1 + self.w6 * h2 + self.b3)\n",
    "        return o1\n",
    "\n",
    "    def train(self, data, all_y_trues, learn_rate=0.1, epochs=1000):\n",
    "        for epoch in range(epochs):\n",
    "            for x, y_true in zip(data, all_y_trues):\n",
    "                # Forward pass\n",
    "                sum_h1 = self.w1 * x[0] + self.w2 * x[1] + self.b1\n",
    "                h1 = sigmoid(sum_h1)\n",
    "\n",
    "                sum_h2 = self.w3 * x[0] + self.w4 * x[1] + self.b2\n",
    "                h2 = sigmoid(sum_h2)\n",
    "\n",
    "                sum_o1 = self.w5 * h1 + self.w6 * h2 + self.b3\n",
    "                o1 = sigmoid(sum_o1)\n",
    "                y_pred = o1\n",
    "\n",
    "                # Derivadas da função de perda\n",
    "                d_L_d_ypred = -2 * (y_true - y_pred)\n",
    "\n",
    "                # Camada de saída\n",
    "                d_ypred_d_w5 = h1 * deriv_sigmoid(sum_o1)\n",
    "                d_ypred_d_w6 = h2 * deriv_sigmoid(sum_o1)\n",
    "                d_ypred_d_b3 = deriv_sigmoid(sum_o1)\n",
    "\n",
    "                d_ypred_d_h1 = self.w5 * deriv_sigmoid(sum_o1)\n",
    "                d_ypred_d_h2 = self.w6 * deriv_sigmoid(sum_o1)\n",
    "\n",
    "                # Camada oculta\n",
    "                d_h1_d_w1 = x[0] * deriv_sigmoid(sum_h1)\n",
    "                d_h1_d_w2 = x[1] * deriv_sigmoid(sum_h1)\n",
    "                d_h1_d_b1 = deriv_sigmoid(sum_h1)\n",
    "\n",
    "                d_h2_d_w3 = x[0] * deriv_sigmoid(sum_h2)\n",
    "                d_h2_d_w4 = x[1] * deriv_sigmoid(sum_h2)\n",
    "                d_h2_d_b2 = deriv_sigmoid(sum_h2)\n",
    "\n",
    "                # Atualização dos pesos\n",
    "                self.w1 -= learn_rate * d_L_d_ypred * d_ypred_d_h1 * d_h1_d_w1\n",
    "                self.w2 -= learn_rate * d_L_d_ypred * d_ypred_d_h1 * d_h1_d_w2\n",
    "                self.b1 -= learn_rate * d_L_d_ypred * d_ypred_d_h1 * d_h1_d_b1\n",
    "\n",
    "                self.w3 -= learn_rate * d_L_d_ypred * d_ypred_d_h2 * d_h2_d_w3\n",
    "                self.w4 -= learn_rate * d_L_d_ypred * d_ypred_d_h2 * d_h2_d_w4\n",
    "                self.b2 -= learn_rate * d_L_d_ypred * d_ypred_d_h2 * d_h2_d_b2\n",
    "\n",
    "                self.w5 -= learn_rate * d_L_d_ypred * d_ypred_d_w5\n",
    "                self.w6 -= learn_rate * d_L_d_ypred * d_ypred_d_w6\n",
    "                self.b3 -= learn_rate * d_L_d_ypred * d_ypred_d_b3\n",
    "\n",
    "            # Perda da época\n",
    "            y_preds = np.apply_along_axis(self.feedforward, 1, data)\n",
    "            loss = mse_loss(all_y_trues, y_preds)\n",
    "            self.loss_history.append(loss)\n",
    "\n",
    "            if epoch % 100 == 0:\n",
    "                print(f\"Epoch {epoch} loss: {loss:.4f}\")\n",
    "\n",
    "    def plot_loss(self):\n",
    "        plt.figure(figsize=(8, 5))\n",
    "        plt.plot(self.loss_history, label=\"Loss\")\n",
    "        plt.xlabel(\"Épocas\")\n",
    "        plt.ylabel(\"Erro Quadrático Médio\")\n",
    "        plt.title(\"Perda durante o treinamento\")\n",
    "        plt.grid(True)\n",
    "        plt.legend()\n",
    "        plt.tight_layout()\n",
    "        plt.show()\n",
    "\n",
    "    def predict(self, x):\n",
    "        return self.feedforward(x)\n",
    "\n",
    "# Dados de treino\n",
    "data = np.array([\n",
    "    [-2, -1],    # Alice\n",
    "    [25, 6],     # Bob\n",
    "    [17, 4],     # Charlie\n",
    "    [-15, -6],   # Diana\n",
    "])\n",
    "all_y_trues = np.array([1, 0, 0, 1])\n",
    "\n",
    "# Criar e treinar a rede\n",
    "network = OurNeuralNetwork()\n",
    "network.train(data, all_y_trues, learn_rate=0.1, epochs=1000)\n",
    "\n",
    "# Gráfico da perda\n",
    "network.plot_loss()\n",
    "\n",
    "# Predições\n",
    "print(\"\\nPrevisões após o treinamento:\")\n",
    "pessoas = [\"Alice\", \"Bob\", \"Charlie\", \"Diana\"]\n",
    "for pessoa, entrada in zip(pessoas, data):\n",
    "    pred = network.predict(entrada)\n",
    "    print(f\"{pessoa}: {pred:.3f} → {'Classe 1' if pred >= 0.5 else 'Classe 0'}\")\n",
    "\n",
    "# Novos exemplos\n",
    "novos_dados = [\n",
    "    ([20, 5], \"Novo Exemplo 1\"),\n",
    "    ([0, 0], \"Novo Exemplo 2\"),\n",
    "    ([-10, -4], \"Novo Exemplo 3\"),\n",
    "]\n",
    "\n",
    "print(\"\\nPredições para novos dados:\")\n",
    "for entrada, nome in novos_dados:\n",
    "    pred = network.predict(np.array(entrada))\n",
    "    print(f\"{nome}: {pred:.3f} → {'Classe 1' if pred >= 0.5 else 'Classe 0'}\")\n"
   ]
  },
  {
   "cell_type": "markdown",
   "id": "0901ec80-cccf-46c5-ab98-a742e10797a9",
   "metadata": {},
   "source": [
    "__Agora podemos usar a rede para prever gêneros__:"
   ]
  },
  {
   "cell_type": "code",
   "execution_count": 26,
   "id": "1b23e7ab-a691-42ab-ac61-ccfa2b2cfc4f",
   "metadata": {},
   "outputs": [
    {
     "name": "stdout",
     "output_type": "stream",
     "text": [
      "Emily: 0.968\n",
      "Frank: 0.057\n"
     ]
    }
   ],
   "source": [
    "# Faça algumas previsões\n",
    "\n",
    "emily = np.array([-7, -3]) # 128 libras, 63 polegadas\n",
    "frank = np.array([20, 2])  # 155 libras, 68 polegadas\n",
    "\n",
    "print('Emily: %.3f' % network.feedforward(emily)) # 0.951 - F\n",
    "print('Frank: %.3f' % network.feedforward(frank)) # 0.039 - M\n"
   ]
  },
  {
   "cell_type": "code",
   "execution_count": 27,
   "id": "ed942e0e-37b3-4b18-b2b8-59204825bcfc",
   "metadata": {},
   "outputs": [
    {
     "name": "stdout",
     "output_type": "stream",
     "text": [
      "Emily: 0.968\n",
      "Frank: 0.057\n"
     ]
    }
   ],
   "source": [
    "# Formatação moderna usando f-strings.\n",
    "\n",
    "print(f'Emily: {network.feedforward(emily):.3f}')\n",
    "print(f'Frank: {network.feedforward(frank):.3f}')"
   ]
  },
  {
   "cell_type": "markdown",
   "id": "31c8aa02-d767-4c84-9b7e-c6e196d91864",
   "metadata": {},
   "source": [
    "#### Exercício de Aplicação\n",
    "\n",
    "LInk: https://chatgpt.com/share/688cc1e6-4f84-800f-b5d8-2b587f9ae921\n",
    "\n",
    "#### Previsão de Tipo de Unidade com Redes Neurais.\n",
    "\n",
    "Considere os dados experimentais apresentados na tabela a seguir, que descrevem algumas unidades operacionais em uma planta química. Para cada unidade, foram registrados seu peso (em libras), sua altura (em polegadas) e o tipo da unidade (Reator ou Destilador).\n",
    "\n",
    "<img src=\"img/Tab_10.png\" alt=\"UESC\" style=\"width: 700px; display: block; margin: 0 auto 5px auto;\">\n",
    "<p style=\"text-align: center;\"><strong>Figura: Previsão de tipo de unidade com redes neurais.</strong></p>"
   ]
  },
  {
   "cell_type": "markdown",
   "id": "97be218c-5b16-482b-815a-2e0e4327bafb",
   "metadata": {},
   "source": [
    "__Objetivo:\n",
    "\n",
    "Vamos criar uma rede neural artificial simples (feedfoward) com:\n",
    "\n",
    "- duas entradas: peso (lb) e altura (pol),\n",
    "- duas unidades na camada oculta: $h_1$ e $h_2$,\n",
    "- uma unidade na camada de saída: o₁ (indicando probabilidade de ser Destilador),\n",
    "- função de ativação sigmoide em todas as camadas,\n",
    "- treinamento não será realizado — vamos apenas mostrar o cálculo manual com pesos fixos para fins didáticos.\n",
    "\n",
    "A rede deve receber dois valores como entrada: __peso__ e __altura__ da unidade, e fornecer como saída uma __probabilidade__ entre $0$ e $1$ de a unidade ser classificada como “__Destilador__”."
   ]
  },
  {
   "cell_type": "markdown",
   "id": "451b8098-89c6-4a2c-8f37-ed2be7020e21",
   "metadata": {},
   "source": [
    "__Cálculo feedforward:__\n",
    "\n",
    "Etapas:\n",
    "\n",
    "- Entrada ($x_1$, $x_2$) → Camada Oculta ($_1$, $h_2$) → Saída ($_1$₁)\n",
    "\n",
    "__Função de Ativação a ser usada: Sigmoid\n",
    "\n",
    "$$ sigmoid = 1/(1 + exp^{-x} $$\n",
    "\n"
   ]
  },
  {
   "cell_type": "markdown",
   "id": "6425222f-8a2b-435d-bb10-b75be2b34f53",
   "metadata": {},
   "source": [
    "#### Código em Python da resolução do problema"
   ]
  },
  {
   "cell_type": "code",
   "execution_count": 36,
   "id": "a0285236-413b-4592-be67-19146dd8b705",
   "metadata": {},
   "outputs": [
    {
     "name": "stdout",
     "output_type": "stream",
     "text": [
      "Época 0 - Erro quadrático médio: 0.1853\n",
      "Época 100 - Erro quadrático médio: 0.1322\n",
      "Época 200 - Erro quadrático médio: 0.1108\n",
      "Época 300 - Erro quadrático médio: 0.0987\n",
      "Época 400 - Erro quadrático médio: 0.0897\n",
      "Época 500 - Erro quadrático médio: 0.0823\n",
      "Época 600 - Erro quadrático médio: 0.0761\n",
      "Época 700 - Erro quadrático médio: 0.0709\n",
      "Época 800 - Erro quadrático médio: 0.0664\n",
      "Época 900 - Erro quadrático médio: 0.0625\n",
      "\n",
      "Pesos finais:\n",
      "[[2.57383293]\n",
      " [1.01137484]]\n",
      "Bias final: -1.8248311641301398\n",
      "Entrada [0.5 0.5] → Probabilidade: 0.49 → Classe prevista: Reator\n",
      "Entrada [0.95       0.91666667] → Probabilidade: 0.82 → Classe prevista: Destilador\n"
     ]
    },
    {
     "data": {
      "image/png": "[encoded data removed]",
      "text/plain": [
       "<Figure size 640x480 with 1 Axes>"
      ]
     },
     "metadata": {},
     "output_type": "display_data"
    }
   ],
   "source": [
    "import numpy as np\n",
    "import matplotlib.pyplot as plt\n",
    "\n",
    "# Dados de entrada (peso e altura)\n",
    "X = np.array([\n",
    "    [133, 65],\n",
    "    [160, 72],\n",
    "    [152, 70],\n",
    "    [120, 60]\n",
    "], dtype=np.float64)\n",
    "\n",
    "# Normalização min-max\n",
    "X_min = X.min(axis=0)\n",
    "X_max = X.max(axis=0)\n",
    "X_norm = (X - X_min) / (X_max - X_min)\n",
    "\n",
    "# Saída desejada: 0 = Reator, 1 = Destilador\n",
    "y = np.array([[0], [1], [1], [0]])\n",
    "\n",
    "# Função sigmoide e sua derivada\n",
    "def sigmoid(z):\n",
    "    return 1 / (1 + np.exp(-z))\n",
    "\n",
    "def sigmoid_derivada(z):\n",
    "    s = sigmoid(z)\n",
    "    return s * (1 - s)\n",
    "\n",
    "# Inicialização de pesos e bias\n",
    "np.random.seed(0)\n",
    "w = np.random.randn(2, 1)\n",
    "b = 0.0\n",
    "\n",
    "# Hiperparâmetros\n",
    "alpha = 0.1\n",
    "epocas = 1000\n",
    "erros = []\n",
    "\n",
    "# Treinamento\n",
    "for epoca in range(epocas):\n",
    "    z = np.dot(X_norm, w) + b\n",
    "    y_pred = sigmoid(z)\n",
    "\n",
    "    erro = y_pred - y\n",
    "    custo = np.mean(erro ** 2)\n",
    "    erros.append(custo)\n",
    "\n",
    "    grad_w = np.dot(X_norm.T, erro * sigmoid_derivada(z)) / len(X_norm)\n",
    "    grad_b = np.mean(erro * sigmoid_derivada(z))\n",
    "\n",
    "    w -= alpha * grad_w\n",
    "    b -= alpha * grad_b\n",
    "\n",
    "    if epoca % 100 == 0:\n",
    "        print(f\"Época {epoca} - Erro quadrático médio: {custo:.4f}\")\n",
    "\n",
    "# Pesos e bias finais\n",
    "print(\"\\nPesos finais:\")\n",
    "print(w)\n",
    "print(\"Bias final:\", b)\n",
    "\n",
    "# Teste com novas entradas\n",
    "novas_entradas = np.array([\n",
    "    [140, 66],\n",
    "    [158, 71]\n",
    "], dtype=np.float64)\n",
    "\n",
    "novas_entradas_norm = (novas_entradas - X_min) / (X_max - X_min)\n",
    "\n",
    "for entrada in novas_entradas_norm:\n",
    "    z = np.dot(entrada, w) + b\n",
    "    prob = sigmoid(z)\n",
    "    classe = \"Destilador\" if prob >= 0.5 else \"Reator\"\n",
    "    print(f\"Entrada {entrada} → Probabilidade: {prob[0]:.2f} → Classe prevista: {classe}\")\n",
    "\n",
    "# Gráfico do erro quadrático médio\n",
    "plt.plot(erros)\n",
    "plt.title(\"Erro Quadrático Médio durante o Treinamento\")\n",
    "plt.xlabel(\"Épocas\")\n",
    "plt.ylabel(\"Erro\")\n",
    "plt.grid(True)\n",
    "plt.show()\n",
    "\n"
   ]
  },
  {
   "cell_type": "markdown",
   "id": "5cc608e3-de0b-45ea-b13b-151302fcc4ce",
   "metadata": {},
   "source": [
    "#### Como interpretar o gráfico de erro\n",
    "\n",
    "1. Tendência decrescente: Se o erro vai diminuindo ao longo das épocas, significa que a rede neural está aprendendo.\n",
    "2. Estabilização do erro: Quando o gráfico começa a se estabilizar, é um indicativo de que o modelo convergiu.\n",
    "3. __Oscilações__:\n",
    "   - Se o gráfico oscila demais, pode ser que a taxa de aprendizado (alpha) esteja alta.\n",
    "   - Se o erro não diminui muito ou fica quase constante desde o início, talvez seja necessário ajustar os pesos iniciais ou rever a normalização dos dados.\n",
    "4. __Possíveis melhorias__:\n",
    "   - Testar com mais dados.\n",
    "   - Aumentar o número de neurônios (caso avance para modelos com camadas ocultas).\n",
    "   - Aumentar o número de neurônios (caso avance para modelos com camadas ocultas).\n",
    "\n",
    "\n",
    "\n",
    "\n",
    "\n",
    "\n",
    "\n",
    "\n"
   ]
  },
  {
   "cell_type": "markdown",
   "id": "59e9847b-262a-4769-899e-90796a2522b8",
   "metadata": {},
   "source": [
    "#### Usando bibliotecas específicas\n",
    "\n",
    "Podemos usar bibliotecas específica tais como __Sklearn__,__tensorfow__  e __keras__ para resolver o mesmo problema. E observe que as linhas de código diminuem muito com o uso dessas biblitecas prontas o que possibilita a obtenção rápida e segura dos resultados."
   ]
  },
  {
   "cell_type": "code",
   "execution_count": 40,
   "id": "d3898d80-15b5-416b-ad1e-0f19d0137338",
   "metadata": {},
   "outputs": [
    {
     "name": "stdout",
     "output_type": "stream",
     "text": [
      "Entradas normalizadas:\n",
      " [[0.325      0.41666667]\n",
      " [1.         1.        ]\n",
      " [0.8        0.83333333]\n",
      " [0.         0.        ]]\n",
      "WARNING:tensorflow:6 out of the last 6 calls to <function TensorFlowTrainer.make_predict_function.<locals>.one_step_on_data_distributed at 0x000002444E116700> triggered tf.function retracing. Tracing is expensive and the excessive number of tracings could be due to (1) creating @tf.function repeatedly in a loop, (2) passing tensors with different shapes, (3) passing Python objects instead of tensors. For (1), please define your @tf.function outside of the loop. For (2), @tf.function has reduce_retracing=True option that can avoid unnecessary retracing. For (3), please refer to https://www.tensorflow.org/guide/function#controlling_retracing and https://www.tensorflow.org/api_docs/python/tf/function for  more details.\n",
      "\u001b[1m1/1\u001b[0m \u001b[32m━━━━━━━━━━━━━━━━━━━━\u001b[0m\u001b[37m\u001b[0m \u001b[1m0s\u001b[0m 150ms/step\n",
      "Unidade A: Probabilidade de ser Destilador = 0.5474\n",
      "Unidade B: Probabilidade de ser Destilador = 0.5472\n",
      "Unidade C: Probabilidade de ser Destilador = 0.5469\n",
      "Unidade D: Probabilidade de ser Destilador = 0.5572\n"
     ]
    }
   ],
   "source": [
    "import numpy as np\n",
    "from sklearn.preprocessing import MinMaxScaler\n",
    "from tensorflow.keras.models import Sequential\n",
    "from tensorflow.keras.layers import Dense, Input\n",
    "import matplotlib.pyplot as plt\n",
    "\n",
    "# Dados brutos: Peso (lb), Altura (pol)\n",
    "dados = np.array([\n",
    "    [133, 65],  # Reator\n",
    "    [160, 72],  # Destilador\n",
    "    [152, 70],  # Destilador\n",
    "    [120, 60]   # Reator\n",
    "])\n",
    "\n",
    "# Saída desejada: 0 para Reator, 1 para Destilador\n",
    "saidas = np.array([0, 1, 1, 0])\n",
    "\n",
    "# Normalização dos dados de entrada com MinMaxScaler\n",
    "scaler = MinMaxScaler()\n",
    "entradas_normalizadas = scaler.fit_transform(dados)\n",
    "\n",
    "# Visualizando os dados normalizados\n",
    "print(\"Entradas normalizadas:\\n\", entradas_normalizadas)\n",
    "\n",
    "# Criação da rede neural (sem treinamento)\n",
    "modelo = Sequential([\n",
    "    Input(shape=(2,)),\n",
    "    Dense(2, activation='sigmoid', name='camada_oculta'),\n",
    "    Dense(1, activation='sigmoid', name='camada_saida')\n",
    "])\n",
    "\n",
    "# Fornecimento manual dos pesos e bias (didático)\n",
    "pesos_ocultos = np.array([[0.5, -0.4], [-0.3, 0.8]])  # shape: (2, 2)\n",
    "bias_ocultos = np.array([0.1, -0.2])                 # shape: (2,)\n",
    "\n",
    "pesos_saida = np.array([[1.2], [-1.0]])              # shape: (2, 1)\n",
    "bias_saida = np.array([0.05])                        # shape: (1,)\n",
    "\n",
    "# Atribuir os pesos manualmente às camadas\n",
    "modelo.get_layer('camada_oculta').set_weights([pesos_ocultos, bias_ocultos])\n",
    "modelo.get_layer('camada_saida').set_weights([pesos_saida, bias_saida])\n",
    "\n",
    "# Realizando as previsões (feedforward)\n",
    "saidas_preditas = modelo.predict(entradas_normalizadas)\n",
    "\n",
    "# Mostrar os resultados\n",
    "for i, saida in enumerate(saidas_preditas):\n",
    "    print(f\"Unidade {chr(65+i)}: Probabilidade de ser Destilador = {saida[0]:.4f}\")\n"
   ]
  },
  {
   "cell_type": "markdown",
   "id": "91625437-39a8-40dd-ba87-b4230fd2b87f",
   "metadata": {},
   "source": [
    "#### Gráfico de visualização (opcional)"
   ]
  },
  {
   "cell_type": "code",
   "execution_count": 42,
   "id": "bd9cc868-6170-4a98-a861-06de5905dff9",
   "metadata": {},
   "outputs": [
    {
     "data": {
      "image/png": "[encoded data removed]",
      "text/plain": [
       "<Figure size 800x500 with 1 Axes>"
      ]
     },
     "metadata": {},
     "output_type": "display_data"
    }
   ],
   "source": [
    "plt.figure(figsize=(8, 5))\n",
    "x_labels = ['Unidade A', 'Unidade B', 'Unidade C', 'Unidade D']\n",
    "valores_saida = saidas_preditas.flatten()\n",
    "\n",
    "# Gráfico de dispersão (pontos)\n",
    "plt.scatter(x_labels, valores_saida, color='blue', s=100, label='Probabilidade de ser Destilador')\n",
    "\n",
    "# Linha de decisão em 0.5\n",
    "plt.axhline(y=0.5, color='red', linestyle='--', label='Limiar de decisão (0.5)')\n",
    "\n",
    "# Adiciona valores numéricos acima dos pontos\n",
    "for i, valor in enumerate(valores_saida):\n",
    "    plt.text(i, valor + 0.02, f'{valor:.3f}', ha='center', fontsize=10)\n",
    "\n",
    "plt.ylim(0, 1)\n",
    "plt.title('Saída da Rede Neural para cada Unidade')\n",
    "plt.ylabel('Probabilidade (Destilador)')\n",
    "plt.legend()\n",
    "plt.grid(True)\n",
    "plt.tight_layout()\n",
    "plt.show()\n"
   ]
  },
  {
   "cell_type": "markdown",
   "id": "e7042305-bc89-4849-8e94-817548b24ebd",
   "metadata": {},
   "source": [
    "<div style=\"text-align: center; font-size: 12px; color: gray; margin-top: 40px;\">\n",
    "  Este notebook foi desenvolvido no âmbito do Grupo de Pesquisa em Modelagem Computacional da UESC.<br>\n",
    "  Todos os direitos reservados © 2025\n",
    "</div>"
   ]
  }
 ],
 "metadata": {
  "kernelspec": {
   "display_name": "Python 3 (ipykernel)",
   "language": "python",
   "name": "python3"
  },
  "language_info": {
   "codemirror_mode": {
    "name": "ipython",
    "version": 3
   },
   "file_extension": ".py",
   "mimetype": "text/x-python",
   "name": "python",
   "nbconvert_exporter": "python",
   "pygments_lexer": "ipython3",
   "version": "3.11.7"
  }
 },
 "nbformat": 4,
 "nbformat_minor": 5
}
