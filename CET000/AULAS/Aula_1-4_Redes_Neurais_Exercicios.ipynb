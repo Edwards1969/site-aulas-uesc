{
 "cells": [
  {
   "cell_type": "markdown",
   "id": "d5f0b201-0b81-4f5d-83e4-1f5e70535581",
   "metadata": {},
   "source": [
    "<div style=\"text-align: center;\">\n",
    "\n",
    "  <img src=\"img/LogoUesc.png\" alt=\"UESC\" style=\"width: 60px; display: block; margin: 0 auto 5px auto;\">\n",
    "\n",
    "  <div style=\"font-size: 20px;\"><strong>UNIVERSIDADE ESTADUAL DE SANTA CRUZ - UESC</strong></div>\n",
    "  <div style=\"font-size: 18px;\">DEPARTAMENTO DE ENGENHARIAS E COMPUTAÇÃO - DEC</div>\n",
    "  <div style=\"font-size: 18px;\">Grupo de Pesquisas em Simulações e Controle de Processos</div>\n",
    "\n",
    "  <hr style=\"margin: 20px 0; border: 1px solid #0074B7;\">\n",
    "\n",
    "  <div style=\"font-size: 22px; font-weight: bold; margin-bottom: 10px;\">PROGRAMAÇÃO EM PYTHON PARA AS ENGENHARIAS</div>\n",
    "\n",
    "  <div style=\"font-size: 18px; margin-top: 10px;\"><strong>Tema</strong>: Introdução a Redes Neurais Artificiais - Básico</div>\n",
    "  <div style=\"font-size: 18px;\"><strong>Prof. Dr. E.R.Edwards</strong></div>\n",
    "\n",
    "  <div style=\"font-size: 16px; margin-top: 15px;\">Ilhéus - BA, Abril de 2025</div>\n",
    "  \n",
    "  <hr style=\"margin: 20px 0; border: 1px solid #0074B7;\">\n",
    "\n",
    "</div>"
   ]
  },
  {
   "cell_type": "markdown",
   "id": "b3b7b7a6-1ce0-4b25-a7ea-6ae9781a00c4",
   "metadata": {},
   "source": [
    "#### Exercício – Classificação do Tipo de Reator com Redes Neurais\n",
    "\n",
    "__Enunciado__:\n",
    "\n",
    "Em uma planta de processos químicos, diferentes reatores são utilizados conforme as características da reação, como a necessidade de agitação contínua, regime de operação ou tempo de residência. Os dados operacionais mais comuns utilizados no projeto e na escolha desses reatores incluem a __massa de catalisador__ e a __temperatura__ de operação.\n",
    "\n",
    "A tabela a seguir apresenta informações de quatro reatores distintos. O objetivo é treinar uma rede neural que consiga classificar o tipo de reator com base nessas duas variáveis operacionais."
   ]
  },
  {
   "cell_type": "markdown",
   "id": "45829f7b-5292-4ff3-8f7e-e34c76e4c0da",
   "metadata": {},
   "source": [
    "<img src=\"img/Tab_08.png\" alt=\"UESC\" style=\"width: 650px; display: block; margin: 0 auto 5px auto;\">\n",
    "<p style=\"text-align: center;\"><strong>Figura: Tabela de dados para previsão de novas correntes.</strong></p>"
   ]
  },
  {
   "cell_type": "markdown",
   "id": "f3c5b6f9-bb39-43ba-b094-0ed717ff06ff",
   "metadata": {},
   "source": [
    "__Objetivo__:\n",
    "\n",
    "Desenvolver uma rede neural simples de classificação que receba como entrada a __massa de catalisador__ e a __temperatura__, e como saída o __tipo de reator__.\n",
    "\n",
    "__Instruções__:\n",
    "\n",
    "1. Codifique os tipos de reator com vetores binários (ex: __CSTR__ = $[1, 0, 0]$, __PFR__ = $[0, 1, 0]$, __BATCH__ = $[0, 0, 1]$)\n",
    "2. Normalize os dados de entrada.\n",
    "3. Implemente uma rede neural com:\n",
    "   - 2 entradas (massa e temperatura)\n",
    "   - 1 camada oculta com alguns neurônios (ex: 3 ou 4)\n",
    "   -  saídas (representando os três tipos de reator)\n",
    "4. Treine a rede com os dados fornecidos.\n",
    "5. Teste com novos dados simulados, por exemplo:"
   ]
  },
  {
   "cell_type": "markdown",
   "id": "1ddfb9f8-e25b-44ce-94be-41d843a1fe48",
   "metadata": {},
   "source": [
    "<img src=\"img/Tab_09.png\" alt=\"UESC\" style=\"width: 350px; display: block; margin: 0 auto 5px auto;\">\n",
    "<p style=\"text-align: center;\"><strong>Figura: Tabela de dados para previsão de novas correntes.</strong></p>"
   ]
  },
  {
   "cell_type": "markdown",
   "id": "fe6aa76d-f027-4e96-b0af-523fda0c0ec2",
   "metadata": {},
   "source": [
    "6. Analise a previsão da rede e discuta se a classificação parece coerente com os dados de entrada."
   ]
  },
  {
   "cell_type": "markdown",
   "id": "77e04382-9b64-4042-b250-e421fbe2c656",
   "metadata": {},
   "source": [
    "#### Implementação em Python\n",
    "\n",
    "__Exercício – Classificação do Tipo de Reator com Redes Neurais__:\n",
    "\n",
    "O objetivo é construir uma rede neural simples para classificar o tipo de reator com base na massa de catalisador e temperatura de operação. Usaremos uma abordagem passo a passo, com implementação do zero (sem Keras ou Scikit-learn), ideal para ensino.\n",
    "\n",
    "1. __Dados brutos__"
   ]
  },
  {
   "cell_type": "code",
   "execution_count": 8,
   "id": "274c8bf1-819e-4e9e-94f0-ad87aec03d30",
   "metadata": {},
   "outputs": [],
   "source": [
    "import numpy as np\n",
    "\n",
    "# Dados de entrada: [massa (g), temperatura (°C)]\n",
    "entradas = np.array([\n",
    "    [250, 320],  # R-101\n",
    "    [300, 350],  # R-102\n",
    "    [275, 340],  # R-103\n",
    "    [225, 310],  # R-104\n",
    "], dtype=np.float32)\n",
    "\n",
    "# Saída (one-hot encoding):\n",
    "# CSTR = [1, 0, 0], PFR = [0, 1, 0], BATCH = [0, 0, 1]\n",
    "saidas = np.array([\n",
    "    [1, 0, 0],  # R-101 → CSTR\n",
    "    [0, 1, 0],  # R-102 → PFR\n",
    "    [1, 0, 0],  # R-103 → CSTR\n",
    "    [0, 0, 1],  # R-104 → BATCH\n",
    "], dtype=np.float32)\n"
   ]
  },
  {
   "cell_type": "markdown",
   "id": "a3483cc1-0550-4c61-8a2e-9dca7edda60c",
   "metadata": {},
   "source": [
    "2. . Normalização das entradas"
   ]
  },
  {
   "cell_type": "code",
   "execution_count": 9,
   "id": "c3669779-5c2f-41ec-84e8-1d1e51d8cd3b",
   "metadata": {},
   "outputs": [],
   "source": [
    "def normalizar(dados):\n",
    "    minimo = dados.min(axis=0)\n",
    "    maximo = dados.max(axis=0)\n",
    "    return (dados - minimo) / (maximo - minimo), minimo, maximo\n",
    "\n",
    "entradas_norm, entradas_min, entradas_max = normalizar(entradas)\n"
   ]
  },
  {
   "cell_type": "markdown",
   "id": "96e6d28e-b876-4d4d-8640-04f68b76692d",
   "metadata": {},
   "source": [
    "3. Funções de ativação (ReLU e Softmax)"
   ]
  },
  {
   "cell_type": "code",
   "execution_count": 10,
   "id": "33539f85-1d09-4172-a82a-f482960ab107",
   "metadata": {},
   "outputs": [],
   "source": [
    "def relu(x):\n",
    "    return np.maximum(0, x)\n",
    "\n",
    "def relu_derivada(x):\n",
    "    return (x > 0).astype(float)\n",
    "\n",
    "def softmax(x):\n",
    "    exp_x = np.exp(x - np.max(x, axis=1, keepdims=True))  # estabilidade numérica\n",
    "    return exp_x / np.sum(exp_x, axis=1, keepdims=True)\n"
   ]
  },
  {
   "cell_type": "markdown",
   "id": "7d9de6e5-86c4-4b9d-99d5-9893ef3193fa",
   "metadata": {},
   "source": [
    "4. Inicialização da rede neural"
   ]
  },
  {
   "cell_type": "code",
   "execution_count": 11,
   "id": "e0e7e4bf-c2ce-4ed4-9d49-3356f88bb98b",
   "metadata": {},
   "outputs": [],
   "source": [
    "np.random.seed(0)\n",
    "\n",
    "# Estrutura: 2 entradas, 4 neurônios ocultos, 3 saídas\n",
    "pesos_entrada_oculta = np.random.randn(2, 4)\n",
    "bias_oculta = np.zeros((1, 4))\n",
    "\n",
    "pesos_oculta_saida = np.random.randn(4, 3)\n",
    "bias_saida = np.zeros((1, 3))\n",
    "\n",
    "taxa_aprendizado = 0.1\n",
    "epochs = 1000\n"
   ]
  },
  {
   "cell_type": "markdown",
   "id": "f1125f9d-2599-4591-8ada-3edb8c71e8e5",
   "metadata": {},
   "source": [
    "5. Treinamento"
   ]
  },
  {
   "cell_type": "code",
   "execution_count": 12,
   "id": "e8185d8f-35a0-4e5c-8938-964365e28022",
   "metadata": {},
   "outputs": [
    {
     "name": "stdout",
     "output_type": "stream",
     "text": [
      "Época 0 - Erro quadrático médio: 0.2530\n",
      "Época 200 - Erro quadrático médio: 0.0058\n",
      "Época 400 - Erro quadrático médio: 0.0005\n",
      "Época 600 - Erro quadrático médio: 0.0001\n",
      "Época 800 - Erro quadrático médio: 0.0001\n"
     ]
    }
   ],
   "source": [
    "for epoca in range(epochs):\n",
    "    # Forward\n",
    "    z_oculta = np.dot(entradas_norm, pesos_entrada_oculta) + bias_oculta\n",
    "    a_oculta = relu(z_oculta)\n",
    "\n",
    "    z_saida = np.dot(a_oculta, pesos_oculta_saida) + bias_saida\n",
    "    saida_predita = softmax(z_saida)\n",
    "\n",
    "    # Erro (categorical cross-entropy simplificada)\n",
    "    erro = saidas - saida_predita\n",
    "\n",
    "    # Backpropagation\n",
    "    d_saida = erro  # derivada direta da cross-entropy com softmax\n",
    "\n",
    "    d_pesos_oculta_saida = np.dot(a_oculta.T, d_saida)\n",
    "    d_bias_saida = np.sum(d_saida, axis=0, keepdims=True)\n",
    "\n",
    "    d_oculta = np.dot(d_saida, pesos_oculta_saida.T) * relu_derivada(z_oculta)\n",
    "    d_pesos_entrada_oculta = np.dot(entradas_norm.T, d_oculta)\n",
    "    d_bias_oculta = np.sum(d_oculta, axis=0, keepdims=True)\n",
    "\n",
    "    # Atualização dos pesos e bias\n",
    "    pesos_oculta_saida += taxa_aprendizado * d_pesos_oculta_saida\n",
    "    bias_saida += taxa_aprendizado * d_bias_saida\n",
    "\n",
    "    pesos_entrada_oculta += taxa_aprendizado * d_pesos_entrada_oculta\n",
    "    bias_oculta += taxa_aprendizado * d_bias_oculta\n",
    "\n",
    "    # Erro médio\n",
    "    if epoca % 200 == 0:\n",
    "        loss = np.mean(np.square(erro))\n",
    "        print(f'Época {epoca} - Erro quadrático médio: {loss:.4f}')\n"
   ]
  },
  {
   "cell_type": "markdown",
   "id": "eea22a1d-c5d1-43d7-9552-4512432c9aa2",
   "metadata": {},
   "source": [
    "6. Previsão com novos dados"
   ]
  },
  {
   "cell_type": "code",
   "execution_count": 13,
   "id": "dfbc1675-526e-41ef-8480-3073809fa1e9",
   "metadata": {},
   "outputs": [
    {
     "name": "stdout",
     "output_type": "stream",
     "text": [
      "\n",
      "Previsões para novos reatores:\n",
      "Reator 1: tipo previsto = CSTR (distribuição: [0.997 0.003 0.   ])\n",
      "Reator 2: tipo previsto = PFR (distribuição: [0.292 0.708 0.   ])\n"
     ]
    }
   ],
   "source": [
    "# Novas entradas: [massa, temperatura]\n",
    "novos = np.array([\n",
    "    [260, 330],\n",
    "    [290, 345]\n",
    "], dtype=np.float32)\n",
    "\n",
    "# Normalizar com base no conjunto original\n",
    "novos_norm = (novos - entradas_min) / (entradas_max - entradas_min)\n",
    "\n",
    "# Forward para novas previsões\n",
    "z_oculta_novos = np.dot(novos_norm, pesos_entrada_oculta) + bias_oculta\n",
    "a_oculta_novos = relu(z_oculta_novos)\n",
    "\n",
    "z_saida_novos = np.dot(a_oculta_novos, pesos_oculta_saida) + bias_saida\n",
    "saida_novos = softmax(z_saida_novos)\n",
    "\n",
    "# Interpretar as previsões\n",
    "tipos = ['CSTR', 'PFR', 'BATCH']\n",
    "print(\"\\nPrevisões para novos reatores:\")\n",
    "for i, pred in enumerate(saida_novos):\n",
    "    tipo_previsto = tipos[np.argmax(pred)]\n",
    "    print(f\"Reator {i+1}: tipo previsto = {tipo_previsto} (distribuição: {pred.round(3)})\")\n"
   ]
  },
  {
   "cell_type": "markdown",
   "id": "c23edf3a-a5f3-4a0c-815f-72b9094cae9e",
   "metadata": {},
   "source": [
    "Saída esperada (exemplo)"
   ]
  },
  {
   "cell_type": "code",
   "execution_count": 15,
   "id": "79c72817-cd2c-48fb-9155-cc3bd1ee8ad9",
   "metadata": {},
   "outputs": [],
   "source": [
    "# Saída esperada (exemplo):\n",
    "# Época 0 - Erro quadrático médio: 0.4073\n",
    "# Época 200 - Erro quadrático médio: 0.0289\n",
    "# Época 400 - Erro quadrático médio: 0.0085\n",
    "# ...\n",
    "# Previsões para novos reatores:\n",
    "# Reator 1: tipo previsto = CSTR (distribuição: [0.957 0.037 0.006])\n",
    "# Reator 2: tipo previsto = PFR (distribuição: [0.119 0.851 0.030])\n"
   ]
  },
  {
   "cell_type": "markdown",
   "id": "506cd739-23cc-40c6-8ad2-b9370b61e00c",
   "metadata": {},
   "source": [
    " #### Conclusão didática:\n",
    "\n",
    " A rede neural conseguiu classificar corretamente os tipos de reator com base em duas variáveis operacionais: massa de catalisador e temperatura. Mesmo com um conjunto pequeno de treinamento, o modelo generalizou bem para novos dados, demonstrando a aplicabilidade de redes neurais para problemas de classificação na Engenharia Química."
   ]
  },
  {
   "cell_type": "markdown",
   "id": "e447323a-49d3-4126-a367-77ce8ad6df31",
   "metadata": {},
   "source": [
    "<div style=\"text-align: center; font-size: 12px; color: gray; margin-top: 40px;\">\n",
    "  Este notebook foi desenvolvido no âmbito do Grupo de Pesquisas em Modelagem Computacional da UESC.<br>\n",
    "  Todos os direitos reservados © 2025\n",
    "</div>"
   ]
  }
 ],
 "metadata": {
  "kernelspec": {
   "display_name": "Python 3 (ipykernel)",
   "language": "python",
   "name": "python3"
  },
  "language_info": {
   "codemirror_mode": {
    "name": "ipython",
    "version": 3
   },
   "file_extension": ".py",
   "mimetype": "text/x-python",
   "name": "python",
   "nbconvert_exporter": "python",
   "pygments_lexer": "ipython3",
   "version": "3.11.7"
  }
 },
 "nbformat": 4,
 "nbformat_minor": 5
}
