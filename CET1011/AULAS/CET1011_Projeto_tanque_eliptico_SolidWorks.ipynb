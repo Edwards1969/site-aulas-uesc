{
 "cells": [
  {
   "cell_type": "markdown",
   "id": "99a78221",
   "metadata": {},
   "source": [
    "<div style=\"text-align: center;\">\n",
    "\n",
    "  <!-- Logotipo -->\n",
    "  <img src=\"img/LogoUesc.png\" alt=\"UESC\" style=\"width: 60px; display: block; margin: 0 auto 5px auto;\">\n",
    "\n",
    "  <!-- Cabeçalho -->\n",
    "  <div style=\"font-size: 20px;\"><strong>UNIVERSIDADE ESTADUAL DE SANTA CRUZ - UESC</strong></div>\n",
    "  <div style=\"font-size: 18px;\">DEPARTAMENTO DE ENGENHARIAS E COMPUTAÇÃO</div>\n",
    "  <div style=\"font-size: 18px;\">ENGENHARIA QUÍMICA</div>\n",
    "\n",
    "  <hr style=\"margin: 20px 0; border: 1px solid #0074B7;\">\n",
    "\n",
    "  <!-- Título do Trabalho -->\n",
    "  <div style=\"font-size: 22px; font-weight: bold; margin-bottom: 10px;\">Engenharia Auxiliada por Computador</div>\n",
    "  <div style=\"font-size: 20px; font-weight: bold; margin-bottom: 10px;\">Projeto de um Tanque Eliptico no SolidWorks</div>\n",
    "\n",
    "  <!-- Autor e orientador -->\n",
    "  <div style=\"font-size: 18px;\">Prof. Dr. E.R.Edwards</div>\n",
    "\n",
    "<hr style=\"margin: 20px 0; border: 1px solid #0074B7;\">\n",
    "  <!-- Data -->\n",
    "<!-- <div style=\"font-size: 16px; margin-top: 15px;\">Ilhéus - BA, Abril de 2025</div> -->\n",
    "</div>"
   ]
  },
  {
   "cell_type": "markdown",
   "id": "343cd060",
   "metadata": {},
   "source": [
    "__Introdução__\n",
    "\n",
    "O armazenamento e o transporte de fluidos são aspectos fundamentais em qualquer processo industrial, pois estão diretamente relacionados ao controle de inventário, à segurança operacional e à integridade dos produtos transportados. Nesse contexto, o Engenheiro Químico deve ser capaz de projetar tanques de armazenamento adequados para o transporte seguro desses produtos, considerando parâmetros como geometria, capacidade volumétrica e controle de vazão.\n",
    "\n",
    "Em um tanque cilíndrico com comprimento ($L$) e base circular de área $A = \\pi R^2$, o volume pode ser determinado por:\n",
    "\n",
    "$$\n",
    "V_{\\text{tanque circular}} = \\pi R^2 L\n",
    "$$\n",
    "\n",
    "Quando o tanque é inclinado de forma que o comprimento $L$ fique posicionado na horizontal, o volume armazenado passa a depender da altura do fluido $h(t)$, de modo que:\n",
    "\n",
    "$$\n",
    "V_{\\text{tanque inclinado}} = A(h(t)) \\cdot L\n",
    "$$\n",
    "\n",
    "O projeto de um tanque com duas entradas superiores e uma saída inferior, com base circular, já foi desenvolvido no Projeto P2. As expressões matemáticas que descrevem a variação da altura $h(t)$ em função do volume, bem como o modelo computacional correspondente, já foram apresentadas anteriormente e estão disponíveis no repositório GitHub, na pasta __CET990 – Instrumentação e Controle de Qualidade__."
   ]
  },
  {
   "cell_type": "markdown",
   "id": "6bf4496a",
   "metadata": {},
   "source": [
    "__Aulas de referência__\n",
    "\n",
    "- `CET990_volume_1_deducao_da_area_molhada_tanque.ipynb`\n",
    "- `CET990_volume_2_tanque_inclinado_calculos.ipynb`\n",
    "- `CET990_volume_3_Calculo_tanque_transporte.ipynb`\n",
    "\n",
    "O repositório pode ser acessado em:\n",
    "\n",
    "[https://github.com/Edwards1969/site-aulas-uesc/tree/main/CET990/AULAS](https://github.com/Edwards1969/site-aulas-uesc/tree/main/CET990/AULAS)"
   ]
  },
  {
   "cell_type": "markdown",
   "id": "4aa34d2b",
   "metadata": {},
   "source": [
    "__Descrição do Projeto no SolidWorks__\n",
    "\n",
    "A figura abaixo mostra um tanque de armazenamento de fluidos montado sobre um caminhão (caminhão-tanque). Este tipo de veículo é amplamente utilizado para o transporte de fluidos como água, petróleo, gasolina, querosene e diesel em diversos ambientes industriais e urbanos. O tanque encontra-se na posição horizontal e apresenta uma seção transversal em forma de elipse. Para determinar o volume de fluido armazenado, é necessário conhecer a relação matemática que descreve a altura do fluido no tanque, $h(t)$, e a respectiva área molhada $A(h(t))$."
   ]
  },
  {
   "cell_type": "markdown",
   "id": "184fc87c",
   "metadata": {},
   "source": [
    "<img src=\"img/Caminhão_tanque_transporte_fluidos.png\" alt=\"UESC\" style=\"width: 600px; display: block; margin: 0 auto 5px auto;\">\n",
    "<p style=\"text-align: center;\"><strong>Figura: Caminhão tanque para transporte de fluidos (gerado por IA) .</strong></p>"
   ]
  },
  {
   "cell_type": "markdown",
   "id": "53089aed",
   "metadata": {},
   "source": [
    "Construa no SolidWorks um tanque semelhante ao apresentado (baseado no projeto da P2), alterando a geometria da seção transversal para uma **elipse**, em vez de um círculo. As dimensões principais estão apresentadas na tabela abaixo. Caso alguma medida não esteja especificada, o projetista poderá ajustá-la desde que as proporções geométricas e o volume total do tanque sejam mantidos.\n",
    "\n",
    "| **Parâmetro** | **Símbolo** | **Valor (m)** |\n",
    "|---------------|--------------|---------------|\n",
    "| Comprimento total do tanque | $L$ | 8,0 |\n",
    "| Largura máxima (diâmetro maior da elipse) | $D_{\\text{max}}$ | 2,5 |\n",
    "| Altura máxima (diâmetro menor da elipse) | $D_{\\text{min}}$ | 2,0 |\n",
    "| Diâmetro das entradas superiores | $D_{\\text{in}}$ | 0,4 |\n",
    "| Distância entre centros das entradas superiores | $d_{\\text{in}}$ | 1,2 |\n",
    "| Diâmetro da saída inferior | $D_{\\text{out}}$ | 0,3 |\n",
    "| Altura da saída em relação à base inferior | $h_{\\text{out}}$ | 0,15 |\n",
    "| Inclinação longitudinal aproximada do tanque | $\\theta$ | $5^\\circ$ |"
   ]
  },
  {
   "cell_type": "markdown",
   "id": "c1933fcb",
   "metadata": {},
   "source": [
    "<img src=\"img/desenho_tecnico_tanque_horizontal.png\" alt=\"UESC\" style=\"width: 500px; display: block; margin: 0 auto 5px auto;\">\n",
    "<p style=\"text-align: center;\"><strong>Figura: Desenho Técnico do Tanque Horizontal.</strong></p>"
   ]
  },
  {
   "cell_type": "markdown",
   "id": "c1c775d1",
   "metadata": {},
   "source": [
    "__Descrição dos Cálculos__\n",
    "\n",
    "Os cálculos podem ser realizados em ambiente computacional, utilizando células de *Markdown* e código no **Google Colab** ou **VSCode**.  \n",
    "O objetivo é encontrar a expressão matemática que descreve a **área molhada da elipse** em função da altura $h(t)$ e, a partir dela, determinar o volume total do tanque:\n",
    "\n",
    "$$\n",
    "V_{\\text{tanque elíptico}} = A(h(t)) \\cdot L\n",
    "$$\n",
    "\n",
    "Como referência, utilize o exemplo de cálculo apresentado no arquivo:\n",
    "\n",
    "`CET990_volume_1_deducao_da_area_molhada_tanque.ipynb`, disponível no repositório GitHub.\n"
   ]
  },
  {
   "cell_type": "markdown",
   "id": "2fa61da3",
   "metadata": {},
   "source": [
    "__Atividade Computacional – Programação em Python__\n",
    "\n",
    "Desenvolva um programa em **Python** que permita calcular a altura do fluido $h(t)$ em função do volume do tanque elíptico.  \n",
    "O programa deve:\n",
    "\n",
    "1. Definir os parâmetros geométricos do tanque ($D_{\\text{max}}$, $D_{\\text{min}}$, $L$);\n",
    "2. Calcular a área molhada $A(h(t))$ da elipse para diferentes valores de $h(t)$;\n",
    "3. Determinar o volume acumulado:\n",
    "\n",
    "   $$\n",
    "   V = A(h(t)) \\cdot L\n",
    "   $$\n",
    "\n",
    "4. Gerar um gráfico mostrando a variação de $V$ em função de $h(t)$;\n",
    "5. Permitir a entrada de novos valores de $h(t)$ pelo usuário e retornar o volume correspondente.\n",
    "\n",
    "**Desafio adicional:** implemente um controle simples de esvaziamento do tanque, simulando a variação temporal da altura $h(t)$ conforme o fluido é drenado."
   ]
  },
  {
   "cell_type": "markdown",
   "id": "25e8d39e",
   "metadata": {},
   "source": [
    "<div style=\"text-align: center; font-size: 12px; color: gray; margin-top: 40px;\">\n",
    "  Este notebook foi desenvolvido no âmbito do Grupo de Pesquisas em Modelagem Computacional da UESC.<br>\n",
    "  Todos os direitos reservados © 2025\n",
    "</div>"
   ]
  }
 ],
 "metadata": {
  "language_info": {
   "name": "python"
  }
 },
 "nbformat": 4,
 "nbformat_minor": 5
}
