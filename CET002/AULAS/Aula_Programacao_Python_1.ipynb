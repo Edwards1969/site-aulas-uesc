{
 "cells": [
  {
   "cell_type": "markdown",
   "id": "d8b27ff0",
   "metadata": {},
   "source": [
    "<div style=\"text-align: center;\">\n",
    "\n",
    "  <img src=\"img/LogoUesc.png\" alt=\"UESC\" style=\"width: 60px; display: block; margin: 0 auto 5px auto;\">\n",
    "\n",
    "  <div style=\"font-size: 20px;\"><strong>UNIVERSIDADE ESTADUAL DE SANTA CRUZ - UESC</strong></div>\n",
    "  <div style=\"font-size: 18px;\">DEPARTAMENTO DE ENGENHARIAS E COMPUTAÇÃO - DEC</div>\n",
    "  <div style=\"font-size: 18px;\">Grupo de Pesquisas em Simulações e Controle de Processos</div>\n",
    "\n",
    "  <hr style=\"margin: 20px 0; border: 1px solid #0074B7;\">\n",
    "\n",
    "  <div style=\"font-size: 22px; font-weight: bold; margin-bottom: 10px;\">PROGRAMAÇÃO EM PYTHON PARA AS ENGENHARIAS</div>\n",
    "\n",
    "  <div style=\"font-size: 18px; margin-top: 10px;\"><strong>Tema</strong>:  Algébricos</div>\n",
    "  <div style=\"font-size: 18px;\"><strong>Prof. Dr. E.R.Edwards</strong></div>\n",
    "\n",
    "  <div style=\"font-size: 16px; margin-top: 15px;\">Ilhéus - BA, Abril de 2025</div>\n",
    "  \n",
    "  <hr style=\"margin: 20px 0; border: 1px solid #0074B7;\">\n",
    "\n",
    "</div>"
   ]
  },
  {
   "cell_type": "markdown",
   "id": "a695c091",
   "metadata": {},
   "source": [
    "__Sumário__\n",
    "\n",
    "- [1. O que é Python e por que utilizá-lo na Engenharia](#O_que_é_Pytho_e_por_que_utilizá-lo_na_Engenharia)\n",
    "- [2. Instalação do Anaconda / VSCode / Jupyter Notebook](#Instalação_do_Anaconda_VSCode_Jupyte_Notebook)\n",
    "- [3. Preparando o ambiente para programação](#Preparando_o_ambiente_para_programação)\n",
    "- [4. Primeiros comandos em Python (print, operações básicas, comentários)](#Primeiros_comandos_em_Python_print_operações_básicas_comentários)\n",
    "    - [Inteiros, Float, Strings, Booleanos](#Inteiros_Float_Strings_Booleanos)\n",
    "- [5. Conclusão](#conclusão)\n"
   ]
  },
  {
   "cell_type": "markdown",
   "id": "78eb9083",
   "metadata": {},
   "source": [
    "<div style=\"background-color: #f1faff; border-left: 6px solid #0074B7; text-align:left; color:#003366; font-size:22px; font-weight: bold; border-radius: 8px; padding: 15px 20px; margin-top: 20px;\">\n",
    "  1. <strong>O que é Python e por que utilizá-lo na Engenharia:</strong> \n",
    "</div>\n",
    "\n",
    "Python é uma linguagem de programação moderna, de alto nível e orientada a objetos. Sua sintaxe simples e intuitiva facilita o aprendizado, tornando-se uma excelente escolha para estudantes e profissionais de engenharia que desejam aplicar programação em cálculos, simulações e análise de dados.\n",
    "\n",
    "Uma das principais vantagens do Python é sua versatilidade: pode ser usado desde tarefas básicas, como automação de cálculos numéricos, até aplicações avançadas em modelagem matemática, otimização de processos, inteligência artificial e controle de sistemas.\n",
    "\n",
    "Além disso, Python possui uma ampla comunidade e um vasto ecossistema de bibliotecas científicas (como __NumPy__, __SciPy__, __Pandas__ e __Matplotlib__), que permitem resolver problemas típicos da engenharia de forma eficiente e prática. Isso torna o Python uma ferramenta essencial para integrar teoria, prática e inovação na formação do engenheiro."
   ]
  },
  {
   "cell_type": "markdown",
   "id": "9ba146dc",
   "metadata": {},
   "source": [
    "<div style=\"background-color: #f1faff; border-left: 6px solid #0074B7; text-align:left; color:#003366; font-size:22px; font-weight: bold; border-radius: 8px; padding: 15px 20px; margin-top: 20px;\">\n",
    "  2. <strong> Instalação do Anaconda / VSCode / Jupyter Notebook:</strong> \n",
    "</div>"
   ]
  },
  {
   "cell_type": "markdown",
   "id": "eb394bdf",
   "metadata": {},
   "source": [
    "Para que possamos programar precisamos fazer a instalação do Python e de um ambiente para programação. Temos dois ambientes de programação: __ambiente virtual__ e __ambiente de desenvolvimento integrado__ (IDE) \n",
    "\n",
    "Para começar a programar em Python é necessário instalar a linguagem e escolher um ambiente de programação adequado. De forma geral, esses ambientes podem ser classificados em duas categorias:\n",
    "\n",
    "- __Ambientes virtuais__: executam o código diretamente no navegador ou em interfaces interativas, sem a necessidade de instalar extensões adicionais. Exemplos: Jupyter Notebook (muito utilizado em cursos de Engenharia e Ciência de Dados) e Google Colab (executado na nuvem).\n",
    "\n",
    "- __Ambientes de Desenvolvimento Integrado (IDEs)__: oferecem um conjunto mais completo de ferramentas para desenvolvimento, como edição de código, depuração, controle de versões e integração com bibliotecas externas. Exemplos: VSCode, PyCharm e Spyder.\n",
    "\n",
    "A escolha entre esses ambientes depende do objetivo do usuário: notebooks são ideais para aprendizado, testes rápidos e relatórios interativos, enquanto IDEs são recomendadas para projetos maiores e aplicações mais estruturadas.\n"
   ]
  },
  {
   "cell_type": "markdown",
   "id": "a8561ab2",
   "metadata": {},
   "source": [
    "<img src=\"img/pythonide.png\" alt=\"UESC\" style=\"width: 700px; display: block; margin: 0 auto 5px auto;\">\n",
    "<p style=\"text-align: center;\"><strong>Figura: Ambientes para Programação.</strong></p>"
   ]
  },
  {
   "cell_type": "markdown",
   "id": "ceee4146",
   "metadata": {},
   "source": [
    "<div style=\"background-color: #f1faff; border-left: 6px solid #0074B7; text-align:left; color:#003366; font-size:22px; font-weight: bold; border-radius: 8px; padding: 15px 20px; margin-top: 20px;\">\n",
    "  3. <strong> Preparando o ambiente para programação</strong> \n",
    "</div>"
   ]
  },
  {
   "cell_type": "markdown",
   "id": "c3f4405c",
   "metadata": {},
   "source": [
    "\n",
    "\n",
    "Antes de começar a programar em Python, é recomendável criar um ambiente virtual. Esse recurso permite organizar os pacotes e bibliotecas de forma isolada, evitando conflitos entre diferentes projetos. Assim, cada trabalho terá seu próprio espaço de execução, tornando o desenvolvimento mais limpo e seguro."
   ]
  },
  {
   "cell_type": "markdown",
   "id": "c1f8d376",
   "metadata": {},
   "source": [
    "<div style=\"background-color: #fff9e6; border-left: 6px solid #e6ac00; padding: 10px; font-size: 16px;\">\n",
    "  <strong>Atenção:</strong> 3.1 - Criação de ambiente virtual no Anaconca</div>"
   ]
  },
  {
   "cell_type": "markdown",
   "id": "56d8598f",
   "metadata": {},
   "source": [
    "Para criar um ambiente virtual com o Anaconda, siga os passos:\n",
    "\n",
    "1. Abra o terminal (ou Anaconda Prompt no Windows).\n",
    "2. Crie um novo ambiente (por exemplo, chamado engenharia):\n",
    "\n",
    " ```python\n",
    "conda create -n engenharia python=3.11\n",
    "```"
   ]
  },
  {
   "cell_type": "markdown",
   "id": "d2d77810",
   "metadata": {},
   "source": [
    "\n",
    "---\n",
    "\n",
    "__3.1.1. Comando de ativação__\n",
    "\n",
    "O comando moderno do Anaconda é:  \n",
    "\n",
    "- Windows:\n",
    "```bash\n",
    "conda activate engenharia\n",
    "```\n",
    "\n",
    "- No Linux/Mac use:\n",
    "```bash\n",
    "conda activate engenharia\n",
    "```\n",
    "\n",
    "O _source activate_ ainda funciona em versões antigas, mas hoje a recomendação oficial é sempre _conda activate_."
   ]
  },
  {
   "cell_type": "markdown",
   "id": "9b791b20",
   "metadata": {},
   "source": [
    "__3.1.2. Ative o ambiente criado__:\n",
    "\n",
    "```bash\n",
    "conda activate engenharia\n",
    "```"
   ]
  },
  {
   "cell_type": "markdown",
   "id": "74fb3ac3",
   "metadata": {},
   "source": [
    "__3.3.3. Instale os pacotes necessários, por exemplo__:\n",
    "\n",
    "```bash\n",
    "conda install numpy pandas matplotlib jupyter\n",
    "```"
   ]
  },
  {
   "cell_type": "markdown",
   "id": "c7162826",
   "metadata": {},
   "source": [
    "__3.2.4. Para abrir o Jupyter Notebook dentro desse ambiente:__\n",
    "\n",
    "```bash\n",
    "jupyter notebook\n",
    "```\n",
    "\n",
    "A partir desse ponto, todos os códigos e bibliotecas usados ficarão restritos ao ambiente criado, evitando problemas de compatibilidade."
   ]
  },
  {
   "cell_type": "markdown",
   "id": "07f3f214",
   "metadata": {},
   "source": [
    "<div style=\"background-color: #fff9e6; border-left: 6px solid #e6ac00; padding: 10px; font-size: 16px;\">\n",
    "  <strong>Atenção:</strong> 3.2 - Criação de ambiente virtual no AnacVSCode</div>"
   ]
  },
  {
   "cell_type": "markdown",
   "id": "c8713fd3",
   "metadata": {},
   "source": [
    "__3.3.1  o ambiente no VSCode__\n",
    "\n",
    "No terminal integrado do VSCode, escolha entre Conda (se tiver o Anaconda) ou o ambiente nativo  `venv` (se for só o Python puro).\n",
    "\n",
    "- __Usando Conda__ (recomendado):\n",
    "\n",
    "```bash\n",
    "conda create -n engenharia python=3.11\n",
    "conda activate engenharia\n",
    "```"
   ]
  },
  {
   "cell_type": "markdown",
   "id": "89dbd01a",
   "metadata": {},
   "source": [
    "- __Usando venv__ (sem Anaconda):\n",
    "\n",
    "```bash\n",
    "python -m venv engenharia\n",
    "```"
   ]
  },
  {
   "cell_type": "markdown",
   "id": "c6f46670",
   "metadata": {},
   "source": [
    "__3.3.2. Para ativar o ambiente__:\n",
    "\n",
    "- Windows (PowerShell):\n",
    "\n",
    "```bash\n",
    ".\\engenharia\\Scripts\\activate\n",
    "```"
   ]
  },
  {
   "cell_type": "markdown",
   "id": "dab3cbc7",
   "metadata": {},
   "source": [
    "- Linux/Mac:\n",
    "\n",
    "```bash\n",
    "source engenharia/bin/activate\n",
    "```"
   ]
  },
  {
   "cell_type": "markdown",
   "id": "9abb848d",
   "metadata": {},
   "source": [
    "__3.3.3. Conectar o ambiente ao VSCode__\n",
    "\n",
    "1. Instale a extensão Python e a extensão Jupyter no VSCode (se ainda não tiver).\n",
    "2. No canto inferior direito do VSCode (ou no topo do Notebook), clique no seletor de kernel.\n",
    "3. Escolha o ambiente que você acabou de criar (`engenharia`).\n",
    "\n",
    "Assim, sempre que abrir um .py ou .ipynb, o VSCode usará esse ambiente."
   ]
  },
  {
   "cell_type": "markdown",
   "id": "8f89e5c9",
   "metadata": {},
   "source": [
    "__3.3.4. Verificação__\n",
    "Isso mostrará o caminho do Python usado. Se aparecer algo como `.../engenharia/bin/python (Linux/Mac) ou ...\\engenharia\\python.exe` Windows), então o VSCode está usando corretamente o ambiente.\n"
   ]
  },
  {
   "cell_type": "markdown",
   "id": "e057b386",
   "metadata": {},
   "source": [
    "A figura abaixo mostra um fluxograma integrado com os passos para criação do ambiente virtual.\n",
    "\n",
    "<img src=\"img/Fluxograma_env_python.png\" alt=\"UESC\" style=\"width: 500px; display: block; margin: 0 auto 5px auto;\">\n",
    "<p style=\"text-align: center;\"><strong>Figura: Fluxo de Preparação do Ambiente no VSCode.</strong></p>\n"
   ]
  },
  {
   "cell_type": "markdown",
   "id": "4961e1ac",
   "metadata": {},
   "source": [
    "__4. Primeiros comandos em Python (print, operações básicas, comentários)__\n",
    "\n",
    "__4.1. Operadores em Python__\n",
    "\n",
    "Exemplo de operadores aritméticos.\n",
    "````python\n",
    "a = 9\n",
    "b = 4\n",
    "````\n",
    "\n",
    "- Adição de números.\n",
    "````python\n",
    "add = a + b\n",
    "````\n",
    "\n",
    "- Subtração de números.\n",
    "````python\n",
    "sub = a - b\n",
    "````\n",
    "\n",
    "- Multiplicação de números.\n",
    "````python\n",
    "mult = a * b\n",
    "````\n",
    "\n",
    "- Divisão (float) de números.\n",
    "````python\n",
    "div1 = a / b\n",
    "````\n",
    "- Divisão de números.\n",
    "````python\n",
    "div2 = a // b\n",
    "````\n",
    "\n",
    "- Módulo de ambos números.\n",
    "````python\n",
    "mod = a % b\n",
    "````\n",
    "\n",
    "Exponencial.\n",
    "````python\n",
    "p = a**b\n",
    "````"
   ]
  },
  {
   "cell_type": "markdown",
   "id": "62ca7ed7",
   "metadata": {},
   "source": [
    "Vamos para o códigos em Python."
   ]
  },
  {
   "cell_type": "code",
   "execution_count": 7,
   "id": "960a9ca7",
   "metadata": {},
   "outputs": [
    {
     "name": "stdout",
     "output_type": "stream",
     "text": [
      "------------------------------\n",
      " \t Resultados \n",
      "------------------------------\n",
      "A soma de a + b =  13\n",
      "A subtração de a - b  5\n",
      "A multiplicação de a*b  36\n",
      "A divisão 1 de a / b = 2.25\n",
      "A divisão 2 de a // b =  2\n",
      "O módulo de a e b =  1\n",
      "A potência a**b =  6561\n",
      "------------------------------\n"
     ]
    }
   ],
   "source": [
    "# Declarando as variáveis\n",
    "a = 9\n",
    "b = 4\n",
    "\n",
    "# Expressões matemáticas\n",
    "add = a + b\n",
    "sub = a - b\n",
    "mult = a * b\n",
    "div1 = a / b\n",
    "div2 = a // b\n",
    "mod = a % b\n",
    "p = a**b\n",
    "\n",
    "# Imprimido os resultados.\n",
    "\n",
    "def line():\n",
    "    print('-'*30)\n",
    "\n",
    "\n",
    "line()\n",
    "print( ' \\t Resultados ')\n",
    "line()\n",
    "print('A soma de a + b = ', add)\n",
    "print('A subtração de a - b ', sub)\n",
    "print('A multiplicação de a*b ', mult)\n",
    "print('A divisão 1 de a / b =', div1)\n",
    "print('A divisão 2 de a // b = ', div2)\n",
    "print('O módulo de a e b = ', mod)\n",
    "print('A potência a**b = ', p)\n",
    "line()"
   ]
  },
  {
   "cell_type": "markdown",
   "id": "9af58c82",
   "metadata": {},
   "source": []
  }
 ],
 "metadata": {
  "kernelspec": {
   "display_name": "base",
   "language": "python",
   "name": "python3"
  },
  "language_info": {
   "codemirror_mode": {
    "name": "ipython",
    "version": 3
   },
   "file_extension": ".py",
   "mimetype": "text/x-python",
   "name": "python",
   "nbconvert_exporter": "python",
   "pygments_lexer": "ipython3",
   "version": "3.11.7"
  }
 },
 "nbformat": 4,
 "nbformat_minor": 5
}
