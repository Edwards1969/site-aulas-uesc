{
 "cells": [
  {
   "cell_type": "markdown",
   "id": "1b55b57f",
   "metadata": {},
   "source": [
    "<div style=\"text-align: center;\">\n",
    "\n",
    "  <!-- Logotipo -->\n",
    "  <img src=\"img/LogoUesc.png\" alt=\"UESC\" style=\"width: 60px; display: block; margin: 0 auto 5px auto;\">\n",
    "\n",
    "  <!-- Cabeçalho -->\n",
    "  <div style=\"font-size: 20px;\"><strong>UNIVERSIDADE ESTADUAL DE SANTA CRUZ - UESC</strong></div>\n",
    "  <div style=\"font-size: 18px;\">DEPARTAMENTO DE ENGENHARIAS E COMPUTAÇÃO</div>\n",
    "  <div style=\"font-size: 18px;\">ENGENHARIA QUÍMICA</div>\n",
    "\n",
    "  <hr style=\"margin: 20px 0; border: 1px solid #0074B7;\">\n",
    "\n",
    "  <!-- Título do Trabalho -->\n",
    "  <div style=\"font-size: 22px; font-weight: bold; margin-bottom: 10px;\">Instrumentação e Controle de Qualidade</div>\n",
    "  <div style=\"font-size: 20px; font-weight: bold; margin-bottom: 10px;\">Dedução da Área Molhada na Seção Circular de um Tanque Horizontal</div>\n",
    "\n",
    "  <!-- Autor e orientador -->\n",
    "  <div style=\"font-size: 18px;\">Prof. Dr. E.R.Edwards</div>\n",
    "\n",
    "<hr style=\"margin: 20px 0; border: 1px solid #0074B7;\">\n",
    "  <!-- Data -->\n",
    "<!-- <div style=\"font-size: 16px; margin-top: 15px;\">Ilhéus - BA, Abril de 2025</div> -->\n",
    "</div>"
   ]
  },
  {
   "cell_type": "markdown",
   "id": "c87c826f",
   "metadata": {},
   "source": [
    "<div style=\"background-color: #e6f2ff; border-left: 6px solid #0074B7; padding: 10px; font-size: 16px;\">\n",
    "  <strong>Dedução Matemática da Área Molhada na Seção Circular de um Tanque Horizontal.</strong> \n",
    "</div>"
   ]
  },
  {
   "cell_type": "markdown",
   "id": "c8bfc427",
   "metadata": {},
   "source": [
    "1. __Introdução ao Tanque Horizontal__\n",
    "\n",
    "A figura a seguir mostra um tanque horizontal típico utilizado na indústria de petróleo e gás para armazenamento de fluidos, como óleo, água ou derivados. Esse tipo de tanque possui formato cilíndrico e, quando parcialmente cheio, o nível do líquido forma uma superfície plana que intercepta a seção circular do cilindro.\n",
    "\n",
    "O cálculo do volume de fluido armazenado depende diretamente da área molhada dessa seção circular, que varia com a altura do líquido $h$. Para determinar essa área e, consequentemente, o volume total no tanque, utiliza-se a __Dedução da Área Molhada na Seção Circular de um Tanque Horizontal__, apresentada na sequência."
   ]
  },
  {
   "cell_type": "markdown",
   "id": "0089722b",
   "metadata": {},
   "source": [
    "<img src=\"img/tanque_armazenamento_petroleo.png\" alt=\"UESC\" style=\"width: 700px; display: block; margin: 0 auto 5px auto;\">\n",
    "<p style=\"text-align: center;\"><strong>Figura: Tanque de armazenameto de petróleo (gerado por IA) .</strong></p>"
   ]
  },
  {
   "cell_type": "markdown",
   "id": "6bb719b8",
   "metadata": {},
   "source": [
    "__2. Considerações para o cálculo do volume do tanque horizontal__\n",
    "\n",
    "Considere um tanque cilíndrico deitado (horizontal) de raio $R$ e comprimento $L$. Deseja-se determinar a __área molhada__ da seção circular (área do líquido no plano transversal do cilindro), em função da altura do líquido $h$, medida a partir da parte inferior do tanque.\n",
    "\n",
    "A variável $h$ varia no intervalo $0 \\leq h \\leq 2R$."
   ]
  },
  {
   "cell_type": "markdown",
   "id": "4b175246",
   "metadata": {},
   "source": [
    "__3. Fundamentos geométricos__\n",
    "\n",
    "A superfície do líquido corta o círculo em uma corda horizontal, criando um _segmento circular_. A área desse segmento é a diferença entre a área de um __setor circular__ e a área de um __triângulo isósceles__ interno a ele."
   ]
  },
  {
   "cell_type": "markdown",
   "id": "cf0af5a2",
   "metadata": {},
   "source": [
    "<img src=\"img/segmento_circular_explicacao.png\" alt=\"UESC\" style=\"width: 800px; display: block; margin: 0 auto 5px auto;\">\n",
    "<p style=\"text-align: center;\"><strong>Figura: Segmento circular da área molhada na seção circular de um tanque horizontal  .</strong></p>"
   ]
  },
  {
   "cell_type": "markdown",
   "id": "c6a8f87a",
   "metadata": {},
   "source": [
    "Seja $\\theta$ o ângulo formado entre o raio vertical e o raio até um dos pontos de interseção da superfície do líquido com a circunferência. A distância vertical entre o centro do círculo e a superfície é $R - h$.  \n",
    "Assim, pela definição de cosseno:\n",
    "\n",
    "\\begin{equation}\n",
    "\\cos\\theta = \\frac{R - h}{R}\n",
    "\\quad \\Rightarrow \\quad\n",
    "\\theta = \\arccos\\!\\left(\\frac{R - h}{R}\\right)\n",
    "\\end{equation}"
   ]
  },
  {
   "cell_type": "markdown",
   "id": "0da0473e",
   "metadata": {},
   "source": [
    "__4. Caso 1 — Superfície abaixo do centro__ ($0 \\le h \\le R$)\n",
    "\n",
    "4.1 - Area do setor circular.\n",
    "\n",
    "O setor circular correspondente tem ângulo central $2\\theta$.  \n",
    "Portanto, sua área é:\n",
    "\n",
    "\\begin{equation}\n",
    "A_{\\text{setor}} = \\frac{1}{2} R^2 (2\\theta) = R^2 \\theta\n",
    "\\end{equation}\n",
    "\n",
    "Vamos detalhar um pouco como chegamos nesta expressão."
   ]
  },
  {
   "cell_type": "markdown",
   "id": "5698191e",
   "metadata": {},
   "source": [
    "__Dedução da Área do Setor Circular__\n",
    "\n",
    "A área de um **setor circular** é a porção do círculo delimitada por um **ângulo central**  ($2\\theta$) (em radianos).   Para encontrar a área desse setor, partimos da relação de proporcionalidade com o círculo completo."
   ]
  },
  {
   "cell_type": "markdown",
   "id": "032f5f17",
   "metadata": {},
   "source": [
    "__Área total do círculo__\n",
    "\n",
    "A área de um círculo de raio \\( R \\) é dada por:\n",
    "\n",
    "$$A_{\\text{círculo}} = \\pi R^2$$"
   ]
  },
  {
   "cell_type": "markdown",
   "id": "1941eb83",
   "metadata": {},
   "source": [
    "__Proporção angular__\n",
    "\n",
    "Como o círculo completo corresponde a um ângulo total de ($2\\pi$) radianos, o setor que possui ângulo central ($2\\theta$) ocupará uma fração proporcional da área total:\n",
    "\n",
    "$$\n",
    "A_{\\text{setor}} = \\frac{\\text{ângulo do setor}}{\\text{ângulo total}} \\times A_{\\text{círculo}}\n",
    "$$\n",
    "\n",
    "Substituindo os valores:\n",
    "\n",
    "$$\n",
    "A_{\\text{setor}} = \\frac{2\\theta}{2\\pi} \\times \\pi R^2\n",
    "$$\n",
    "\n",
    "Simplificando:\n",
    "\n",
    "$$\n",
    "A_{\\text{setor}} = R^2 \\theta\n",
    "$$"
   ]
  },
  {
   "cell_type": "markdown",
   "id": "d9bad406",
   "metadata": {},
   "source": [
    "3.__Alternativa em coordenadas polares__\n",
    "\n",
    "Também é possível obter a mesma expressão utilizando a forma diferencial da área em coordenadas polares.  \n",
    "A área de um setor com ângulo ($\\Delta\\theta$) é dada por:\n",
    "\n",
    "$$A = \\frac{1}{2} R^2 \\, \\Delta\\theta$$\n",
    "\n",
    "Como o ângulo do setor é ($2\\theta$), tem-se:\n",
    "\n",
    "$$A_{\\text{setor}} = \\frac{1}{2} R^2 (2\\theta)$$\n",
    "\n",
    "Portanto:\n",
    "\n",
    "$$\n",
    "\\boxed{\n",
    "A_{\\text{setor}} = \\frac{1}{2} R^2 (2\\theta) = R^2 \\theta\n",
    "}\n",
    "$$"
   ]
  },
  {
   "cell_type": "markdown",
   "id": "de928a9a",
   "metadata": {},
   "source": [
    "__4. Interpretação__\n",
    "\n",
    "As duas abordagens são equivalentes:\n",
    "\n",
    "- Pela **proporção angular**, usamos a fração da circunferência ocupada pelo setor.  \n",
    "- Pela **forma polar**, integramos o elemento de área em coordenadas polares, ($\\frac{1}{2}R^2\\,d\\theta$).\n",
    "\n",
    "Em ambos os casos, obtemos o mesmo resultado para a área do setor circular."
   ]
  },
  {
   "cell_type": "markdown",
   "id": "78bae46a",
   "metadata": {},
   "source": [
    "__4.2 Área do triângulo isósceles__\n",
    "\n",
    "A área do triângulo com ângulo central $2\\theta$ é:\n",
    "\n",
    "\\begin{equation}\n",
    "A_{\\text{tri}} = \\frac{1}{2} R^2 \\sin(2\\theta)\n",
    "\\end{equation}\n",
    "\n",
    "Sabendo que $\\sin(2\\theta) = 2\\sin\\theta\\cos\\theta$, temos:\n",
    "\n",
    "\\begin{align}\n",
    "\\sin\\theta &= \\sqrt{1 - \\cos^2\\theta}\n",
    "= \\sqrt{1 - \\left(\\frac{R - h}{R}\\right)^2}\n",
    "= \\frac{\\sqrt{2Rh - h^2}}{R} \\\\[6pt]\n",
    "\\Rightarrow\\quad\n",
    "A_{\\text{tri}} &= (R - h)\\sqrt{2Rh - h^2}\n",
    "\\end{align}"
   ]
  },
  {
   "cell_type": "markdown",
   "id": "f337850f",
   "metadata": {},
   "source": [
    "__4.3 Área do segmento molhado__\n",
    "\n",
    "A área molhada é dada por:\n",
    "\n",
    "\\begin{equation}\n",
    "A(h) = A_{\\text{setor}} - A_{\\text{tri}}\n",
    "\\end{equation}\n",
    "\n",
    "Substituindo as expressões anteriores:\n",
    "\n",
    "\\begin{equation}\n",
    "\\boxed{\n",
    "A(h) = R^2 \\arccos\\!\\left(\\frac{R - h}{R}\\right)\n",
    "- (R - h)\\sqrt{2Rh - h^2}\n",
    "\\quad \\text{para } 0 \\le h \\le R\n",
    "}\n",
    "\\end{equation}"
   ]
  },
  {
   "cell_type": "markdown",
   "id": "f3591a8e",
   "metadata": {},
   "source": [
    "__5. Caso 2 — Superfície acima do centro__ ($R < h \\le 2R$)\n",
    "\n",
    "Quando o nível do líquido ultrapassa o centro do tanque, é mais fácil calcular a __área seca__ (parte não molhada) e subtrair da área total do círculo.\n",
    "\n",
    "A altura da parte seca é $h' = 2R - h$.  \n",
    "Logo, a área molhada é:\n",
    "\n",
    "\\begin{equation}\n",
    "A(h) = \\pi R^2 - A(h')\n",
    "\\end{equation}\n",
    "\n",
    "onde $A(h')$ é calculado pela expressão do Caso 1.\n",
    "\n",
    "Substituindo $h' = 2R - h$ e desenvolvendo:\n",
    "\n",
    "\\begin{align}\n",
    "R - h' &= R - (2R - h) = h - R \\\\[3pt]\n",
    "2Rh' - h'^2 &= 2R(2R - h) - (2R - h)^2 = 2Rh - h^2\n",
    "\\end{align}\n",
    "\n",
    "Portanto, a expressão final é:\n",
    "\n",
    "\\begin{equation}\n",
    "\\boxed{\n",
    "A(h) = \\pi R^2 -\n",
    "\\left[\n",
    "R^2 \\arccos\\!\\left(\\frac{h - R}{R}\\right)\n",
    "- (h - R)\\sqrt{2Rh - h^2}\n",
    "\\right]\n",
    "\\quad \\text{para } R < h \\le 2R\n",
    "}\n",
    "\\end{equation}"
   ]
  },
  {
   "cell_type": "markdown",
   "id": "6f25f4ac",
   "metadata": {},
   "source": [
    "__6. Verificação dos casos limites__\n",
    "\n",
    "\n",
    "- Para $h = 0$: $A(0) = 0$\n",
    "- Para $h = R$: $A(R) = \\dfrac{\\pi R^2}{2}$ (metade do círculo)\n",
    "- Para $h = 2R$: $A(2R) = \\pi R^2$ (círculo completo)\n"
   ]
  },
  {
   "cell_type": "markdown",
   "id": "9bbecaca",
   "metadata": {},
   "source": [
    "__7. Volume do tanque horizontal__\n",
    "\n",
    "Multiplicando a área molhada pela extensão do cilindro (comprimento $L$), obtém-se o volume de líquido no tanque:\n",
    "\n",
    "\\begin{equation}\n",
    "V(h) = A(h) \\, L\n",
    "\\end{equation}\n",
    "\n",
    "onde $A(h)$ é dado pelas equações anteriores."
   ]
  },
  {
   "cell_type": "markdown",
   "id": "42dd9d1b",
   "metadata": {},
   "source": [
    "__8. Volume do tanque horizontal__\n",
    "\n",
    "Multiplicando a área molhada pela extensão do cilindro (comprimento $L$), obtém-se o volume de líquido no tanque:\n",
    "\n",
    "\\begin{equation}\n",
    "V(h) = A(h) \\, L\n",
    "\\end{equation}\n",
    "\n",
    "onde $A(h)$ é dado pelas equações anteriores."
   ]
  },
  {
   "cell_type": "code",
   "execution_count": 6,
   "id": "35b76806",
   "metadata": {},
   "outputs": [],
   "source": [
    "import numpy as np\n",
    "\n",
    "# Entradas diretas\n",
    "diametro = 2.0          # Diâmetro em metros\n",
    "comprimento = 5.0       # Comprimento em metros  \n",
    "altura_agua = 1.2       # Altura da água em metros\n",
    "\n",
    "# Cálculo automático\n",
    "R = diametro / 2\n",
    "h = altura_agua\n",
    "h = altura_agua"
   ]
  },
  {
   "cell_type": "code",
   "execution_count": 7,
   "id": "59e944ad",
   "metadata": {},
   "outputs": [
    {
     "name": "stdout",
     "output_type": "stream",
     "text": [
      "Volume para altura 1.2m: 9.841 m³\n"
     ]
    }
   ],
   "source": [
    "if h <= R:\n",
    "    area = R**2 * np.arccos((R - h) / R) - (R - h) * np.sqrt(2 * R * h - h**2)\n",
    "else:\n",
    "    area = np.pi * R**2 - (R**2 * np.arccos((h - R) / R) - (h - R) * np.sqrt(2 * R * h - h**2))\n",
    "\n",
    "volume = area * comprimento\n",
    "\n",
    "print(f\"Volume para altura {h}m: {volume:.3f} m³\")"
   ]
  },
  {
   "cell_type": "markdown",
   "id": "fb888504",
   "metadata": {},
   "source": [
    "__Cálculos computacionais de Engenharia__\n",
    "\n",
    "No código abaixo você pode entrar com os dados de diâmetro do tanque (por exemplo: 2.0 m), comprimento do tanque (por exemplo: 5.0 m), altura da água dentro do tanque (por exemplo: 1.2 m) e o programa vai fazer o cálculo automático fornecendo:\n",
    "\n",
    "__RESULTADOS__:\n",
    "\n",
    "- Diâmetro do tanque: $2.0 \\ m$\n",
    "- Raio do tanque: $1.0 \\ m$\n",
    "- Comprimento do tanque: $5.0 \\ m$\n",
    "- Altura da água: $1.2 \\ m$\n",
    "- Área molhada: $1.9681  \\ m^2$\n",
    "- Volume de água: $9.8406 \\ m^3$\n",
    "- Volume de água: $9.84 \\ litros$\n",
    "- Volume total do tanque: $15.7080 \\ m^3$\n",
    "- Percentual preenchido: $62.6  \\%$"
   ]
  },
  {
   "cell_type": "code",
   "execution_count": 1,
   "id": "0108704d",
   "metadata": {},
   "outputs": [
    {
     "name": "stdout",
     "output_type": "stream",
     "text": [
      "=== CALCULADORA DE VOLUME - TANQUE CILÍNDRICO HORIZONTAL ===\n",
      "\n",
      "\n",
      "==================================================\n",
      "RESULTADOS:\n",
      "• Diâmetro do tanque: 2.0 m\n",
      "• Raio do tanque: 1.0 m\n",
      "• Comprimento do tanque: 5.0 m\n",
      "• Altura da água: 1.2 m\n",
      "• Área molhada: 1.9681 m²\n",
      "• Volume de água: 9.8406 m³\n",
      "• Volume de água: 9.84 litros\n",
      "• Volume total do tanque: 15.7080 m³\n",
      "• Percentual preenchido: 62.6%\n"
     ]
    }
   ],
   "source": [
    "import numpy as np\n",
    "\n",
    "print(\"=== CALCULADORA DE VOLUME - TANQUE CILÍNDRICO HORIZONTAL ===\")\n",
    "print()\n",
    "\n",
    "# Entrada de dados pelo usuário\n",
    "diametro = float(input(\"Entre com o valor do DIÂMETRO do tanque (m): \"))\n",
    "comprimento = float(input(\"Entre com o valor do COMPRIMENTO do tanque (m): \"))\n",
    "altura_agua = float(input(\"Entre com a ALTURA da água no tanque (m): \"))\n",
    "\n",
    "# Cálculos\n",
    "raio = diametro / 2\n",
    "R = raio\n",
    "h = altura_agua\n",
    "L = comprimento\n",
    "\n",
    "# Verificar se a altura é válida\n",
    "if h < 0 or h > diametro:\n",
    "    print(f\"ERRO: Altura deve estar entre 0 e {diametro} m\")\n",
    "else:\n",
    "    # Cálculo da área molhada\n",
    "    if h <= R:  # Caso 1: 0 ≤ h ≤ R\n",
    "        area = R**2 * np.arccos((R - h) / R) - (R - h) * np.sqrt(2 * R * h - h**2)\n",
    "    else:       # Caso 2: R < h ≤ 2R\n",
    "        area = np.pi * R**2 - (R**2 * np.arccos((h - R) / R) - (h - R) * np.sqrt(2 * R * h - h**2))\n",
    "    \n",
    "    # Cálculo do volume\n",
    "    volume = area * L\n",
    "    \n",
    "    # Resultados\n",
    "    print(\"\\n\" + \"=\"*50)\n",
    "    print(\"RESULTADOS:\")\n",
    "    print(f\"• Diâmetro do tanque: {diametro} m\")\n",
    "    print(f\"• Raio do tanque: {raio} m\") \n",
    "    print(f\"• Comprimento do tanque: {comprimento} m\")\n",
    "    print(f\"• Altura da água: {altura_agua} m\")\n",
    "    print(f\"• Área molhada: {area:.4f} m²\")\n",
    "    print(f\"• Volume de água: {volume:.4f} m³\")\n",
    "    print(f\"• Volume de água: {volume:.2f} litros\")\n",
    "    \n",
    "    # Informações adicionais\n",
    "    volume_total = np.pi * R**2 * L\n",
    "    percentual = (volume / volume_total) * 100\n",
    "    print(f\"• Volume total do tanque: {volume_total:.4f} m³\")\n",
    "    print(f\"• Percentual preenchido: {percentual:.1f}%\")\n"
   ]
  },
  {
   "cell_type": "markdown",
   "id": "3caf3a12",
   "metadata": {},
   "source": [
    "__Informações adicionis__"
   ]
  },
  {
   "cell_type": "markdown",
   "id": "a03faf3f",
   "metadata": {},
   "source": [
    "__Determinação da Área Molhada em um Tanque Cilíndrico Horizontal__\n",
    "\n",
    "A análise da área molhada é fundamental para determinar o volume de líquido em tanques horizontais.\n",
    "Essa área depende da **altura do líquido** \\( h \\) e do **raio** \\( R \\) do cilindro."
   ]
  },
  {
   "cell_type": "markdown",
   "id": "2bb0817e",
   "metadata": {},
   "source": [
    "__1. Geometria e Definições Básicas__\n",
    "\n",
    "Considerando um cilindro horizontal de raio  ($R$), comprimento ($L$) e altura do líquido ($h$):\n",
    "\n",
    "$$0 \\leq h \\leq 2R$$\n",
    "\n",
    "A área molhada ($A_m$) corresponde à área da **seção circular preenchida com líquido**.  \n",
    "Ela pode ser calculada a partir da **geometria do segmento circular**."
   ]
  },
  {
   "cell_type": "markdown",
   "id": "54770db0",
   "metadata": {},
   "source": [
    "__2. Cálculo do Ângulo Central__ ($\\theta$)\n",
    "\n",
    "O ângulo central ($\\theta$), em radianos, é determinado por:\n",
    "\n",
    "$$\\theta = 2 \\cos^{-1} \\left( \\frac{R - h}{R} \\right)$$\n",
    "\n",
    "onde:\n",
    "- ($\\theta$): ângulo correspondente ao segmento de círculo (em radianos),\n",
    "- ($h$): altura do líquido,\n",
    "- ($R$): raio do cilindro."
   ]
  },
  {
   "cell_type": "markdown",
   "id": "97034e9e",
   "metadata": {},
   "source": [
    "__3. Área do Segmento Circular__\n",
    "\n",
    "A área do segmento circular (área molhada) é dada por:\n",
    "\n",
    "$$A_m = \\frac{R^2}{2} (\\theta - \\sin \\theta)$$\n",
    "\n",
    "Essa expressão resulta da diferença entre a área do setor circular e a área do triângulo isósceles formado pelos raios e a corda do segmento."
   ]
  },
  {
   "cell_type": "markdown",
   "id": "84ba01c2",
   "metadata": {},
   "source": [
    "__4. Volume de Líquido no Tanque__\n",
    "\n",
    "O volume molhado ($V_m$) é obtido multiplicando a área molhada pelo comprimento do tanque ($L$):\n",
    "\n",
    "$$\n",
    "V_m = A_m \\cdot L = \\frac{R^2 L}{2} (\\theta - \\sin \\theta)\n",
    "$$"
   ]
  },
  {
   "cell_type": "markdown",
   "id": "d466b926",
   "metadata": {},
   "source": [
    "__5. Interpretação Gráfica__\n",
    "\n",
    "- Quando ($h = 0 \\Rightarrow A_m = 0 $): tanque vazio.  \n",
    "- Quando ($h = R \\Rightarrow A_m = \\frac{1}{2}\\pi R^2 $): meio tanque.  \n",
    "- Quando ($h = 2R \\Rightarrow A_m = \\pi R^2 $): tanque cheio. "
   ]
  },
  {
   "cell_type": "markdown",
   "id": "8e2602fe",
   "metadata": {},
   "source": [
    "__6. Representação Gráfica (Comentário)__\n",
    "\n",
    "Para fins de visualização, a área molhada pode ser representada como a **região azul abaixo da linha de nível** no círculo que representa a seção transversal do tanque.\n",
    "\n",
    "No código Python que acompanha esta formulação, a área azul será **a parte inferior do círculo** até a altura ($h$).\n"
   ]
  },
  {
   "cell_type": "markdown",
   "id": "1cd5f6bc",
   "metadata": {},
   "source": [
    "__7. Exemplo Numérico__\n",
    "\n",
    "Para ( $R = 1.2 \\, \\text{m}$ ), ( $L = 3.0 \\, \\text{m} $) e ( $h = 0.8 \\, \\text{m}$ ):\n",
    "\n",
    "$$ \\theta = 2 \\cos^{-1}\\left(\\frac{1.2 - 0.8}{1.2}\\right) \\approx 2.4981 \\, \\text{rad} $$\n",
    "\n",
    "$$  A_m = \\frac{(1.2)^2}{2} (2.4981 - \\sin(2.4981)) \\approx 0.963 \\, \\text{m}^2$$\n",
    "\n",
    "$$ V_m = 0.963 \\times 3.0 = 2.889 \\, \\text{m}^3 $$"
   ]
  },
  {
   "cell_type": "markdown",
   "id": "8aa8ebe5",
   "metadata": {},
   "source": [
    "__Comentário adicional:__\n",
    "\n",
    "Esse cálculo é amplamente utilizado em:\n",
    "\n",
    "- Instrumentação de nível em tanques horizontais;\n",
    "\n",
    "- Controle de processos de separação líquido-gás;\n",
    "\n",
    "- Determinação de inventário volumétrico em tanques de armazenamento."
   ]
  },
  {
   "cell_type": "code",
   "execution_count": null,
   "id": "f7b35c88",
   "metadata": {},
   "outputs": [
    {
     "name": "stdout",
     "output_type": "stream",
     "text": [
      "Ângulo central (θ): 2.4619 rad\n",
      "Área molhada (A_m): 1.3200 m²\n",
      "Volume molhado (V_m): 3.9601 m³\n"
     ]
    },
    {
     "data": {
      "image/png": "[encoded data removed]",
      "text/plain": [
       "<Figure size 700x700 with 1 Axes>"
      ]
     },
     "metadata": {},
     "output_type": "display_data"
    }
   ],
   "source": [
    "# ====================================================================\n",
    "# Cálculo e Gráfico da Área Molhada em Tanque Cilíndrico Horizontal\n",
    "# ====================================================================\n",
    "\n",
    "import numpy as np\n",
    "import matplotlib.pyplot as plt\n",
    "\n",
    "# -----------------------------\n",
    "# 1. Parâmetros do tanque\n",
    "# -----------------------------\n",
    "R = 1.2   # Raio [m]\n",
    "L = 3.0   # Comprimento [m]\n",
    "h = 0.8   # Altura do líquido [m]\n",
    "\n",
    "# -----------------------------\n",
    "# 2. Cálculo do ângulo e área molhada\n",
    "# -----------------------------\n",
    "theta = 2 * np.arccos((R - h) / R)\n",
    "A_m = 0.5 * R**2 * (theta - np.sin(theta))\n",
    "V_m = A_m * L\n",
    "\n",
    "print(f\"Ângulo central (θ): {theta:.4f} rad\")\n",
    "print(f\"Área molhada (A_m): {A_m:.4f} m²\")\n",
    "print(f\"Volume molhado (V_m): {V_m:.4f} m³\")\n",
    "\n",
    "# -----------------------------\n",
    "# 3. Construção da geometria do tanque\n",
    "# -----------------------------\n",
    "# Geração do círculo\n",
    "x = np.linspace(-R, R, 400)\n",
    "y_superior = np.sqrt(R**2 - x**2)\n",
    "y_inferior = -y_superior\n",
    "\n",
    "# -----------------------------\n",
    "# 4. Determinação da linha de nível\n",
    "# -----------------------------\n",
    "nivel_y = h - R  # nível medido a partir do fundo do tanque\n",
    "\n",
    "# -----------------------------\n",
    "# 5. Área molhada (preenchida)\n",
    "# -----------------------------\n",
    "# Criar máscara para a região abaixo do nível (molhada)\n",
    "mask = y_inferior <= nivel_y\n",
    "x_fill = np.concatenate([x, x[::-1]])\n",
    "y_fill = np.concatenate([y_inferior, np.minimum(y_superior, nivel_y)])\n",
    "\n",
    "# -----------------------------\n",
    "# 6. Gráfico\n",
    "# -----------------------------\n",
    "fig, ax = plt.subplots(figsize=(7, 7))\n",
    "ax.plot(x, y_superior, 'k', lw=2)\n",
    "ax.plot(x, y_inferior, 'k', lw=2)\n",
    "\n",
    "# Preencher área molhada em azul\n",
    "ax.fill_between(x, y_inferior, np.minimum(y_superior, nivel_y), color='deepskyblue', alpha=0.7)\n",
    "\n",
    "# Linha de nível\n",
    "ax.axhline(y=nivel_y, color='black', linestyle='--', lw=1.5)\n",
    "ax.text(0, nivel_y + 0.05, f\"h = {h:.2f} m\", ha='center', va='bottom', fontsize=12)\n",
    "\n",
    "# -----------------------------\n",
    "# 7. Aparência do gráfico\n",
    "# -----------------------------\n",
    "ax.set_aspect('equal', adjustable='box')\n",
    "ax.set_xlim(-R * 1.1, R * 1.1)\n",
    "ax.set_ylim(-R * 1.1, R * 1.1)\n",
    "ax.set_xlabel(\"Raio (m)\")\n",
    "ax.set_ylabel(\"Altura (m)\")\n",
    "ax.set_title(\"Área Molhada em Tanque Cilíndrico Horizontal\", fontsize=14)\n",
    "ax.grid(alpha=0.3)\n",
    "\n",
    "plt.show()"
   ]
  },
  {
   "cell_type": "markdown",
   "id": "3bafd4bf",
   "metadata": {},
   "source": [
    "<div style=\"text-align: center; font-size: 12px; color: gray; margin-top: 40px;\">\n",
    "  Este notebook foi desenvolvido no âmbito do Grupo de Pesquisa em Modelagem Computacional da UESC.<br>\n",
    "  Todos os direitos reservados © 2025\n",
    "</div>"
   ]
  }
 ],
 "metadata": {
  "kernelspec": {
   "display_name": "logSenv",
   "language": "python",
   "name": "python3"
  },
  "language_info": {
   "codemirror_mode": {
    "name": "ipython",
    "version": 3
   },
   "file_extension": ".py",
   "mimetype": "text/x-python",
   "name": "python",
   "nbconvert_exporter": "python",
   "pygments_lexer": "ipython3",
   "version": "3.10.16"
  }
 },
 "nbformat": 4,
 "nbformat_minor": 5
}
