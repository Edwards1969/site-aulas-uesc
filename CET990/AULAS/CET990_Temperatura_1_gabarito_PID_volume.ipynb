{
 "cells": [
  {
   "cell_type": "markdown",
   "id": "9afc7b1c",
   "metadata": {},
   "source": [
    "<div style=\"text-align: center;\">\n",
    "\n",
    "  <!-- Logotipo -->\n",
    "  <img src=\"img/LogoUesc.png\" alt=\"UESC\" style=\"width: 60px; display: block; margin: 0 auto 5px auto;\">\n",
    "\n",
    "  <!-- Cabeçalho -->\n",
    "  <div style=\"font-size: 20px;\"><strong>UNIVERSIDADE ESTADUAL DE SANTA CRUZ - UESC</strong></div>\n",
    "  <div style=\"font-size: 18px;\">DEPARTAMENTO DE ENGENHARIAS E COMPUTAÇÃO</div>\n",
    "  <div style=\"font-size: 18px;\">ENGENHARIA QUÍMICA</div>\n",
    "\n",
    "  <hr style=\"margin: 20px 0; border: 1px solid #0074B7;\">\n",
    "\n",
    "  <!-- Título do Trabalho -->\n",
    "  <div style=\"font-size: 22px; font-weight: bold; margin-bottom: 10px;\">Instrumentação e Controle de Qualidade</div>\n",
    "  <div style=\"font-size: 20px; font-weight: bold; margin-bottom: 10px;\">Controle de Temperatura em um Tanque com Aquecimento Elétrico Virtual - Gabarito</div>\n",
    "\n",
    "  <!-- Autor e orientador -->\n",
    "  <div style=\"font-size: 18px;\">Prof. Dr. E.R.Edwards</div>\n",
    "\n",
    "<hr style=\"margin: 20px 0; border: 1px solid #0074B7;\">\n",
    "  <!-- Data -->\n",
    "<!-- <div style=\"font-size: 16px; margin-top: 15px;\">Ilhéus - BA, Abril de 2025</div> -->\n",
    "</div>"
   ]
  },
  {
   "cell_type": "markdown",
   "id": "0586cc3b",
   "metadata": {},
   "source": [
    "<div style=\"background-color: #e6f2ff; border-left: 6px solid #0074B7; padding: 10px; font-size: 16px;\">\n",
    "  <strong>GABARITO - Controle de temperatura em um tanque com aquecimento elétrico virtual.</strong> \n",
    "</div>"
   ]
  },
  {
   "cell_type": "markdown",
   "id": "e8821d03",
   "metadata": {},
   "source": [
    "__1-Resultados teóricos importantes (cálculos)__\n",
    "\n",
    "1.1 - Estado estacionário (condição $\\dfrac{dT}{dt}=0$)\n",
    "\n",
    "A equação do balançco de energia:\n",
    "\n",
    "$$ mC_p \\cdot  \\dfrac{dT}{dt} = \\eta P - hA(T -  T_a) $$\n",
    "\n",
    "No regime estacionário ($\\dfrac{dT}{dt} = 0$):\n",
    "\n",
    "$$ \\eta P = hA(T_{ss} - T_a) $$\n",
    "\n",
    "Logo, para atingir o setpoint $T_{sp}=60 ^oC$ (com $T_a = 25 ^oC$), o termo de perdas deve ser:\n",
    "\n",
    "$$ hA(T_{sp} - T_a) = 15 \\times (60-25) = 15 \\times 35 = 525 W $$"
   ]
  },
  {
   "cell_type": "markdown",
   "id": "615ca33d",
   "metadata": {},
   "source": [
    "Considerando a eficiência $\\eta = 0.95$, a potência necessária do aquecedor é:\n",
    "\n",
    "$$ P = \\dfrac{525}{0.95} = 552.6316 \\ W$$\n",
    "\n",
    "Em termos de percentual do atuador (potência máxima $P_{max} = 1000 \\ W $):\n",
    "\n",
    "$$ u_{ss} = \\dfrac{P}{P_{max}} \\times 100 \\% = 55.263 \\%$$"
   ]
  },
  {
   "cell_type": "markdown",
   "id": "00a4c69e",
   "metadata": {},
   "source": [
    "__1.2 Corrente do transmissor no regime desejado__\n",
    "\n",
    "Trasmissor converte $T$ em $4-20 \\ mA$ linearmente.\n",
    "\n",
    "$$ I = 4 + \\dfrac{16}{100}T $$\n",
    "\n",
    "Para $T = 60 ^oC$:\n",
    "\n",
    "$$ I = 4 + 0.16 \\times 60 = 4 + 9.6 = 13.6 mA $$"
   ]
  },
  {
   "cell_type": "markdown",
   "id": "4711021e",
   "metadata": {},
   "source": [
    "__1.3 - Ganho e tempo característicos do processo (linearização)__\n",
    "\n",
    "Escrevendo o modelo como primeira ordem (para efeito didático)\n",
    "\n",
    "$$ \\dfrac{dT}{dt} =  -\\dfrac{hA}{mC_p}(T - T_a) + \\dfrac{\\eta}{mC_p}P $$\n",
    "\n",
    "- Constante de tempo aproximada:\n",
    "\n",
    "$$ \\tau  \\approx \\dfrac{mC_p}{hA} = \\dfrac{100 \\times 4180}{15} = 27866.7 \\ s \\approx 7.74 \\ h$$\n",
    "\n"
   ]
  },
  {
   "cell_type": "markdown",
   "id": "f95e3ddf",
   "metadata": {},
   "source": [
    "→ __Conclusão importante__: \n",
    "\n",
    "Com os parâmetros dados o sistema tem uma inércia térmica muito alta e responde lentamente — a ordem de horas para alcançar regime. Portanto em simulações curtas (ex.: 2000 s) os alunos não alcançarão o setpoint; espera-se resposta lenta.\n",
    "\n",
    "- Ganho DC (variação de tempo por $W$ de potência):\n",
    "\n",
    "$$ \\Delta T_{ss} = \\dfrac{\\eta P}{hA} \\,\\ \\Rightarrow \\,\\ \\text{para} \\ P = 1000 \\  W, \\Delta T_{ss} = \\dfrac{0.95 \\times 1000}{15} = 63.333 ^oC  $$\n",
    "\n",
    "Assim, a temperatura máxima aproximada $\\approx T_a + 63.33 \\approx 88.33 ^oC $ "
   ]
  },
  {
   "cell_type": "markdown",
   "id": "03196a42",
   "metadata": {
    "vscode": {
     "languageId": "plaintext"
    }
   },
   "source": [
    "__2. Resultados da simulação de referência (código-base fornecido)__\n",
    "\n",
    "Observação: executei o código-base com semente fixa para ruído (reprodutível). Esses números servem como referência para correção.\n",
    "\n",
    "- Tempo de simulação usado: 2000s.\n",
    "- Resultados numéricos finais (após 2000 2):\n",
    "    - Temperatura final (t=2000 S): $29.3841 ^oC$\n",
    "    - Sinal dd controle final: $100.0000 \\%$ (saturado)\n",
    "    - Corrente do transmissor: $8.6646 \\ mA$\n",
    "\n",
    "Interpretação:\n",
    "\n",
    "- O controlador saturou em $100 \\%$ porque, com a dinâmica muito lenta (grande massa térmica), e com o tempo de simulação curto, o erro permaneceu grande e o PID pediu potência máxima. Mesmo com potência máxima, a temperatura só subiu lentamente de $25 -> ~29 ^oC$ em $2000 s$.\n",
    "\n",
    "- Esses números correspondem ao comportamento esperado dados os parâmetros:alta inércia térmica -> resposta lenta. Portanto não é erro do aluno se em $2000 s$ não atingir $60 ^oC$ - o correto é que expliquem a razaão física (constante de tempo muito grande) e calculem $\\tau$ e $P_{ss}$ como acima. \n",
    "\n",
    "(Os gráficos da simulação que gerei mostram a evolução lenta da temperatura, controle saturado e corrente do transmissor subindo lentamente — as figuras foram produzidas quando eu executei o código.)"
   ]
  },
  {
   "cell_type": "markdown",
   "id": "7fe2ae4f",
   "metadata": {},
   "source": [
    "__3) O que o aluno dever justificar/exibir no relatório (itens corretos)__\n",
    "1. Modelo matemático:\n",
    "- Equação do balanço com identificação dos termos (capacidade térmica, potência útil, perdas)\n",
    "- Substituição numérica dos parâmetros.\n",
    "\n",
    "2. Instrumentação virtual:\n",
    "- Implementação do sensor (incluir ruído e justificatia do desvio padrão do ruído).\n",
    "- Conversão transmissor $4–20 mA$ (fórmula correta) — mostrar cálculo de 13,6 mA para $60 ^oC$.\n",
    "- Implementação do atuador ($0-100 \\%) -> 0-1000W$\n",
    "\n",
    "3.Controle:\n",
    "- Implementação do PID discreto (termos proporcional, integral, derivativo). Documentar a forma discreta usada.\n",
    "- Tratamento de saturação (anti-windup opcional recomendável).\n",
    "\n",
    "4.Simulação:\n",
    "- Parâmetros de simulação (dt, t_final).\n",
    "- Plots: Temperatura vs tempo (com setpoint), Sinal de controle vs tempo, Corrente do transmissor vs tempo.\n",
    "- Valores numéricos relevantes (temperatura final em t_final, sinal de controle final, corrente final)."
   ]
  },
  {
   "cell_type": "markdown",
   "id": "52214264",
   "metadata": {},
   "source": [
    "\n",
    "5.Análise:\n",
    "- Cálculo do $P$ necessário para o setpoint($\\approx 552.63$ e $u_{ss} = 55.26 \\%$)\n",
    "- Cálculo da constante de tempo $\\tau$ e discussão por que o sistema é lento.\n",
    "- Discussão sobre ruído do sensor afetando derivativo (se tiverem Kd grande, mencionar ruído amplificado).\n",
    "- Se o controlador saturou, explicar e propor medidas (reduzir setpoint temporariamente, ajustar $Kp/Ki$, usar anti-windup, aumentar $hA$ para respostas mais rápidas em simulações didáticas)."
   ]
  },
  {
   "cell_type": "markdown",
   "id": "e11640bf",
   "metadata": {},
   "source": [
    "__4) Critérios de Correção (Sugestão de Rubrica — Total: 100 pontos)__\n",
    "\n",
    "| Item Avaliado | Descrição | Pontos |\n",
    "|----------------|------------|--------|\n",
    "| **Modelagem Matemática** | Apresentação clara da equação diferencial que representa o processo de aquecimento. Identificação das variáveis envolvidas (temperatura, tempo, sinal de controle, etc.). | **20 pts** |\n",
    "| **Implementação Computacional (Modelo Dinâmico)** | Código correto para o modelo dinâmico sem controlador (malha aberta). Utilização adequada de funções do NumPy e matplotlib. | **20 pts** |\n",
    "| **Implementação do Controlador (PID)** | Aplicação correta das expressões de controle proporcional, integral e derivativo. Avaliação do efeito de cada termo. | **25 pts** |\n",
    "| **Simulação Completa e Gráficos** | Geração de gráficos bem apresentados (temperatura vs. tempo, sinal de controle, corrente do transmissor). Legendas, títulos e eixos adequados. | **15 pts** |\n",
    "| **Interpretação e Discussão dos Resultados** | Explicação física dos resultados obtidos, relação entre o ganho de controle e a resposta do sistema. Identificação de comportamento típico (superaquecimento, estabilidade, etc.). | **10 pts** |\n",
    "| **Organização e Clareza do Código** | Comentários, clareza na estrutura e boa prática de programação (nomes de variáveis, identação, unidades). | **10 pts** |\n",
    "\n",
    "**Total: 100 pontos**"
   ]
  },
  {
   "cell_type": "markdown",
   "id": "548297fa",
   "metadata": {},
   "source": [
    "__Observações para o Professor__\n",
    "\n",
    "- O aluno pode ajustar os parâmetros do controlador (Kp, Ki, Kd) para observar diferentes comportamentos.\n",
    "- O tempo de simulação (ex.: 2000 s) pode ser alterado para avaliar o regime permanente.\n",
    "- Recomenda-se verificar se o aluno relacionou o comportamento do controlador com a instrumentação (transmissor de temperatura e atuador da válvula).\n",
    "- É esperado que a curva de temperatura apresente um comportamento de primeira ordem com controle PID estabilizando o sistema em torno da referência de **35 °C**.\n",
    "- O sinal de controle (0–100%) deve refletir a atuação da válvula e a corrente do"
   ]
  },
  {
   "cell_type": "markdown",
   "id": "19e5987a",
   "metadata": {},
   "source": []
  }
 ],
 "metadata": {
  "language_info": {
   "name": "python"
  }
 },
 "nbformat": 4,
 "nbformat_minor": 5
}
